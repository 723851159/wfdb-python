{
 "cells": [
  {
   "cell_type": "markdown",
   "metadata": {},
   "source": [
    "<h2>Demo Scripts on how to use the wfdb-python package</h2>"
   ]
  },
  {
   "cell_type": "code",
   "execution_count": 9,
   "metadata": {
    "collapsed": true
   },
   "outputs": [],
   "source": [
    "import numpy as np\n",
    "from wfdb import readsignal\n",
    "from wfdb import readannot\n",
    "from wfdb import plotwfdb"
   ]
  },
  {
   "cell_type": "code",
   "execution_count": 10,
   "metadata": {
    "collapsed": false
   },
   "outputs": [
    {
     "name": "stdout",
     "output_type": "stream",
     "text": [
      "{'signame': ['II', 'V', 'PLETH'], 'baseline': [0, 0, 0], 'initvalue': [-171, 9127, 6042], 'units': ['mV', 'mV', 'NU'], 'filename': ['a103l.mat', 'a103l.mat', 'a103l.mat'], 'gain': [7247.0, 10520.0, 12530.0], 'basetime': '', 'nsampseg': [], 'nsig': 3, 'fs': 250.0, 'nseg': 1, 'basedate': '', 'comments': ['Asystole', 'False alarm'], 'fmt': ['16', '16', '16'], 'byteoffset': [24, 24, 24], 'nsamp': 82500}\n"
     ]
    }
   ],
   "source": [
    "# Demo 1 - Read the wfdb file, plot the last part of the signals, and print the metadata\n",
    "\n",
    "sig, fields=readsignal.rdsamp('sampledata/a103l') \n",
    "print(fields)\n",
    "plotwfdb.plotsigs(sig[80000:,:], fields, title='Record a103l from Physionet Challenge 2015') "
   ]
  },
  {
   "cell_type": "code",
   "execution_count": 11,
   "metadata": {
    "collapsed": true
   },
   "outputs": [],
   "source": [
    "# Demo 2 - Read certain channels and sections of the WFDB file and plot them. \n",
    "\n",
    "sig, fields=readsignal.rdsamp('sampledata/s0010_re', channels=[14, 0, 5, 10, 11], sampfrom=100, sampto=15000)\n",
    "plotwfdb.plotsigs(sig, fields)"
   ]
  },
  {
   "cell_type": "code",
   "execution_count": 12,
   "metadata": {
    "collapsed": false
   },
   "outputs": [],
   "source": [
    "# Demo 3 - Read the WFDB signal and annotation file and plot them together.\n",
    "\n",
    "sig, fields=readsignal.rdsamp('sampledata/100')\n",
    "annsamp=readannot.rdann('sampledata/100', 'atr')[0]\n",
    "plotwfdb.plotsigs(sig, fields, annsamp=annsamp, annch=[0], title='Record 100 from MIT-BIH Arrhythmia Database')"
   ]
  },
  {
   "cell_type": "code",
   "execution_count": null,
   "metadata": {
    "collapsed": true
   },
   "outputs": [],
   "source": []
  }
 ],
 "metadata": {
  "kernelspec": {
   "display_name": "Python 3",
   "language": "python",
   "name": "python3"
  },
  "language_info": {
   "codemirror_mode": {
    "name": "ipython",
    "version": 3
   },
   "file_extension": ".py",
   "mimetype": "text/x-python",
   "name": "python",
   "nbconvert_exporter": "python",
   "pygments_lexer": "ipython3",
   "version": "3.5.1"
  }
 },
 "nbformat": 4,
 "nbformat_minor": 0
}
