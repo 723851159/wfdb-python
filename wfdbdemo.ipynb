{
 "cells": [
  {
   "cell_type": "markdown",
   "metadata": {},
   "source": [
    "## Demo Scripts for the wfdb-python package"
   ]
  },
  {
   "cell_type": "code",
   "execution_count": null,
   "metadata": {
    "collapsed": false
   },
   "outputs": [],
   "source": [
    "import wfdb\n",
    "from IPython.display import display"
   ]
  },
  {
   "cell_type": "markdown",
   "metadata": {},
   "source": [
    "### Reading Records and Annotations"
   ]
  },
  {
   "cell_type": "code",
   "execution_count": null,
   "metadata": {
    "collapsed": false
   },
   "outputs": [],
   "source": [
    "# Demo 1 - Read a wfdb record using the 'rdsamp' function into a wfdb.Record object.\n",
    "# Plot the signals, and show the data\n",
    "\n",
    "record = wfdb.rdsamp('sampledata/a103l') \n",
    "wfdb.plotrec(record, title='Record a103l from Physionet Challenge 2015') \n",
    "display(record.__dict__)"
   ]
  },
  {
   "cell_type": "code",
   "execution_count": null,
   "metadata": {
    "collapsed": false
   },
   "outputs": [],
   "source": [
    "# Demo 2 - Read certain channels and sections of the WFDB record using the simplified 'srdsamp' function\n",
    "# which returns an array and a dictionary. Show the data\n",
    "\n",
    "signals, fields=wfdb.srdsamp('sampledata/s0010_re', channels=[14, 0, 5, 10], sampfrom=100, sampto=15000)\n",
    "display(signals)\n",
    "display(fields)"
   ]
  },
  {
   "cell_type": "code",
   "execution_count": null,
   "metadata": {
    "collapsed": false
   },
   "outputs": [],
   "source": [
    "# Demo 3 - Read part of a WFDB annotation file into a wfdb.Annotation object, and plot the samples\n",
    "annotation = wfdb.rdann('sampledata/100', 'atr', sampfrom = 100000, sampto = 110000)\n",
    "annotation.fs = 360\n",
    "wfdb.plotann(annotation, timeunits = 'minutes')"
   ]
  },
  {
   "cell_type": "code",
   "execution_count": null,
   "metadata": {
    "collapsed": false
   },
   "outputs": [],
   "source": [
    "# Demo 4 - Read a WFDB record and annotation. Plot all channels, and the annotation on top of channel 0.\n",
    "\n",
    "record = wfdb.rdsamp('sampledata/100', sampto = 15000)\n",
    "annotation = wfdb.rdann('sampledata/100', 'atr', sampto = 15000)\n",
    "\n",
    "wfdb.plotrec(record, annotation = annotation, title='Record 100 from MIT-BIH Arrhythmia Database', timeunits = 'seconds')\n"
   ]
  },
  {
   "cell_type": "markdown",
   "metadata": {},
   "source": [
    "### Matched waveform examples\n",
    "\n",
    "The following sections load and plots waveforms from the MIMIC matched waveform database. These waveforms have been matched to clinical data in the MIMIC Clinical database. The input records are multi-segment (made up of multiple individual WFDB records) and relatively long.\n",
    "\n",
    "Note that these kinds of records contain segments in which certain channels are missing. <strong>matplotlib</strong> automatically zooms in on sections without Nans in individual channels but the entire durations of the signals input into <strong>plotrec</strong> are actually plotted. \n",
    "\n"
   ]
  },
  {
   "cell_type": "code",
   "execution_count": null,
   "metadata": {
    "collapsed": false
   },
   "outputs": [],
   "source": [
    "# Demo 5 - Read the multi-segment record and plot waveforms from the MIMIC matched waveform database. \n",
    "record=wfdb.rdsamp('sampledata/matched/s25047/s25047-2704-05-04-10-44')\n",
    "wfdb.plotrec(record, title='s25047/s25047-2704-05-04-10-44') \n",
    "display(record.__dict__)"
   ]
  },
  {
   "cell_type": "code",
   "execution_count": null,
   "metadata": {
    "collapsed": false
   },
   "outputs": [],
   "source": [
    "# Demo 6 - Read the multi-segment record and plot waveforms from the MIMIC matched waveform database.\n",
    "# Notice that some channels have only invalid values\n",
    "record = wfdb.rdsamp('sampledata/matched/s00001/s00001-2896-10-10-00-31', sampfrom = 3000000, sampto = 4000000)\n",
    "wfdb.plotrec(record, title='s00001/s00001-2896-10-10-00-31') \n",
    "display(record.__dict__)"
   ]
  },
  {
   "cell_type": "markdown",
   "metadata": {},
   "source": [
    "### Writing Records and Annotations"
   ]
  },
  {
   "cell_type": "code",
   "execution_count": null,
   "metadata": {
    "collapsed": true
   },
   "outputs": [],
   "source": []
  }
 ],
 "metadata": {
  "kernelspec": {
   "display_name": "Python 3",
   "language": "python",
   "name": "python3"
  },
  "language_info": {
   "codemirror_mode": {
    "name": "ipython",
    "version": 3
   },
   "file_extension": ".py",
   "mimetype": "text/x-python",
   "name": "python",
   "nbconvert_exporter": "python",
   "pygments_lexer": "ipython3",
   "version": "3.5.2"
  }
 },
 "nbformat": 4,
 "nbformat_minor": 0
}
