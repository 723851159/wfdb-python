{
 "cells": [
  {
   "cell_type": "markdown",
   "metadata": {},
   "source": [
    "<h2>Demo Scripts for how to use the wfdb-python package</h2>"
   ]
  },
  {
   "cell_type": "code",
   "execution_count": 3,
   "metadata": {
    "collapsed": false
   },
   "outputs": [
    {
     "name": "stdout",
     "output_type": "stream",
     "text": [
      "{'basedate': '', 'signame': ['II', 'V', 'PLETH'], 'nseg': 1, 'baseline': [0, 0, 0], 'nsampseg': [], 'nsamp': 82500, 'fs': 250.0, 'basetime': '', 'fmt': ['16', '16', '16'], 'units': ['mV', 'mV', 'NU'], 'byteoffset': [24, 24, 24], 'comments': ['Asystole', 'False alarm'], 'nsig': 3, 'filename': ['a103l.mat', 'a103l.mat', 'a103l.mat'], 'gain': [7247.0, 10520.0, 12530.0], 'initvalue': [-171, 9127, 6042]}\n",
      "{'basedate': '', 'signame': ['II', 'V', 'PLETH'], 'nseg': 1, 'baseline': [0, 0, 0], 'nsampseg': [], 'nsamp': 82500, 'fs': 250.0, 'basetime': '', 'fmt': ['16', '16', '16'], 'units': ['mV', 'mV', 'NU'], 'byteoffset': [24, 24, 24], 'comments': ['Asystole', 'False alarm'], 'nsig': 3, 'filename': ['a103l.mat', 'a103l.mat', 'a103l.mat'], 'gain': [7247.0, 10520.0, 12530.0], 'initvalue': [-171, 9127, 6042]}\n"
     ]
    }
   ],
   "source": [
    "import numpy as np\n",
    "from wfdb import readsignal\n",
    "from wfdb import plotwfdb\n",
    "print(fields)\n",
    "sig, fields=readsignal.rdsamp('sampledata/a103l') # Read the wfdb file\n",
    "print(fields)\n",
    "plotwfdb.plotsigs(sig[80000:,:], fields) # Plot the last part of the signals \n",
    "    "
   ]
  },
  {
   "cell_type": "code",
   "execution_count": 6,
   "metadata": {
    "collapsed": true
   },
   "outputs": [],
   "source": [
    "sig, fields=readsignal.rdsamp('sampledata/s0010_re', channels=[14, 0, 5, 10, 11], sampfrom=100, sampto=30000)\n",
    "plotwfdb.plotsigs(sig, fields)"
   ]
  },
  {
   "cell_type": "code",
   "execution_count": null,
   "metadata": {
    "collapsed": true
   },
   "outputs": [],
   "source": []
  }
 ],
 "metadata": {
  "kernelspec": {
   "display_name": "Python 3",
   "language": "python",
   "name": "python3"
  },
  "language_info": {
   "codemirror_mode": {
    "name": "ipython",
    "version": 3
   },
   "file_extension": ".py",
   "mimetype": "text/x-python",
   "name": "python",
   "nbconvert_exporter": "python",
   "pygments_lexer": "ipython3",
   "version": "3.5.1"
  }
 },
 "nbformat": 4,
 "nbformat_minor": 0
}
