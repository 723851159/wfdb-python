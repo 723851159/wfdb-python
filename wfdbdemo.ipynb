{
 "cells": [
  {
   "cell_type": "markdown",
   "metadata": {},
   "source": [
    "<h2>Demo Scripts on how to use the wfdb-python package</h2>"
   ]
  },
  {
   "cell_type": "code",
   "execution_count": 4,
   "metadata": {
    "collapsed": true
   },
   "outputs": [],
   "source": [
    "import numpy as np\n",
    "from wfdb import readsignal\n",
    "from wfdb import readannot\n",
    "from wfdb import plotwfdb"
   ]
  },
  {
   "cell_type": "code",
   "execution_count": null,
   "metadata": {
    "collapsed": false
   },
   "outputs": [],
   "source": [
    "# Demo 1 - Read the wfdb file, plot the last part of the signals, and print the metadata\n",
    "\n",
    "sig, fields=readsignal.rdsamp('sampledata/a103l') \n",
    "print(fields)\n",
    "plotwfdb.plotsigs(sig[80000:,:], fields, title='Record a103l from Physionet Challenge 2015') "
   ]
  },
  {
   "cell_type": "code",
   "execution_count": null,
   "metadata": {
    "collapsed": true
   },
   "outputs": [],
   "source": [
    "# Demo 2 - Read certain channels and sections of the WFDB file and plot them. \n",
    "\n",
    "sig, fields=readsignal.rdsamp('sampledata/s0010_re', channels=[14, 0, 5, 10, 11], sampfrom=100, sampto=15000)\n",
    "plotwfdb.plotsigs(sig, fields)"
   ]
  },
  {
   "cell_type": "code",
   "execution_count": 5,
   "metadata": {
    "collapsed": false
   },
   "outputs": [],
   "source": [
    "# Demo 3 - Read the WFDB signal and annotation file and plot them together.\n",
    "\n",
    "sig, fields=readsignal.rdsamp('sampledata/100')\n",
    "annsamp=readannot.rdann('sampledata/100', 'atr')[0]\n",
    "plotwfdb.plotsigs(sig, fields, annsamp=annsamp, annch=[0], title='Record 100 from MIT-BIH Arrhythmia Database')"
   ]
  },
  {
   "cell_type": "code",
   "execution_count": null,
   "metadata": {
    "collapsed": true
   },
   "outputs": [],
   "source": []
  }
 ],
 "metadata": {
  "kernelspec": {
   "display_name": "Python 3",
   "language": "python",
   "name": "python3"
  },
  "language_info": {
   "codemirror_mode": {
    "name": "ipython",
    "version": 3
   },
   "file_extension": ".py",
   "mimetype": "text/x-python",
   "name": "python",
   "nbconvert_exporter": "python",
   "pygments_lexer": "ipython3",
   "version": "3.5.1"
  }
 },
 "nbformat": 4,
 "nbformat_minor": 0
}
