{
 "cells": [
  {
   "cell_type": "markdown",
   "metadata": {},
   "source": [
    "## Demo Scripts for the wfdb-python package\n",
    "\n",
    "Run this script from the base directory of the git repository to access the included demo files"
   ]
  },
  {
   "cell_type": "code",
   "execution_count": 2,
   "metadata": {
    "collapsed": false
   },
   "outputs": [],
   "source": [
    "import wfdb\n",
    "import numpy as np\n",
    "from IPython.display import display"
   ]
  },
  {
   "cell_type": "markdown",
   "metadata": {},
   "source": [
    "### Reading Records and Annotations"
   ]
  },
  {
   "cell_type": "code",
   "execution_count": null,
   "metadata": {
    "collapsed": false
   },
   "outputs": [],
   "source": [
    "# Demo 1 - Read a wfdb record using the 'rdsamp' function into a wfdb.Record object.\n",
    "# Plot the signals, and show the data\n",
    "record = wfdb.rdsamp('sampledata/a103l') \n",
    "wfdb.plotrec(record, title='Record a103l from Physionet Challenge 2015') \n",
    "display(record.__dict__)\n",
    "\n",
    "\n",
    "# Can also read the same files hosted on PhysioBank https://physionet.org/physiobank/database/\n",
    "# in the challenge/2015/training/ database subdirectory. Full url = https://physionet.org/physiobank/database/challenge/2015/training/\n",
    "record2 = wfdb.rdsamp('a103l', pbdir = 'challenge/2015/training/')\n",
    "\n",
    "display(record.__eq__(record2))"
   ]
  },
  {
   "cell_type": "code",
   "execution_count": null,
   "metadata": {
    "collapsed": false
   },
   "outputs": [],
   "source": [
    "# Demo 2 - Read certain channels and sections of the WFDB record using the simplified 'srdsamp' function\n",
    "# which returns an array and a dictionary. Show the data\n",
    "signals, fields=wfdb.srdsamp('sampledata/s0010_re', channels=[14, 0, 5, 10], sampfrom=100, sampto=15000)\n",
    "display(signals)\n",
    "display(fields)\n",
    "\n",
    "# Can also read the same files hosted on PhysioBank \n",
    "signals2, fields2=wfdb.srdsamp('s0010_re', channels=[14, 0, 5, 10], sampfrom=100, sampto=15000, pbdir = 'ptbdb/patient001/')"
   ]
  },
  {
   "cell_type": "code",
   "execution_count": null,
   "metadata": {
    "collapsed": false
   },
   "outputs": [],
   "source": [
    "# Demo 3 - Read part of a WFDB annotation file into a wfdb.Annotation object, and plot the samples\n",
    "annotation = wfdb.rdann('sampledata/100', 'atr', sampfrom = 100000, sampto = 110000)\n",
    "#annotation.fs = 360\n",
    "#wfdb.plotann(annotation, timeunits = 'minutes')\n",
    "\n",
    "# Can also read the same file hosted on PhysioBank \n",
    "annotation2 = wfdb.rdann('100', 'atr', sampfrom = 100000, sampto = 110000, pbdir = 'mitdb')"
   ]
  },
  {
   "cell_type": "code",
   "execution_count": null,
   "metadata": {
    "collapsed": false
   },
   "outputs": [],
   "source": [
    "# Demo 4 - Read a WFDB record and annotation. Plot all channels, and the annotation on top of channel 0.\n",
    "record = wfdb.rdsamp('sampledata/100', sampto = 15000)\n",
    "annotation = wfdb.rdann('sampledata/100', 'atr', sampto = 15000)\n",
    "\n",
    "wfdb.plotrec(record, annotation = annotation, title='Record 100 from MIT-BIH Arrhythmia Database', timeunits = 'seconds')"
   ]
  },
  {
   "cell_type": "markdown",
   "metadata": {},
   "source": [
    "### Matched waveform examples\n",
    "\n",
    "The following sections load and plots waveforms from the MIMIC matched waveform database. These waveforms have been matched to clinical data in the MIMIC Clinical database. The input records are multi-segment (made up of multiple individual WFDB records) and relatively long.\n",
    "\n",
    "Note that these kinds of records contain segments in which certain channels are missing. <strong>matplotlib</strong> automatically zooms in on sections without Nans in individual channels but the entire durations of the signals input into <strong>plotrec</strong> are actually plotted. \n",
    "\n"
   ]
  },
  {
   "cell_type": "code",
   "execution_count": null,
   "metadata": {
    "collapsed": false
   },
   "outputs": [],
   "source": [
    "# Demo 5 - Read the multi-segment record and plot waveforms from the MIMIC matched waveform database. \n",
    "record=wfdb.rdsamp('sampledata/matched/s25047/s25047-2704-05-04-10-44')\n",
    "wfdb.plotrec(record, title='Record s25047-2704-05-04-10-44') \n",
    "display(record.__dict__)\n",
    "\n",
    "# Can also read the same files hosted on PhysioBank (takes long to download the many large files)\n",
    "record2 = wfdb.rdsamp('s25047-2704-05-04-10-44', pbdir = 'mimic2wdb/matched/s25047')"
   ]
  },
  {
   "cell_type": "code",
   "execution_count": null,
   "metadata": {
    "collapsed": false
   },
   "outputs": [],
   "source": [
    "# Demo 6 - Read the multi-segment record and plot waveforms from the MIMIC matched waveform database.\n",
    "# Notice that some channels have no valid values to plot\n",
    "record = wfdb.rdsamp('sampledata/matched/s00001/s00001-2896-10-10-00-31', sampfrom = 3000000, sampto = 4000000)\n",
    "wfdb.plotrec(record, title='Record s00001/s00001-2896-10-10-00-31') \n",
    "display(record.__dict__)\n",
    "\n",
    "# Can also read the same files hosted on PhysioBank\n",
    "record2 = wfdb.rdsamp('s00001-2896-10-10-00-31', sampfrom = 3000000, sampto = 4000000, pbdir = 'mimic2wdb/matched/s00001')"
   ]
  },
  {
   "cell_type": "markdown",
   "metadata": {},
   "source": [
    "### Writing Records and Annotations"
   ]
  },
  {
   "cell_type": "code",
   "execution_count": 1,
   "metadata": {
    "collapsed": false
   },
   "outputs": [],
   "source": [
    "import wfdb\n",
    "import numpy as np\n",
    "from IPython.display import display\n",
    "record = wfdb.rdsamp('sampledata/100', physical = False)"
   ]
  },
  {
   "cell_type": "code",
   "execution_count": 13,
   "metadata": {
    "collapsed": true
   },
   "outputs": [],
   "source": [
    "record.wrsamp()"
   ]
  },
  {
   "cell_type": "code",
   "execution_count": 14,
   "metadata": {
    "collapsed": true
   },
   "outputs": [],
   "source": [
    "record2 = wfdb.rdsamp('sampledata/100', physical = False)"
   ]
  },
  {
   "cell_type": "code",
   "execution_count": 15,
   "metadata": {
    "collapsed": false
   },
   "outputs": [
    {
     "data": {
      "text/plain": [
       "{'adcgain': [200.0, 200.0],\n",
       " 'adcres': [11, 11],\n",
       " 'adczero': [1024, 1024],\n",
       " 'basecounter': None,\n",
       " 'basedate': None,\n",
       " 'baseline': [1024, 1024],\n",
       " 'basetime': None,\n",
       " 'blocksize': [0, 0],\n",
       " 'byteoffset': [None, None],\n",
       " 'checksum': [-22131, 20052],\n",
       " 'comments': [' unnecessary comment',\n",
       "  ' 69 M 1085 1629 x1',\n",
       "  ' Aldomet, Inderal'],\n",
       " 'counterfreq': None,\n",
       " 'd_signals': array([[ 995, 1011],\n",
       "        [ 995, 1011],\n",
       "        [ 995, 1011],\n",
       "        ..., \n",
       "        [ 889,  951],\n",
       "        [ 871,  957],\n",
       "        [ 768, 1024]]),\n",
       " 'filename': ['100.dat', '100.dat'],\n",
       " 'fmt': ['212', '212'],\n",
       " 'fs': 360.0,\n",
       " 'initvalue': [995, 1011],\n",
       " 'nsig': 2,\n",
       " 'p_signals': None,\n",
       " 'recordname': '100',\n",
       " 'sampsperframe': [None, None],\n",
       " 'siglen': 650000,\n",
       " 'signame': ['MLII', 'V5'],\n",
       " 'skew': [None, None],\n",
       " 'units': ['mV', 'mV']}"
      ]
     },
     "metadata": {},
     "output_type": "display_data"
    },
    {
     "data": {
      "text/plain": [
       "{'adcgain': [200.0, 200.0],\n",
       " 'adcres': [11, 11],\n",
       " 'adczero': [1024, 1024],\n",
       " 'basecounter': None,\n",
       " 'basedate': None,\n",
       " 'baseline': [1024, 1024],\n",
       " 'basetime': None,\n",
       " 'blocksize': [0, 0],\n",
       " 'byteoffset': [None, None],\n",
       " 'checksum': [-22131, 20052],\n",
       " 'comments': [' unnecessary comment',\n",
       "  ' 69 M 1085 1629 x1',\n",
       "  ' Aldomet, Inderal'],\n",
       " 'counterfreq': None,\n",
       " 'd_signals': array([[ 995, 1011],\n",
       "        [ 995, 1011],\n",
       "        [ 995, 1011],\n",
       "        ..., \n",
       "        [ 889,  951],\n",
       "        [ 871,  957],\n",
       "        [ 768, 1024]]),\n",
       " 'filename': ['100.dat', '100.dat'],\n",
       " 'fmt': ['212', '212'],\n",
       " 'fs': 360.0,\n",
       " 'initvalue': [995, 1011],\n",
       " 'nsig': 2,\n",
       " 'p_signals': None,\n",
       " 'recordname': '100',\n",
       " 'sampsperframe': [None, None],\n",
       " 'siglen': 650000,\n",
       " 'signame': ['MLII', 'V5'],\n",
       " 'skew': [None, None],\n",
       " 'units': ['mV', 'mV']}"
      ]
     },
     "metadata": {},
     "output_type": "display_data"
    }
   ],
   "source": [
    "display(record.__dict__)\n",
    "display(record2.__dict__)"
   ]
  },
  {
   "cell_type": "code",
   "execution_count": 16,
   "metadata": {
    "collapsed": false
   },
   "outputs": [
    {
     "data": {
      "text/plain": [
       "True"
      ]
     },
     "execution_count": 16,
     "metadata": {},
     "output_type": "execute_result"
    }
   ],
   "source": [
    "record.__eq__(record2)"
   ]
  },
  {
   "cell_type": "code",
   "execution_count": 1,
   "metadata": {
    "collapsed": false
   },
   "outputs": [
    {
     "name": "stdout",
     "output_type": "stream",
     "text": [
      "startbyte:  3\n",
      "nsamp:  21598\n",
      "sigbytes: \n",
      "[227  51 243 ..., 179  51 196]\n",
      "32397\n",
      "32397\n",
      "10799\n",
      "startbyte:  3\n",
      "nsamp:  21598\n",
      "sigbytes: \n",
      "[227  51 243 ..., 179  51 196]\n",
      "32397\n",
      "32397\n",
      "10799\n",
      "\n",
      "\n",
      "\n",
      "recordwrite:\n",
      "startbyte:  0\n",
      "nsamp:  10799\n",
      "sigbytes: \n",
      "[243  51 243 ..., 196 196   3]\n",
      "16199\n",
      "16199\n",
      "5399\n"
     ]
    },
    {
     "ename": "ValueError",
     "evalue": "operands could not be broadcast together with shapes (5399,) (5400,) ",
     "output_type": "error",
     "traceback": [
      "\u001b[0;31m---------------------------------------------------------------------------\u001b[0m",
      "\u001b[0;31mValueError\u001b[0m                                Traceback (most recent call last)",
      "\u001b[0;32m<ipython-input-1-cde8d16c5920>\u001b[0m in \u001b[0;36m<module>\u001b[0;34m()\u001b[0m\n\u001b[1;32m     17\u001b[0m \u001b[0mrecord\u001b[0m\u001b[0;34m.\u001b[0m\u001b[0mwrsamp\u001b[0m\u001b[0;34m(\u001b[0m\u001b[0;34m)\u001b[0m\u001b[0;34m\u001b[0m\u001b[0m\n\u001b[1;32m     18\u001b[0m \u001b[0mprint\u001b[0m\u001b[0;34m(\u001b[0m\u001b[0;34m'\\n\\n\\nrecordwrite:'\u001b[0m\u001b[0;34m)\u001b[0m\u001b[0;34m\u001b[0m\u001b[0m\n\u001b[0;32m---> 19\u001b[0;31m \u001b[0mrecordwrite\u001b[0m \u001b[0;34m=\u001b[0m \u001b[0mwfdb\u001b[0m\u001b[0;34m.\u001b[0m\u001b[0mrdsamp\u001b[0m\u001b[0;34m(\u001b[0m\u001b[0;34m'100'\u001b[0m\u001b[0;34m)\u001b[0m\u001b[0;34m\u001b[0m\u001b[0m\n\u001b[0m\u001b[1;32m     20\u001b[0m \u001b[0;34m\u001b[0m\u001b[0m\n\u001b[1;32m     21\u001b[0m \u001b[0;32massert\u001b[0m \u001b[0mnp\u001b[0m\u001b[0;34m.\u001b[0m\u001b[0marray_equal\u001b[0m\u001b[0;34m(\u001b[0m\u001b[0msig\u001b[0m\u001b[0;34m,\u001b[0m \u001b[0mtargetsig\u001b[0m\u001b[0;34m)\u001b[0m\u001b[0;34m\u001b[0m\u001b[0m\n",
      "\u001b[0;32m/home/chen/Projects/wfdb-python/wfdb/records.py\u001b[0m in \u001b[0;36mrdsamp\u001b[0;34m(recordname, sampfrom, sampto, channels, physical, pbdir, m2s)\u001b[0m\n\u001b[1;32m    709\u001b[0m         record.d_signals = _signals.rdsegment(record.filename, dirname, pbdir, record.nsig, record.fmt, record.siglen, \n\u001b[1;32m    710\u001b[0m             \u001b[0mrecord\u001b[0m\u001b[0;34m.\u001b[0m\u001b[0mbyteoffset\u001b[0m\u001b[0;34m,\u001b[0m \u001b[0mrecord\u001b[0m\u001b[0;34m.\u001b[0m\u001b[0msampsperframe\u001b[0m\u001b[0;34m,\u001b[0m \u001b[0mrecord\u001b[0m\u001b[0;34m.\u001b[0m\u001b[0mskew\u001b[0m\u001b[0;34m,\u001b[0m\u001b[0;34m\u001b[0m\u001b[0m\n\u001b[0;32m--> 711\u001b[0;31m             sampfrom, sampto, channels)\n\u001b[0m\u001b[1;32m    712\u001b[0m         \u001b[0;31m# Arrange/edit the object fields to reflect user channel and/or signal range input\u001b[0m\u001b[0;34m\u001b[0m\u001b[0;34m\u001b[0m\u001b[0m\n\u001b[1;32m    713\u001b[0m         \u001b[0mrecord\u001b[0m\u001b[0;34m.\u001b[0m\u001b[0marrangefields\u001b[0m\u001b[0;34m(\u001b[0m\u001b[0mchannels\u001b[0m\u001b[0;34m,\u001b[0m \u001b[0msampto\u001b[0m \u001b[0;34m-\u001b[0m \u001b[0msampfrom\u001b[0m\u001b[0;34m)\u001b[0m\u001b[0;34m\u001b[0m\u001b[0m\n",
      "\u001b[0;32m/home/chen/Projects/wfdb-python/wfdb/_signals.py\u001b[0m in \u001b[0;36mrdsegment\u001b[0;34m(filename, dirname, pbdir, nsig, fmt, siglen, byteoffset, sampsperframe, skew, sampfrom, sampto, channels)\u001b[0m\n\u001b[1;32m    306\u001b[0m     \u001b[0;32mfor\u001b[0m \u001b[0mfn\u001b[0m \u001b[0;32min\u001b[0m \u001b[0mw_filename\u001b[0m\u001b[0;34m:\u001b[0m\u001b[0;34m\u001b[0m\u001b[0m\n\u001b[1;32m    307\u001b[0m         signals[:, out_datchannel[fn]] = rddat(fn, dirname, pbdir, w_fmt[fn], len(datchannel[fn]), \n\u001b[0;32m--> 308\u001b[0;31m             siglen, w_byteoffset[fn], w_sampsperframe[fn], w_skew[fn], sampfrom, sampto)[:, r_w_channel[fn]]\n\u001b[0m\u001b[1;32m    309\u001b[0m \u001b[0;34m\u001b[0m\u001b[0m\n\u001b[1;32m    310\u001b[0m     \u001b[0;32mreturn\u001b[0m \u001b[0msignals\u001b[0m\u001b[0;34m\u001b[0m\u001b[0m\n",
      "\u001b[0;32m/home/chen/Projects/wfdb-python/wfdb/_signals.py\u001b[0m in \u001b[0;36mrddat\u001b[0;34m(filename, dirname, pbdir, fmt, nsig, siglen, byteoffset, sampsperframe, skew, sampfrom, sampto)\u001b[0m\n\u001b[1;32m    340\u001b[0m \u001b[0;34m\u001b[0m\u001b[0m\n\u001b[1;32m    341\u001b[0m     \u001b[0;31m# Read the dat file into the correctly shaped np array\u001b[0m\u001b[0;34m\u001b[0m\u001b[0;34m\u001b[0m\u001b[0m\n\u001b[0;32m--> 342\u001b[0;31m     \u001b[0msig\u001b[0m\u001b[0;34m,\u001b[0m \u001b[0mbytesloaded\u001b[0m \u001b[0;34m=\u001b[0m \u001b[0mprocesswfdbbytes\u001b[0m\u001b[0;34m(\u001b[0m\u001b[0mfilename\u001b[0m\u001b[0;34m,\u001b[0m \u001b[0mdirname\u001b[0m\u001b[0;34m,\u001b[0m \u001b[0mpbdir\u001b[0m\u001b[0;34m,\u001b[0m \u001b[0mfmt\u001b[0m\u001b[0;34m,\u001b[0m \u001b[0mstartbyte\u001b[0m\u001b[0;34m,\u001b[0m \u001b[0msampto\u001b[0m \u001b[0;34m-\u001b[0m \u001b[0msampfrom\u001b[0m\u001b[0;34m,\u001b[0m \u001b[0mnsig\u001b[0m\u001b[0;34m,\u001b[0m \u001b[0msampsperframe\u001b[0m\u001b[0;34m,\u001b[0m \u001b[0mfloorsamp\u001b[0m\u001b[0;34m)\u001b[0m\u001b[0;34m\u001b[0m\u001b[0m\n\u001b[0m\u001b[1;32m    343\u001b[0m \u001b[0;34m\u001b[0m\u001b[0m\n\u001b[1;32m    344\u001b[0m     \u001b[0;31m# Shift the samples in the channels with skew if any\u001b[0m\u001b[0;34m\u001b[0m\u001b[0;34m\u001b[0m\u001b[0m\n",
      "\u001b[0;32m/home/chen/Projects/wfdb-python/wfdb/_signals.py\u001b[0m in \u001b[0;36mprocesswfdbbytes\u001b[0;34m(filename, dirname, pbdir, fmt, startbyte, readlen, nsig, sampsperframe, floorsamp)\u001b[0m\n\u001b[1;32m    383\u001b[0m                 \u001b[0;31m# Odd numbered samples\u001b[0m\u001b[0;34m\u001b[0m\u001b[0;34m\u001b[0m\u001b[0m\n\u001b[1;32m    384\u001b[0m                 \u001b[0mprint\u001b[0m\u001b[0;34m(\u001b[0m\u001b[0mlen\u001b[0m\u001b[0;34m(\u001b[0m\u001b[0msig\u001b[0m\u001b[0;34m[\u001b[0m\u001b[0;36m1\u001b[0m\u001b[0;34m:\u001b[0m\u001b[0;34m:\u001b[0m\u001b[0;36m2\u001b[0m\u001b[0;34m]\u001b[0m\u001b[0;34m)\u001b[0m\u001b[0;34m)\u001b[0m\u001b[0;34m\u001b[0m\u001b[0m\n\u001b[0;32m--> 385\u001b[0;31m                 \u001b[0msig\u001b[0m\u001b[0;34m[\u001b[0m\u001b[0;36m1\u001b[0m\u001b[0;34m:\u001b[0m\u001b[0;34m:\u001b[0m\u001b[0;36m2\u001b[0m\u001b[0;34m]\u001b[0m \u001b[0;34m=\u001b[0m \u001b[0msigbytes\u001b[0m\u001b[0;34m[\u001b[0m\u001b[0;36m2\u001b[0m\u001b[0;34m:\u001b[0m\u001b[0;34m:\u001b[0m\u001b[0;36m3\u001b[0m\u001b[0;34m]\u001b[0m \u001b[0;34m+\u001b[0m \u001b[0;36m256\u001b[0m\u001b[0;34m*\u001b[0m\u001b[0mnp\u001b[0m\u001b[0;34m.\u001b[0m\u001b[0mbitwise_and\u001b[0m\u001b[0;34m(\u001b[0m\u001b[0msigbytes\u001b[0m\u001b[0;34m[\u001b[0m\u001b[0;36m1\u001b[0m\u001b[0;34m:\u001b[0m\u001b[0;34m:\u001b[0m\u001b[0;36m3\u001b[0m\u001b[0;34m]\u001b[0m \u001b[0;34m>>\u001b[0m \u001b[0;36m4\u001b[0m\u001b[0;34m,\u001b[0m \u001b[0;36m0x0f\u001b[0m\u001b[0;34m)\u001b[0m\u001b[0;34m\u001b[0m\u001b[0m\n\u001b[0m\u001b[1;32m    386\u001b[0m             \u001b[0;32mif\u001b[0m \u001b[0mfloorsamp\u001b[0m\u001b[0;34m:\u001b[0m  \u001b[0;31m# Remove extra sample read\u001b[0m\u001b[0;34m\u001b[0m\u001b[0m\n\u001b[1;32m    387\u001b[0m                 \u001b[0msig\u001b[0m \u001b[0;34m=\u001b[0m \u001b[0msig\u001b[0m\u001b[0;34m[\u001b[0m\u001b[0mfloorsamp\u001b[0m\u001b[0;34m:\u001b[0m\u001b[0;34m]\u001b[0m\u001b[0;34m\u001b[0m\u001b[0m\n",
      "\u001b[0;31mValueError\u001b[0m: operands could not be broadcast together with shapes (5399,) (5400,) "
     ]
    }
   ],
   "source": [
    "import wfdb\n",
    "import numpy as np\n",
    "from IPython.display import display\n",
    "\n",
    "record = wfdb.rdsamp('sampledata/100', sampfrom=1,\n",
    "                     sampto=10800, channels=[1], physical=False)\n",
    "sig = record.d_signals\n",
    "targetsig = np.genfromtxt('tests/targetoutputdata/target2')\n",
    "targetsig = targetsig.reshape(len(targetsig), 1)\n",
    "\n",
    "# Compare data streaming from physiobank\n",
    "pbrecord = wfdb.rdsamp('100', sampfrom=1, sampto=10800, channels=[1], physical=False, pbdir = 'mitdb')\n",
    "# This comment line was manually added and is not present in the original physiobank record\n",
    "del(record.comments[0])\n",
    "\n",
    "# Test file writing\n",
    "record.wrsamp()\n",
    "print('\\n\\n\\nrecordwrite:')\n",
    "recordwrite = wfdb.rdsamp('100')\n",
    "\n",
    "assert np.array_equal(sig, targetsig)\n",
    "assert record.__eq__(pbrecord)\n",
    "assert record.__eq__(recordwrite)"
   ]
  },
  {
   "cell_type": "code",
   "execution_count": 9,
   "metadata": {
    "collapsed": false
   },
   "outputs": [
    {
     "data": {
      "text/plain": [
       "10799"
      ]
     },
     "execution_count": 9,
     "metadata": {},
     "output_type": "execute_result"
    }
   ],
   "source": [
    "record.siglen "
   ]
  },
  {
   "cell_type": "code",
   "execution_count": 10,
   "metadata": {
    "collapsed": false
   },
   "outputs": [
    {
     "data": {
      "text/plain": [
       "10799"
      ]
     },
     "execution_count": 10,
     "metadata": {},
     "output_type": "execute_result"
    }
   ],
   "source": [
    "len(record.d_signals)"
   ]
  },
  {
   "cell_type": "code",
   "execution_count": 11,
   "metadata": {
    "collapsed": false
   },
   "outputs": [
    {
     "data": {
      "text/plain": [
       "10800.0"
      ]
     },
     "execution_count": 11,
     "metadata": {},
     "output_type": "execute_result"
    }
   ],
   "source": [
    "16200 / 1.5"
   ]
  },
  {
   "cell_type": "code",
   "execution_count": null,
   "metadata": {
    "collapsed": true
   },
   "outputs": [],
   "source": []
  }
 ],
 "metadata": {
  "kernelspec": {
   "display_name": "Python 3",
   "language": "python",
   "name": "python3"
  },
  "language_info": {
   "codemirror_mode": {
    "name": "ipython",
    "version": 3
   },
   "file_extension": ".py",
   "mimetype": "text/x-python",
   "name": "python",
   "nbconvert_exporter": "python",
   "pygments_lexer": "ipython3",
   "version": "3.5.2"
  }
 },
 "nbformat": 4,
 "nbformat_minor": 0
}
