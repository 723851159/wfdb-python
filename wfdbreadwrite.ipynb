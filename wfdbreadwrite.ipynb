{
 "cells": [
  {
   "cell_type": "code",
   "execution_count": 1,
   "metadata": {
    "collapsed": false
   },
   "outputs": [],
   "source": [
    "import numpy as np\n",
    "from wfdb import readsignal"
   ]
  },
  {
   "cell_type": "code",
   "execution_count": 2,
   "metadata": {
    "collapsed": false
   },
   "outputs": [
    {
     "name": "stdout",
     "output_type": "stream",
     "text": [
      "[[-0.145 -0.065]\n",
      " [-0.145 -0.065]\n",
      " [-0.145 -0.065]\n",
      " ..., \n",
      " [ 0.515  0.41 ]\n",
      " [ 0.71   0.32 ]\n",
      " [ 0.795  0.045]]\n",
      "9999\n"
     ]
    }
   ],
   "source": [
    "# Testing rdsamp format 212\n",
    "sig, fields=readsignal.rdsamp('sampledata/100', sampto=9999)\n",
    "print(sig)\n",
    "print(len(sig))"
   ]
  },
  {
   "cell_type": "code",
   "execution_count": 3,
   "metadata": {
    "collapsed": false
   },
   "outputs": [
    {
     "name": "stdout",
     "output_type": "stream",
     "text": [
      "[[ 0.1  -0.08 -0.57 -0.66]\n",
      " [ 0.11 -0.06 -0.56 -0.66]\n",
      " [ 0.13 -0.06 -0.55 -0.67]\n",
      " ..., \n",
      " [-0.27 -0.17  0.13  0.15]\n",
      " [-0.27 -0.18  0.13  0.15]\n",
      " [-0.26 -0.18  0.12  0.16]]\n"
     ]
    }
   ],
   "source": [
    "# Testing rdsamp format 16\n",
    "sig, fields=readsignal.rdsamp('sampledata/test01_00s')\n",
    "print(sig)"
   ]
  },
  {
   "cell_type": "code",
   "execution_count": 3,
   "metadata": {
    "collapsed": false,
    "scrolled": true
   },
   "outputs": [
    {
     "name": "stdout",
     "output_type": "stream",
     "text": [
      "[[-5  0]\n",
      " [-5  0]\n",
      " [-6  0]\n",
      " ..., \n",
      " [-7  6]\n",
      " [-8  6]\n",
      " [-7  6]]\n"
     ]
    }
   ],
   "source": [
    "# Testing rdsamp format 80\n",
    "sig, fields=readsignal.rdsamp('sampledata/3000003_0003')\n",
    "print(sig)"
   ]
  },
  {
   "cell_type": "code",
   "execution_count": 3,
   "metadata": {
    "collapsed": false
   },
   "outputs": [
    {
     "name": "stdout",
     "output_type": "stream",
     "text": [
      "[[-0.02359597  0.86758555  0.48220271]\n",
      " [-0.03698082  0.98298479  0.5443735 ]\n",
      " [-0.06292259  0.85979087  0.47821229]\n",
      " ..., \n",
      " [-0.04084449  0.7493346   0.5150838 ]\n",
      " [-0.04719194  0.7581749   0.50957702]\n",
      " [-0.04677798  0.7615019   0.5028731 ]]\n",
      "{'initvalue': [-171, 9127, 6042], 'baseline': [0, 0, 0], 'nsamp': 82500, 'gain': [7247.0, 10520.0, 12530.0], 'nsampseg': [], 'info': ['Asystole', 'False alarm'], 'byteoffset': ['24', '24', '24'], 'fmt': ['16', '16', '16'], 'basetime': '', 'nsig': 3, 'basedate': '', 'units': ['mV', 'mV', 'NU'], 'fs': 250.0, 'filename': ['a103l.mat', 'a103l.mat', 'a103l.mat'], 'signame': ['II', 'V', 'PLETH'], 'nseg': 1}\n"
     ]
    }
   ],
   "source": [
    "# Testing rdsamp format 16 with byte offset (actually a .mat file too)\n",
    "import numpy as np\n",
    "from wfdb import readsignal\n",
    "sig, fields=readsignal.rdsamp('sampledata/a103l')\n",
    "print(sig)\n",
    "print(fields)\n",
    "#gains=np.array([1,2,3])\n",
    "#sig=np.subtract(sig, gains)\n",
    "#print(sig)"
   ]
  },
  {
   "cell_type": "code",
   "execution_count": 5,
   "metadata": {
    "collapsed": false
   },
   "outputs": [
    {
     "data": {
      "text/plain": [
       "{'complex': [numpy.complex64, numpy.complex128, numpy.complex256],\n",
       " 'float': [numpy.float16, numpy.float32, numpy.float64, numpy.float128],\n",
       " 'int': [numpy.int8, numpy.int16, numpy.int32, numpy.int64],\n",
       " 'others': [bool, object, str, str, numpy.void],\n",
       " 'uint': [numpy.uint8, numpy.uint16, numpy.uint32, numpy.uint64]}"
      ]
     },
     "execution_count": 5,
     "metadata": {},
     "output_type": "execute_result"
    }
   ],
   "source": [
    "np.sctypes"
   ]
  },
  {
   "cell_type": "code",
   "execution_count": 6,
   "metadata": {
    "collapsed": false
   },
   "outputs": [
    {
     "name": "stdout",
     "output_type": "stream",
     "text": [
      "[0 4 8 0 4 8]\n",
      "[array([0, 4, 8, 0, 4, 8]), array([0, 4, 8, 0, 4, 8])]\n",
      "[array([0, 4, 8, 0, 4, 8]), array([0, 4, 8, 0, 4, 8]), 'hello']\n"
     ]
    }
   ],
   "source": [
    "a=np.array(range(0,12,4))\n",
    "a=np.hstack((a,a))\n",
    "print(a)\n",
    "\n",
    "listofnps=[a,a]\n",
    "print(listofnps)\n",
    "\n",
    "\n",
    "listofnps.append(\"hello\")\n",
    "print(listofnps)\n",
    "\n"
   ]
  },
  {
   "cell_type": "code",
   "execution_count": 19,
   "metadata": {
    "collapsed": false
   },
   "outputs": [
    {
     "name": "stdout",
     "output_type": "stream",
     "text": [
      "[2]\n"
     ]
    }
   ],
   "source": [
    "def givethree():\n",
    "    return 1, 2, 3\n",
    "\n",
    "list1=[]\n",
    "list1.append(givethree()[1])\n",
    "print(list1)"
   ]
  },
  {
   "cell_type": "code",
   "execution_count": 5,
   "metadata": {
    "collapsed": false
   },
   "outputs": [
    {
     "name": "stdout",
     "output_type": "stream",
     "text": [
      "[1.0, 2.0, 3.0]\n"
     ]
    }
   ],
   "source": [
    "numbs=['1','2','3']\n",
    "\n",
    "num=[float(i) for i in numbs]\n",
    "print(num)"
   ]
  },
  {
   "cell_type": "code",
   "execution_count": null,
   "metadata": {
    "collapsed": true
   },
   "outputs": [],
   "source": []
  }
 ],
 "metadata": {
  "kernelspec": {
   "display_name": "Python 3",
   "language": "python",
   "name": "python3"
  },
  "language_info": {
   "codemirror_mode": {
    "name": "ipython",
    "version": 3
   },
   "file_extension": ".py",
   "mimetype": "text/x-python",
   "name": "python",
   "nbconvert_exporter": "python",
   "pygments_lexer": "ipython3",
   "version": "3.5.1"
  }
 },
 "nbformat": 4,
 "nbformat_minor": 0
}
