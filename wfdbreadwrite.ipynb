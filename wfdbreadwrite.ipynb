{
 "cells": [
  {
   "cell_type": "code",
   "execution_count": 14,
   "metadata": {
    "collapsed": false
   },
   "outputs": [],
   "source": [
    "import numpy as np\n",
    "import re\n",
    "import os\n",
    "import math\n",
    "from wfdb import readsignal"
   ]
  },
  {
   "cell_type": "code",
   "execution_count": 11,
   "metadata": {
    "collapsed": false
   },
   "outputs": [],
   "source": [
    "def rdsamp(recordname, sampfrom=0, sampto=[]):\n",
    "    # to do: add channel selection, to and from, physicaldigital (and nan removal)\n",
    "    # sampfrom and sampto indices start from 0. \n",
    "    fields=readheader(recordname)\n",
    "    \n",
    "    # What happens when chosen input sampfrom-sampto is not an integer multiple for formats 212 310?\n",
    "    # Should load the next byte pair/block and toss the remainders. \n",
    "    \n",
    "    if fields[\"nseg\"]==1: # single segment file\n",
    "        if (len(set(fields[\"filename\"]))==1): # single dat file to read\n",
    "            sig=readdat(recordname, fields[\"fmt\"][0],sampfrom, sampto, fields[\"nsig\"], fields[\"nsamp\"])\n",
    "        else:\n",
    "            # Read different dats and glue them together channel wise. \n",
    "            # ACTUALLY MULTIPLE CHANNELS CAN BE GROUPED IN DAT FILES!!!!! \n",
    "            for i in range(0, nsig):\n",
    "                print('this is hard')\n",
    "                #singlesig=readdat(fields[\"filename\"][i][0:end-4, info[\"fmt\"][i], sampfrom, )\n",
    "    else:\n",
    "        # Read segments one at a time...\n",
    "        print('You have to read different dats and glue them together segment wise. Also recursive?')\n",
    "    \n",
    "    \n",
    "    # Insert nans\n",
    "    \n",
    "    # Analogue to digital \n",
    "    \n",
    "    return (sig, fields)"
   ]
  },
  {
   "cell_type": "code",
   "execution_count": 12,
   "metadata": {
    "collapsed": false
   },
   "outputs": [],
   "source": [
    "# Get header fields\n",
    "def readheader(recordname): \n",
    "    \n",
    "    # To do: Allow exponential input format for some fields \n",
    "    \n",
    "    fid=open(recordname + \".hea\", 'r')\n",
    "    \n",
    "    # Output dictionary\n",
    "    fields = {'nseg':[], 'nsig':[], 'fs':[], 'nsamp':[], 'basetime':[], 'basedate':[],  \n",
    "            'filename':[], 'fmt':[], 'gain':[], 'units':[], 'baseline':[], \n",
    "            'initvalue':[],'signame':[], 'nsampseg':[], 'info':[]}\n",
    "    #filename stores files for both multi and single segment headers. nsampseg is only for multi-segment\n",
    "\n",
    "    commentlines=[] # Store comments \n",
    "    headerlines=[] # Store record line followed by the signal lines if any \n",
    "\n",
    "    # RECORD LINE fields (o means optional, delimiter is space or tab unless specified):\n",
    "    # record name, nsegments (o, delim=/), nsignals, fs (o), counter freq (o, delim=/, needs fs), \n",
    "    # base counter (o, delim=(), needs counter freq), nsamples (o, needs fs), base time (o), \n",
    "    # base date (o needs base time).   \n",
    "\n",
    "    # Regexp object for record line\n",
    "    rxRECORD=re.compile(''.join([\"(?P<name>[\\w]+)/*(?P<nseg>\\d*)[ \\t]+\",\n",
    "                                \"(?P<nsig>\\d+)[ \\t]*\",\n",
    "                                \"(?P<fs>\\d*\\.?\\d*)/*(?P<counterfs>\\d*\\.?\\d*)\\(?(?P<basecounter>\\d*\\.?\\d*)\\)?[ \\t]*\",\n",
    "                                \"(?P<nsamples>\\d*)[ \\t]*\",\n",
    "                                \"(?P<basetime>\\d*:?\\d{,2}:?\\d{,2}\\.?\\d*)[ \\t]*\",\n",
    "                                \"(?P<basedate>\\d{,2}/?\\d{,2}/?\\d{,4})\"]))\n",
    "    # Watch out for potential floats: fs (and also exponent notation...), counterfs, basecounter\n",
    "\n",
    "\n",
    "    # SIGNAL LINE fields (o means optional, delimiter is space or tab unless specified):\n",
    "    # file name, format, samplesperframe(o, delim=x), skew(o, delim=:), byteoffset(o,delim=+),\n",
    "    # ADCgain(o), baseline(o, delim=(), requires ADCgain), units(o, delim=/, requires baseline), \n",
    "    # ADCres(o, requires ADCgain), ADCzero(o, requires ADCres), initialvalue(o, requires ADCzero), \n",
    "    # checksum(o, requires initialvalue), blocksize(o, requires checksum), signame(o, requires block)\n",
    "\n",
    "    # Regexp object for signal lines\n",
    "    rxSIGNAL=re.compile(''.join([\"(?P<filename>[\\w]+\\.dat)[ \\t]+(?P<format>\\d+)x?\"\n",
    "                                 \"(?P<samplesperframe>\\d*):?(?P<skew>\\d*)+?(?P<byteoffset>\\d*)[ \\t]*\",\n",
    "                                 \"(?P<ADCgain>\\d*\\.?\\d*)\\(?(?P<baseline>-?\\d*)\\)?/?(?P<units>[\\w\\^/-]*)[ \\t]*\",\n",
    "                                 \"(?P<ADCres>\\d*)[ \\t]*(?P<ADCzero>-?\\d*)[ \\t]*(?P<initialvalue>-?\\d*)[ \\t]*\",\n",
    "                                 \"(?P<checksum>-?\\d*)[ \\t]*(?P<blocksize>\\d*)[ \\t]*(?P<signame>[\\S]*)\"])) \n",
    "\n",
    "    # Units characters: letters, numbers, /, ^, -, \n",
    "    # Make sure \\w doesn't trigger more errors than [0-9a-zA-z_]\n",
    "    # Watch out for potentially negative fields: baseline, ADCzero, initialvalue, checksum, \n",
    "    # Watch out for potential float: ADCgain. There are no negative floats. \n",
    "\n",
    "    # Split comment and non-comment lines\n",
    "\n",
    "    for line in fid:\n",
    "        line=line.strip()\n",
    "        if line.startswith('#'): # comment line\n",
    "            commentlines.append(line)\n",
    "        elif line: # Non-empty non-comment line = header line. \n",
    "            ci=line.find('#')\n",
    "            if ci > 0: \n",
    "                headerlines.append(line[:ci]) # header line\n",
    "                commentlines.append(line[ci:]) # comment on same line as header line\n",
    "            else:\n",
    "                headerlines.append(line)\n",
    "\n",
    "    # Get record line parameters\n",
    "    (_, nseg, nsig, fs, counterfs, \n",
    "     basecounter, nsamp, basetime, basedate)=rxRECORD.findall(headerlines[0])[0]\n",
    "\n",
    "    if not nseg:\n",
    "        nseg='1'\n",
    "    if not fs:\n",
    "        fs='250'\n",
    "\n",
    "    fields['nseg']=int(nseg) # These fields are either mandatory or set to defaults. \n",
    "    fields['fs']=float(fs)\n",
    "    fields['nsig']=int(nsig)\n",
    "\n",
    "    fields['nsamp']=int(nsamp) # These fields might be empty.\n",
    "    fields['basetime']=basetime\n",
    "    fields['basedate']=basedate\n",
    "\n",
    "\n",
    "    # Signal or Segment line paramters \n",
    "\n",
    "    if int(nseg) >1: # Multi segment header - Process segment spec lines in current master header.\n",
    "        print(\"I'm working on it....\")\n",
    "        for i in range(0, int(nsig)):\n",
    "            (filename, nsampseg)=re.findall('(?P<filename>\\w*~?)[ \\t]+(?P\\d+)', headerlines[i+1])\n",
    "            fields[\"filename\"].append(filename) # filename might be ~ for null segment. \n",
    "            fields[\"nsampseg\"].append(int(nsampseg)) # number of samples for the segment is mandatory. \n",
    "    else: # Single segment header - Process signal spec lines in current regular header. \n",
    "        if not fs:\n",
    "            fs=250\n",
    "        else:\n",
    "            fs=float(fs)\n",
    "        for i in range(0,int(nsig)): # will not run if nsignals=0\n",
    "            # get signal line parameters\n",
    "            (filename, fmt, sampsperframe, skew, byteoffset, adcgain, baseline, units, adcres,\n",
    "             adczero, initvalue, checksum, blocksize, signame)=rxSIGNAL.findall(headerlines[i+1])[0]\n",
    "            if not adcgain:\n",
    "                adcgain='200'\n",
    "            if not baseline:\n",
    "                if not adczero:\n",
    "                    baseline='0'\n",
    "                else:\n",
    "                    baseline=adczero # missing baseline actually takes adczero value if present\n",
    "            if not units:\n",
    "                units='mV'\n",
    "            if not initvalue:\n",
    "                initvalue='0'\n",
    "            if not signame:\n",
    "                signame=\"ch\" + str(i+1)\n",
    "            if not initvalue:\n",
    "                initvalue='0'\n",
    "\n",
    "            #'filename':[], 'fmt':[], 'gain':[], 'units':[], 'baseline':[], \n",
    "            #'initvalue':[],'signame':[], 'nsampseg':[]}                        \n",
    "            fields[\"filename\"].append(filename)\n",
    "            fields[\"fmt\"].append(fmt)       \n",
    "            fields[\"gain\"].append(float(adcgain))\n",
    "            fields[\"baseline\"].append(int(baseline))\n",
    "            fields[\"units\"].append(units)\n",
    "            fields[\"initvalue\"].append(int(initvalue))\n",
    "            fields[\"signame\"].append(signame)\n",
    "    \n",
    "    if commentlines:\n",
    "        for comment in commentlines:\n",
    "            fields[\"info\"].append(comment.strip('\\s#'))\n",
    "            \n",
    "    return fields\n",
    "\n"
   ]
  },
  {
   "cell_type": "code",
   "execution_count": 13,
   "metadata": {
    "collapsed": false
   },
   "outputs": [],
   "source": [
    "# Read the raw values stored in a dat file\n",
    "def readdat(recordname, fmt,sampfrom, sampto, nsig, siglen): \n",
    "    # nsig and nsamp define whole file, not selected inputs. nsamp is signal length. \n",
    "    \n",
    "    # to do: allow channel choice too. Put that in rdsamp actually, not here.\n",
    "    \n",
    "    filename = recordname + \".dat\"\n",
    "    \n",
    "    # Bytes required to hold each sample (including wasted space)\n",
    "    bytespersample={'8': 1, '16': 2, '24': 3, '32': 4, '61': 2, \n",
    "                    '80': 1, '160':2, '212': 1.5, '310': 4/3, '311': 4/3}\n",
    "    \n",
    "    # Data type objects for each format to load. Doesn't directly correspond for final 3 formats. \n",
    "    datatypes={'8':'<i1', '16':'<i2', '24':'<i3', '32':'<i4', \n",
    "               '61':'>i2', '80':'<u1', '160':'<u2', \n",
    "               '212':'<u1', '310':'<u1', '311':'<u2'} \n",
    "    \n",
    "    if not sampto:\n",
    "        if not siglen: # Signal length was not obtained, calculate it from the file size. \n",
    "            filesize=os.path.getsize(filename) \n",
    "            siglen=filesize/nsig/bytespersample[fmt]\n",
    "        sampto=siglen\n",
    "    \n",
    "    fp=open(filename,'rb')\n",
    "    fp.seek(int(sampfrom*nsig*bytespersample[fmt])) # Point to the starting sample \n",
    "    \n",
    "    # Reading the dat file into np array and reshaping. \n",
    "    if fmt=='212': # 212, 310, and 311 need special loading and processing. \n",
    "        nbytesload=math.ceil((sampto-sampfrom)*nsig*1.5) # Loaded bytes\n",
    "        nbytesstack=int(nbytesload/3)*3 # Most samples come in 3 byte (24 bit) blocks. Possibly remainder \n",
    "        sig=np.fromfile(fp, dtype=np.dtype(datatypes[fmt]), count=nbytesload) \n",
    "        s1=sig[0:nbytesstack:3]+256*np.bitwise_and(sig[1:nbytesstack:3], 0x0f)\n",
    "        s2=sig[2:nbytesstack:3]+256*np.bitwise_and(sig[1:nbytesstack:3] >> 4, 0x0f)\n",
    "        # Arrange and flatten samples\n",
    "        if (nbytesload == nbytesstack): \n",
    "            sig=np.vstack((s1,s2)).flatten('F')\n",
    "        else: # Append last sample that didn't completely fit into 3 byte blocks if any. Maximum 1\n",
    "            sig=np.hcat((np.vstack((s1,s2)).flatten('F')), sig[nbytesstack]+256*np.bitwise_and(sig[nbytesstack+1], 0x0f))\n",
    "        \n",
    "        sig[sig>2047]-=4096 # Loaded values as unsigned. Convert to 2's complement form: values > 2^11-1 are negative.\n",
    "    \n",
    "    elif fmt=='310': # Three 10 bit samples packed into 4 bytes with 2 bits discarded\n",
    "        nbytesload=math.ceil((sampto-sampfrom)*nsig*4/3)\n",
    "        nbytesstack=int(nbytesload/4)*4 # Most samples come in 4 byte (32 bit) blocks. Possibly remainders\n",
    "        if nbytesload%4 == 3: # Actually need to load 1 more byte because of separate format.  \n",
    "            nbytesload+=1\n",
    "\n",
    "        sig=np.fromfile(fp, dtype=np.dtype(datatypes[fmt]), count=nbytesload)\n",
    "        # Loaded number of bytes = rounded up from required (will not surpass file limit). \n",
    "        # But process round down to nearest 4 bytes. Then get remainder if necessary. \n",
    "        s1=(sig[0:nbytesload:4] >> 1) +1024*np.bitwise_and(sig[1:nbytesload:4], 0x07)\n",
    "        s2=(sig[2:nbytesload:4] >> 1) +1024*np.bitwise_and(sig[3:nbytesload:4], 0x07)\n",
    "        s3=np.bitwise_and((sig[1:nbytesload:4] >> 3), 0x1f) +32*np.bitwise_and(sig[3:nbytesload:4] >> 3, 0x1f)\n",
    "        # First signal is 7 msb of first byte and 3 lsb of second byte. \n",
    "        # Second signal is 7 msb of third byte and 3 lsb of forth byte\n",
    "        # Third signal is 5 msb of second byte and 5 msb of forth byte\n",
    "        \n",
    "        if (nbytesload == nbytesstack):\n",
    "            sig=np.vstack((s1,s2,s3)).flatten('F')\n",
    "        else: # Append last samples that didn't completely fit into 4 byte blocks if any. Maximum 2. \n",
    "            if (nbytesload % 4 == 2): # Extra 1 sample \n",
    "                sig=np.hcat((np.vstack((s1,s2,s3)).flatten('F')), (sig[nbytesstack] >> 1) +1024*np.bitwise_and(sig[nbytesstack+1], 0x07))\n",
    "            else: # Extra 2 samples\n",
    "                sig=np.hcat((np.vstack((s1,s2,s3)).flatten('F')), (sig[nbytesstack] >> 1) +1024*np.bitwise_and(sig[nbytesstack+1], 0x07) , (sig[nbytesstack+2] >> 1) +1024*np.bitwise_and(sig[nbytesstack+3], 0x07))              \n",
    "            \n",
    "        sig[sig>511]-=1024 # convert to two's complement form (signed)\n",
    "    elif fmt=='311': # Three 10 bit samples packed into 4 bytes with 2 bits discarded\n",
    "        nbytesload=math.ceil((sampto-sampfrom)*nsig*4/3)\n",
    "        nbytesstack=int(nbytesload/4)*4 # Most samples come in 4 byte (32 bit) blocks. Possibly remainders\n",
    "        \n",
    "        sig=np.fromfile(fp, dtype=np.dtype(datatypes[fmt]), count=nbytesload)\n",
    "        s1=sig[0::4] +256*np.bitwise_and(sig[1::4], 0x03) \n",
    "        s2=np.bitwise_and(sig[1::4] >> 2, 0x3f) +64*np.bitwise_and(sig[2::4], 0x0f) \n",
    "        s3=np.bitwise_and((sig[2::4] >> 4), 0x0f) +16*np.bitwise_and(sig[3::4], 0x3f)\n",
    "        # First signal is first byte and 2 lsb of second byte. \n",
    "        # Second signal is 6 msb of second byte and 4 lsb of third byte\n",
    "        # Third signal is 4 msb of third byte and 6 lsb of forth byte\n",
    "        if (nbytesload == nbytesstack):\n",
    "            sig=np.vstack((s1,s2,s3)).flatten('F')\n",
    "        else:\n",
    "            if (nbytesload % 4 == 2): # Extra 1 sample \n",
    "                sig=np.hcat((np.vstack((s1,s2,s3)).flatten('F')), sig[nbytesstack] +256*np.bitwise_and(sig[nbytesstack+1], 0x03))\n",
    "            else: # Extra 2 samples\n",
    "                sig=np.hcat((np.vstack((s1,s2,s3)).flatten('F')), sig[nbytesstack] +256*np.bitwise_and(sig[nbytesstack+1], 0x03), np.bitwise_and(sig[nbytesstack+1] >> 2, 0x3f) +64*np.bitwise_and(sig[nbytesstack+2], 0x0f) )\n",
    "                  \n",
    "        sig[sig>511]-=1024 # convert to two's complement form (signed)\n",
    "    else: # Simple format signals that can be loaded as they are stored. \n",
    "        sig=np.fromfile(fp, dtype=np.dtype(datatypes[fmt]), count=(sampto-sampfrom)*nsig)\n",
    "        # Correct byte offset format data\n",
    "        if fmt=='80':\n",
    "            sig=sig.astype(int)\n",
    "            sig=sig-128\n",
    "        elif fmt=='160':\n",
    "            sig=sig.astype(int)\n",
    "            sig=sig-32768\n",
    "            \n",
    "    sig=sig.reshape(sampto-sampfrom, nsig)\n",
    "        \n",
    "        \n",
    "    return sig"
   ]
  },
  {
   "cell_type": "code",
   "execution_count": 16,
   "metadata": {
    "collapsed": false
   },
   "outputs": [
    {
     "ename": "NameError",
     "evalue": "global name 're' is not defined",
     "output_type": "error",
     "traceback": [
      "\u001b[0;31m---------------------------------------------------------------------------\u001b[0m",
      "\u001b[0;31mNameError\u001b[0m                                 Traceback (most recent call last)",
      "\u001b[0;32m<ipython-input-16-f6838f0a1e1d>\u001b[0m in \u001b[0;36m<module>\u001b[0;34m()\u001b[0m\n\u001b[1;32m      1\u001b[0m \u001b[0;31m# Testing rdsamp format 212\u001b[0m\u001b[0;34m\u001b[0m\u001b[0;34m\u001b[0m\u001b[0m\n\u001b[0;32m----> 2\u001b[0;31m \u001b[0msig\u001b[0m\u001b[0;34m,\u001b[0m \u001b[0mfields\u001b[0m\u001b[0;34m=\u001b[0m\u001b[0mreadsignal\u001b[0m\u001b[0;34m.\u001b[0m\u001b[0mrdsamp\u001b[0m\u001b[0;34m(\u001b[0m\u001b[0;34m'testdata/100'\u001b[0m\u001b[0;34m,\u001b[0m \u001b[0msampto\u001b[0m\u001b[0;34m=\u001b[0m\u001b[0;36m9999\u001b[0m\u001b[0;34m)\u001b[0m\u001b[0;34m\u001b[0m\u001b[0m\n\u001b[0m\u001b[1;32m      3\u001b[0m \u001b[0;32mprint\u001b[0m\u001b[0;34m(\u001b[0m\u001b[0msig\u001b[0m\u001b[0;34m)\u001b[0m\u001b[0;34m\u001b[0m\u001b[0m\n\u001b[1;32m      4\u001b[0m \u001b[0;32mprint\u001b[0m\u001b[0;34m(\u001b[0m\u001b[0mlen\u001b[0m\u001b[0;34m(\u001b[0m\u001b[0msig\u001b[0m\u001b[0;34m)\u001b[0m\u001b[0;34m)\u001b[0m\u001b[0;34m\u001b[0m\u001b[0m\n",
      "\u001b[0;32m/Users/tompollard/projects/wfdb-python/wfdb/readsignal.pyc\u001b[0m in \u001b[0;36mrdsamp\u001b[0;34m(recordname, sampfrom, sampto)\u001b[0m\n\u001b[1;32m      4\u001b[0m     \u001b[0;31m# to do: add channel selection, to and from, physicaldigital (and nan removal)\u001b[0m\u001b[0;34m\u001b[0m\u001b[0;34m\u001b[0m\u001b[0m\n\u001b[1;32m      5\u001b[0m     \u001b[0;31m# sampfrom and sampto indices start from 0.\u001b[0m\u001b[0;34m\u001b[0m\u001b[0;34m\u001b[0m\u001b[0m\n\u001b[0;32m----> 6\u001b[0;31m     \u001b[0mfields\u001b[0m\u001b[0;34m=\u001b[0m\u001b[0mreadheader\u001b[0m\u001b[0;34m(\u001b[0m\u001b[0mrecordname\u001b[0m\u001b[0;34m)\u001b[0m\u001b[0;34m\u001b[0m\u001b[0m\n\u001b[0m\u001b[1;32m      7\u001b[0m \u001b[0;34m\u001b[0m\u001b[0m\n\u001b[1;32m      8\u001b[0m     \u001b[0;31m# What happens when chosen input sampfrom-sampto is not an integer multiple for formats 212 310?\u001b[0m\u001b[0;34m\u001b[0m\u001b[0;34m\u001b[0m\u001b[0m\n",
      "\u001b[0;32m/Users/tompollard/projects/wfdb-python/wfdb/readsignal.pyc\u001b[0m in \u001b[0;36mreadheader\u001b[0;34m(recordname)\u001b[0m\n\u001b[1;32m     51\u001b[0m \u001b[0;34m\u001b[0m\u001b[0m\n\u001b[1;32m     52\u001b[0m     \u001b[0;31m# Regexp object for record line\u001b[0m\u001b[0;34m\u001b[0m\u001b[0;34m\u001b[0m\u001b[0m\n\u001b[0;32m---> 53\u001b[0;31m     rxRECORD=re.compile(''.join([\"(?P<name>[\\w]+)/*(?P<nseg>\\d*)[ \\t]+\",\n\u001b[0m\u001b[1;32m     54\u001b[0m                                 \u001b[0;34m\"(?P<nsig>\\d+)[ \\t]*\"\u001b[0m\u001b[0;34m,\u001b[0m\u001b[0;34m\u001b[0m\u001b[0m\n\u001b[1;32m     55\u001b[0m                                 \u001b[0;34m\"(?P<fs>\\d*\\.?\\d*)/*(?P<counterfs>\\d*\\.?\\d*)\\(?(?P<basecounter>\\d*\\.?\\d*)\\)?[ \\t]*\"\u001b[0m\u001b[0;34m,\u001b[0m\u001b[0;34m\u001b[0m\u001b[0m\n",
      "\u001b[0;31mNameError\u001b[0m: global name 're' is not defined"
     ]
    }
   ],
   "source": [
    "# Testing rdsamp format 212\n",
    "sig, fields=readsignal.rdsamp('testdata/100', sampto=9999)\n",
    "print(sig)\n",
    "print(len(sig))"
   ]
  },
  {
   "cell_type": "code",
   "execution_count": 15,
   "metadata": {
    "collapsed": false
   },
   "outputs": [
    {
     "ename": "NameError",
     "evalue": "global name 're' is not defined",
     "output_type": "error",
     "traceback": [
      "\u001b[0;31m---------------------------------------------------------------------------\u001b[0m",
      "\u001b[0;31mNameError\u001b[0m                                 Traceback (most recent call last)",
      "\u001b[0;32m<ipython-input-15-1a2c05f4c38c>\u001b[0m in \u001b[0;36m<module>\u001b[0;34m()\u001b[0m\n\u001b[1;32m      1\u001b[0m \u001b[0;31m# Testing rdsamp format 16\u001b[0m\u001b[0;34m\u001b[0m\u001b[0;34m\u001b[0m\u001b[0m\n\u001b[0;32m----> 2\u001b[0;31m \u001b[0msig\u001b[0m\u001b[0;34m,\u001b[0m \u001b[0mfields\u001b[0m\u001b[0;34m=\u001b[0m\u001b[0mreadsignal\u001b[0m\u001b[0;34m.\u001b[0m\u001b[0mrdsamp\u001b[0m\u001b[0;34m(\u001b[0m\u001b[0;34m'testdata/test01_00s'\u001b[0m\u001b[0;34m)\u001b[0m\u001b[0;34m\u001b[0m\u001b[0m\n\u001b[0m\u001b[1;32m      3\u001b[0m \u001b[0;32mprint\u001b[0m\u001b[0;34m(\u001b[0m\u001b[0msig\u001b[0m\u001b[0;34m)\u001b[0m\u001b[0;34m\u001b[0m\u001b[0m\n",
      "\u001b[0;32m/Users/tompollard/projects/wfdb-python/wfdb/readsignal.pyc\u001b[0m in \u001b[0;36mrdsamp\u001b[0;34m(recordname, sampfrom, sampto)\u001b[0m\n\u001b[1;32m      4\u001b[0m     \u001b[0;31m# to do: add channel selection, to and from, physicaldigital (and nan removal)\u001b[0m\u001b[0;34m\u001b[0m\u001b[0;34m\u001b[0m\u001b[0m\n\u001b[1;32m      5\u001b[0m     \u001b[0;31m# sampfrom and sampto indices start from 0.\u001b[0m\u001b[0;34m\u001b[0m\u001b[0;34m\u001b[0m\u001b[0m\n\u001b[0;32m----> 6\u001b[0;31m     \u001b[0mfields\u001b[0m\u001b[0;34m=\u001b[0m\u001b[0mreadheader\u001b[0m\u001b[0;34m(\u001b[0m\u001b[0mrecordname\u001b[0m\u001b[0;34m)\u001b[0m\u001b[0;34m\u001b[0m\u001b[0m\n\u001b[0m\u001b[1;32m      7\u001b[0m \u001b[0;34m\u001b[0m\u001b[0m\n\u001b[1;32m      8\u001b[0m     \u001b[0;31m# What happens when chosen input sampfrom-sampto is not an integer multiple for formats 212 310?\u001b[0m\u001b[0;34m\u001b[0m\u001b[0;34m\u001b[0m\u001b[0m\n",
      "\u001b[0;32m/Users/tompollard/projects/wfdb-python/wfdb/readsignal.pyc\u001b[0m in \u001b[0;36mreadheader\u001b[0;34m(recordname)\u001b[0m\n\u001b[1;32m     51\u001b[0m \u001b[0;34m\u001b[0m\u001b[0m\n\u001b[1;32m     52\u001b[0m     \u001b[0;31m# Regexp object for record line\u001b[0m\u001b[0;34m\u001b[0m\u001b[0;34m\u001b[0m\u001b[0m\n\u001b[0;32m---> 53\u001b[0;31m     rxRECORD=re.compile(''.join([\"(?P<name>[\\w]+)/*(?P<nseg>\\d*)[ \\t]+\",\n\u001b[0m\u001b[1;32m     54\u001b[0m                                 \u001b[0;34m\"(?P<nsig>\\d+)[ \\t]*\"\u001b[0m\u001b[0;34m,\u001b[0m\u001b[0;34m\u001b[0m\u001b[0m\n\u001b[1;32m     55\u001b[0m                                 \u001b[0;34m\"(?P<fs>\\d*\\.?\\d*)/*(?P<counterfs>\\d*\\.?\\d*)\\(?(?P<basecounter>\\d*\\.?\\d*)\\)?[ \\t]*\"\u001b[0m\u001b[0;34m,\u001b[0m\u001b[0;34m\u001b[0m\u001b[0m\n",
      "\u001b[0;31mNameError\u001b[0m: global name 're' is not defined"
     ]
    }
   ],
   "source": [
    "# Testing rdsamp format 16\n",
    "sig, fields=readsignal.rdsamp('testdata/test01_00s')\n",
    "print(sig)"
   ]
  },
  {
   "cell_type": "code",
   "execution_count": 33,
   "metadata": {
    "collapsed": false,
    "scrolled": true
   },
   "outputs": [
    {
     "name": "stdout",
     "output_type": "stream",
     "text": [
      "[[ 0  0]\n",
      " [ 0  0]\n",
      " [ 0  0]\n",
      " ..., \n",
      " [-9  0]\n",
      " [-9  0]\n",
      " [-9  0]]\n"
     ]
    }
   ],
   "source": [
    "# Testing rdsamp format 80\n",
    "sig, fields=rdsamp('testdata/3000003_0003')\n",
    "print(sig)"
   ]
  },
  {
   "cell_type": "code",
   "execution_count": 50,
   "metadata": {
    "collapsed": false
   },
   "outputs": [
    {
     "data": {
      "text/plain": [
       "{'complex': [numpy.complex64, numpy.complex128, numpy.complex256],\n",
       " 'float': [numpy.float16, numpy.float32, numpy.float64, numpy.float128],\n",
       " 'int': [numpy.int8, numpy.int16, numpy.int32, numpy.int64],\n",
       " 'others': [bool, object, str, str, numpy.void],\n",
       " 'uint': [numpy.uint8, numpy.uint16, numpy.uint32, numpy.uint64]}"
      ]
     },
     "execution_count": 50,
     "metadata": {},
     "output_type": "execute_result"
    }
   ],
   "source": [
    "np.sctypes"
   ]
  },
  {
   "cell_type": "code",
   "execution_count": 53,
   "metadata": {
    "collapsed": false
   },
   "outputs": [
    {
     "name": "stdout",
     "output_type": "stream",
     "text": [
      "[0 4 8 0 4 8]\n"
     ]
    }
   ],
   "source": [
    "a=np.array(range(0,12,4))\n",
    "a=np.hstack((a,a))\n",
    "print(a)"
   ]
  },
  {
   "cell_type": "code",
   "execution_count": null,
   "metadata": {
    "collapsed": true
   },
   "outputs": [],
   "source": []
  }
 ],
 "metadata": {
  "kernelspec": {
   "display_name": "Python 2",
   "language": "python",
   "name": "python2"
  },
  "language_info": {
   "codemirror_mode": {
    "name": "ipython",
    "version": 2
   },
   "file_extension": ".py",
   "mimetype": "text/x-python",
   "name": "python",
   "nbconvert_exporter": "python",
   "pygments_lexer": "ipython2",
   "version": "2.7.11"
  }
 },
 "nbformat": 4,
 "nbformat_minor": 0
}
