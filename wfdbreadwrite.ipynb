{
 "cells": [
  {
   "cell_type": "code",
   "execution_count": 1,
   "metadata": {
    "collapsed": false
   },
   "outputs": [],
   "source": [
    "import numpy as np\n",
    "from wfdb import readsignal"
   ]
  },
  {
   "cell_type": "code",
   "execution_count": 2,
   "metadata": {
    "collapsed": false
   },
   "outputs": [
    {
     "name": "stdout",
     "output_type": "stream",
     "text": [
      "[[ 995 1011]\n",
      " [ 995 1011]\n",
      " [ 995 1011]\n",
      " ..., \n",
      " [1127 1106]\n",
      " [1166 1088]\n",
      " [1183 1033]]\n",
      "9999\n"
     ]
    }
   ],
   "source": [
    "# Testing rdsamp format 212\n",
    "sig, fields=readsignal.rdsamp('sampledata/100', sampto=9999)\n",
    "print(sig)\n",
    "print(len(sig))"
   ]
  },
  {
   "cell_type": "code",
   "execution_count": 3,
   "metadata": {
    "collapsed": false
   },
   "outputs": [
    {
     "name": "stdout",
     "output_type": "stream",
     "text": [
      "[[ 10  -8 -57 -66]\n",
      " [ 11  -6 -56 -66]\n",
      " [ 13  -6 -55 -67]\n",
      " ..., \n",
      " [-27 -17  13  15]\n",
      " [-27 -18  13  15]\n",
      " [-26 -18  12  16]]\n"
     ]
    }
   ],
   "source": [
    "# Testing rdsamp format 16\n",
    "sig, fields=readsignal.rdsamp('sampledata/test01_00s')\n",
    "print(sig)"
   ]
  },
  {
   "cell_type": "code",
   "execution_count": 4,
   "metadata": {
    "collapsed": false,
    "scrolled": true
   },
   "outputs": [
    {
     "name": "stdout",
     "output_type": "stream",
     "text": [
      "[[-5  0]\n",
      " [-5  0]\n",
      " [-6  0]\n",
      " ..., \n",
      " [-7  6]\n",
      " [-8  6]\n",
      " [-7  6]]\n"
     ]
    }
   ],
   "source": [
    "# Testing rdsamp format 80\n",
    "sig, fields=readsignal.rdsamp('sampledata/3000003_0003')\n",
    "print(sig)"
   ]
  },
  {
   "cell_type": "code",
   "execution_count": 5,
   "metadata": {
    "collapsed": false
   },
   "outputs": [
    {
     "data": {
      "text/plain": [
       "{'complex': [numpy.complex64, numpy.complex128, numpy.complex256],\n",
       " 'float': [numpy.float16, numpy.float32, numpy.float64, numpy.float128],\n",
       " 'int': [numpy.int8, numpy.int16, numpy.int32, numpy.int64],\n",
       " 'others': [bool, object, str, str, numpy.void],\n",
       " 'uint': [numpy.uint8, numpy.uint16, numpy.uint32, numpy.uint64]}"
      ]
     },
     "execution_count": 5,
     "metadata": {},
     "output_type": "execute_result"
    }
   ],
   "source": [
    "np.sctypes"
   ]
  },
  {
   "cell_type": "code",
   "execution_count": 26,
   "metadata": {
    "collapsed": false
   },
   "outputs": [
    {
     "name": "stdout",
     "output_type": "stream",
     "text": [
      "[0 4 8 0 4 8]\n",
      "[array([0, 4, 8, 0, 4, 8]), array([0, 4, 8, 0, 4, 8])]\n",
      "[array([0, 4, 8, 0, 4, 8]), array([0, 4, 8, 0, 4, 8]), 'hello']\n"
     ]
    }
   ],
   "source": [
    "a=np.array(range(0,12,4))\n",
    "a=np.hstack((a,a))\n",
    "print(a)\n",
    "\n",
    "listofnps=[a,a]\n",
    "print(listofnps)\n",
    "\n",
    "\n",
    "listofnps.append(\"hello\")\n",
    "print(listofnps)\n",
    "\n"
   ]
  },
  {
   "cell_type": "code",
   "execution_count": null,
   "metadata": {
    "collapsed": false
   },
   "outputs": [],
   "source": []
  },
  {
   "cell_type": "code",
   "execution_count": null,
   "metadata": {
    "collapsed": true
   },
   "outputs": [],
   "source": []
  }
 ],
 "metadata": {
  "kernelspec": {
   "display_name": "Python 3",
   "language": "python",
   "name": "python3"
  },
  "language_info": {
   "codemirror_mode": {
    "name": "ipython",
    "version": 3
   },
   "file_extension": ".py",
   "mimetype": "text/x-python",
   "name": "python",
   "nbconvert_exporter": "python",
   "pygments_lexer": "ipython3",
   "version": "3.5.1"
  }
 },
 "nbformat": 4,
 "nbformat_minor": 0
}
