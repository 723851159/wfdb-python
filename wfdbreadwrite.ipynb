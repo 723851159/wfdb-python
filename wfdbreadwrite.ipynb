{
 "cells": [
  {
   "cell_type": "code",
   "execution_count": null,
   "metadata": {
    "collapsed": false
   },
   "outputs": [],
   "source": [
    "import numpy as np\n",
    "from wfdb import readsignal"
   ]
  },
  {
   "cell_type": "code",
   "execution_count": null,
   "metadata": {
    "collapsed": false
   },
   "outputs": [],
   "source": [
    "# Testing rdsamp format 212\n",
    "sig, fields=readsignal.rdsamp('sampledata/100', sampfrom=100, sampto=9999) # Default physical values\n",
    "print(sig)\n",
    "print(len(sig))\n",
    "\n",
    "\n",
    "sig, fields=readsignal.rdsamp('sampledata/100', sampto=9999, physical=0) # Digital values\n",
    "print(sig)"
   ]
  },
  {
   "cell_type": "code",
   "execution_count": null,
   "metadata": {
    "collapsed": false
   },
   "outputs": [],
   "source": [
    "# Testing rdsamp format 16\n",
    "sig, fields=readsignal.rdsamp('sampledata/test01_00s')\n",
    "print(sig)\n",
    "print(fields)\n"
   ]
  },
  {
   "cell_type": "code",
   "execution_count": null,
   "metadata": {
    "collapsed": false,
    "scrolled": true
   },
   "outputs": [],
   "source": [
    "# Testing rdsamp format 80\n",
    "sig, fields=readsignal.rdsamp('sampledata/3000003_0003')\n",
    "print(sig)\n",
    "print(fields)\n",
    "\n"
   ]
  },
  {
   "cell_type": "code",
   "execution_count": 1,
   "metadata": {
    "collapsed": false
   },
   "outputs": [
    {
     "name": "stdout",
     "output_type": "stream",
     "text": [
      "[[-0.02359597  0.86758555  0.48220271]\n",
      " [-0.03698082  0.98298479  0.5443735 ]\n",
      " [-0.06292259  0.85979087  0.47821229]\n",
      " ..., \n",
      " [-0.04084449  0.7493346   0.5150838 ]\n",
      " [-0.04719194  0.7581749   0.50957702]\n",
      " [-0.04677798  0.7615019   0.5028731 ]]\n",
      "{'nseg': 1, 'initvalue': [-171, 9127, 6042], 'filename': ['a103l.mat', 'a103l.mat', 'a103l.mat'], 'nsamp': 82500, 'units': ['mV', 'mV', 'NU'], 'nsig': 3, 'signame': ['II', 'V', 'PLETH'], 'basedate': '', 'basetime': '', 'fs': 250.0, 'comments': ['Asystole', 'False alarm'], 'baseline': [0, 0, 0], 'gain': [7247.0, 10520.0, 12530.0], 'byteoffset': [24, 24, 24], 'fmt': ['16', '16', '16'], 'nsampseg': []}\n",
      "[[ 0.48220271 -0.02359597]\n",
      " [ 0.5443735  -0.03698082]\n",
      " [ 0.47821229 -0.06292259]\n",
      " ..., \n",
      " [ 0.5150838  -0.04084449]\n",
      " [ 0.50957702 -0.04719194]\n",
      " [ 0.5028731  -0.04677798]]\n",
      "{'nseg': 1, 'initvalue': [6042, -171], 'filename': ['a103l.mat', 'a103l.mat'], 'nsamp': 82500, 'units': ['NU', 'mV'], 'nsig': 2, 'signame': ['PLETH', 'II'], 'basedate': '', 'basetime': '', 'fs': 250.0, 'comments': ['Asystole', 'False alarm'], 'baseline': [0, 0], 'gain': [12530.0, 7247.0], 'byteoffset': [24, 24], 'fmt': ['16', '16'], 'nsampseg': []}\n"
     ]
    }
   ],
   "source": [
    "# Testing rdsamp format 16 with byte offset (actually a .mat file too)\n",
    "import numpy as np\n",
    "from wfdb import readsignal\n",
    "sig, fields=readsignal.rdsamp('sampledata/a103l') \n",
    "print(sig)\n",
    "print(fields)\n",
    "\n",
    "# With channel selection \n",
    "sig, fields=readsignal.rdsamp('sampledata/a103l', channels=[2,0]) \n",
    "print(sig)\n",
    "print(fields)"
   ]
  },
  {
   "cell_type": "code",
   "execution_count": null,
   "metadata": {
    "collapsed": false,
    "scrolled": false
   },
   "outputs": [],
   "source": [
    "# Testing rdsamp multi-segment variable layout record (from https://physionet.org/physiobank/database/mimic2wdb/matched/s00001/)\n",
    "import numpy as np\n",
    "from wfdb import readsignal\n",
    "\n",
    "# Return list of arrays\n",
    "sig, fields=readsignal.rdsamp('sampledata/multisegmentV/s00001-2896-10-10-00-31', sampfrom=3200, sampto=20000)\n",
    "#print(\"len(sig): \", len(sig))\n",
    "#print(len(fields))\n",
    "\n",
    "print(sig)\n",
    "print(\"\\n\\n\")\n",
    "print(sig[len(sig)-1])\n",
    "print(\"\\n\\n\")\n",
    "print(len(sig[len(sig)-1]))\n",
    "print(\"\\n\\n\")\n",
    "print(fields[0])\n",
    "print(\"\\n\\n\")\n",
    "print(fields[1])\n",
    "print(\"\\n\\n\")\n",
    "print(fields[2])\n"
   ]
  },
  {
   "cell_type": "code",
   "execution_count": null,
   "metadata": {
    "collapsed": false
   },
   "outputs": [],
   "source": [
    "# Testing rdsamp multi-segment variable layout record - stacksegments\n",
    "import numpy as np\n",
    "from wfdb import readsignal\n",
    "\n",
    "\n",
    "# Return single numpy array\n",
    "sig, fields=readsignal.rdsamp('sampledata/multisegmentV/s00001-2896-10-10-00-31', stacksegments=1, sampto=3500)\n",
    "print(sig)\n",
    "print(sig.shape)\n",
    "print(\"\\n\\n\")\n",
    "print(fields[0])\n",
    "print(\"\\n\\n\")\n",
    "print(fields[1])\n",
    "print(\"\\n\\n\")\n",
    "print(fields[2])"
   ]
  },
  {
   "cell_type": "code",
   "execution_count": null,
   "metadata": {
    "collapsed": false
   },
   "outputs": [],
   "source": [
    "# Testing rdsamp multi-dat signals (from https://physionet.org/physiobank/database/ptbdb/patient001/)\n",
    "import numpy as np\n",
    "from wfdb import readsignal\n",
    "\n",
    "sig, fields=readsignal.rdsamp('sampledata/s0010_re', sampto=100)\n",
    "print(sig)\n",
    "print(fields[\"signame\"])\n",
    "\n"
   ]
  },
  {
   "cell_type": "code",
   "execution_count": null,
   "metadata": {
    "collapsed": false
   },
   "outputs": [],
   "source": [
    "# Testing rdsamp multi-segment record with sampfrom and sampto\n",
    "import numpy as np\n",
    "from wfdb import readsignal\n",
    "\n",
    "# Return list of arrays\n",
    "sig, fields=readsignal.rdsamp('sampledata/multisegmentV/s00001-2896-10-10-00-31', sampfrom=10, sampto=10200)\n",
    "\n",
    "\n",
    "# Return single array\n",
    "sig, fields=readsignal.rdsamp('sampledata/multisegmentV/s00001-2896-10-10-00-31', sampfrom=10, sampto=10200, stacksegments=1)"
   ]
  },
  {
   "cell_type": "code",
   "execution_count": null,
   "metadata": {
    "collapsed": true
   },
   "outputs": [],
   "source": []
  }
 ],
 "metadata": {
  "kernelspec": {
   "display_name": "Python 3",
   "language": "python",
   "name": "python3"
  },
  "language_info": {
   "codemirror_mode": {
    "name": "ipython",
    "version": 3
   },
   "file_extension": ".py",
   "mimetype": "text/x-python",
   "name": "python",
   "nbconvert_exporter": "python",
   "pygments_lexer": "ipython3",
   "version": "3.5.1"
  }
 },
 "nbformat": 4,
 "nbformat_minor": 0
}
