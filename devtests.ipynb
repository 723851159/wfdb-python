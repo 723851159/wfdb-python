{
 "cells": [
  {
   "cell_type": "markdown",
   "metadata": {},
   "source": [
    "<h2>This script is for internal developer testing.</h2>"
   ]
  },
  {
   "cell_type": "code",
   "execution_count": null,
   "metadata": {
    "collapsed": false
   },
   "outputs": [],
   "source": [
    "import numpy as np\n",
    "from wfdb import readsignal\n",
    "# Testing rdsamp format 212\n",
    "sig, fields=readsignal.rdsamp('sampledata/100', sampfrom=100, sampto=9999) # Default physical values\n",
    "print(sig)\n",
    "print(len(sig))\n",
    "\n",
    "sig, fields=readsignal.rdsamp('sampledata/100', physical=0) # Digital values\n",
    "print(sig)"
   ]
  },
  {
   "cell_type": "code",
   "execution_count": null,
   "metadata": {
    "collapsed": false
   },
   "outputs": [],
   "source": [
    "# Testing rdsamp format 16\n",
    "sig, fields=readsignal.rdsamp('sampledata/test01_00s')\n",
    "print(sig)\n",
    "print(fields)\n"
   ]
  },
  {
   "cell_type": "code",
   "execution_count": null,
   "metadata": {
    "collapsed": false,
    "scrolled": true
   },
   "outputs": [],
   "source": [
    "# Testing rdsamp format 80\n",
    "sig, fields=readsignal.rdsamp('sampledata/3000003_0003')\n",
    "print(sig)\n",
    "print(fields)"
   ]
  },
  {
   "cell_type": "code",
   "execution_count": null,
   "metadata": {
    "collapsed": false
   },
   "outputs": [],
   "source": [
    "# Testing rdsamp format 16 with byte offset (actually a .mat file too)\n",
    "import numpy as np\n",
    "from wfdb import readsignal\n",
    "sig, fields=readsignal.rdsamp('sampledata/a103l') \n",
    "#print(sig)\n",
    "#print(sig.shape)\n",
    "#print(fields)\n",
    "\n",
    "from wfdb import plotwfdb\n",
    "\n",
    "plotwfdb.plotsigs(sig, fields)\n",
    "\n",
    "\n",
    "# With channel selection and sampfrom sampto\n",
    "#sig, fields=readsignal.rdsamp('sampledata/a103l', channels=[2,0], sampfrom=250, sampto=80000) \n",
    "#print('\\n\\n')\n",
    "#print(sig)\n",
    "#print(fields)"
   ]
  },
  {
   "cell_type": "code",
   "execution_count": null,
   "metadata": {
    "collapsed": false,
    "scrolled": false
   },
   "outputs": [],
   "source": [
    "# Testing rdsamp multi-segment variable layout record (from https://physionet.org/physiobank/database/mimic2wdb/matched/s00001/)\n",
    "import numpy as np\n",
    "from wfdb import readsignal\n",
    "\n",
    "# Return list of arrays\n",
    "sig, fields=readsignal.rdsamp('sampledata/matched/s00001/s00001-2896-10-10-00-31', sampfrom=3200, sampto=20000, stacksegments=0)\n",
    "#print(\"len(sig): \", len(sig))\n",
    "#print(len(fields))\n",
    "\n",
    "print(sig)\n",
    "print(\"\\n\\n\")\n",
    "print(sig[len(sig)-1])\n",
    "print(\"\\n\\n\")\n",
    "print(len(sig[len(sig)-1]))\n",
    "print(\"\\n\\n\")\n",
    "print(fields[0])\n",
    "print(\"\\n\\n\")\n",
    "print(fields[1])\n",
    "print(\"\\n\\n\")\n",
    "print(fields[2])"
   ]
  },
  {
   "cell_type": "code",
   "execution_count": null,
   "metadata": {
    "collapsed": false
   },
   "outputs": [],
   "source": [
    "# Testing rdsamp multi-segment variable layout record - stacksegments\n",
    "import numpy as np\n",
    "from wfdb import readsignal\n",
    "\n",
    "\n",
    "# Return single numpy array\n",
    "sig, fields=readsignal.rdsamp('sampledata/multisegmentV/s00001-2896-10-10-00-31', stacksegments=1, sampto=10000, channels=[1, 2])\n",
    "\n",
    "print(sig)\n",
    "print(sig.shape)\n",
    "print(\"\\n\\n\")\n",
    "print(fields[0])\n",
    "print(\"\\n\\n\")\n",
    "print(fields[1])\n",
    "print(\"\\n\\n\")\n",
    "print(fields[2])"
   ]
  },
  {
   "cell_type": "code",
   "execution_count": null,
   "metadata": {
    "collapsed": false
   },
   "outputs": [],
   "source": [
    "# Testing rdsamp multi-dat signals (from https://physionet.org/physiobank/database/ptbdb/patient001/)\n",
    "import numpy as np\n",
    "from wfdb import readsignal\n",
    "\n",
    "sig, fields=readsignal.rdsamp('sampledata/s0010_re', channels=[14, 0, 5, 10, 11], sampfrom=100, sampto=20000)\n",
    "from wfdb import plotwfdb\n",
    "plotwfdb.plotsigs(sig, fields)\n",
    "print(\"\\n\\n\\n\", sig, \"\\n\\n\\n\")\n",
    "print(fields)\n",
    "print(fields[\"signame\"])"
   ]
  },
  {
   "cell_type": "code",
   "execution_count": null,
   "metadata": {
    "collapsed": false
   },
   "outputs": [],
   "source": [
    "# Testing rdsamp multi-segment record with sampfrom, sampto, and channel selection\n",
    "import numpy as np\n",
    "from wfdb import readsignal\n",
    "\n",
    "# Return list of arrays\n",
    "sig, fields=readsignal.rdsamp('sampledata/multisegmentV/s00001-2896-10-10-00-31', sampfrom=10, sampto=10200, channels=[2,3], stacksegments=0)\n",
    "\n",
    "print(sig)\n",
    "# Return single array\n",
    "sig, fields=readsignal.rdsamp('sampledata/multisegmentV/s00001-2896-10-10-00-31', sampfrom=10, sampto=10200, channels=[1,0,2],stacksegments=1)\n",
    "\n",
    "print(sig)"
   ]
  },
  {
   "cell_type": "code",
   "execution_count": null,
   "metadata": {
    "collapsed": false
   },
   "outputs": [],
   "source": []
  },
  {
   "cell_type": "markdown",
   "metadata": {},
   "source": [
    "<h2>Decide comprehensive tests before adding to travis - signals</h2>\n",
    "Target files created with wfdb software package's <code>rdsamp</code>"
   ]
  },
  {
   "cell_type": "code",
   "execution_count": null,
   "metadata": {
    "collapsed": true
   },
   "outputs": [],
   "source": [
    "import numpy as np\n",
    "from wfdb import readsignal\n",
    "\n",
    "# Test 1 - Format 212/Entire signal/Physical \n",
    "# Target file created with: rdsamp -r sampledata/100 -P | cut -f 2- > target1\n",
    "sig, fields=readsignal.rdsamp('sampledata/100') \n",
    "\n",
    "# Test 2 - Format 212/Selected Duration/Selected Channel/Digital\n",
    "# Target file created with: rdsamp -r sampledata/100 -f 1 -t 30 -s 1 | cut -f 2- > target2\n",
    "sig, fields=readsignal.rdsamp('sampledata/100', sampfrom=360, sampto=10800, channels=[1], physical=0)  \n",
    "\n",
    "# Test 3 - Format 16/Entire signal/Digital\n",
    "# Target file created with: rdsamp -r sampledata/test01_00s | cut -f 2- > target3\n",
    "sig, fields=readsignal.rdsamp('sampledata/test01_00s', physical=0)\n",
    "\n",
    "# Test 4 - Format 16 with byte offset/Selected Duration/Selected Channels/Physical\n",
    "# Target file created with: rdsamp -r sampledata/a103l -f 50 -t 160 -s 2 0 -P | cut -f 2- > target4\n",
    "sig, fields=readsignal.rdsamp('sampledata/a103l', sampfrom=12500, sampto=40000, channels=[2, 0])\n",
    "\n",
    "# Test 5 - Format 16 with byte offset/Selected Duration/Selected Channels/Digital\n",
    "# Target file created with: rdsamp -r sampledata/a103l -f 80 -s 0 1 | cut -f 2- > target5\n",
    "sig, fields=readsignal.rdsamp('sampledata/a103l', sampfrom=20000, physical=0, channels=[0, 1])\n",
    "\n",
    "# Test 6 - Format 80/Selected Duration/Selected Channels/Physical\n",
    "# Target file created with: rdsamp -r sampledata/3000003_0003 -f 1 -t 8 -s 1 -P | cut -f 2- > target6\n",
    "sig, fields=readsignal.rdsamp('sampledata/3000003_0003', sampfrom=125, sampto=1000, channels=[1])\n",
    "\n",
    "# Test 7 - Multi-dat/Entire signal/Digital\n",
    "# Target file created with: rdsamp -r sampledata/s0010_re | cut -f 2- > target7\n",
    "sig, fields=readsignal.rdsamp('sampledata/s0010_re', physical=0)\n",
    "\n",
    "# Test 8 - Multi-dat/Selected Duration/Selected Channels/Physical\n",
    "# Target file created with: rdsamp -r sampledata/s0010_re -f 5 -t 38 -P -s 13 0 4 8 3 | cut -f 2- > target8\n",
    "sig, fields=readsignal.rdsamp('sampledata/s0010_re', sampfrom=5000, sampto=38000, channels=[13, 0, 4, 8, 3])"
   ]
  },
  {
   "cell_type": "markdown",
   "metadata": {},
   "source": [
    "<h2>Decide comprehensive tests before adding to travis - annotations</h2>\n",
    "Target files created with wfdb software package's <code>rdann</code>"
   ]
  },
  {
   "cell_type": "code",
   "execution_count": null,
   "metadata": {
    "collapsed": false
   },
   "outputs": [],
   "source": [
    "import numpy as np\n",
    "from wfdb import readannot\n",
    "\n",
    "# Test 1 - \n",
    "# Target file created with: rdann -r 100 -a atr > anntarget1\n",
    "annsamp, anntype, num, subtype, chan, aux, annfs=readannot.rdann('sampledata/100', 'atr')\n",
    "\n",
    "\n",
    "# Test 2\n",
    "# Target file created with: rdann -r chb01_03.edf -a seizures > anntarget2\n",
    "annsamp, anntype, num, subtype, chan, aux, annfs=readannot.rdann('sampledata/chb01_03', 'seizures')\n"
   ]
  },
  {
   "cell_type": "code",
   "execution_count": null,
   "metadata": {
    "collapsed": false
   },
   "outputs": [],
   "source": [
    "from wfdb import readannot\n",
    "annsamp, anntype, num, subtype, chan, aux, annfs=readannot.rdann('sampledata/100', 'fake2', sampfrom=17)\n",
    "print(\"annsamp: \", annsamp)\n",
    "print(\"anntype: \", anntype)\n",
    "print(\"num: \", num)\n",
    "print(\"subtype: \", subtype)\n",
    "print(\"chan: \", chan)\n",
    "print(\"aux: \", aux)\n",
    "print(\"annfs: \", annfs)\n",
    "\n",
    "\n",
    "a=aux[3]\n",
    "print(a)\n",
    "print(len(a))\n",
    "a=aux[5]\n",
    "print(a)\n",
    "print(len(a))"
   ]
  },
  {
   "cell_type": "code",
   "execution_count": null,
   "metadata": {
    "collapsed": false
   },
   "outputs": [],
   "source": [
    "from wfdb import readannot\n",
    "annsamp, anntype, num, subtype, chan, aux, annfs=readannot.rdann('sampledata/chb01_03.edf', 'seizures', sampfrom=766977, sampto=777326)\n",
    "print(\"annsamp: \", annsamp)\n",
    "print(\"anntype: \", anntype)\n",
    "print(\"num: \", num)\n",
    "print(\"subtype: \", subtype)\n",
    "print(\"chan: \", chan)\n",
    "print(\"aux: \", aux)\n",
    "print(\"annfs: \", annfs)"
   ]
  },
  {
   "cell_type": "code",
   "execution_count": null,
   "metadata": {
    "collapsed": false
   },
   "outputs": [],
   "source": [
    "from wfdb import readannot\n",
    "annsamp, anntype, num, subtype, chan, aux, annfs=readannot.rdann('sampledata/100', 'fake3', anndisp=1)\n",
    "print(\"annsamp: \", annsamp)\n",
    "print(\"anntype: \", anntype)\n",
    "print(\"num: \", num)\n",
    "print(\"subtype: \", subtype)\n",
    "print(\"chan: \", chan)\n",
    "print(\"aux: \", aux)\n",
    "print(\"annfs: \", annfs)"
   ]
  },
  {
   "cell_type": "code",
   "execution_count": null,
   "metadata": {
    "collapsed": false
   },
   "outputs": [],
   "source": [
    "import re\n",
    "import numpy as np\n",
    "from wfdb import readannot\n",
    "\n",
    "# Read data from WFDB python package\n",
    "annsamp, anntype, subtype, chan, num, aux, annfs=readannot.rdann('sampledata/100', 'atr')\n",
    "aux[0]='(N' # This is not the fault of the script. The annotation file specifies a length 3 \n",
    "# aux field with a null written after '(N' which the script correctly picks up. I am just \n",
    "# getting rid of the null in this unit test to compare with the regexp output below which has \n",
    "# no null to detect in the output text file of rdann. \n",
    "\n",
    "# Target data from WFDB software package\n",
    "lines=tuple(open('tests/targetoutputdata/anntarget1', 'r'))\n",
    "nannot=len(lines)\n",
    "\n",
    "Ttime=[None]*nannot\n",
    "Tannsamp=np.empty(nannot, dtype='object')\n",
    "Tanntype=[None]*nannot #np.chararray(nannot)\n",
    "Tnum=np.empty(nannot, dtype='object')\n",
    "Tsubtype=np.empty(nannot, dtype='object')\n",
    "Tchan=np.empty(nannot, dtype='object')\n",
    "Taux=[None]*nannot\n",
    "\n",
    "RXannot=re.compile('[ \\t]*(?P<time>[\\w\\.:]+) +(?P<annsamp>\\d+) +(?P<anntype>.) +(?P<subtype>\\d+) +(?P<chan>\\d+) +(?P<num>\\d+)\\t?(?P<aux>.*)')\n",
    "\n",
    "for i in range(0, nannot):\n",
    "    Ttime[i], Tannsamp[i], Tanntype[i], Tsubtype[i], Tchan[i], Tnum[i], Taux[i]=RXannot.findall(lines[i])[0]\n",
    "        \n",
    "# Convert objects into integers\n",
    "Tannsamp=Tannsamp.astype('int')\n",
    "Tnum=Tnum.astype('int')\n",
    "Tsubtype=Tsubtype.astype('int')\n",
    "Tchan=Tchan.astype('int')\n",
    "\n",
    "# Compare\n",
    "print(np.array_equal(annsamp, Tannsamp)) # true\n",
    "print(np.array_equal(anntype, Tanntype))  # true\n",
    "print(np.array_equal(num, Tnum)) # false\n",
    "print(np.array_equal(subtype, Tsubtype)) # false\n",
    "print(np.array_equal(chan, Tchan)) # true\n",
    "print(aux==Taux) #false\n",
    "\n"
   ]
  },
  {
   "cell_type": "code",
   "execution_count": null,
   "metadata": {
    "collapsed": false
   },
   "outputs": [],
   "source": [
    "import re\n",
    "import numpy as np\n",
    "from wfdb import readannot\n",
    "\n",
    "# Read data from WFDB python package\n",
    "annsamp, anntype, subtype, chan, num, aux, annfs=readannot.rdann('sampledata/12726', 'anI')\n",
    "\n",
    "# Target data from WFDB software package\n",
    "lines=tuple(open('tests/targetoutputdata/anntarget2', 'r'))\n",
    "nannot=len(lines)\n",
    "\n",
    "Ttime=[None]*nannot\n",
    "Tannsamp=np.empty(nannot, dtype='object')\n",
    "Tanntype=[None]*nannot \n",
    "Tsubtype=np.empty(nannot, dtype='object')\n",
    "Tchan=np.empty(nannot, dtype='object')\n",
    "Tnum=np.empty(nannot, dtype='object')\n",
    "Taux=[None]*nannot\n",
    "\n",
    "RXannot=re.compile('[ \\t]*(?P<time>[\\[\\]\\w\\.:]+) +(?P<annsamp>\\d+) +(?P<anntype>.) +(?P<subtype>\\d+) +(?P<chan>\\d+) +(?P<num>\\d+)\\t?(?P<aux>.*)')\n",
    "\n",
    "for i in range(0, nannot):\n",
    "    Ttime[i], Tannsamp[i], Tanntype[i], Tsubtype[i], Tchan[i], Tnum[i], Taux[i]=RXannot.findall(lines[i])[0]\n",
    "\n",
    "# Convert objects into integers\n",
    "Tannsamp=Tannsamp.astype('int')\n",
    "Tnum=Tnum.astype('int')\n",
    "Tsubtype=Tsubtype.astype('int')\n",
    "Tchan=Tchan.astype('int')\n",
    "\n",
    "# Compare\n",
    "comp=[np.array_equal(annsamp, Tannsamp), np.array_equal(anntype, Tanntype), np.array_equal(subtype, Tsubtype), np.array_equal(chan, Tchan), np.array_equal(num, Tnum), aux==Taux] \n",
    "\n",
    "print(comp)"
   ]
  },
  {
   "cell_type": "code",
   "execution_count": null,
   "metadata": {
    "collapsed": false
   },
   "outputs": [],
   "source": [
    "print(chan)\n",
    "print(Tchan)"
   ]
  },
  {
   "cell_type": "code",
   "execution_count": null,
   "metadata": {
    "collapsed": false
   },
   "outputs": [],
   "source": [
    "# For writing test annotation files based on first 3 annotations of 12726.anI\n",
    "\n",
    "f=open('tmp.fake', 'wb')\n",
    "\n",
    "indata= np.array([0, 236,   1,   0, 200,  84,   0,  88, 255, 251,  21, 252,  73, 110, 105, 116,\n",
    "                  105,  97, 116, 101,  32, 115, 108, 111, 119,  32, 116, 105, 108, 116,  32, 117,\n",
    "                  112,   0,   0, 236,   0,   0,  67,  50,   0,  88,  21, 252,  67, 111, 110,  99,\n",
    "108, 117, 100, 101,  32, 115, 108, 111, 119,  32, 116, 105, 108, 116,  32, 117,\n",
    "112,   0,   0, 236,   0,   0, 114, 183,   0,  88,  23, 252,  73, 110, 105, 116,\n",
    "105,  97, 116, 101,  32, 115, 108, 111, 119,  32, 116, 105, 108, 116,  32, 100,\n",
    "111, 119, 110,   0, 0 ,0 ]).astype('u1')\n",
    "\n",
    "\n",
    "print(indata)\n",
    "\n",
    "indata.tofile(f)\n",
    "\n",
    "\n",
    "f.close()\n"
   ]
  },
  {
   "cell_type": "code",
   "execution_count": null,
   "metadata": {
    "collapsed": false
   },
   "outputs": [],
   "source": [
    "import re\n",
    "import numpy as np\n",
    "from wfdb import readannot\n",
    "\n",
    "# Read data from WFDB python package\n",
    "#annsamp, anntype, subtype, chan, num, aux, annfs=readannot.rdann('tmp', 'fake')\n",
    "readannot.rdann('tmp', 'fake')"
   ]
  },
  {
   "cell_type": "code",
   "execution_count": null,
   "metadata": {
    "collapsed": false
   },
   "outputs": [],
   "source": [
    "import numpy as np\n",
    "x=['hi','2']\n",
    "\n",
    "x.index('hi')"
   ]
  },
  {
   "cell_type": "code",
   "execution_count": null,
   "metadata": {
    "collapsed": true
   },
   "outputs": [],
   "source": []
  }
 ],
 "metadata": {
  "kernelspec": {
   "display_name": "Python 3",
   "language": "python",
   "name": "python3"
  },
  "language_info": {
   "codemirror_mode": {
    "name": "ipython",
    "version": 3
   },
   "file_extension": ".py",
   "mimetype": "text/x-python",
   "name": "python",
   "nbconvert_exporter": "python",
   "pygments_lexer": "ipython3",
   "version": "3.5.1"
  }
 },
 "nbformat": 4,
 "nbformat_minor": 0
}
