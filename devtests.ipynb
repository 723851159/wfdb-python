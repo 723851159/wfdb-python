{
 "cells": [
  {
   "cell_type": "markdown",
   "metadata": {},
   "source": [
    "<h2>This script is for internal developer testing.</h2>"
   ]
  },
  {
   "cell_type": "code",
   "execution_count": 1,
   "metadata": {
    "collapsed": false
   },
   "outputs": [],
   "source": [
    "import wfdb"
   ]
  },
  {
   "cell_type": "code",
   "execution_count": 1,
   "metadata": {
    "collapsed": false
   },
   "outputs": [
    {
     "name": "stdout",
     "output_type": "stream",
     "text": [
      "[[  1.88948535e-02   5.15576324e+01  -1.04000000e-01]\n",
      " [  7.76038626e-03   5.13239875e+01  -9.30000000e-02]\n",
      " [  2.36185669e-03   5.09345794e+01  -8.20000000e-02]\n",
      " [  6.74816197e-04   5.03894081e+01  -7.15000000e-02]\n",
      " [  6.74816197e-04   4.96105919e+01  -6.10000000e-02]\n",
      " [  6.74816197e-04   4.87538941e+01  -5.05000000e-02]\n",
      " [ -3.03667289e-03   4.76635514e+01  -4.05000000e-02]\n",
      " [ -1.01222430e-03   4.64953271e+01  -3.05000000e-02]\n",
      " [ -3.03667289e-03   4.51713396e+01  -2.00000000e-02]\n",
      " [  6.74816197e-04   4.37694704e+01  -8.50000000e-03]\n",
      " [ -3.03667289e-03   4.23676012e+01   4.00000000e-03]\n",
      " [  6.74816197e-04   4.08878505e+01   1.75000000e-02]\n",
      " [ -4.72371338e-03   3.94859813e+01   3.05000000e-02]\n",
      " [ -3.03667289e-03   3.81619938e+01   4.25000000e-02]\n",
      " [ -3.03667289e-03   3.70716511e+01   5.35000000e-02]\n",
      " [ -1.01222430e-03   3.61370717e+01   6.35000000e-02]\n",
      " [ -4.72371338e-03   3.54361371e+01   7.40000000e-02]\n",
      " [ -3.03667289e-03   3.48130841e+01   8.60000000e-02]\n",
      " [ -1.58581806e-02   3.44236760e+01   9.95000000e-02]\n",
      " [ -5.29730715e-02   3.40342679e+01   1.14500000e-01]]\n",
      "\n",
      "\n",
      " (75000, 3) \n",
      "\n",
      "\n",
      "{'comments': [], 'units': ['mV', 'mmHg', 'mV'], 'signame': ['MCL1', 'ABP', 'RESP'], 'fs': 125.0}\n",
      "\n",
      "\n",
      "\n",
      "\n",
      "[[ -2.69926479e-02   3.06853583e+01   4.16500000e-01]\n",
      " [  9.44742676e-03   3.07632399e+01   4.08500000e-01]\n",
      " [  3.00293208e-02   3.08411215e+01   4.01500000e-01]\n",
      " [  3.74522989e-02   3.09190031e+01   3.95000000e-01]\n",
      " [  4.65623176e-02   3.09190031e+01   3.88000000e-01]\n",
      " [  5.02738067e-02   3.09190031e+01   3.79000000e-01]\n",
      " [  5.02738067e-02   3.08411215e+01   3.68500000e-01]\n",
      " [  5.60097443e-02   3.07632399e+01   3.56500000e-01]\n",
      " [  5.39852958e-02   3.07632399e+01   3.44500000e-01]\n",
      " [  4.65623176e-02   3.06853583e+01   3.33500000e-01]\n",
      " [  4.28508285e-02   3.05295950e+01   3.24000000e-01]\n",
      " [  4.28508285e-02   3.03738318e+01   3.15500000e-01]\n",
      " [  4.48752771e-02   3.02180685e+01   3.06500000e-01]\n",
      " [  4.85867662e-02   2.99844237e+01   2.97000000e-01]\n",
      " [  6.14082739e-02   2.98286604e+01   2.86500000e-01]\n",
      " [  7.99657193e-02   2.95950156e+01   2.75000000e-01]\n",
      " [  9.31246352e-02   2.95171340e+01              nan]\n",
      " [  1.03921694e-01   2.94392523e+01              nan]\n",
      " [  1.18767651e-01   2.95171340e+01              nan]\n",
      " [  1.33613607e-01   2.99065421e+01              nan]]\n"
     ]
    }
   ],
   "source": [
    "import wfdb\n",
    "# Testing rdsamp multiple samples per frame (and fmt 12)\n",
    "sig, fields=wfdb.srdsamp('sampledata/03700181')\n",
    "print(sig[:20,:])\n",
    "print(\"\\n\\n\", sig.shape, \"\\n\\n\")\n",
    "print(fields)\n",
    "\n",
    "print(\"\\n\\n\\n\")\n",
    "print(sig[-20:,:])"
   ]
  },
  {
   "cell_type": "code",
   "execution_count": 2,
   "metadata": {
    "collapsed": false,
    "scrolled": true
   },
   "outputs": [
    {
     "name": "stdout",
     "output_type": "stream",
     "text": [
      "[[-0.17241379  0.        ]\n",
      " [-0.17241379  0.        ]\n",
      " [-0.20689655  0.        ]\n",
      " ..., \n",
      " [-0.24137931  0.25      ]\n",
      " [-0.27586207  0.25      ]\n",
      " [-0.24137931  0.25      ]]\n",
      "{'comments': [], 'units': ['mV', 'mV'], 'signame': ['II', 'V'], 'fs': 125.0}\n"
     ]
    }
   ],
   "source": [
    "# Testing rdsamp format 80\n",
    "sig, fields=wfdb.srdsamp('sampledata/3000003_0003')\n",
    "print(sig)\n",
    "print(fields)"
   ]
  },
  {
   "cell_type": "code",
   "execution_count": null,
   "metadata": {
    "collapsed": false
   },
   "outputs": [],
   "source": [
    "# Testing rdsamp format 16 with byte offset (actually a .mat file too)\n",
    "sig, fields=wfdb.srdsamp('sampledata/a103l') \n",
    "#print(sig)\n",
    "#print(sig.shape)\n",
    "#print(fields)\n",
    "\n",
    "from wfdb import plotwfdb\n",
    "\n",
    "plotwfdb.plotsigs(sig, fields)\n",
    "\n",
    "\n",
    "# With channel selection and sampfrom sampto\n",
    "#sig, fields=readsignal.rdsamp('sampledata/a103l', channels=[2,0], sampfrom=250, sampto=80000) \n",
    "#print('\\n\\n')\n",
    "#print(sig)\n",
    "#print(fields)"
   ]
  },
  {
   "cell_type": "code",
   "execution_count": null,
   "metadata": {
    "collapsed": false
   },
   "outputs": [],
   "source": []
  },
  {
   "cell_type": "code",
   "execution_count": null,
   "metadata": {
    "collapsed": false
   },
   "outputs": [],
   "source": [
    "# For writing test annotation files based on first 3 annotations of 12726.anI\n",
    "\n",
    "f=open('tmp.fake', 'wb')\n",
    "\n",
    "indata= np.array([0, 236,   1,   0, 200,  84,   0,  88, 255, 251,  21, 252,  73, 110, 105, 116,\n",
    "                  105,  97, 116, 101,  32, 115, 108, 111, 119,  32, 116, 105, 108, 116,  32, 117,\n",
    "                  112,   0,   0, 236,   0,   0,  67,  50,   0,  88,  21, 252,  67, 111, 110,  99,\n",
    "108, 117, 100, 101,  32, 115, 108, 111, 119,  32, 116, 105, 108, 116,  32, 117,\n",
    "112,   0,   0, 236,   0,   0, 114, 183,   0,  88,  23, 252,  73, 110, 105, 116,\n",
    "105,  97, 116, 101,  32, 115, 108, 111, 119,  32, 116, 105, 108, 116,  32, 100,\n",
    "111, 119, 110,   0, 0 ,0 ]).astype('u1')\n",
    "\n",
    "\n",
    "print(indata)\n",
    "\n",
    "indata.tofile(f)\n",
    "\n",
    "\n",
    "f.close()\n"
   ]
  },
  {
   "cell_type": "code",
   "execution_count": null,
   "metadata": {
    "collapsed": false
   },
   "outputs": [],
   "source": [
    "# Trying to fix byte pointer for reading skewed signals. \n",
    "\n",
    "from wfdb import readsignal\n",
    "import numpy as np\n",
    "#sig, fields=readsignal.rdsamp('sampledata/03700181', channels=[0,2], sampfrom=1000, sampto=16000)\n",
    "#sig=np.round(sig, decimals=8)\n",
    "#targetsig=np.genfromtxt('tests/targetoutputdata/target10')\n",
    "\n",
    "sig, fields=readsignal.rdsamp('sampledata/03700181', sampfrom=1000, sampto=16000, physical=0) # fs=125. -f 8 -t 128\n",
    "\n",
    "print(\"\\nsig: \", sig)\n",
    "print('\\n\\n')\n",
    "print(\"End of sig: \", sig[-10:,:])\n",
    "\n",
    "\n",
    "# nbytesread = 15000 frames * 6 samples/frame * 1.5 bytes/sample = 135000\n",
    "\n",
    "# Try to octal dump the right section of the file. After 16000 frames x (6 samples/frame)  = 96000 samples * (1.5 bytes per sample)\n",
    "# = 144000 bytes skip. \n",
    "\n",
    "\n",
    "\n",
    "# od -t u1 03700181.dat -j 144000 -N 30 \n",
    "\n",
    "# Result: \n",
    "# 236 255 236   2 240 236 163  27  61 236 255 236 236  15   2 147\n",
    "#  27  40 236 255 236 236 255 236 130  27  19   2 240 236\n",
    "\n",
    "\n"
   ]
  },
  {
   "cell_type": "code",
   "execution_count": null,
   "metadata": {
    "collapsed": false
   },
   "outputs": [],
   "source": [
    "import wfdb\n",
    "ann = wfdb.rdann('/home/chen/Downloads/chb01_03.edf','seizures')"
   ]
  },
  {
   "cell_type": "code",
   "execution_count": null,
   "metadata": {
    "collapsed": false
   },
   "outputs": [],
   "source": [
    "ann.__dict__"
   ]
  },
  {
   "cell_type": "code",
   "execution_count": null,
   "metadata": {
    "collapsed": false
   },
   "outputs": [],
   "source": [
    "# Testing wrann\n",
    "import wfdb\n",
    "from IPython.display import display\n",
    "\n",
    "annsamp = [20, 40, 60, 80, 100, 800, 1200 , 3000, 3001, 8000, 100000]\n",
    "#annsamp = [20, 40, 60, 80, 100, 800, 1200]\n",
    "#annsamp = [20, 60, 2**31] # 2**31+100 is too large\n",
    "\n",
    "nsamp = len(annsamp)\n",
    "\n",
    "anntype = ['N', 'N', 'N', '3', 'N', '2', 'N', '1', 'N', 'N', 'g']\n",
    "sub = [1,0,0,0,5,3,2,5,0,0,0]\n",
    "chan = [2,2,3,2,9,2,2,2,2,2,2]\n",
    "num = [1,2,3,4,5,3,2,5,11,22,22]\n",
    "aux = [None, None, \"good\", \"good\", \"good\", \"good\", \"good\", \"good\", None, None, None]\n",
    "fs = 100\n",
    "fs = None\n",
    "\n",
    "a = wfdb.Annotation(recordname = 'firstann', annotator = 'atr', \n",
    "                    annsamp = annsamp, anntype = anntype, aux = aux, \n",
    "                    subtype = sub, chan = chan, num = num, fs = fs)\n",
    "a.type2aux()\n",
    "display(a.__dict__)\n",
    "a.wrann()\n",
    "\n",
    "b = wfdb.rdann('firstann', 'atr')\n",
    "b.__dict__\n",
    "\n",
    "\n",
    "# print([sd & 255, sd & 768, (sd & 768) >> 8])"
   ]
  },
  {
   "cell_type": "code",
   "execution_count": null,
   "metadata": {
    "collapsed": true
   },
   "outputs": [],
   "source": []
  },
  {
   "cell_type": "code",
   "execution_count": 4,
   "metadata": {
    "collapsed": false
   },
   "outputs": [
    {
     "data": {
      "text/plain": [
       "<Response [200]>"
      ]
     },
     "execution_count": 4,
     "metadata": {},
     "output_type": "execute_result"
    }
   ],
   "source": [
    "import requests\n",
    "from IPython.display import display\n",
    "url = 'http://physionet.org/physiobank/database/mitdb/100.hea'\n",
    "r = requests.get(url)\n",
    "r"
   ]
  },
  {
   "cell_type": "code",
   "execution_count": 5,
   "metadata": {
    "collapsed": false
   },
   "outputs": [
    {
     "data": {
      "text/plain": [
       "['__attrs__',\n",
       " '__bool__',\n",
       " '__class__',\n",
       " '__delattr__',\n",
       " '__dict__',\n",
       " '__dir__',\n",
       " '__doc__',\n",
       " '__eq__',\n",
       " '__format__',\n",
       " '__ge__',\n",
       " '__getattribute__',\n",
       " '__getstate__',\n",
       " '__gt__',\n",
       " '__hash__',\n",
       " '__init__',\n",
       " '__iter__',\n",
       " '__le__',\n",
       " '__lt__',\n",
       " '__module__',\n",
       " '__ne__',\n",
       " '__new__',\n",
       " '__nonzero__',\n",
       " '__reduce__',\n",
       " '__reduce_ex__',\n",
       " '__repr__',\n",
       " '__setattr__',\n",
       " '__setstate__',\n",
       " '__sizeof__',\n",
       " '__str__',\n",
       " '__subclasshook__',\n",
       " '__weakref__',\n",
       " '_content',\n",
       " '_content_consumed',\n",
       " 'apparent_encoding',\n",
       " 'close',\n",
       " 'connection',\n",
       " 'content',\n",
       " 'cookies',\n",
       " 'elapsed',\n",
       " 'encoding',\n",
       " 'headers',\n",
       " 'history',\n",
       " 'is_permanent_redirect',\n",
       " 'is_redirect',\n",
       " 'iter_content',\n",
       " 'iter_lines',\n",
       " 'json',\n",
       " 'links',\n",
       " 'ok',\n",
       " 'raise_for_status',\n",
       " 'raw',\n",
       " 'reason',\n",
       " 'request',\n",
       " 'status_code',\n",
       " 'text',\n",
       " 'url']"
      ]
     },
     "execution_count": 5,
     "metadata": {},
     "output_type": "execute_result"
    }
   ],
   "source": [
    "dir(r)"
   ]
  },
  {
   "cell_type": "code",
   "execution_count": 9,
   "metadata": {
    "collapsed": false
   },
   "outputs": [
    {
     "data": {
      "text/plain": [
       "'http://physionet.org/physiobank/database/mitdb/100.hea'"
      ]
     },
     "metadata": {},
     "output_type": "display_data"
    },
    {
     "data": {
      "text/plain": [
       "<requests.packages.urllib3.response.HTTPResponse at 0x7f93ee6a5198>"
      ]
     },
     "metadata": {},
     "output_type": "display_data"
    },
    {
     "data": {
      "text/plain": [
       "b'100 2 360 650000\\r\\n100.dat 212 200 11 1024 995 -22131 0 MLII\\r\\n100.dat 212 200 11 1024 1011 20052 0 V5\\r\\n# 69 M 1085 1629 x1\\r\\n# Aldomet, Inderal\\r\\n'"
      ]
     },
     "metadata": {},
     "output_type": "display_data"
    },
    {
     "data": {
      "text/plain": [
       "{'Server': 'Apache/2.2.22 (Debian) mod_auth_tkt/2.1.0 mod_auth_pgsql/2.0.3 mod_ssl/2.2.22 OpenSSL/1.0.1t', 'Keep-Alive': 'timeout=5, max=100', 'Last-Modified': 'Thu, 30 Jul 1992 05:36:18 GMT', 'ETag': '\"2b58628b-8f-287fdea221880\"', 'Connection': 'Keep-Alive', 'Date': 'Fri, 17 Mar 2017 19:44:43 GMT', 'Accept-Ranges': 'bytes', 'Content-Length': '143'}"
      ]
     },
     "metadata": {},
     "output_type": "display_data"
    },
    {
     "data": {
      "text/plain": [
       "bytes"
      ]
     },
     "metadata": {},
     "output_type": "display_data"
    }
   ],
   "source": [
    "display(r.url)\n",
    "display(r.raw)\n",
    "display(r.content)\n",
    "display(r.headers)\n",
    "display(type(r.content))"
   ]
  },
  {
   "cell_type": "code",
   "execution_count": 15,
   "metadata": {
    "collapsed": false
   },
   "outputs": [
    {
     "data": {
      "text/plain": [
       "'100 2 360 650000\\r\\n100.dat 212 200 11 1024 995 -22131 0 MLII\\r\\n100.dat 212 200 11 1024 1011 20052 0 V5\\r\\n# 69 M 1085 1629 x1\\r\\n# Aldomet, Inderal\\r\\n'"
      ]
     },
     "execution_count": 15,
     "metadata": {},
     "output_type": "execute_result"
    }
   ],
   "source": [
    "a = r.content.decode(\"ascii\") \n",
    "a"
   ]
  },
  {
   "cell_type": "code",
   "execution_count": 21,
   "metadata": {
    "collapsed": false
   },
   "outputs": [
    {
     "name": "stdout",
     "output_type": "stream",
     "text": [
      "['100 2 360 650000', '100.dat 212 200 11 1024 995 -22131 0 MLII', '100.dat 212 200 11 1024 1011 20052 0 V5']\n",
      "['# 69 M 1085 1629 x1', '# Aldomet, Inderal']\n"
     ]
    }
   ],
   "source": [
    "import os\n",
    "import requests\n",
    "\n",
    "def streamheader(recordname, pbdir):\n",
    "\n",
    "    # Full url of header location\n",
    "    url = 'http://physionet.org/physiobank/database/'+os.path.join(pbdir, recordname+'.hea')\n",
    "    r = requests.get(url)\n",
    "    \n",
    "    # Raise HTTPError if invalid url\n",
    "    r.raise_for_status()\n",
    "        \n",
    "    # Get each line as a string\n",
    "    filelines = r.content.decode('ascii').splitlines()\n",
    "    \n",
    "    # Separate content into header and comment lines\n",
    "    headerlines = []\n",
    "    commentlines = []\n",
    "    \n",
    "    for line in filelines:\n",
    "        line = line.strip()\n",
    "        # Comment line\n",
    "        if line.startswith('#'):  \n",
    "            commentlines.append(line)\n",
    "        # Non-empty non-comment line = header line.\n",
    "        elif line:  \n",
    "            # Look for a comment in the line\n",
    "            ci = line.find('#')\n",
    "            if ci > 0:\n",
    "                headerlines.append(line[:ci])\n",
    "                # comment on same line as header line\n",
    "                commentlines.append(line[ci:])\n",
    "            else:\n",
    "                headerlines.append(line)\n",
    "    \n",
    "    return (headerlines, commentlines) \n",
    "\n",
    "#streamheader('3045253', 'mimic2wdb/30/3045253')\n",
    "a, b = streamheader('100', 'mitdb')\n",
    "\n",
    "print(a)\n",
    "\n",
    "print(b)\n"
   ]
  },
  {
   "cell_type": "code",
   "execution_count": 23,
   "metadata": {
    "collapsed": false
   },
   "outputs": [
    {
     "data": {
      "text/plain": [
       "<Response [404]>"
      ]
     },
     "execution_count": 23,
     "metadata": {},
     "output_type": "execute_result"
    }
   ],
   "source": [
    "request"
   ]
  },
  {
   "cell_type": "code",
   "execution_count": 28,
   "metadata": {
    "collapsed": false
   },
   "outputs": [
    {
     "data": {
      "text/plain": [
       "requests.exceptions.HTTPError"
      ]
     },
     "execution_count": 28,
     "metadata": {},
     "output_type": "execute_result"
    }
   ],
   "source": [
    "requests.HTTPError"
   ]
  },
  {
   "cell_type": "code",
   "execution_count": 93,
   "metadata": {
    "collapsed": false
   },
   "outputs": [
    {
     "name": "stdout",
     "output_type": "stream",
     "text": [
      "http://physionet.org/physiobank/database/mitdb/100.dat\n",
      "{'Accept-Encoding': '*/*', 'Range': 'bytes=0-9'}\n",
      "206\n",
      "{'Server': 'Apache/2.2.22 (Debian) mod_auth_tkt/2.1.0 mod_auth_pgsql/2.0.3 mod_ssl/2.2.22 OpenSSL/1.0.1t', 'Date': 'Mon, 20 Mar 2017 20:58:50 GMT', 'Last-Modified': 'Thu, 30 Jul 1992 05:36:18 GMT', 'Content-Range': 'bytes 0-9/1950000', 'Accept-Ranges': 'bytes', 'Vary': 'Accept-Encoding', 'Keep-Alive': 'timeout=5, max=100', 'Content-Type': 'application/octet-stream', 'Connection': 'Keep-Alive', 'Content-Length': '10', 'ETag': '\"2b58628a-1dc130-287fdea221880\"'}\n",
      "{'Accept': '*/*', 'User-Agent': 'python-requests/2.12.4', 'Connection': 'keep-alive', 'Range': 'bytes=0-9', 'Accept-Encoding': '*/*'}\n",
      "10\n"
     ]
    }
   ],
   "source": [
    "r = streamdat('100.dat', 'mitdb', '212', 9, 0)\n",
    "\n",
    "print(r.status_code)\n",
    "\n",
    "# Header the server sent\n",
    "print(r.headers)\n",
    "\n",
    "# Header we sent\n",
    "print(r.request.headers)\n",
    "\n",
    "print(len(r.content))"
   ]
  },
  {
   "cell_type": "code",
   "execution_count": 1,
   "metadata": {
    "collapsed": false
   },
   "outputs": [],
   "source": [
    "import wfdb"
   ]
  },
  {
   "cell_type": "code",
   "execution_count": null,
   "metadata": {
    "collapsed": true
   },
   "outputs": [],
   "source": []
  }
 ],
 "metadata": {
  "kernelspec": {
   "display_name": "Python 3",
   "language": "python",
   "name": "python3"
  },
  "language_info": {
   "codemirror_mode": {
    "name": "ipython",
    "version": 3
   },
   "file_extension": ".py",
   "mimetype": "text/x-python",
   "name": "python",
   "nbconvert_exporter": "python",
   "pygments_lexer": "ipython3",
   "version": "3.5.2"
  }
 },
 "nbformat": 4,
 "nbformat_minor": 0
}
