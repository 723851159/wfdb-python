{
 "cells": [
  {
   "cell_type": "markdown",
   "metadata": {},
   "source": [
    "<h2>This script is for internal developer testing.</h2>"
   ]
  },
  {
   "cell_type": "code",
   "execution_count": null,
   "metadata": {
    "collapsed": false
   },
   "outputs": [],
   "source": [
    "import numpy as np\n",
    "from wfdb import readsignal\n",
    "# Testing rdsamp format 212\n",
    "sig, fields=readsignal.rdsamp('sampledata/100', sampfrom=100, sampto=9999) # Default physical values\n",
    "print(sig)\n",
    "print(len(sig))\n",
    "\n",
    "sig, fields=readsignal.rdsamp('sampledata/100', physical=0) # Digital values\n",
    "print(sig)"
   ]
  },
  {
   "cell_type": "code",
   "execution_count": null,
   "metadata": {
    "collapsed": false
   },
   "outputs": [],
   "source": [
    "# Testing rdsamp format 16\n",
    "sig, fields=readsignal.rdsamp('sampledata/test01_00s')\n",
    "print(sig)\n",
    "print(fields)\n"
   ]
  },
  {
   "cell_type": "code",
   "execution_count": null,
   "metadata": {
    "collapsed": false,
    "scrolled": true
   },
   "outputs": [],
   "source": [
    "# Testing rdsamp format 80\n",
    "sig, fields=readsignal.rdsamp('sampledata/3000003_0003')\n",
    "print(sig)\n",
    "print(fields)"
   ]
  },
  {
   "cell_type": "code",
   "execution_count": null,
   "metadata": {
    "collapsed": false
   },
   "outputs": [],
   "source": [
    "# Testing rdsamp format 16 with byte offset (actually a .mat file too)\n",
    "import numpy as np\n",
    "from wfdb import readsignal\n",
    "sig, fields=readsignal.rdsamp('sampledata/a103l') \n",
    "#print(sig)\n",
    "#print(sig.shape)\n",
    "#print(fields)\n",
    "\n",
    "from wfdb import plotwfdb\n",
    "\n",
    "plotwfdb.plotsigs(sig, fields)\n",
    "\n",
    "\n",
    "# With channel selection and sampfrom sampto\n",
    "#sig, fields=readsignal.rdsamp('sampledata/a103l', channels=[2,0], sampfrom=250, sampto=80000) \n",
    "#print('\\n\\n')\n",
    "#print(sig)\n",
    "#print(fields)"
   ]
  },
  {
   "cell_type": "code",
   "execution_count": null,
   "metadata": {
    "collapsed": false,
    "scrolled": false
   },
   "outputs": [],
   "source": [
    "# Testing rdsamp multi-segment variable layout record (from https://physionet.org/physiobank/database/mimic2wdb/matched/s00001/)\n",
    "import numpy as np\n",
    "from wfdb import readsignal\n",
    "\n",
    "# Return list of arrays\n",
    "sig, fields=readsignal.rdsamp('sampledata/multisegmentV/s00001-2896-10-10-00-31', sampfrom=3200, sampto=20000, stacksegments=0)\n",
    "#print(\"len(sig): \", len(sig))\n",
    "#print(len(fields))\n",
    "\n",
    "print(sig)\n",
    "print(\"\\n\\n\")\n",
    "print(sig[len(sig)-1])\n",
    "print(\"\\n\\n\")\n",
    "print(len(sig[len(sig)-1]))\n",
    "print(\"\\n\\n\")\n",
    "print(fields[0])\n",
    "print(\"\\n\\n\")\n",
    "print(fields[1])\n",
    "print(\"\\n\\n\")\n",
    "print(fields[2])"
   ]
  },
  {
   "cell_type": "code",
   "execution_count": null,
   "metadata": {
    "collapsed": false
   },
   "outputs": [],
   "source": [
    "# Testing rdsamp multi-segment variable layout record - stacksegments\n",
    "import numpy as np\n",
    "from wfdb import readsignal\n",
    "\n",
    "\n",
    "# Return single numpy array\n",
    "sig, fields=readsignal.rdsamp('sampledata/multisegmentV/s00001-2896-10-10-00-31', stacksegments=1, sampto=10000, channels=[1, 2])\n",
    "\n",
    "print(sig)\n",
    "print(sig.shape)\n",
    "print(\"\\n\\n\")\n",
    "print(fields[0])\n",
    "print(\"\\n\\n\")\n",
    "print(fields[1])\n",
    "print(\"\\n\\n\")\n",
    "print(fields[2])"
   ]
  },
  {
   "cell_type": "code",
   "execution_count": null,
   "metadata": {
    "collapsed": false
   },
   "outputs": [],
   "source": [
    "# Testing rdsamp multi-dat signals (from https://physionet.org/physiobank/database/ptbdb/patient001/)\n",
    "import numpy as np\n",
    "from wfdb import readsignal\n",
    "\n",
    "sig, fields=readsignal.rdsamp('sampledata/s0010_re', channels=[14, 0, 5, 10, 11], sampfrom=100, sampto=20000)\n",
    "from wfdb import plotwfdb\n",
    "plotwfdb.plotsigs(sig, fields)\n",
    "print(\"\\n\\n\\n\", sig, \"\\n\\n\\n\")\n",
    "print(fields)\n",
    "print(fields[\"signame\"])"
   ]
  },
  {
   "cell_type": "code",
   "execution_count": null,
   "metadata": {
    "collapsed": false
   },
   "outputs": [],
   "source": [
    "# Testing rdsamp multi-segment record with sampfrom, sampto, and channel selection\n",
    "import numpy as np\n",
    "from wfdb import readsignal\n",
    "\n",
    "# Return list of arrays\n",
    "sig, fields=readsignal.rdsamp('sampledata/multisegmentV/s00001-2896-10-10-00-31', sampfrom=10, sampto=10200, channels=[2,3], stacksegments=0)\n",
    "\n",
    "print(sig)\n",
    "# Return single array\n",
    "sig, fields=readsignal.rdsamp('sampledata/multisegmentV/s00001-2896-10-10-00-31', sampfrom=10, sampto=10200, channels=[1,0,2],stacksegments=1)\n",
    "\n",
    "print(sig)"
   ]
  },
  {
   "cell_type": "code",
   "execution_count": null,
   "metadata": {
    "collapsed": false
   },
   "outputs": [],
   "source": []
  },
  {
   "cell_type": "markdown",
   "metadata": {},
   "source": [
    "<h2>Decide comprehensive tests before adding to travis</h2>\n",
    "Target files created with wfdb software package's <code>rdsamp</code>"
   ]
  },
  {
   "cell_type": "code",
   "execution_count": null,
   "metadata": {
    "collapsed": true
   },
   "outputs": [],
   "source": [
    "import numpy as np\n",
    "from wfdb import readsignal\n",
    "\n",
    "# Test 1 - Format 212/Entire signal/Physical \n",
    "# Target file created with: rdsamp -r sampledata/100 -P | cut -f 2- > target1\n",
    "sig, fields=readsignal.rdsamp('sampledata/100') \n",
    "\n",
    "# Test 2 - Format 212/Selected Duration/Selected Channel/Digital\n",
    "# Target file created with: rdsamp -r sampledata/100 -f 1 -t 30 -s 1 | cut -f 2- > target2\n",
    "sig, fields=readsignal.rdsamp('sampledata/100', sampfrom=360, sampto=10800, channels=[1], physical=0)  \n",
    "\n",
    "# Test 3 - Format 16/Entire signal/Digital\n",
    "# Target file created with: rdsamp -r sampledata/test01_00s | cut -f 2- > target3\n",
    "sig, fields=readsignal.rdsamp('sampledata/test01_00s', physical=0)\n",
    "\n",
    "# Test 4 - Format 16 with byte offset/Selected Duration/Selected Channels/Physical\n",
    "# Target file created with: rdsamp -r sampledata/a103l -f 50 -t 160 -s 2 0 -P | cut -f 2- > target4\n",
    "sig, fields=readsignal.rdsamp('sampledata/a103l', sampfrom=12500, sampto=40000, channels=[2, 0])\n",
    "\n",
    "# Test 5 - Format 16 with byte offset/Selected Duration/Selected Channels/Digital\n",
    "# Target file created with: rdsamp -r sampledata/a103l -f 80 -s 0 1 | cut -f 2- > target5\n",
    "sig, fields=readsignal.rdsamp('sampledata/a103l', sampfrom=20000, physical=0, channels=[0, 1])\n",
    "\n",
    "# Test 6 - Format 80/Selected Duration/Selected Channels/Physical\n",
    "# Target file created with: rdsamp -r sampledata/3000003_0003 -f 1 -t 8 -s 1 -P | cut -f 2- > target6\n",
    "sig, fields=readsignal.rdsamp('sampledata/3000003_0003', sampfrom=125, sampto=1000, channels=[1])\n",
    "\n",
    "# Test 7 - Multi-dat/Entire signal/Digital\n",
    "# Target file created with: rdsamp -r sampledata/s0010_re | cut -f 2- > target7\n",
    "sig, fields=readsignal.rdsamp('sampledata/s0010_re', physical=0)\n",
    "\n",
    "# Test 8 - Multi-dat/Selected Duration/Selected Channels/Physical\n",
    "# Target file created with: rdsamp -r sampledata/s0010_re -f 5 -t 38 -P -s 13 0 4 8 3 | cut -f 2- > target8\n",
    "sig, fields=readsignal.rdsamp('sampledata/s0010_re', sampfrom=5000, sampto=38000, channels=[13, 0, 4, 8, 3])"
   ]
  },
  {
   "cell_type": "code",
   "execution_count": null,
   "metadata": {
    "collapsed": false
   },
   "outputs": [],
   "source": [
    "import numpy as np\n",
    "from wfdb import readannot\n",
    "\n",
    "readannot.rdann('sampledata/100', 'atr')"
   ]
  },
  {
   "cell_type": "code",
   "execution_count": null,
   "metadata": {
    "collapsed": false
   },
   "outputs": [],
   "source": [
    "f=open('sampledata/100.atr', 'rb')\n",
    "filebytes=np.fromfile(f, '<u1').reshape([-1, 2])\n",
    "    \n",
    "print(filebytes)\n",
    "print(filebytes.dtype)\n",
    "\n",
    "a=filebytes[0,0]\n",
    "print(a)\n",
    "print(a >> 2)"
   ]
  },
  {
   "cell_type": "code",
   "execution_count": null,
   "metadata": {
    "collapsed": false
   },
   "outputs": [],
   "source": [
    "f=open('sampledata/chb01_03.edf.seizures', 'rb')\n",
    "byte=np.fromfile(f, '<u1')\n",
    "print(byte)\n",
    "print(type(byte))\n",
    "#print(int(byte))\n",
    "\n",
    "byte=byte.reshape([-1,2])\n",
    "#print(byte)\n",
    "byte=byte.flatten()\n",
    "print(len(byte))\n",
    "print(byte)\n",
    "\n",
    "\n",
    "stringbyte=\"\".join([chr(char) for char in byte])\n",
    "\n",
    "\n",
    "print(type(stringbyte))\n",
    "print(stringbyte)\n",
    "print(len(stringbyte))"
   ]
  },
  {
   "cell_type": "code",
   "execution_count": null,
   "metadata": {
    "collapsed": true
   },
   "outputs": [],
   "source": [
    "x=[[  0  88] 0\n",
    " [ 23 252]1 \n",
    " [ 35  35]2\n",
    " [ 32 116]3\n",
    " [105 109]4\n",
    " [101  32]5\n",
    " [114 101]6\n",
    " [115 111]7\n",
    " [108 117]8\n",
    " [116 105]9\n",
    " [111 110]10\n",
    " [ 58  32]11\n",
    " [ 51  54]12\n",
    " [ 48   0]13\n",
    " [  0 236]14\n",
    " [255 255]15\n",
    " [255 255]16\n",
    " [  1   0]17\n",
    " [ 18 112]18\n",
    " [ 59   4]19\n",
    " [  0 236]20\n",
    " [  0   0]21\n",
    " [ 16  39]22\n",
    " [  0   4]23\n",
    " [  0 236]24\n",
    " [  0   0]25\n",
    " [ 16  39]26\n",
    " [  0   4]27\n",
    " [  4 252]28\n",
    " [ 75  75]29\n",
    " [ 75  75]30\n",
    " [100   4]31\n",
    " [  4 252]32\n",
    " [ 65  65]33\n",
    " [ 65   9]34\n",
    " [100   4]35\n",
    " [  3 252]36\n",
    " [ 66  67]37\n",
    " [ 69   0]38\n",
    " [  0   0]]39\n",
    "\n"
   ]
  },
  {
   "cell_type": "code",
   "execution_count": 1,
   "metadata": {
    "collapsed": false
   },
   "outputs": [
    {
     "name": "stdout",
     "output_type": "stream",
     "text": [
      "\n",
      "\n",
      "filebytes:  [[  0  88]\n",
      " [ 23 252]\n",
      " [ 35  35]\n",
      " [ 32 116]\n",
      " [105 109]\n",
      " [101  32]\n",
      " [114 101]\n",
      " [115 111]\n",
      " [108 117]\n",
      " [116 105]\n",
      " [111 110]\n",
      " [ 58  32]\n",
      " [ 51  54]\n",
      " [ 48   0]\n",
      " [  0 236]\n",
      " [255 255]\n",
      " [255 255]\n",
      " [  1   0]\n",
      " [ 18 112]\n",
      " [ 59   4]\n",
      " [  0 236]\n",
      " [  0   0]\n",
      " [ 16  39]\n",
      " [  0   4]\n",
      " [  0 236]\n",
      " [  0   0]\n",
      " [ 16  39]\n",
      " [  0   4]\n",
      " [  4 252]\n",
      " [ 75  75]\n",
      " [ 75  75]\n",
      " [100   4]\n",
      " [  4 252]\n",
      " [ 65  65]\n",
      " [ 65   9]\n",
      " [100   4]\n",
      " [  3 252]\n",
      " [ 66  67]\n",
      " [ 69   0]\n",
      " [  0   0]] \n",
      "\n",
      "\n",
      "\n",
      "\n",
      "filebytes.shape: (40, 2)\n",
      "bpi start:  18.0\n",
      "filebytes[bpi,0]:  18\n",
      "filebytes[bpi,1]:  112\n",
      "ai:  0\n",
      "AT:  28\n",
      "Assigned an annsamp:  18.0\n",
      "bpi is now:  19.0\n",
      "ai:  1\n",
      "AT:  1\n",
      "Assigned an annsamp:  77.0\n",
      "bpi is now:  20.0\n",
      "ai:  2\n",
      "AT:  59\n",
      "Assigned an annsamp (after skip):  10077.0\n",
      "bpi is now:  24.0\n",
      "ai:  3\n",
      "AT:  59\n",
      "Assigned an annsamp (after skip):  20077.0\n",
      "bpi is now:  28.0\n",
      "bpi just before adding after aux:  28.0\n",
      "Assigned an aux:  KKKK\n",
      "bpi is now:  31.0\n",
      "bpi:  31.0\n",
      "ai:  4\n",
      "AT:  1\n",
      "Assigned an annsamp:  20177.0\n",
      "bpi is now:  32.0\n",
      "bpi just before adding after aux:  32.0\n",
      "Assigned an aux:  AAA\t\n",
      "bpi is now:  35.0\n",
      "bpi:  35.0\n",
      "ai:  5\n",
      "AT:  1\n",
      "Assigned an annsamp:  20277.0\n",
      "bpi is now:  36.0\n",
      "bpi just before adding after aux:  36.0\n",
      "Assigned an aux:  BCE\n",
      "bpi is now:  39.0\n",
      "bpi:  39.0\n",
      "ai end:  6\n",
      "bpi end:  39.0\n",
      "annsamp:  [   18    77 10077 20077 20177 20277]\n",
      "anntype end:  [28  1  1  1  1  1]\n",
      "aux:  [None, None, None, 'KKKK', 'AAA\\t', 'BCE']\n"
     ]
    }
   ],
   "source": [
    "from wfdb import readannot\n",
    "annsamp, anntype, num, subtype, chan, aux, annfs=readannot.rdann('sampledata/100', 'fake2')\n"
   ]
  },
  {
   "cell_type": "code",
   "execution_count": 2,
   "metadata": {
    "collapsed": false
   },
   "outputs": [
    {
     "name": "stdout",
     "output_type": "stream",
     "text": [
      "['RHYTHM', 'NORMAL', 'NORMAL', 'NORMAL', 'NORMAL', 'NORMAL']\n"
     ]
    }
   ],
   "source": [
    "print(anntype)"
   ]
  },
  {
   "cell_type": "code",
   "execution_count": null,
   "metadata": {
    "collapsed": false
   },
   "outputs": [],
   "source": [
    "\n",
    "import numpy as np\n",
    "\n",
    "x=np.array([1,2,3])\n",
    "\n",
    "\n",
    "print(x)\n",
    "print(type(x))\n",
    "print(x.dtype)\n",
    "print(x.shape)\n",
    "\n",
    "\n",
    "anncodes={1:'one', 2:'two', 3:'three'}\n",
    "#anntype=[anncodes[code] for code in list(anntype)]\n",
    "x=[anncodes[code] for code in x]\n",
    "\n",
    "print(x)"
   ]
  },
  {
   "cell_type": "code",
   "execution_count": null,
   "metadata": {
    "collapsed": true
   },
   "outputs": [],
   "source": []
  }
 ],
 "metadata": {
  "kernelspec": {
   "display_name": "Python 3",
   "language": "python",
   "name": "python3"
  },
  "language_info": {
   "codemirror_mode": {
    "name": "ipython",
    "version": 3
   },
   "file_extension": ".py",
   "mimetype": "text/x-python",
   "name": "python",
   "nbconvert_exporter": "python",
   "pygments_lexer": "ipython3",
   "version": "3.5.1"
  }
 },
 "nbformat": 4,
 "nbformat_minor": 0
}
