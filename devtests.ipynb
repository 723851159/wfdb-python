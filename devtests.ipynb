{
 "cells": [
  {
   "cell_type": "markdown",
   "metadata": {},
   "source": [
    "<h2>This script is for internal developer testing.</h2>"
   ]
  },
  {
   "cell_type": "code",
   "execution_count": null,
   "metadata": {
    "collapsed": false
   },
   "outputs": [],
   "source": [
    "import numpy as np\n",
    "from wfdb import readsignal\n",
    "# Testing rdsamp format 212\n",
    "sig, fields=readsignal.rdsamp('sampledata/100', sampfrom=100, sampto=9999) # Default physical values\n",
    "print(sig)\n",
    "print(len(sig))\n",
    "\n",
    "sig, fields=readsignal.rdsamp('sampledata/100', physical=0) # Digital values\n",
    "print(sig)"
   ]
  },
  {
   "cell_type": "code",
   "execution_count": null,
   "metadata": {
    "collapsed": false
   },
   "outputs": [],
   "source": [
    "# Testing rdsamp format 16\n",
    "sig, fields=readsignal.rdsamp('sampledata/test01_00s')\n",
    "print(sig)\n",
    "print(fields)\n"
   ]
  },
  {
   "cell_type": "code",
   "execution_count": null,
   "metadata": {
    "collapsed": false,
    "scrolled": true
   },
   "outputs": [],
   "source": [
    "# Testing rdsamp format 80\n",
    "sig, fields=readsignal.rdsamp('sampledata/3000003_0003')\n",
    "print(sig)\n",
    "print(fields)\n",
    "\n"
   ]
  },
  {
   "cell_type": "code",
   "execution_count": 1,
   "metadata": {
    "collapsed": false
   },
   "outputs": [],
   "source": [
    "# Testing rdsamp format 16 with byte offset (actually a .mat file too)\n",
    "import numpy as np\n",
    "from wfdb import readsignal\n",
    "sig, fields=readsignal.rdsamp('sampledata/a103l') \n",
    "#print(sig)\n",
    "#print(sig.shape)\n",
    "#print(fields)\n",
    "\n",
    "from wfdb import plotwfdb\n",
    "\n",
    "plotwfdb.plotsigs(sig, fields)\n",
    "\n",
    "\n",
    "# With channel selection and sampfrom sampto\n",
    "#sig, fields=readsignal.rdsamp('sampledata/a103l', channels=[2,0], sampfrom=250, sampto=80000) \n",
    "#print('\\n\\n')\n",
    "#print(sig)\n",
    "#print(fields)"
   ]
  },
  {
   "cell_type": "code",
   "execution_count": null,
   "metadata": {
    "collapsed": false,
    "scrolled": false
   },
   "outputs": [],
   "source": [
    "# Testing rdsamp multi-segment variable layout record (from https://physionet.org/physiobank/database/mimic2wdb/matched/s00001/)\n",
    "import numpy as np\n",
    "from wfdb import readsignal\n",
    "\n",
    "# Return list of arrays\n",
    "sig, fields=readsignal.rdsamp('sampledata/multisegmentV/s00001-2896-10-10-00-31', sampfrom=3200, sampto=20000, stacksegments=0)\n",
    "#print(\"len(sig): \", len(sig))\n",
    "#print(len(fields))\n",
    "\n",
    "print(sig)\n",
    "print(\"\\n\\n\")\n",
    "print(sig[len(sig)-1])\n",
    "print(\"\\n\\n\")\n",
    "print(len(sig[len(sig)-1]))\n",
    "print(\"\\n\\n\")\n",
    "print(fields[0])\n",
    "print(\"\\n\\n\")\n",
    "print(fields[1])\n",
    "print(\"\\n\\n\")\n",
    "print(fields[2])"
   ]
  },
  {
   "cell_type": "code",
   "execution_count": 3,
   "metadata": {
    "collapsed": false
   },
   "outputs": [
    {
     "name": "stdout",
     "output_type": "stream",
     "text": [
      "[[ nan  nan]\n",
      " [ nan  nan]\n",
      " [ nan  nan]\n",
      " ..., \n",
      " [-21.  nan]\n",
      " [-21.  nan]\n",
      " [-20.  nan]]\n",
      "(10000, 2)\n",
      "\n",
      "\n",
      "\n",
      "{'nsig': 4, 'basedate': '10/10/2896', 'gain': [], 'baseline': [], 'filename': ['3975656_layout', '~', '3975656_0001', '3975656_0002', '3975656_0003', '3975656_0004', '3975656_0005', '~', '3975656_0006', '3975656_0007', '3975656_0008', '3975656_0009', '~', '3975656_0010', '~', '3975656_0011', '3975656_0012', '3975656_0013', '3975656_0014', '3975656_0015', '3975656_0016'], 'nsamp': 14518365, 'fmt': [], 'comments': [' <age>: 60 <sex>: F'], 'byteoffset': [], 'fs': 125.0, 'units': [], 'signame': [], 'initvalue': [], 'nseg': 21, 'nsampseg': [0, 3261, 6750, 125, 1354, 512, 906259, 2604, 1304941, 1280, 512, 2210767, 172500, 5760000, 157500, 3900000, 4425, 18075, 7500, 37500, 22500], 'basetime': '00:31:25.894'}\n",
      "\n",
      "\n",
      "\n",
      "{'nsig': 4, 'basedate': '', 'gain': [83.0, 55.0, 122.0, 1.0], 'baseline': [0, 0, 0, 0], 'filename': ['~', '~', '~', '~'], 'nsamp': 0, 'fmt': ['0', '0', '0', '0'], 'comments': [], 'byteoffset': [0, 0, 0, 0], 'fs': 125.0, 'units': ['mV', 'mV', 'mV', 'mmHg'], 'signame': ['II', 'V', 'MCL1', 'ABP'], 'initvalue': [-16384, -8192, -1024, -256], 'nseg': 1, 'nsampseg': [], 'basetime': '31:25.894'}\n",
      "\n",
      "\n",
      "\n",
      "['Empty Segment', {'nsig': 1, 'basedate': '', 'gain': [1.0, 'No Channel'], 'baseline': [0, 'No Channel'], 'filename': ['3975656_0001.dat', 'No Channel'], 'nsamp': 6750, 'fmt': ['80', 'No Channel'], 'comments': [], 'byteoffset': [0, 'No Channel'], 'fs': 125.0, 'units': ['mV', 'No Channel'], 'signame': ['V', 'No Channel'], 'initvalue': [0, 'No Channel'], 'nseg': 1, 'nsampseg': [], 'basetime': '31:51.982'}]\n"
     ]
    }
   ],
   "source": [
    "# Testing rdsamp multi-segment variable layout record - stacksegments\n",
    "import numpy as np\n",
    "from wfdb import readsignal\n",
    "\n",
    "\n",
    "# Return single numpy array\n",
    "sig, fields=readsignal.rdsamp('sampledata/multisegmentV/s00001-2896-10-10-00-31', stacksegments=1, sampto=10000, channels=[1, 2])\n",
    "\n",
    "print(sig)\n",
    "print(sig.shape)\n",
    "print(\"\\n\\n\")\n",
    "print(fields[0])\n",
    "print(\"\\n\\n\")\n",
    "print(fields[1])\n",
    "print(\"\\n\\n\")\n",
    "print(fields[2])"
   ]
  },
  {
   "cell_type": "code",
   "execution_count": 5,
   "metadata": {
    "collapsed": false
   },
   "outputs": [
    {
     "name": "stdout",
     "output_type": "stream",
     "text": [
      "\n",
      "\n",
      "\n",
      " [[ 0.0335 -0.167  -0.237   0.1165  0.1105]\n",
      " [ 0.0355 -0.1615 -0.2395  0.119   0.1135]\n",
      " [ 0.0385 -0.168  -0.2465  0.116   0.112 ]\n",
      " ..., \n",
      " [-0.007   0.078   0.0445  0.008  -0.009 ]\n",
      " [-0.0065  0.068   0.0545  0.0125 -0.0055]\n",
      " [-0.005   0.058   0.061   0.022   0.0015]] \n",
      "\n",
      "\n",
      "\n",
      "{'nsig': 5, 'basedate': '', 'gain': [2000.0, 2000.0, 2000.0, 2000.0, 2000.0], 'baseline': [0, 0, 0, 0, 0], 'filename': ['s0010_re.xyz', 's0010_re.dat', 's0010_re.dat', 's0010_re.dat', 's0010_re.dat'], 'nsamp': 38400, 'fmt': ['16', '16', '16', '16', '16'], 'comments': [' age: 81', ' sex: female', ' ECG date: 01/10/1990', ' Diagnose:', ' Reason for admission: Myocardial infarction', ' Acute infarction (localization): infero-latera', ' Former infarction (localization): no', ' Additional diagnoses: Diabetes mellitu', ' Smoker: no', ' Number of coronary vessels involved: 1', ' Infarction date (acute): 29-Sep-90', ' Previous infarction (1) date: n/a', ' Previous infarction (2) date: n/a', ' Hemodynamics:', ' Catheterization date: 16-Oct-90', ' Ventriculography: Akinesia inferior wall', ' Chest X-ray: Heart size upper limit of norm', ' Peripheral blood Pressure (syst/diast):  140/80 mmHg', ' Pulmonary artery pressure (at rest) (syst/diast): n/a', ' Pulmonary artery pressure (at rest) (mean): n/a', ' Pulmonary capillary wedge pressure (at rest): n/a', ' Cardiac output (at rest): n/a', ' Cardiac index (at rest): n/a', ' Stroke volume index (at rest): n/a', ' Pulmonary artery pressure (laod) (syst/diast): n/a', ' Pulmonary artery pressure (laod) (mean): n/a', ' Pulmonary capillary wedge pressure (load): n/a', ' Cardiac output (load): n/a', ' Cardiac index (load): n/a', ' Stroke volume index (load): n/a', ' Aorta (at rest) (syst/diast): 160/64 cmH2O', ' Aorta (at rest) mean: 106 cmH2O', ' Left ventricular enddiastolic pressure: 11 cmH2O', ' Left coronary artery stenoses (RIVA): RIVA 70% proximal to ramus diagonalis_2', ' Left coronary artery stenoses (RCX): No stenose', ' Right coronary artery stenoses (RCA): No stenose', ' Echocardiography: n/a', ' Therapy:', ' Infarction date: 29-Sep-90', ' Catheterization date: 16-Oct-90', ' Admission date: 29-Sep-90', ' Medication pre admission: Isosorbit-Dinitrate Digoxin Glibenclamide', ' Start lysis therapy (hh.mm): 19:45', ' Lytic agent: Gamma-TPA', ' Dosage (lytic agent): 30 mg', ' Additional medication: Heparin Isosorbit-Mononitrate ASA Diazepam', ' In hospital medication: ASA Isosorbit-Mononitrate Ca-antagonist Amiloride+Chlorothiazide Glibenclamide Insulin', ' Medication after discharge: ASA Isosorbit-Mononitrate Amiloride+Chlorothiazide Glibenclamide'], 'byteoffset': [0, 0, 0, 0, 0], 'fs': 1000.0, 'units': ['mV', 'mV', 'mV', 'mV', 'mV'], 'signame': ['vz', 'i', 'avf', 'v5', 'v6'], 'initvalue': [-18, -489, -214, 393, 390], 'nseg': 1, 'nsampseg': [], 'basetime': ''}\n",
      "['vz', 'i', 'avf', 'v5', 'v6']\n"
     ]
    }
   ],
   "source": [
    "# Testing rdsamp multi-dat signals (from https://physionet.org/physiobank/database/ptbdb/patient001/)\n",
    "import numpy as np\n",
    "from wfdb import readsignal\n",
    "\n",
    "sig, fields=readsignal.rdsamp('sampledata/s0010_re', channels=[14, 0, 5, 10, 11], sampfrom=100, sampto=20000)\n",
    "from wfdb import plotwfdb\n",
    "plotwfdb.plotsigs(sig, fields)\n",
    "print(\"\\n\\n\\n\", sig, \"\\n\\n\\n\")\n",
    "print(fields)\n",
    "print(fields[\"signame\"])"
   ]
  },
  {
   "cell_type": "code",
   "execution_count": null,
   "metadata": {
    "collapsed": false
   },
   "outputs": [],
   "source": [
    "# Testing rdsamp multi-segment record with sampfrom, sampto, and channel selection\n",
    "import numpy as np\n",
    "from wfdb import readsignal\n",
    "\n",
    "# Return list of arrays\n",
    "sig, fields=readsignal.rdsamp('sampledata/multisegmentV/s00001-2896-10-10-00-31', sampfrom=10, sampto=10200, channels=[2,3], stacksegments=0)\n",
    "\n",
    "print(sig)\n",
    "# Return single array\n",
    "sig, fields=readsignal.rdsamp('sampledata/multisegmentV/s00001-2896-10-10-00-31', sampfrom=10, sampto=10200, channels=[1,0,2],stacksegments=1)\n",
    "\n",
    "print(sig)"
   ]
  },
  {
   "cell_type": "code",
   "execution_count": null,
   "metadata": {
    "collapsed": false
   },
   "outputs": [],
   "source": []
  },
  {
   "cell_type": "code",
   "execution_count": null,
   "metadata": {
    "collapsed": true
   },
   "outputs": [],
   "source": []
  }
 ],
 "metadata": {
  "kernelspec": {
   "display_name": "Python 3",
   "language": "python",
   "name": "python3"
  },
  "language_info": {
   "codemirror_mode": {
    "name": "ipython",
    "version": 3
   },
   "file_extension": ".py",
   "mimetype": "text/x-python",
   "name": "python",
   "nbconvert_exporter": "python",
   "pygments_lexer": "ipython3",
   "version": "3.5.1"
  }
 },
 "nbformat": 4,
 "nbformat_minor": 0
}
