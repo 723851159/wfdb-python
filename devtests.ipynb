{
 "cells": [
  {
   "cell_type": "markdown",
   "metadata": {},
   "source": [
    "<h2>This script is for internal developer testing.</h2>"
   ]
  },
  {
   "cell_type": "code",
   "execution_count": null,
   "metadata": {
    "collapsed": true
   },
   "outputs": [],
   "source": [
    "import wfdb"
   ]
  },
  {
   "cell_type": "code",
   "execution_count": null,
   "metadata": {
    "collapsed": false
   },
   "outputs": [],
   "source": [
    "# Testing rdsamp multiple samples per frame (and fmt 12)\n",
    "sig, fields=wfdb.srdsamp('sampledata/03700181')\n",
    "print(sig[:20,:])\n",
    "print(\"\\n\\n\", sig.shape, \"\\n\\n\")\n",
    "print(fields)\n",
    "\n",
    "print(\"\\n\\n\\n\")\n",
    "print(sig[-20:,:])"
   ]
  },
  {
   "cell_type": "code",
   "execution_count": null,
   "metadata": {
    "collapsed": false,
    "scrolled": true
   },
   "outputs": [],
   "source": [
    "# Testing rdsamp format 80\n",
    "sig, fields=wfdb.srdsamp('sampledata/3000003_0003')\n",
    "print(sig)\n",
    "print(fields)"
   ]
  },
  {
   "cell_type": "code",
   "execution_count": null,
   "metadata": {
    "collapsed": false
   },
   "outputs": [],
   "source": [
    "# Testing rdsamp format 16 with byte offset (actually a .mat file too)\n",
    "sig, fields=wfdb.srdsamp('sampledata/a103l') \n",
    "#print(sig)\n",
    "#print(sig.shape)\n",
    "#print(fields)\n",
    "\n",
    "from wfdb import plotwfdb\n",
    "\n",
    "plotwfdb.plotsigs(sig, fields)\n",
    "\n",
    "\n",
    "# With channel selection and sampfrom sampto\n",
    "#sig, fields=readsignal.rdsamp('sampledata/a103l', channels=[2,0], sampfrom=250, sampto=80000) \n",
    "#print('\\n\\n')\n",
    "#print(sig)\n",
    "#print(fields)"
   ]
  },
  {
   "cell_type": "code",
   "execution_count": null,
   "metadata": {
    "collapsed": false
   },
   "outputs": [],
   "source": []
  },
  {
   "cell_type": "code",
   "execution_count": null,
   "metadata": {
    "collapsed": false
   },
   "outputs": [],
   "source": [
    "# For writing test annotation files based on first 3 annotations of 12726.anI\n",
    "\n",
    "f=open('tmp.fake', 'wb')\n",
    "\n",
    "indata= np.array([0, 236,   1,   0, 200,  84,   0,  88, 255, 251,  21, 252,  73, 110, 105, 116,\n",
    "                  105,  97, 116, 101,  32, 115, 108, 111, 119,  32, 116, 105, 108, 116,  32, 117,\n",
    "                  112,   0,   0, 236,   0,   0,  67,  50,   0,  88,  21, 252,  67, 111, 110,  99,\n",
    "108, 117, 100, 101,  32, 115, 108, 111, 119,  32, 116, 105, 108, 116,  32, 117,\n",
    "112,   0,   0, 236,   0,   0, 114, 183,   0,  88,  23, 252,  73, 110, 105, 116,\n",
    "105,  97, 116, 101,  32, 115, 108, 111, 119,  32, 116, 105, 108, 116,  32, 100,\n",
    "111, 119, 110,   0, 0 ,0 ]).astype('u1')\n",
    "\n",
    "\n",
    "print(indata)\n",
    "\n",
    "indata.tofile(f)\n",
    "\n",
    "\n",
    "f.close()\n"
   ]
  },
  {
   "cell_type": "code",
   "execution_count": null,
   "metadata": {
    "collapsed": false
   },
   "outputs": [],
   "source": [
    "# Trying to fix byte pointer for reading skewed signals. \n",
    "\n",
    "from wfdb import readsignal\n",
    "import numpy as np\n",
    "#sig, fields=readsignal.rdsamp('sampledata/03700181', channels=[0,2], sampfrom=1000, sampto=16000)\n",
    "#sig=np.round(sig, decimals=8)\n",
    "#targetsig=np.genfromtxt('tests/targetoutputdata/target10')\n",
    "\n",
    "sig, fields=readsignal.rdsamp('sampledata/03700181', sampfrom=1000, sampto=16000, physical=0) # fs=125. -f 8 -t 128\n",
    "\n",
    "print(\"\\nsig: \", sig)\n",
    "print('\\n\\n')\n",
    "print(\"End of sig: \", sig[-10:,:])\n",
    "\n",
    "\n",
    "# nbytesread = 15000 frames * 6 samples/frame * 1.5 bytes/sample = 135000\n",
    "\n",
    "# Try to octal dump the right section of the file. After 16000 frames x (6 samples/frame)  = 96000 samples * (1.5 bytes per sample)\n",
    "# = 144000 bytes skip. \n",
    "\n",
    "\n",
    "\n",
    "# od -t u1 03700181.dat -j 144000 -N 30 \n",
    "\n",
    "# Result: \n",
    "# 236 255 236   2 240 236 163  27  61 236 255 236 236  15   2 147\n",
    "#  27  40 236 255 236 236 255 236 130  27  19   2 240 236\n",
    "\n",
    "\n"
   ]
  },
  {
   "cell_type": "code",
   "execution_count": null,
   "metadata": {
    "collapsed": false
   },
   "outputs": [],
   "source": [
    "import wfdb\n",
    "ann = wfdb.rdann('/home/chen/Downloads/chb01_03.edf','seizures')"
   ]
  },
  {
   "cell_type": "code",
   "execution_count": null,
   "metadata": {
    "collapsed": false
   },
   "outputs": [],
   "source": [
    "ann.__dict__"
   ]
  },
  {
   "cell_type": "code",
   "execution_count": null,
   "metadata": {
    "collapsed": false
   },
   "outputs": [],
   "source": [
    "# Testing wrann\n",
    "import wfdb\n",
    "from IPython.display import display\n",
    "\n",
    "annsamp = [20, 40, 60, 80, 100, 800, 1200 , 3000, 3001, 8000, 100000]\n",
    "#annsamp = [20, 40, 60, 80, 100, 800, 1200]\n",
    "#annsamp = [20, 60, 2**31] # 2**31+100 is too large\n",
    "\n",
    "nsamp = len(annsamp)\n",
    "\n",
    "anntype = ['N', 'N', 'N', '3', 'N', '2', 'N', '1', 'N', 'N', 'g']\n",
    "sub = [1,0,0,0,5,3,2,5,0,0,0]\n",
    "chan = [2,2,3,2,9,2,2,2,2,2,2]\n",
    "num = [1,2,3,4,5,3,2,5,11,22,22]\n",
    "aux = [None, None, \"good\", \"good\", \"good\", \"good\", \"good\", \"good\", None, None, None]\n",
    "fs = 100\n",
    "fs = None\n",
    "\n",
    "a = wfdb.Annotation(recordname = 'firstann', annotator = 'atr', \n",
    "                    annsamp = annsamp, anntype = anntype, aux = aux, \n",
    "                    subtype = sub, chan = chan, num = num, fs = fs)\n",
    "a.type2aux()\n",
    "display(a.__dict__)\n",
    "a.wrann()\n",
    "\n",
    "b = wfdb.rdann('firstann', 'atr')\n",
    "b.__dict__\n",
    "\n",
    "\n",
    "# print([sd & 255, sd & 768, (sd & 768) >> 8])"
   ]
  },
  {
   "cell_type": "code",
   "execution_count": null,
   "metadata": {
    "collapsed": false
   },
   "outputs": [],
   "source": [
    "import numpy as np\n",
    "inttypes = [int, np.int64, np.int32]\n",
    "\n",
    "print(inttypes)\n",
    "display(inttypes)"
   ]
  },
  {
   "cell_type": "code",
   "execution_count": 6,
   "metadata": {
    "collapsed": false
   },
   "outputs": [
    {
     "name": "stdout",
     "output_type": "stream",
     "text": [
      "hi\n",
      "<class '__main__.square'>\n",
      "<class '__main__.circle'>\n",
      "<class '__main__.square'>\n"
     ]
    }
   ],
   "source": [
    "class circle():\n",
    "    \n",
    "    def __init__(self):\n",
    "        self.shape = 'round'\n",
    "        \n",
    "    def circle2square(self):\n",
    "        \n",
    "        return square()\n",
    "    \n",
    "        \n",
    "class square():\n",
    "    \n",
    "    def __init__(self):\n",
    "        self.shape = 'rectangular'\n",
    "        \n",
    "\n",
    "def printandswitch(circle):\n",
    "    print('hi')\n",
    "    circle = circle.circle2square()\n",
    "    print(type(circle))\n",
    "    \n",
    "myshape = circle()\n",
    "printandswitch(myshape)\n",
    "print(type(myshape))\n",
    "myshape = myshape.circle2square()\n",
    "print(type(myshape))\n",
    "        \n",
    "        "
   ]
  },
  {
   "cell_type": "code",
   "execution_count": null,
   "metadata": {
    "collapsed": false
   },
   "outputs": [],
   "source": [
    "import numpy as np\n",
    "from . import _headers\n",
    "import matplotlib.pyplot as plt\n",
    "\n",
    "\n",
    "def plotrec(record=None, signals = None, fields = None, title=None, timeaxis='samples'): \n",
    "    \n",
    "    # Figure out which argument to plot\n",
    "    if record is None:\n",
    "        if signals is None:\n",
    "            sys.exit('Either record or signals must be present. No input signal to plot.')\n",
    "        # Use the signals array\n",
    "    else:\n",
    "        # Use the record object\n",
    "        if signals is None:\n",
    "            # If it is a MultiRecord, convert it into single\n",
    "            if type(record) == MultiRecord:\n",
    "                record = record.multi_to_single()\n",
    "            \n",
    "            # Need to ensure p_signals is present\n",
    "            if record.p_signals is None:\n",
    "                sys.exit('The p_signals field must be present in the record object to plot')\n",
    "                \n",
    "            signals = record.p_signals\n",
    "            fields = {}\n",
    "            for field in ['fs', 'signame']:\n",
    "                fields[field] = getattr(record, field)\n",
    "        # Both are present\n",
    "        else:\n",
    "            sys.exit(\"Only one of 'record' or 'signals' can be input. Cannot plot both items.\")\n",
    "            \n",
    "    # Determine x axis resolution\n",
    "    allowedtimes = ['samples, seconds, minutes, hours']\n",
    "    if timeaxis not in allowedtimes:\n",
    "        print(\"The 'timeaxis' field must be one of the following: \", timeaxis)\n",
    "        sys.exit()\n",
    "        \n",
    "    # Check the validity of the signals and fields\n",
    "    checkplotitems(signals, fields)\n",
    "        \n",
    "    # Check that the fs field is present for time plots\n",
    "    if timeaxis != 'samples':\n",
    "        if type(fields['fs']) not in _headers.floattypes:\n",
    "            sys.exit(\"The 'fs' field must be a number\")\n",
    "     \n",
    "    \n",
    "    \n",
    "    if timeaxis == 'samples':\n",
    "        t = np.array(range(signals.shape[0]))\n",
    "    \n",
    "    \n",
    "    if (fields[\"fs\"] is None) or (plottime is not True): # x axis is index\n",
    "        plottime=False\n",
    "        t=np.array(range(0,sig.shape[0]))\n",
    "        \n",
    "    else: # x axis is time\n",
    "        t=np.array(range(0,sig.shape[0]))/fields[\"fs\"]\n",
    "        if annsamp!=[]:\n",
    "            annplott=annsamp/fields[\"fs\"]\n",
    "        \n",
    "    f1=plt.figure()\n",
    "    for ch in range(0, sig.shape[1]):\n",
    "        plt.subplot(100*sig.shape[1]+11+ch)\n",
    "        plt.plot(t, sig[:,ch]) # Plot signal channel\n",
    "        if (annsamp!=[]) & (ch in annch): # If there are annotations to plot and the channel is specified\n",
    "            plt.plot(annplott, sig[annsamp, ch], 'r+') # Plot annotations\n",
    "        \n",
    "        if (title!=[])&(ch==0):\n",
    "            plt.title(title)\n",
    "            \n",
    "        # Axis Labels\n",
    "        if plottime:\n",
    "            plt.xlabel('time/s')\n",
    "        else:\n",
    "            plt.xlabel('index/sample')\n",
    "        if fields[\"signame\"][ch]:\n",
    "            chanlabel=fields[\"signame\"][ch]\n",
    "        else:\n",
    "            chanlabel='channel'\n",
    "        if fields[\"units\"][ch]:\n",
    "            unitlabel=fields[\"units\"][ch]\n",
    "        else:\n",
    "            unitlabel='NU'\n",
    "        plt.ylabel(chanlabel+\"/\"+unitlabel)\n",
    "        \n",
    "    plt.show(f1)\n",
    "\n",
    "    \n",
    "    \n",
    "def checkplotitems(signals, fields):\n",
    "    \n",
    "    # signals\n",
    "    if type(signals) != np.ndarray or signals.ndim != 2\n",
    "        sys.exit(\"The plotted signal must be a 2d numpy array\")\n",
    "    \n",
    "    # fs\n",
    "    if type(fields['fs']) not in _headers.floattypes:\n",
    "            sys.exit(\"The 'fs' field must be a number\")\n",
    "    \n",
    "    # signame\n",
    "    if fields['signame'] is None:\n",
    "        fields['signame'] = \n",
    "    \n",
    "    return fields"
   ]
  },
  {
   "cell_type": "code",
   "execution_count": 7,
   "metadata": {
    "collapsed": true
   },
   "outputs": [],
   "source": [
    "import wfdb\n",
    "\n",
    "x = wfdb.Record()\n"
   ]
  },
  {
   "cell_type": "code",
   "execution_count": 2,
   "metadata": {
    "collapsed": false
   },
   "outputs": [
    {
     "data": {
      "text/plain": [
       "True"
      ]
     },
     "execution_count": 2,
     "metadata": {},
     "output_type": "execute_result"
    }
   ],
   "source": [
    "type(5.4) == float"
   ]
  },
  {
   "cell_type": "code",
   "execution_count": null,
   "metadata": {
    "collapsed": true
   },
   "outputs": [],
   "source": []
  }
 ],
 "metadata": {
  "kernelspec": {
   "display_name": "Python 3",
   "language": "python",
   "name": "python3"
  },
  "language_info": {
   "codemirror_mode": {
    "name": "ipython",
    "version": 3
   },
   "file_extension": ".py",
   "mimetype": "text/x-python",
   "name": "python",
   "nbconvert_exporter": "python",
   "pygments_lexer": "ipython3",
   "version": "3.5.2"
  }
 },
 "nbformat": 4,
 "nbformat_minor": 0
}
