{
 "cells": [
  {
   "cell_type": "markdown",
   "metadata": {},
   "source": [
    "<h2>This script is for internal developer testing.</h2>"
   ]
  },
  {
   "cell_type": "code",
   "execution_count": null,
   "metadata": {
    "collapsed": false
   },
   "outputs": [],
   "source": [
    "import wfdb"
   ]
  },
  {
   "cell_type": "code",
   "execution_count": null,
   "metadata": {
    "collapsed": false
   },
   "outputs": [],
   "source": [
    "import wfdb\n",
    "# Testing rdsamp multiple samples per frame (and fmt 12)\n",
    "sig, fields=wfdb.srdsamp('sampledata/03700181')\n",
    "print(sig[:20,:])\n",
    "print(\"\\n\\n\", sig.shape, \"\\n\\n\")\n",
    "print(fields)\n",
    "\n",
    "print(\"\\n\\n\\n\")\n",
    "print(sig[-20:,:])"
   ]
  },
  {
   "cell_type": "code",
   "execution_count": null,
   "metadata": {
    "collapsed": false,
    "scrolled": true
   },
   "outputs": [],
   "source": [
    "# Testing rdsamp format 80\n",
    "sig, fields=wfdb.srdsamp('sampledata/3000003_0003')\n",
    "print(sig)\n",
    "print(fields)"
   ]
  },
  {
   "cell_type": "code",
   "execution_count": null,
   "metadata": {
    "collapsed": false
   },
   "outputs": [],
   "source": [
    "# Testing rdsamp format 16 with byte offset (actually a .mat file too)\n",
    "sig, fields=wfdb.srdsamp('sampledata/a103l') \n",
    "#print(sig)\n",
    "#print(sig.shape)\n",
    "#print(fields)\n",
    "\n",
    "from wfdb import plotwfdb\n",
    "\n",
    "plotwfdb.plotsigs(sig, fields)\n",
    "\n",
    "\n",
    "# With channel selection and sampfrom sampto\n",
    "#sig, fields=readsignal.rdsamp('sampledata/a103l', channels=[2,0], sampfrom=250, sampto=80000) \n",
    "#print('\\n\\n')\n",
    "#print(sig)\n",
    "#print(fields)"
   ]
  },
  {
   "cell_type": "code",
   "execution_count": null,
   "metadata": {
    "collapsed": false
   },
   "outputs": [],
   "source": []
  },
  {
   "cell_type": "code",
   "execution_count": null,
   "metadata": {
    "collapsed": false
   },
   "outputs": [],
   "source": [
    "# For writing test annotation files based on first 3 annotations of 12726.anI\n",
    "\n",
    "f=open('tmp.fake', 'wb')\n",
    "\n",
    "indata= np.array([0, 236,   1,   0, 200,  84,   0,  88, 255, 251,  21, 252,  73, 110, 105, 116,\n",
    "                  105,  97, 116, 101,  32, 115, 108, 111, 119,  32, 116, 105, 108, 116,  32, 117,\n",
    "                  112,   0,   0, 236,   0,   0,  67,  50,   0,  88,  21, 252,  67, 111, 110,  99,\n",
    "108, 117, 100, 101,  32, 115, 108, 111, 119,  32, 116, 105, 108, 116,  32, 117,\n",
    "112,   0,   0, 236,   0,   0, 114, 183,   0,  88,  23, 252,  73, 110, 105, 116,\n",
    "105,  97, 116, 101,  32, 115, 108, 111, 119,  32, 116, 105, 108, 116,  32, 100,\n",
    "111, 119, 110,   0, 0 ,0 ]).astype('u1')\n",
    "\n",
    "\n",
    "print(indata)\n",
    "\n",
    "indata.tofile(f)\n",
    "\n",
    "\n",
    "f.close()\n"
   ]
  },
  {
   "cell_type": "code",
   "execution_count": null,
   "metadata": {
    "collapsed": false
   },
   "outputs": [],
   "source": [
    "# Trying to fix byte pointer for reading skewed signals. \n",
    "\n",
    "from wfdb import readsignal\n",
    "import numpy as np\n",
    "#sig, fields=readsignal.rdsamp('sampledata/03700181', channels=[0,2], sampfrom=1000, sampto=16000)\n",
    "#sig=np.round(sig, decimals=8)\n",
    "#targetsig=np.genfromtxt('tests/targetoutputdata/target10')\n",
    "\n",
    "sig, fields=readsignal.rdsamp('sampledata/03700181', sampfrom=1000, sampto=16000, physical=0) # fs=125. -f 8 -t 128\n",
    "\n",
    "print(\"\\nsig: \", sig)\n",
    "print('\\n\\n')\n",
    "print(\"End of sig: \", sig[-10:,:])\n",
    "\n",
    "\n",
    "# nbytesread = 15000 frames * 6 samples/frame * 1.5 bytes/sample = 135000\n",
    "\n",
    "# Try to octal dump the right section of the file. After 16000 frames x (6 samples/frame)  = 96000 samples * (1.5 bytes per sample)\n",
    "# = 144000 bytes skip. \n",
    "\n",
    "\n",
    "\n",
    "# od -t u1 03700181.dat -j 144000 -N 30 \n",
    "\n",
    "# Result: \n",
    "# 236 255 236   2 240 236 163  27  61 236 255 236 236  15   2 147\n",
    "#  27  40 236 255 236 236 255 236 130  27  19   2 240 236\n",
    "\n",
    "\n"
   ]
  },
  {
   "cell_type": "code",
   "execution_count": null,
   "metadata": {
    "collapsed": false
   },
   "outputs": [],
   "source": [
    "import wfdb\n",
    "ann = wfdb.rdann('/home/chen/Downloads/chb01_03.edf','seizures')"
   ]
  },
  {
   "cell_type": "code",
   "execution_count": null,
   "metadata": {
    "collapsed": false
   },
   "outputs": [],
   "source": [
    "ann.__dict__"
   ]
  },
  {
   "cell_type": "code",
   "execution_count": null,
   "metadata": {
    "collapsed": false
   },
   "outputs": [],
   "source": [
    "# Testing wrann\n",
    "import wfdb\n",
    "from IPython.display import display\n",
    "\n",
    "annsamp = [20, 40, 60, 80, 100, 800, 1200 , 3000, 3001, 8000, 100000]\n",
    "#annsamp = [20, 40, 60, 80, 100, 800, 1200]\n",
    "#annsamp = [20, 60, 2**31] # 2**31+100 is too large\n",
    "\n",
    "nsamp = len(annsamp)\n",
    "\n",
    "anntype = ['N', 'N', 'N', '3', 'N', '2', 'N', '1', 'N', 'N', 'g']\n",
    "sub = [1,0,0,0,5,3,2,5,0,0,0]\n",
    "chan = [2,2,3,2,9,2,2,2,2,2,2]\n",
    "num = [1,2,3,4,5,3,2,5,11,22,22]\n",
    "aux = [None, None, \"good\", \"good\", \"good\", \"good\", \"good\", \"good\", None, None, None]\n",
    "fs = 100\n",
    "fs = None\n",
    "\n",
    "a = wfdb.Annotation(recordname = 'firstann', annotator = 'atr', \n",
    "                    annsamp = annsamp, anntype = anntype, aux = aux, \n",
    "                    subtype = sub, chan = chan, num = num, fs = fs)\n",
    "a.type2aux()\n",
    "display(a.__dict__)\n",
    "a.wrann()\n",
    "\n",
    "b = wfdb.rdann('firstann', 'atr')\n",
    "b.__dict__\n",
    "\n",
    "\n",
    "# print([sd & 255, sd & 768, (sd & 768) >> 8])"
   ]
  },
  {
   "cell_type": "code",
   "execution_count": null,
   "metadata": {
    "collapsed": false
   },
   "outputs": [],
   "source": [
    "r = requests.get('http://physionet.org/physiobank/database/mitdb/100.hea')\n",
    "help(r.raise_for_status)"
   ]
  },
  {
   "cell_type": "code",
   "execution_count": null,
   "metadata": {
    "collapsed": false
   },
   "outputs": [],
   "source": [
    "with open('temp', \"wb\") as writefile:\n",
    "                writefile.write(b'22')"
   ]
  },
  {
   "cell_type": "code",
   "execution_count": 1,
   "metadata": {
    "collapsed": false
   },
   "outputs": [
    {
     "name": "stdout",
     "output_type": "stream",
     "text": [
      "Downloading files...\n",
      "Finished downloading files\n"
     ]
    }
   ],
   "source": [
    "import wfdb\n",
    "wfdb.dldatabase(pbdb = 'tmpdb', dlbasedir = '/home/chen/Downloads/dbfolder', annotators = 'all', keepsubdirs = True)\n",
    "#dldatabase(pbdb, dlbasedir, records = 'All', annotators = None , onlyanns = False, keepsubdirs = True, overwrite = False): "
   ]
  },
  {
   "cell_type": "code",
   "execution_count": 2,
   "metadata": {
    "collapsed": false
   },
   "outputs": [
    {
     "name": "stdout",
     "output_type": "stream",
     "text": [
      "Downloading files...\n",
      "Finished downloading files\n"
     ]
    }
   ],
   "source": [
    "import wfdb\n",
    "wfdb.dldatabasefiles(pbdb = 'tmpdb', dlbasedir = '/home/chen/Downloads/dbfolder', files = ['test01_00s.hea', 'test01_00s.dat', 'a/A/test02_45s.hea', 'a/A/test01_00s.hea'], keepsubdirs = True, overwrite = False)"
   ]
  },
  {
   "cell_type": "code",
   "execution_count": 2,
   "metadata": {
    "collapsed": false
   },
   "outputs": [
    {
     "data": {
      "text/plain": [
       "array([[-6.,  0.],\n",
       "       [-7.,  0.],\n",
       "       [-6.,  0.],\n",
       "       [-7.,  0.],\n",
       "       [-7.,  0.],\n",
       "       [-7.,  0.],\n",
       "       [-7.,  0.],\n",
       "       [-7.,  0.],\n",
       "       [-6.,  0.],\n",
       "       [-7.,  0.]])"
      ]
     },
     "metadata": {},
     "output_type": "display_data"
    },
    {
     "data": {
      "text/plain": [
       "array([[-8.,  6.],\n",
       "       [-8.,  6.],\n",
       "       [-8.,  7.],\n",
       "       [-8.,  7.],\n",
       "       [-8.,  7.],\n",
       "       [-8.,  7.],\n",
       "       [-8.,  7.],\n",
       "       [-7.,  6.],\n",
       "       [-8.,  7.],\n",
       "       [-7.,  6.]])"
      ]
     },
     "metadata": {},
     "output_type": "display_data"
    },
    {
     "name": "stdout",
     "output_type": "stream",
     "text": [
      "\n",
      "Target:\n"
     ]
    },
    {
     "data": {
      "text/plain": [
       "array([[-6.,  0.],\n",
       "       [-7.,  0.],\n",
       "       [-6.,  0.],\n",
       "       [-7.,  0.],\n",
       "       [-7.,  0.],\n",
       "       [-7.,  0.],\n",
       "       [-7.,  0.],\n",
       "       [-7.,  0.],\n",
       "       [-6.,  0.],\n",
       "       [-7.,  0.]])"
      ]
     },
     "metadata": {},
     "output_type": "display_data"
    },
    {
     "data": {
      "text/plain": [
       "array([[-8.,  6.],\n",
       "       [-8.,  6.],\n",
       "       [-8.,  7.],\n",
       "       [-8.,  7.],\n",
       "       [-8.,  7.],\n",
       "       [-8.,  7.],\n",
       "       [-8.,  7.],\n",
       "       [-7.,  6.],\n",
       "       [-8.,  7.],\n",
       "       [-7.,  6.]])"
      ]
     },
     "metadata": {},
     "output_type": "display_data"
    },
    {
     "data": {
      "text/plain": [
       "True"
      ]
     },
     "execution_count": 2,
     "metadata": {},
     "output_type": "execute_result"
    }
   ],
   "source": [
    "import wfdb\n",
    "from IPython.display import display\n",
    "import numpy as np\n",
    "\n",
    "record = wfdb.rdsamp('sampledata/310derive', sampfrom=2, physical=False)\n",
    "sig = record.d_signals\n",
    "targetsig = np.genfromtxt('tests/targetoutputdata/target13')\n",
    "\n",
    "\n",
    "display(sig[0:10,:])\n",
    "display(sig[-10:,:])\n",
    "\n",
    "print('\\nTarget:')\n",
    "display(targetsig[0:10,:])\n",
    "display(targetsig[-10:,:])\n",
    "\n",
    "np.array_equal(sig, targetsig)\n"
   ]
  },
  {
   "cell_type": "code",
   "execution_count": 13,
   "metadata": {
    "collapsed": false
   },
   "outputs": [
    {
     "data": {
      "text/plain": [
       "array([[-6.],\n",
       "       [ 0.],\n",
       "       [-7.],\n",
       "       ..., \n",
       "       [ 7.],\n",
       "       [-7.],\n",
       "       [ 6.]])"
      ]
     },
     "execution_count": 13,
     "metadata": {},
     "output_type": "execute_result"
    }
   ],
   "source": [
    "targetsig = targetsig.reshape((-1, 1))\n",
    "\n",
    "targetsig.shape \n",
    "\n",
    "t = np.concatenate([targetsig, np.array([0]).reshape((1,1))])\n",
    "\n",
    "targetsig"
   ]
  },
  {
   "cell_type": "code",
   "execution_count": 25,
   "metadata": {
    "collapsed": false
   },
   "outputs": [
    {
     "data": {
      "text/plain": [
       "array([[2],\n",
       "       [0],\n",
       "       [0],\n",
       "       ..., \n",
       "       [0],\n",
       "       [2],\n",
       "       [0]], dtype=uint8)"
      ]
     },
     "execution_count": 25,
     "metadata": {},
     "output_type": "execute_result"
    }
   ],
   "source": [
    "s = t.astype('uint8')\n",
    "s\n",
    "s & 2"
   ]
  },
  {
   "cell_type": "code",
   "execution_count": 1,
   "metadata": {
    "collapsed": false
   },
   "outputs": [
    {
     "name": "stdout",
     "output_type": "stream",
     "text": [
      "sigbytes:  [246 223   0 ...,  48 242   7]\n",
      "2736\n",
      "uint64\n",
      "float64\n"
     ]
    },
    {
     "ename": "NameError",
     "evalue": "name 'display' is not defined",
     "output_type": "error",
     "traceback": [
      "\u001b[0;31m---------------------------------------------------------------------------\u001b[0m",
      "\u001b[0;31mNameError\u001b[0m                                 Traceback (most recent call last)",
      "\u001b[0;32m<ipython-input-1-8237e8d15253>\u001b[0m in \u001b[0;36m<module>\u001b[0;34m()\u001b[0m\n\u001b[1;32m      1\u001b[0m \u001b[0;32mimport\u001b[0m \u001b[0mwfdb\u001b[0m\u001b[0;34m\u001b[0m\u001b[0m\n\u001b[1;32m      2\u001b[0m \u001b[0ms\u001b[0m \u001b[0;34m=\u001b[0m \u001b[0mwfdb\u001b[0m\u001b[0;34m.\u001b[0m\u001b[0mrdsamp\u001b[0m\u001b[0;34m(\u001b[0m\u001b[0;34m'sampledata/310derive'\u001b[0m\u001b[0;34m,\u001b[0m \u001b[0mphysical\u001b[0m\u001b[0;34m=\u001b[0m\u001b[0;32mFalse\u001b[0m\u001b[0;34m)\u001b[0m\u001b[0;34m.\u001b[0m\u001b[0md_signals\u001b[0m\u001b[0;34m\u001b[0m\u001b[0m\n\u001b[0;32m----> 3\u001b[0;31m \u001b[0mdisplay\u001b[0m\u001b[0;34m(\u001b[0m\u001b[0ms\u001b[0m\u001b[0;34m[\u001b[0m\u001b[0;36m0\u001b[0m\u001b[0;34m:\u001b[0m\u001b[0;36m10\u001b[0m\u001b[0;34m,\u001b[0m\u001b[0;34m:\u001b[0m\u001b[0;34m]\u001b[0m\u001b[0;34m)\u001b[0m\u001b[0;34m\u001b[0m\u001b[0m\n\u001b[0m\u001b[1;32m      4\u001b[0m \u001b[0mdisplay\u001b[0m\u001b[0;34m(\u001b[0m\u001b[0ms\u001b[0m\u001b[0;34m[\u001b[0m\u001b[0;34m-\u001b[0m\u001b[0;36m10\u001b[0m\u001b[0;34m:\u001b[0m\u001b[0;34m,\u001b[0m\u001b[0;34m:\u001b[0m\u001b[0;34m]\u001b[0m\u001b[0;34m)\u001b[0m\u001b[0;34m\u001b[0m\u001b[0m\n",
      "\u001b[0;31mNameError\u001b[0m: name 'display' is not defined"
     ]
    }
   ],
   "source": [
    "import wfdb\n",
    "s = wfdb.rdsamp('sampledata/310derive', physical=False).d_signals\n",
    "display(s[0:10,:])\n",
    "display(s[-10:,:])"
   ]
  },
  {
   "cell_type": "code",
   "execution_count": 3,
   "metadata": {
    "collapsed": false
   },
   "outputs": [],
   "source": [
    "import numpy as np\n",
    "x = np.array([[1,2], [3,4]], dtype = 'uint')"
   ]
  },
  {
   "cell_type": "code",
   "execution_count": 28,
   "metadata": {
    "collapsed": false
   },
   "outputs": [
    {
     "data": {
      "text/plain": [
       "3840"
      ]
     },
     "execution_count": 28,
     "metadata": {},
     "output_type": "execute_result"
    }
   ],
   "source": [
    "sum(2**np.array([8,9,10,11]))"
   ]
  },
  {
   "cell_type": "code",
   "execution_count": 29,
   "metadata": {
    "collapsed": false
   },
   "outputs": [
    {
     "data": {
      "text/plain": [
       "0"
      ]
     },
     "execution_count": 29,
     "metadata": {},
     "output_type": "execute_result"
    }
   ],
   "source": [
    "1 >> 2"
   ]
  },
  {
   "cell_type": "code",
   "execution_count": 1,
   "metadata": {
    "collapsed": false
   },
   "outputs": [
    {
     "name": "stdout",
     "output_type": "stream",
     "text": [
      "sampsperframe end of rdheader:  [None, None]\n",
      "1\n",
      "[None, None]\n",
      "2\n",
      "[None, None]\n",
      "3\n",
      "[None, None]\n"
     ]
    }
   ],
   "source": [
    "import wfdb\n",
    "record = wfdb.rdsamp('sampledata/100', physical=False)\n",
    "record.recordname = '100copy'\n",
    "#record.wrsamp()"
   ]
  },
  {
   "cell_type": "code",
   "execution_count": 2,
   "metadata": {
    "collapsed": false
   },
   "outputs": [
    {
     "data": {
      "text/plain": [
       "{'adcgain': [200.0, 200.0],\n",
       " 'adcres': [11, 11],\n",
       " 'adczero': [1024, 1024],\n",
       " 'basecounter': None,\n",
       " 'basedate': None,\n",
       " 'baseline': [1024, 1024],\n",
       " 'basetime': None,\n",
       " 'blocksize': [0, 0],\n",
       " 'byteoffset': [None, None],\n",
       " 'checksum': [-22131, 20052],\n",
       " 'comments': [' unnecessary comment',\n",
       "  ' 69 M 1085 1629 x1',\n",
       "  ' Aldomet, Inderal'],\n",
       " 'counterfreq': None,\n",
       " 'd_signals': array([[  995.,  1011.],\n",
       "        [  995.,  1011.],\n",
       "        [  995.,  1011.],\n",
       "        ..., \n",
       "        [  889.,   951.],\n",
       "        [  871.,   957.],\n",
       "        [  768.,  1024.]]),\n",
       " 'filename': ['100.dat', '100.dat'],\n",
       " 'fmt': ['212', '212'],\n",
       " 'fs': 360.0,\n",
       " 'initvalue': [995, 1011],\n",
       " 'nsig': 2,\n",
       " 'p_signals': None,\n",
       " 'recordname': '100copy',\n",
       " 'sampsperframe': [None, None],\n",
       " 'siglen': 650000,\n",
       " 'signame': ['MLII', 'V5'],\n",
       " 'skew': [None, None],\n",
       " 'units': ['mV', 'mV']}"
      ]
     },
     "execution_count": 2,
     "metadata": {},
     "output_type": "execute_result"
    }
   ],
   "source": [
    "record.__dict__"
   ]
  },
  {
   "cell_type": "code",
   "execution_count": 3,
   "metadata": {
    "collapsed": false
   },
   "outputs": [],
   "source": [
    "def return100(fmt):\n",
    "    \n",
    "    fmt = 2\n",
    "    "
   ]
  },
  {
   "cell_type": "code",
   "execution_count": 4,
   "metadata": {
    "collapsed": false
   },
   "outputs": [
    {
     "data": {
      "text/plain": [
       "3"
      ]
     },
     "execution_count": 4,
     "metadata": {},
     "output_type": "execute_result"
    }
   ],
   "source": [
    "a = 3\n",
    "return100(a)\n",
    "a"
   ]
  },
  {
   "cell_type": "code",
   "execution_count": 21,
   "metadata": {
    "collapsed": false
   },
   "outputs": [],
   "source": [
    "class truck():\n",
    "    def __init__(self):\n",
    "        self.wheel = 1"
   ]
  },
  {
   "cell_type": "code",
   "execution_count": 22,
   "metadata": {
    "collapsed": true
   },
   "outputs": [],
   "source": [
    "x = truck()"
   ]
  },
  {
   "cell_type": "code",
   "execution_count": 24,
   "metadata": {
    "collapsed": false
   },
   "outputs": [
    {
     "data": {
      "text/plain": [
       "1"
      ]
     },
     "execution_count": 24,
     "metadata": {},
     "output_type": "execute_result"
    }
   ],
   "source": [
    "x.wheel"
   ]
  },
  {
   "cell_type": "code",
   "execution_count": 25,
   "metadata": {
    "collapsed": true
   },
   "outputs": [],
   "source": [
    "def pop(item):\n",
    "    item.wheel = 0\n",
    "    "
   ]
  },
  {
   "cell_type": "code",
   "execution_count": 26,
   "metadata": {
    "collapsed": false
   },
   "outputs": [
    {
     "data": {
      "text/plain": [
       "0"
      ]
     },
     "execution_count": 26,
     "metadata": {},
     "output_type": "execute_result"
    }
   ],
   "source": [
    "pop(x)\n",
    "x.wheel"
   ]
  },
  {
   "cell_type": "code",
   "execution_count": 28,
   "metadata": {
    "collapsed": false
   },
   "outputs": [
    {
     "data": {
      "text/plain": [
       "[1, 2, 3]"
      ]
     },
     "execution_count": 28,
     "metadata": {},
     "output_type": "execute_result"
    }
   ],
   "source": [
    "a = [1,2,3]\n",
    "b = a\n",
    "b = b.copy()\n",
    "b[0] = 10\n",
    "a"
   ]
  },
  {
   "cell_type": "code",
   "execution_count": null,
   "metadata": {
    "collapsed": true
   },
   "outputs": [],
   "source": []
  }
 ],
 "metadata": {
  "kernelspec": {
   "display_name": "Python 3",
   "language": "python",
   "name": "python3"
  },
  "language_info": {
   "codemirror_mode": {
    "name": "ipython",
    "version": 3
   },
   "file_extension": ".py",
   "mimetype": "text/x-python",
   "name": "python",
   "nbconvert_exporter": "python",
   "pygments_lexer": "ipython3",
   "version": "3.5.2"
  }
 },
 "nbformat": 4,
 "nbformat_minor": 0
}
