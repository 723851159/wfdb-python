{
 "cells": [
  {
   "cell_type": "markdown",
   "metadata": {},
   "source": [
    "<h2>This script is for internal developer testing.</h2>"
   ]
  },
  {
   "cell_type": "code",
   "execution_count": null,
   "metadata": {
    "collapsed": false
   },
   "outputs": [],
   "source": [
    "import numpy as np\n",
    "from wfdb import readsignal\n",
    "# Testing rdsamp format 212\n",
    "sig, fields=readsignal.rdsamp('sampledata/100', channels=[1], sampfrom=114, physical=0) # Default physical values\n",
    "print(sig)\n",
    "print(len(sig))\n",
    "\n",
    "#sig, fields=readsignal.rdsamp('sampledata/100', physical=0) # Digital values\n",
    "#print(sig)\n",
    "#print(fields)"
   ]
  },
  {
   "cell_type": "code",
   "execution_count": null,
   "metadata": {
    "collapsed": false
   },
   "outputs": [],
   "source": [
    "from wfdb import readsignal\n",
    "\n",
    "# Testing rdsamp format 16\n",
    "sig, fields=readsignal.rdsamp('sampledata/test01_00s')\n",
    "print(sig)\n",
    "print(fields)\n"
   ]
  },
  {
   "cell_type": "code",
   "execution_count": null,
   "metadata": {
    "collapsed": false
   },
   "outputs": [],
   "source": [
    "# Testing rdsamp multiple samples per frame (and fmt 12)\n",
    "from wfdb import readsignal\n",
    "sig, fields=readsignal.rdsamp('sampledata/03700181', physical=0)\n",
    "print(sig[:20,:])\n",
    "print(\"\\n\\n\", sig.shape, \"\\n\\n\")\n",
    "print(fields)\n",
    "\n",
    "print(\"\\n\\n\\n\")\n",
    "print(sig[-20:,:])"
   ]
  },
  {
   "cell_type": "code",
   "execution_count": null,
   "metadata": {
    "collapsed": false,
    "scrolled": true
   },
   "outputs": [],
   "source": [
    "# Testing rdsamp format 80\n",
    "sig, fields=readsignal.rdsamp('sampledata/3000003_0003')\n",
    "print(sig)\n",
    "print(fields)"
   ]
  },
  {
   "cell_type": "code",
   "execution_count": null,
   "metadata": {
    "collapsed": false
   },
   "outputs": [],
   "source": [
    "# Testing rdsamp format 16 with byte offset (actually a .mat file too)\n",
    "import numpy as np\n",
    "from wfdb import readsignal\n",
    "sig, fields=readsignal.rdsamp('sampledata/a103l') \n",
    "#print(sig)\n",
    "#print(sig.shape)\n",
    "#print(fields)\n",
    "\n",
    "from wfdb import plotwfdb\n",
    "\n",
    "plotwfdb.plotsigs(sig, fields)\n",
    "\n",
    "\n",
    "# With channel selection and sampfrom sampto\n",
    "#sig, fields=readsignal.rdsamp('sampledata/a103l', channels=[2,0], sampfrom=250, sampto=80000) \n",
    "#print('\\n\\n')\n",
    "#print(sig)\n",
    "#print(fields)"
   ]
  },
  {
   "cell_type": "code",
   "execution_count": null,
   "metadata": {
    "collapsed": false,
    "scrolled": false
   },
   "outputs": [],
   "source": [
    "# Testing rdsamp multi-segment variable layout record (from https://physionet.org/physiobank/database/mimic2wdb/matched/s00001/)\n",
    "import numpy as np\n",
    "from wfdb import readsignal\n",
    "\n",
    "# Return list of arrays\n",
    "sig, fields=readsignal.rdsamp('sampledata/matched/s00001/s00001-2896-10-10-00-31', sampfrom=3200, sampto=20000, stacksegments=0)\n",
    "#print(\"len(sig): \", len(sig))\n",
    "#print(len(fields))\n",
    "\n",
    "print(sig)\n",
    "print(\"\\n\\n\")\n",
    "print(sig[len(sig)-1])\n",
    "print(\"\\n\\n\")\n",
    "print(len(sig[len(sig)-1]))\n",
    "print(\"\\n\\n\")\n",
    "print(fields[0])\n",
    "print(\"\\n\\n\")\n",
    "print(fields[1])\n",
    "print(\"\\n\\n\")\n",
    "print(fields[2])"
   ]
  },
  {
   "cell_type": "code",
   "execution_count": null,
   "metadata": {
    "collapsed": false
   },
   "outputs": [],
   "source": [
    "# Testing rdsamp multi-segment variable layout record - stacksegments\n",
    "import numpy as np\n",
    "from wfdb import readsignal\n",
    "\n",
    "\n",
    "# Return single numpy array\n",
    "sig, fields=readsignal.rdsamp('sampledata/multisegmentV/s00001-2896-10-10-00-31', stacksegments=1, sampto=10000, channels=[1, 2])\n",
    "\n",
    "print(sig)\n",
    "print(sig.shape)\n",
    "print(\"\\n\\n\")\n",
    "print(fields[0])\n",
    "print(\"\\n\\n\")\n",
    "print(fields[1])\n",
    "print(\"\\n\\n\")\n",
    "print(fields[2])"
   ]
  },
  {
   "cell_type": "code",
   "execution_count": null,
   "metadata": {
    "collapsed": false
   },
   "outputs": [],
   "source": [
    "# Testing rdsamp multi-dat signals (from https://physionet.org/physiobank/database/ptbdb/patient001/)\n",
    "import numpy as np\n",
    "from wfdb import readsignal\n",
    "\n",
    "sig, fields=readsignal.rdsamp('sampledata/s0010_re', channels=[14, 0, 5, 10, 11], sampfrom=100, sampto=20000)\n",
    "from wfdb import plotwfdb\n",
    "plotwfdb.plotsigs(sig, fields)\n",
    "print(\"\\n\\n\\n\", sig, \"\\n\\n\\n\")\n",
    "print(fields)\n",
    "print(fields[\"signame\"])"
   ]
  },
  {
   "cell_type": "code",
   "execution_count": null,
   "metadata": {
    "collapsed": false
   },
   "outputs": [],
   "source": [
    "# Testing rdsamp multi-segment record with sampfrom, sampto, and channel selection\n",
    "import numpy as np\n",
    "from wfdb import readsignal\n",
    "\n",
    "# Return list of arrays\n",
    "sig, fields=readsignal.rdsamp('sampledata/multisegmentV/s00001-2896-10-10-00-31', sampfrom=10, sampto=10200, channels=[2,3], stacksegments=0)\n",
    "\n",
    "print(sig)\n",
    "# Return single array\n",
    "sig, fields=readsignal.rdsamp('sampledata/multisegmentV/s00001-2896-10-10-00-31', sampfrom=10, sampto=10200, channels=[1,0,2],stacksegments=1)\n",
    "\n",
    "print(sig)"
   ]
  },
  {
   "cell_type": "code",
   "execution_count": null,
   "metadata": {
    "collapsed": false
   },
   "outputs": [],
   "source": []
  },
  {
   "cell_type": "markdown",
   "metadata": {},
   "source": [
    "<h2>Decide comprehensive tests before adding to travis - signals</h2>\n",
    "Target files created with wfdb software package's <code>rdsamp</code>"
   ]
  },
  {
   "cell_type": "code",
   "execution_count": null,
   "metadata": {
    "collapsed": true
   },
   "outputs": [],
   "source": [
    "import numpy as np\n",
    "from wfdb import readsignal\n",
    "\n",
    "# Test 1 - Format 212/Entire signal/Physical \n",
    "# Target file created with: rdsamp -r sampledata/100 -P | cut -f 2- > target1\n",
    "sig, fields=readsignal.rdsamp('sampledata/100') \n",
    "\n",
    "# Test 2 - Format 212/Selected Duration/Selected Channel/Digital\n",
    "# Target file created with: rdsamp -r sampledata/100 -f 1 -t 30 -s 1 | cut -f 2- > target2\n",
    "sig, fields=readsignal.rdsamp('sampledata/100', sampfrom=360, sampto=10800, channels=[1], physical=0)  \n",
    "\n",
    "# Test 3 - Format 16/Entire signal/Digital\n",
    "# Target file created with: rdsamp -r sampledata/test01_00s | cut -f 2- > target3\n",
    "sig, fields=readsignal.rdsamp('sampledata/test01_00s', physical=0)\n",
    "\n",
    "# Test 4 - Format 16 with byte offset/Selected Duration/Selected Channels/Physical\n",
    "# Target file created with: rdsamp -r sampledata/a103l -f 50 -t 160 -s 2 0 -P | cut -f 2- > target4\n",
    "sig, fields=readsignal.rdsamp('sampledata/a103l', sampfrom=12500, sampto=40000, channels=[2, 0])\n",
    "\n",
    "# Test 5 - Format 16 with byte offset/Selected Duration/Selected Channels/Digital\n",
    "# Target file created with: rdsamp -r sampledata/a103l -f 80 -s 0 1 | cut -f 2- > target5\n",
    "sig, fields=readsignal.rdsamp('sampledata/a103l', sampfrom=20000, physical=0, channels=[0, 1])\n",
    "\n",
    "# Test 6 - Format 80/Selected Duration/Selected Channels/Physical\n",
    "# Target file created with: rdsamp -r sampledata/3000003_0003 -f 1 -t 8 -s 1 -P | cut -f 2- > target6\n",
    "sig, fields=readsignal.rdsamp('sampledata/3000003_0003', sampfrom=125, sampto=1000, channels=[1])\n",
    "\n",
    "# Test 7 - Multi-dat/Entire signal/Digital\n",
    "# Target file created with: rdsamp -r sampledata/s0010_re | cut -f 2- > target7\n",
    "sig, fields=readsignal.rdsamp('sampledata/s0010_re', physical=0)\n",
    "\n",
    "# Test 8 - Multi-dat/Selected Duration/Selected Channels/Physical\n",
    "# Target file created with: rdsamp -r sampledata/s0010_re -f 5 -t 38 -P -s 13 0 4 8 3 | cut -f 2- > target8\n",
    "sig, fields=readsignal.rdsamp('sampledata/s0010_re', sampfrom=5000, sampto=38000, channels=[13, 0, 4, 8, 3])\n",
    "\n",
    "# Test 9 - Format 12 multi-samples/frame and skew/Entire Signal/Digital\n",
    "# Target file created with: rdsamp -r sampledata/03700181 | cut -f 2- > target9\n",
    "sig, fields=readsignal.rdsamp('sampledata/03700181', physical=0)\n",
    "\n",
    "# Test 10 - Format 12 multi-samples/frame and skew/Selected Duration/Selected channel/Physical\n",
    "# Target file created with: rdsamp -r sampledata/03700181 -f 8 -t 16000  | cut -f 2- > target10\n",
    "sig, fields=readsignal.rdsamp('sampledata/03700181', physical=0)"
   ]
  },
  {
   "cell_type": "markdown",
   "metadata": {},
   "source": [
    "<h2>Decide comprehensive tests before adding to travis - annotations</h2>\n",
    "Target files created with wfdb software package's <code>rdann</code>"
   ]
  },
  {
   "cell_type": "code",
   "execution_count": null,
   "metadata": {
    "collapsed": false
   },
   "outputs": [],
   "source": [
    "import numpy as np\n",
    "from wfdb import readannot\n",
    "\n",
    "# Test 1 - \n",
    "# Target file created with: rdann -r 100 -a atr > anntarget1\n",
    "annsamp, anntype, num, subtype, chan, aux, annfs=readannot.rdann('sampledata/100', 'atr')\n",
    "\n",
    "\n",
    "# Test 2\n",
    "# Target file created with: rdann -r chb01_03.edf -a seizures > anntarget2\n",
    "annsamp, anntype, num, subtype, chan, aux, annfs=readannot.rdann('sampledata/chb01_03', 'seizures')\n"
   ]
  },
  {
   "cell_type": "code",
   "execution_count": null,
   "metadata": {
    "collapsed": false
   },
   "outputs": [],
   "source": [
    "from wfdb import readannot\n",
    "annsamp, anntype, num, subtype, chan, aux, annfs=readannot.rdann('sampledata/100', 'fake2', sampfrom=17)\n",
    "print(\"annsamp: \", annsamp)\n",
    "print(\"anntype: \", anntype)\n",
    "print(\"num: \", num)\n",
    "print(\"subtype: \", subtype)\n",
    "print(\"chan: \", chan)\n",
    "print(\"aux: \", aux)\n",
    "print(\"annfs: \", annfs)\n",
    "\n",
    "\n",
    "a=aux[3]\n",
    "print(a)\n",
    "print(len(a))\n",
    "a=aux[5]\n",
    "print(a)\n",
    "print(len(a))"
   ]
  },
  {
   "cell_type": "code",
   "execution_count": null,
   "metadata": {
    "collapsed": false
   },
   "outputs": [],
   "source": [
    "from wfdb import readannot\n",
    "annsamp, anntype, num, subtype, chan, aux, annfs=readannot.rdann('sampledata/chb01_03.edf', 'seizures', sampfrom=766977, sampto=777326)\n",
    "print(\"annsamp: \", annsamp)\n",
    "print(\"anntype: \", anntype)\n",
    "print(\"num: \", num)\n",
    "print(\"subtype: \", subtype)\n",
    "print(\"chan: \", chan)\n",
    "print(\"aux: \", aux)\n",
    "print(\"annfs: \", annfs)"
   ]
  },
  {
   "cell_type": "code",
   "execution_count": null,
   "metadata": {
    "collapsed": false
   },
   "outputs": [],
   "source": [
    "from wfdb import readannot\n",
    "annsamp, anntype, num, subtype, chan, aux, annfs=readannot.rdann('sampledata/100', 'fake3', anndisp=1)\n",
    "print(\"annsamp: \", annsamp)\n",
    "print(\"anntype: \", anntype)\n",
    "print(\"num: \", num)\n",
    "print(\"subtype: \", subtype)\n",
    "print(\"chan: \", chan)\n",
    "print(\"aux: \", aux)\n",
    "print(\"annfs: \", annfs)"
   ]
  },
  {
   "cell_type": "code",
   "execution_count": null,
   "metadata": {
    "collapsed": false
   },
   "outputs": [],
   "source": [
    "# For writing test annotation files based on first 3 annotations of 12726.anI\n",
    "\n",
    "f=open('tmp.fake', 'wb')\n",
    "\n",
    "indata= np.array([0, 236,   1,   0, 200,  84,   0,  88, 255, 251,  21, 252,  73, 110, 105, 116,\n",
    "                  105,  97, 116, 101,  32, 115, 108, 111, 119,  32, 116, 105, 108, 116,  32, 117,\n",
    "                  112,   0,   0, 236,   0,   0,  67,  50,   0,  88,  21, 252,  67, 111, 110,  99,\n",
    "108, 117, 100, 101,  32, 115, 108, 111, 119,  32, 116, 105, 108, 116,  32, 117,\n",
    "112,   0,   0, 236,   0,   0, 114, 183,   0,  88,  23, 252,  73, 110, 105, 116,\n",
    "105,  97, 116, 101,  32, 115, 108, 111, 119,  32, 116, 105, 108, 116,  32, 100,\n",
    "111, 119, 110,   0, 0 ,0 ]).astype('u1')\n",
    "\n",
    "\n",
    "print(indata)\n",
    "\n",
    "indata.tofile(f)\n",
    "\n",
    "\n",
    "f.close()\n"
   ]
  },
  {
   "cell_type": "code",
   "execution_count": null,
   "metadata": {
    "collapsed": true
   },
   "outputs": [],
   "source": [
    "# Write a single sample format 212 wfdb record to read\n",
    "import numpy as np\n",
    "\n",
    "f=open('tmp.dat', 'wb')\n",
    "indata= np.array([100, 0]).astype('u1')\n",
    "indata.tofile(f)\n",
    "f.close()\n",
    "\n",
    "from wfdb import readsignal\n",
    "sig, fields=readsignal.rdsamp('tmp')\n",
    "print(sig)\n"
   ]
  },
  {
   "cell_type": "code",
   "execution_count": null,
   "metadata": {
    "collapsed": false
   },
   "outputs": [],
   "source": [
    "# Write a 1 channel fmt 12 wfdb record and test reading specific samples\n",
    "import numpy as np\n",
    "\n",
    "f=open('single12.dat', 'wb')\n",
    "indata= np.array([20, 0, 30, 40, 0, 50 ]).astype('u1')\n",
    "indata.tofile(f)\n",
    "f.close()\n",
    "\n",
    "\n",
    "from wfdb import readsignal\n",
    "sig, fields=readsignal.rdsamp('single12', physical=0, sampfrom=3)\n",
    "print(sig)"
   ]
  },
  {
   "cell_type": "code",
   "execution_count": null,
   "metadata": {
    "collapsed": false
   },
   "outputs": [],
   "source": [
    "# Write a 1 channel fmt 310 wfdb record and test reading specific samples\n",
    "import numpy as np\n",
    "from wfdb import readsignal\n",
    "\n",
    "f=open('single310.dat', 'wb')\n",
    "indata= np.array([20, 0, 0, 0, 20, 0, 0, 0]).astype('u1')\n",
    "indata.tofile(f)\n",
    "f.close()\n",
    "\n",
    "\n",
    "\n",
    "sig, fields=readsignal.rdsamp('single310', physical=0, sampfrom=5)\n",
    "print(sig)"
   ]
  },
  {
   "cell_type": "code",
   "execution_count": null,
   "metadata": {
    "collapsed": false
   },
   "outputs": [],
   "source": [
    "# Testing format 310 record. Written using rdsamp -r sampledata/100 | cut -f 2- | wrsamp -o test310 -O 310 \n",
    "from wfdb import readsignal\n",
    "sig, fields=readsignal.rdsamp('sampledata/test310', physical=0, sampto=1)\n",
    "print(\"sig final output:\\n\", sig)\n",
    "#print(sig.shape)\n",
    "\n",
    "\n",
    "\n",
    "# WFDB did not write the last sample???? "
   ]
  },
  {
   "cell_type": "code",
   "execution_count": null,
   "metadata": {
    "collapsed": false
   },
   "outputs": [],
   "source": [
    "# Testing format 311 record. Written using rdsamp -r sampledata/100 | cut -f 2- | wrsamp -o test311 -O 311\n",
    "from wfdb import readsignal\n",
    "sig, fields=readsignal.rdsamp('sampledata/test311', physical=0)\n",
    "print(\"sig final output:\\n\", sig)\n",
    "#print(sig.shape)\n",
    "\n",
    "\n",
    "\n",
    "# WFDB did not write the last sample???? "
   ]
  },
  {
   "cell_type": "code",
   "execution_count": null,
   "metadata": {
    "collapsed": true
   },
   "outputs": [],
   "source": [
    "from wfdb import readsignal\n",
    "sig, fields=readsignal.rdsamp('sampledata/s0010_re', sampfrom=5000, sampto=38000, channels=[13, 0, 4, 8, 3])\n",
    "sig=sig[:-4,:]\n",
    "\n",
    "\n",
    "targetsig=np.genfromtext('tests/targetoutputdata/target9')\n",
    "np.array_equal(sig, targetsig)"
   ]
  },
  {
   "cell_type": "code",
   "execution_count": null,
   "metadata": {
    "collapsed": true
   },
   "outputs": [],
   "source": []
  },
  {
   "cell_type": "code",
   "execution_count": null,
   "metadata": {
    "collapsed": false
   },
   "outputs": [],
   "source": [
    "15000*6*1.5"
   ]
  },
  {
   "cell_type": "code",
   "execution_count": 1,
   "metadata": {
    "collapsed": false
   },
   "outputs": [
    {
     "name": "stdout",
     "output_type": "stream",
     "text": [
      "sigbytes:  [ 53 187  75 ..., 180  27  81]\n",
      "startbyte:  9000\n",
      "nbytesread:  135000\n",
      "startbyte:  144000\n",
      "floorsamp:  0\n",
      "sigbytes:  [236 255 236   2 240 236 163  27  61 236 255 236 236  15   2 147  27  40\n",
      " 236 255 236 236 255 236 130  27  19   2 240 236 236 255 236 114  11 254]\n",
      "extralodedsig:  [[  -14 -1117   317]\n",
      " [  -14 -1133   296]\n",
      " [  -20 -1150   275]\n",
      " [  -14 -1166   254]]\n",
      "\n",
      "sig:  [[-1166 -1206  -214]\n",
      " [ -968 -1205  -237]\n",
      " [ -689 -1204  -261]\n",
      " ..., \n",
      " [  -14 -1071   296]\n",
      " [   -9 -1085   275]\n",
      " [   -9 -1100   254]]\n",
      "\n",
      "\n",
      "\n",
      "End of sig:  [[   39 -1023   433]\n",
      " [    2 -1022   415]\n",
      " [    2 -1025   396]\n",
      " [   -3 -1031   377]\n",
      " [   -3 -1038   357]\n",
      " [  -25 -1047   337]\n",
      " [   -3 -1058   317]\n",
      " [  -14 -1071   296]\n",
      " [   -9 -1085   275]\n",
      " [   -9 -1100   254]]\n"
     ]
    }
   ],
   "source": [
    "# Trying to fix byte pointer for reading skewed signals. \n",
    "\n",
    "from wfdb import readsignal\n",
    "import numpy as np\n",
    "#sig, fields=readsignal.rdsamp('sampledata/03700181', channels=[0,2], sampfrom=1000, sampto=16000)\n",
    "#sig=np.round(sig, decimals=8)\n",
    "#targetsig=np.genfromtxt('tests/targetoutputdata/target10')\n",
    "\n",
    "sig, fields=readsignal.rdsamp('sampledata/03700181', sampfrom=1000, sampto=16000, physical=0) # fs=125. -f 8 -t 128\n",
    "\n",
    "print(\"\\nsig: \", sig)\n",
    "print('\\n\\n')\n",
    "print(\"End of sig: \", sig[-10:,:])\n",
    "\n",
    "\n",
    "# nbytesread = 15000 frames * 6 samples/frame * 1.5 bytes/sample = 135000\n",
    "\n",
    "# Try to octal dump the right section of the file. After 16000 frames x (6 samples/frame)  = 96000 samples * (1.5 bytes per sample)\n",
    "# = 144000 bytes skip. \n",
    "\n",
    "\n",
    "\n",
    "# od -t u1 03700181.dat -j 144000 -N 30 \n",
    "\n",
    "# Result: \n",
    "# 236 255 236   2 240 236 163  27  61 236 255 236 236  15   2 147\n",
    "#  27  40 236 255 236 236 255 236 130  27  19   2 240 236\n",
    "\n",
    "\n"
   ]
  },
  {
   "cell_type": "code",
   "execution_count": null,
   "metadata": {
    "collapsed": true
   },
   "outputs": [],
   "source": [
    "from wfdb import readsignal\n",
    "import numpy as np\n",
    "\n",
    "\n"
   ]
  },
  {
   "cell_type": "code",
   "execution_count": null,
   "metadata": {
    "collapsed": false
   },
   "outputs": [],
   "source": [
    "from wfdb import readsignal\n",
    "import numpy as np\n",
    "sig, fields=readsignal.rdsamp('sampledata/matched/s25047/s25047-2704-05-04-10-44')\n",
    "sig=np.round(sig, decimals=8)\n",
    "targetsig=np.genfromtxt('tests/targetoutputdata/target11')\n",
    "\n",
    "print(sig)\n",
    "print(targetsig)"
   ]
  },
  {
   "cell_type": "code",
   "execution_count": null,
   "metadata": {
    "collapsed": false
   },
   "outputs": [],
   "source": [
    "from wfdb import readsignal\n",
    "sig, fields=readsignal.rdsamp('sampledata/matched/s25047/s25047-2704-05-04-10-44', physical=0)\n",
    "\n",
    "print(sig)"
   ]
  },
  {
   "cell_type": "code",
   "execution_count": null,
   "metadata": {
    "collapsed": false
   },
   "outputs": [],
   "source": [
    "# Layout header gains: 86, 86\n",
    "# Specific record gains: 81, 60\n",
    "\n",
    "# Digital samples: 4, 2 (second last row) \n",
    "\n",
    "\n",
    "# Physical according to layout: 0.0465, 0.02325\n",
    "# Physical according to specific record: 0.0493, 0.0333\n",
    "\n",
    "\n",
    "# Physical according to WFDB software rdsamp: 0.0465   0.02325"
   ]
  },
  {
   "cell_type": "code",
   "execution_count": null,
   "metadata": {
    "collapsed": false,
    "scrolled": true
   },
   "outputs": [],
   "source": [
    "import numpy as np\n",
    "\n",
    "f=open('tmp','wb')\n",
    "indata= np.array([1, 2, 3, 4, 5, 6]).astype('u1')\n",
    "indata.tofile(f)\n",
    "f.close\n",
    "\n",
    "f=open('tmp','rb')\n",
    "\n",
    "a=np.fromfile(f, '<u1', count=1)\n",
    "print(a)\n",
    "\n",
    "a=np.fromfile(f, '<u1', count=1)\n",
    "print(a)\n",
    "\n",
    "f.seek(1)\n",
    "a=np.fromfile(f, '<u1', count=1)\n",
    "print(a)\n",
    "\n",
    "f.seek(1)\n",
    "a=np.fromfile(f, '<u1', count=1)\n",
    "print(a)\n",
    "\n",
    "dir(f)"
   ]
  },
  {
   "cell_type": "code",
   "execution_count": null,
   "metadata": {
    "collapsed": false
   },
   "outputs": [],
   "source": [
    "128*125"
   ]
  },
  {
   "cell_type": "code",
   "execution_count": null,
   "metadata": {
    "collapsed": true
   },
   "outputs": [],
   "source": []
  }
 ],
 "metadata": {
  "kernelspec": {
   "display_name": "Python 3",
   "language": "python",
   "name": "python3"
  },
  "language_info": {
   "codemirror_mode": {
    "name": "ipython",
    "version": 3
   },
   "file_extension": ".py",
   "mimetype": "text/x-python",
   "name": "python",
   "nbconvert_exporter": "python",
   "pygments_lexer": "ipython3",
   "version": "3.5.1"
  }
 },
 "nbformat": 4,
 "nbformat_minor": 0
}
