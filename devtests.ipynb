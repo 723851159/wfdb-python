{
 "cells": [
  {
   "cell_type": "markdown",
   "metadata": {},
   "source": [
    "<h2>This script is for internal developer testing.</h2>"
   ]
  },
  {
   "cell_type": "code",
   "execution_count": 6,
   "metadata": {
    "collapsed": false
   },
   "outputs": [
    {
     "ename": "ImportError",
     "evalue": "No module named 'pandas'",
     "output_type": "error",
     "traceback": [
      "\u001b[0;31m---------------------------------------------------------------------------\u001b[0m",
      "\u001b[0;31mImportError\u001b[0m                               Traceback (most recent call last)",
      "\u001b[0;32m<ipython-input-6-f69d0cc5fe48>\u001b[0m in \u001b[0;36m<module>\u001b[0;34m()\u001b[0m\n\u001b[0;32m----> 1\u001b[0;31m \u001b[0;32mimport\u001b[0m \u001b[0mwfdb\u001b[0m\u001b[0;34m\u001b[0m\u001b[0m\n\u001b[0m",
      "\u001b[0;32m/home/cx1111/Projects/wfdb-python/wfdb/__init__.py\u001b[0m in \u001b[0;36m<module>\u001b[0;34m()\u001b[0m\n\u001b[1;32m      2\u001b[0m \u001b[0;34m\u001b[0m\u001b[0m\n\u001b[1;32m      3\u001b[0m \u001b[0;32mfrom\u001b[0m \u001b[0;34m.\u001b[0m\u001b[0mrecords\u001b[0m \u001b[0;32mimport\u001b[0m \u001b[0mRecord\u001b[0m\u001b[0;34m,\u001b[0m \u001b[0mMultiRecord\u001b[0m\u001b[0;34m,\u001b[0m \u001b[0mrdheader\u001b[0m\u001b[0;34m,\u001b[0m \u001b[0mrdsamp\u001b[0m\u001b[0;34m,\u001b[0m \u001b[0msrdsamp\u001b[0m\u001b[0;34m,\u001b[0m \u001b[0mwrsamp\u001b[0m\u001b[0;34m\u001b[0m\u001b[0m\n\u001b[0;32m----> 4\u001b[0;31m \u001b[0;32mfrom\u001b[0m \u001b[0;34m.\u001b[0m\u001b[0mannotations\u001b[0m \u001b[0;32mimport\u001b[0m \u001b[0mAnnotation\u001b[0m\u001b[0;34m,\u001b[0m \u001b[0mrdann\u001b[0m\u001b[0;34m,\u001b[0m \u001b[0mwrann\u001b[0m\u001b[0;34m,\u001b[0m \u001b[0mshowanncodes\u001b[0m\u001b[0;34m\u001b[0m\u001b[0m\n\u001b[0m\u001b[1;32m      5\u001b[0m \u001b[0;32mfrom\u001b[0m \u001b[0;34m.\u001b[0m\u001b[0mplots\u001b[0m \u001b[0;32mimport\u001b[0m \u001b[0mplotrec\u001b[0m\u001b[0;34m\u001b[0m\u001b[0m\n",
      "\u001b[0;32m/home/cx1111/Projects/wfdb-python/wfdb/annotations.py\u001b[0m in \u001b[0;36m<module>\u001b[0;34m()\u001b[0m\n\u001b[1;32m      1\u001b[0m \u001b[0;32mimport\u001b[0m \u001b[0mnumpy\u001b[0m \u001b[0;32mas\u001b[0m \u001b[0mnp\u001b[0m\u001b[0;34m\u001b[0m\u001b[0m\n\u001b[0;32m----> 2\u001b[0;31m \u001b[0;32mimport\u001b[0m \u001b[0mpandas\u001b[0m \u001b[0;32mas\u001b[0m \u001b[0mpd\u001b[0m\u001b[0;34m\u001b[0m\u001b[0m\n\u001b[0m\u001b[1;32m      3\u001b[0m \u001b[0;32mimport\u001b[0m \u001b[0msys\u001b[0m\u001b[0;34m\u001b[0m\u001b[0m\n\u001b[1;32m      4\u001b[0m \u001b[0;32mfrom\u001b[0m \u001b[0mIPython\u001b[0m\u001b[0;34m.\u001b[0m\u001b[0mdisplay\u001b[0m \u001b[0;32mimport\u001b[0m \u001b[0mdisplay\u001b[0m\u001b[0;34m\u001b[0m\u001b[0m\n\u001b[1;32m      5\u001b[0m \u001b[0;32mimport\u001b[0m \u001b[0mre\u001b[0m\u001b[0;34m\u001b[0m\u001b[0m\n",
      "\u001b[0;31mImportError\u001b[0m: No module named 'pandas'"
     ]
    }
   ],
   "source": [
    "import wfdb"
   ]
  },
  {
   "cell_type": "code",
   "execution_count": null,
   "metadata": {
    "collapsed": false
   },
   "outputs": [],
   "source": [
    "# Testing rdsamp multiple samples per frame (and fmt 12)\n",
    "sig, fields=wfdb.srdsamp('sampledata/03700181')\n",
    "print(sig[:20,:])\n",
    "print(\"\\n\\n\", sig.shape, \"\\n\\n\")\n",
    "print(fields)\n",
    "\n",
    "print(\"\\n\\n\\n\")\n",
    "print(sig[-20:,:])"
   ]
  },
  {
   "cell_type": "code",
   "execution_count": null,
   "metadata": {
    "collapsed": true
   },
   "outputs": [],
   "source": []
  },
  {
   "cell_type": "code",
   "execution_count": null,
   "metadata": {
    "collapsed": false,
    "scrolled": true
   },
   "outputs": [],
   "source": [
    "# Testing rdsamp format 80\n",
    "sig, fields=wfdb.srdsamp('sampledata/3000003_0003')\n",
    "print(sig)\n",
    "print(fields)"
   ]
  },
  {
   "cell_type": "code",
   "execution_count": null,
   "metadata": {
    "collapsed": false
   },
   "outputs": [],
   "source": [
    "# Testing rdsamp format 16 with byte offset (actually a .mat file too)\n",
    "sig, fields=wfdb.srdsamp('sampledata/a103l') \n",
    "#print(sig)\n",
    "#print(sig.shape)\n",
    "#print(fields)\n",
    "\n",
    "from wfdb import plotwfdb\n",
    "\n",
    "plotwfdb.plotsigs(sig, fields)\n",
    "\n",
    "\n",
    "# With channel selection and sampfrom sampto\n",
    "#sig, fields=readsignal.rdsamp('sampledata/a103l', channels=[2,0], sampfrom=250, sampto=80000) \n",
    "#print('\\n\\n')\n",
    "#print(sig)\n",
    "#print(fields)"
   ]
  },
  {
   "cell_type": "code",
   "execution_count": null,
   "metadata": {
    "collapsed": false
   },
   "outputs": [],
   "source": []
  },
  {
   "cell_type": "code",
   "execution_count": null,
   "metadata": {
    "collapsed": false
   },
   "outputs": [],
   "source": [
    "# For writing test annotation files based on first 3 annotations of 12726.anI\n",
    "\n",
    "f=open('tmp.fake', 'wb')\n",
    "\n",
    "indata= np.array([0, 236,   1,   0, 200,  84,   0,  88, 255, 251,  21, 252,  73, 110, 105, 116,\n",
    "                  105,  97, 116, 101,  32, 115, 108, 111, 119,  32, 116, 105, 108, 116,  32, 117,\n",
    "                  112,   0,   0, 236,   0,   0,  67,  50,   0,  88,  21, 252,  67, 111, 110,  99,\n",
    "108, 117, 100, 101,  32, 115, 108, 111, 119,  32, 116, 105, 108, 116,  32, 117,\n",
    "112,   0,   0, 236,   0,   0, 114, 183,   0,  88,  23, 252,  73, 110, 105, 116,\n",
    "105,  97, 116, 101,  32, 115, 108, 111, 119,  32, 116, 105, 108, 116,  32, 100,\n",
    "111, 119, 110,   0, 0 ,0 ]).astype('u1')\n",
    "\n",
    "\n",
    "print(indata)\n",
    "\n",
    "indata.tofile(f)\n",
    "\n",
    "\n",
    "f.close()\n"
   ]
  },
  {
   "cell_type": "code",
   "execution_count": null,
   "metadata": {
    "collapsed": false
   },
   "outputs": [],
   "source": [
    "# Trying to fix byte pointer for reading skewed signals. \n",
    "\n",
    "from wfdb import readsignal\n",
    "import numpy as np\n",
    "#sig, fields=readsignal.rdsamp('sampledata/03700181', channels=[0,2], sampfrom=1000, sampto=16000)\n",
    "#sig=np.round(sig, decimals=8)\n",
    "#targetsig=np.genfromtxt('tests/targetoutputdata/target10')\n",
    "\n",
    "sig, fields=readsignal.rdsamp('sampledata/03700181', sampfrom=1000, sampto=16000, physical=0) # fs=125. -f 8 -t 128\n",
    "\n",
    "print(\"\\nsig: \", sig)\n",
    "print('\\n\\n')\n",
    "print(\"End of sig: \", sig[-10:,:])\n",
    "\n",
    "\n",
    "# nbytesread = 15000 frames * 6 samples/frame * 1.5 bytes/sample = 135000\n",
    "\n",
    "# Try to octal dump the right section of the file. After 16000 frames x (6 samples/frame)  = 96000 samples * (1.5 bytes per sample)\n",
    "# = 144000 bytes skip. \n",
    "\n",
    "\n",
    "\n",
    "# od -t u1 03700181.dat -j 144000 -N 30 \n",
    "\n",
    "# Result: \n",
    "# 236 255 236   2 240 236 163  27  61 236 255 236 236  15   2 147\n",
    "#  27  40 236 255 236 236 255 236 130  27  19   2 240 236\n",
    "\n",
    "\n"
   ]
  },
  {
   "cell_type": "code",
   "execution_count": null,
   "metadata": {
    "collapsed": false
   },
   "outputs": [],
   "source": [
    "import wfdb\n",
    "ann = wfdb.rdann('/home/chen/Downloads/chb01_03.edf','seizures')"
   ]
  },
  {
   "cell_type": "code",
   "execution_count": null,
   "metadata": {
    "collapsed": false
   },
   "outputs": [],
   "source": [
    "ann.__dict__"
   ]
  },
  {
   "cell_type": "code",
   "execution_count": null,
   "metadata": {
    "collapsed": false
   },
   "outputs": [],
   "source": [
    "# Testing wrann\n",
    "import wfdb\n",
    "from IPython.display import display\n",
    "\n",
    "annsamp = [20, 40, 60, 80, 100, 800, 1200 , 3000, 3001, 8000, 100000]\n",
    "#annsamp = [20, 40, 60, 80, 100, 800, 1200]\n",
    "#annsamp = [20, 60, 2**31] # 2**31+100 is too large\n",
    "\n",
    "nsamp = len(annsamp)\n",
    "\n",
    "anntype = ['N', 'N', 'N', '3', 'N', '2', 'N', '1', 'N', 'N', 'g']\n",
    "sub = [1,0,0,0,5,3,2,5,0,0,0]\n",
    "chan = [2,2,3,2,9,2,2,2,2,2,2]\n",
    "num = [1,2,3,4,5,3,2,5,11,22,22]\n",
    "aux = [None, None, \"good\", \"good\", \"good\", \"good\", \"good\", \"good\", None, None, None]\n",
    "fs = 100\n",
    "fs = None\n",
    "\n",
    "a = wfdb.Annotation(recordname = 'firstann', annotator = 'atr', \n",
    "                    annsamp = annsamp, anntype = anntype, aux = aux, \n",
    "                    subtype = sub, chan = chan, num = num, fs = fs)\n",
    "a.type2aux()\n",
    "display(a.__dict__)\n",
    "a.wrann()\n",
    "\n",
    "b = wfdb.rdann('firstann', 'atr')\n",
    "b.__dict__\n",
    "\n",
    "\n",
    "# print([sd & 255, sd & 768, (sd & 768) >> 8])"
   ]
  },
  {
   "cell_type": "code",
   "execution_count": null,
   "metadata": {
    "collapsed": false
   },
   "outputs": [],
   "source": [
    "import numpy as np\n",
    "inttypes = [int, np.int64, np.int32]\n",
    "\n",
    "print(inttypes)\n",
    "display(inttypes)"
   ]
  },
  {
   "cell_type": "code",
   "execution_count": 6,
   "metadata": {
    "collapsed": false
   },
   "outputs": [
    {
     "name": "stdout",
     "output_type": "stream",
     "text": [
      "hi\n",
      "<class '__main__.square'>\n",
      "<class '__main__.circle'>\n",
      "<class '__main__.square'>\n"
     ]
    }
   ],
   "source": [
    "class circle():\n",
    "    \n",
    "    def __init__(self):\n",
    "        self.shape = 'round'\n",
    "        \n",
    "    def circle2square(self):\n",
    "        \n",
    "        return square()\n",
    "    \n",
    "        \n",
    "class square():\n",
    "    \n",
    "    def __init__(self):\n",
    "        self.shape = 'rectangular'\n",
    "        \n",
    "\n",
    "def printandswitch(circle):\n",
    "    print('hi')\n",
    "    circle = circle.circle2square()\n",
    "    print(type(circle))\n",
    "    \n",
    "myshape = circle()\n",
    "printandswitch(myshape)\n",
    "print(type(myshape))\n",
    "myshape = myshape.circle2square()\n",
    "print(type(myshape))\n",
    "        \n",
    "        "
   ]
  },
  {
   "cell_type": "code",
   "execution_count": 5,
   "metadata": {
    "collapsed": false
   },
   "outputs": [
    {
     "ename": "SystemError",
     "evalue": "Parent module '' not loaded, cannot perform relative import",
     "output_type": "error",
     "traceback": [
      "\u001b[0;31m---------------------------------------------------------------------------\u001b[0m",
      "\u001b[0;31mSystemError\u001b[0m                               Traceback (most recent call last)",
      "\u001b[0;32m<ipython-input-5-b4d190dd5dbc>\u001b[0m in \u001b[0;36m<module>\u001b[0;34m()\u001b[0m\n\u001b[1;32m      1\u001b[0m \u001b[0;32mimport\u001b[0m \u001b[0mnumpy\u001b[0m \u001b[0;32mas\u001b[0m \u001b[0mnp\u001b[0m\u001b[0;34m\u001b[0m\u001b[0m\n\u001b[0;32m----> 2\u001b[0;31m \u001b[0;32mfrom\u001b[0m \u001b[0;34m.\u001b[0m \u001b[0;32mimport\u001b[0m \u001b[0m_headers\u001b[0m\u001b[0;34m\u001b[0m\u001b[0m\n\u001b[0m\u001b[1;32m      3\u001b[0m \u001b[0;32mimport\u001b[0m \u001b[0mmatplotlib\u001b[0m\u001b[0;34m.\u001b[0m\u001b[0mpyplot\u001b[0m \u001b[0;32mas\u001b[0m \u001b[0mplt\u001b[0m\u001b[0;34m\u001b[0m\u001b[0m\n\u001b[1;32m      4\u001b[0m \u001b[0;34m\u001b[0m\u001b[0m\n\u001b[1;32m      5\u001b[0m \u001b[0;32mdef\u001b[0m \u001b[0mplotrec\u001b[0m\u001b[0;34m(\u001b[0m\u001b[0mrecord\u001b[0m\u001b[0;34m=\u001b[0m\u001b[0;32mNone\u001b[0m\u001b[0;34m,\u001b[0m \u001b[0msignals\u001b[0m \u001b[0;34m=\u001b[0m \u001b[0;32mNone\u001b[0m\u001b[0;34m,\u001b[0m \u001b[0mfields\u001b[0m \u001b[0;34m=\u001b[0m \u001b[0;32mNone\u001b[0m\u001b[0;34m,\u001b[0m \u001b[0mtitle\u001b[0m \u001b[0;34m=\u001b[0m \u001b[0;32mNone\u001b[0m\u001b[0;34m,\u001b[0m \u001b[0mtimeunits\u001b[0m\u001b[0;34m=\u001b[0m\u001b[0;34m'samples'\u001b[0m\u001b[0;34m,\u001b[0m \u001b[0mreturnfig\u001b[0m \u001b[0;34m=\u001b[0m \u001b[0;32mFalse\u001b[0m\u001b[0;34m)\u001b[0m\u001b[0;34m:\u001b[0m\u001b[0;34m\u001b[0m\u001b[0m\n",
      "\u001b[0;31mSystemError\u001b[0m: Parent module '' not loaded, cannot perform relative import"
     ]
    }
   ],
   "source": [
    "import numpy as np\n",
    "from . import _headers\n",
    "import matplotlib.pyplot as plt\n",
    "\n",
    "def plotrec(record=None, signals = None, fields = None, title = None, timeunits='samples', returnfig = False): \n",
    "    \n",
    "    # Figure out which arguments to use to plot\n",
    "    signals, fields = getplotitems(record, signals, fields)\n",
    "    \n",
    "    # Check the validity of items used to make the plot\n",
    "    # Return any ammendments and the x axis time/sample value\n",
    "    fields, t = checkplotitems(signals, fields, title, timeunits)\n",
    "    \n",
    "    siglen, nsig = signals.shape\n",
    "    \n",
    "    # Create the plot  \n",
    "    fig=plt.figure()\n",
    "    \n",
    "    for ch in range(nsig):\n",
    "        # Plot signal channel\n",
    "        plt.subplot(100*nsig+11+ch)\n",
    "        plt.plot(t, sig[:,ch]) \n",
    "        \n",
    "        if (title is not None) and (ch==0):\n",
    "            plt.title(title)\n",
    "            \n",
    "        # Axis Labels\n",
    "        if timeunits == 'samples':\n",
    "            plt.xlabel('index/sample')\n",
    "        else:\n",
    "            plt.xlabel('time/'+timeunits[:-1])\n",
    "            \n",
    "        if fields[\"signame\"][ch] is not none:\n",
    "            chanlabel=fields[\"signame\"][ch]\n",
    "        else:\n",
    "            chanlabel='channel'\n",
    "        if fields[\"units\"][ch] is not None:\n",
    "            unitlabel=fields[\"units\"][ch]\n",
    "        else:\n",
    "            unitlabel='NU'\n",
    "        plt.ylabel(chanlabel+\"/\"+unitlabel)\n",
    "        \n",
    "    plt.show(fig)\n",
    "    \n",
    "    # Return the figure if requested\n",
    "    if returnfig:\n",
    "        return fig\n",
    "\n",
    "#  Figure out which arguments to use to plot\n",
    "def getplotitems(record, signals, fields):\n",
    "    \n",
    "    if record is None:\n",
    "        if signals is None:\n",
    "            sys.exit('Either record or signals must be present. No input signal to plot.')\n",
    "        # Use the signals array\n",
    "    else:\n",
    "        # Use the record object\n",
    "        if signals is None:\n",
    "            # If it is a MultiRecord, convert it into single\n",
    "            if type(record) == MultiRecord:\n",
    "                record = record.multi_to_single()\n",
    "            \n",
    "            # Need to ensure p_signals is present\n",
    "            if record.p_signals is None:\n",
    "                sys.exit('The p_signals field must be present in the record object to plot')\n",
    "                \n",
    "            signals = record.p_signals\n",
    "            fields = {}\n",
    "            for field in ['fs', 'units', 'signame']:\n",
    "                fields[field] = getattr(record, field)\n",
    "        # Both are present\n",
    "        else:\n",
    "            sys.exit(\"Only one of 'record' or 'signals' can be input. Cannot plot both items.\")\n",
    "            \n",
    "    return signals, fields\n",
    "    \n",
    "def checkplotitems(signals, fields, title, timeunits):\n",
    "    \n",
    "    # signals\n",
    "    if type(signals) != np.ndarray or signals.ndim != 2:\n",
    "        sys.exit(\"The plotted signal must be a 2d numpy array\")\n",
    "    \n",
    "    siglen, nsig = signals.shape\n",
    "    \n",
    "    # fs and timeunits\n",
    "    allowedtimes = ['samples, seconds, minutes, hours']\n",
    "    if timeunits not in allowedtimes:\n",
    "        print(\"The 'timeunits' field must be one of the following: \", allowedtimes)\n",
    "        sys.exit()\n",
    "    # Get x axis values. fs must be valid when plotting time\n",
    "    if timeunits == 'samples':\n",
    "        t = np.linspace(siglen)\n",
    "    else:\n",
    "        if type(fields['fs']) not in _headers.floattypes:\n",
    "            sys.exit(\"The 'fs' field must be a number\")\n",
    "        \n",
    "        if timeunits == 'seconds':\n",
    "            t = np.linspace(siglen)/fs\n",
    "        elif timeunits == 'minutes':\n",
    "            t = np.linspace(siglen)/fs/60\n",
    "        else:\n",
    "            t = np.linspace(siglen)/fs/3600\n",
    "    \n",
    "    # units\n",
    "    if fields['units'] is None:\n",
    "        fields['units'] = ['NU']*nsig\n",
    "    else:\n",
    "        if type(fields['units']) != list or len(fields['units'])!= nsig:\n",
    "            sys.exit(\"The 'units' parameter must be a list of strings with length equal to the number of signal channels\")\n",
    "        for ch in range(nsig):\n",
    "            if fields['units'][ch] is None:\n",
    "                fields['units'][ch] = 'NU'\n",
    "    # signame\n",
    "    if fields['signame'] is None:\n",
    "        fields['signame'] = ['ch'+str(ch) for ch in range(1, nsig+1)] \n",
    "    else:\n",
    "        if type(fields['signame']) != list or len(fields['signame'])!= nsig:\n",
    "            sys.exit(\"The 'signame' parameter must be a list of strings with length equal to the number of signal channels\")\n",
    "                \n",
    "    # title\n",
    "    if title is not None and type(title) != str:\n",
    "        sys.exit(\"The 'title' field must be a string\")\n",
    "    \n",
    "    return fields, t"
   ]
  },
  {
   "cell_type": "code",
   "execution_count": 7,
   "metadata": {
    "collapsed": true
   },
   "outputs": [],
   "source": [
    "import wfdb\n",
    "\n",
    "x = wfdb.Record()\n"
   ]
  },
  {
   "cell_type": "code",
   "execution_count": 2,
   "metadata": {
    "collapsed": false
   },
   "outputs": [
    {
     "data": {
      "text/plain": [
       "True"
      ]
     },
     "execution_count": 2,
     "metadata": {},
     "output_type": "execute_result"
    }
   ],
   "source": [
    "type(5.4) == float"
   ]
  },
  {
   "cell_type": "code",
   "execution_count": null,
   "metadata": {
    "collapsed": true
   },
   "outputs": [],
   "source": []
  }
 ],
 "metadata": {
  "kernelspec": {
   "display_name": "Python 3",
   "language": "python",
   "name": "python3"
  },
  "language_info": {
   "codemirror_mode": {
    "name": "ipython",
    "version": 3
   },
   "file_extension": ".py",
   "mimetype": "text/x-python",
   "name": "python",
   "nbconvert_exporter": "python",
   "pygments_lexer": "ipython3",
   "version": "3.5.2"
  }
 },
 "nbformat": 4,
 "nbformat_minor": 0
}
