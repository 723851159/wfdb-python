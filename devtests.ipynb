{
 "cells": [
  {
   "cell_type": "markdown",
   "metadata": {},
   "source": [
    "<h2>This script is for internal developer testing.</h2>"
   ]
  },
  {
   "cell_type": "code",
   "execution_count": null,
   "metadata": {
    "collapsed": false
   },
   "outputs": [],
   "source": [
    "import numpy as np\n",
    "from wfdb import readsignal\n",
    "# Testing rdsamp format 212\n",
    "sig, fields=readsignal.rdsamp('sampledata/100', channels=[1], sampfrom=114, physical=0) # Default physical values\n",
    "print(sig)\n",
    "print(len(sig))\n",
    "\n",
    "#sig, fields=readsignal.rdsamp('sampledata/100', physical=0) # Digital values\n",
    "#print(sig)\n",
    "#print(fields)"
   ]
  },
  {
   "cell_type": "code",
   "execution_count": null,
   "metadata": {
    "collapsed": false
   },
   "outputs": [],
   "source": [
    "from wfdb import readsignal\n",
    "\n",
    "# Testing rdsamp format 16\n",
    "sig, fields=readsignal.rdsamp('sampledata/test01_00s')\n",
    "print(sig)\n",
    "print(fields)\n"
   ]
  },
  {
   "cell_type": "code",
   "execution_count": null,
   "metadata": {
    "collapsed": false
   },
   "outputs": [],
   "source": [
    "# Testing rdsamp multiple samples per frame (and fmt 12)\n",
    "from wfdb import readsignal\n",
    "sig, fields=readsignal.rdsamp('sampledata/03700181', physical=0)\n",
    "print(sig[:20,:])\n",
    "print(\"\\n\\n\", sig.shape, \"\\n\\n\")\n",
    "print(fields)\n",
    "\n",
    "print(\"\\n\\n\\n\")\n",
    "print(sig[-20:,:])"
   ]
  },
  {
   "cell_type": "code",
   "execution_count": null,
   "metadata": {
    "collapsed": false,
    "scrolled": true
   },
   "outputs": [],
   "source": [
    "# Testing rdsamp format 80\n",
    "sig, fields=readsignal.rdsamp('sampledata/3000003_0003')\n",
    "print(sig)\n",
    "print(fields)"
   ]
  },
  {
   "cell_type": "code",
   "execution_count": null,
   "metadata": {
    "collapsed": false
   },
   "outputs": [],
   "source": [
    "# Testing rdsamp format 16 with byte offset (actually a .mat file too)\n",
    "import numpy as np\n",
    "from wfdb import readsignal\n",
    "sig, fields=readsignal.rdsamp('sampledata/a103l') \n",
    "#print(sig)\n",
    "#print(sig.shape)\n",
    "#print(fields)\n",
    "\n",
    "from wfdb import plotwfdb\n",
    "\n",
    "plotwfdb.plotsigs(sig, fields)\n",
    "\n",
    "\n",
    "# With channel selection and sampfrom sampto\n",
    "#sig, fields=readsignal.rdsamp('sampledata/a103l', channels=[2,0], sampfrom=250, sampto=80000) \n",
    "#print('\\n\\n')\n",
    "#print(sig)\n",
    "#print(fields)"
   ]
  },
  {
   "cell_type": "code",
   "execution_count": null,
   "metadata": {
    "collapsed": false,
    "scrolled": false
   },
   "outputs": [],
   "source": [
    "# Testing rdsamp multi-segment variable layout record (from https://physionet.org/physiobank/database/mimic2wdb/matched/s00001/)\n",
    "import numpy as np\n",
    "from wfdb import readsignal\n",
    "\n",
    "# Return list of arrays\n",
    "sig, fields=readsignal.rdsamp('sampledata/matched/s00001/s00001-2896-10-10-00-31', sampfrom=3200, sampto=20000, stacksegments=0)\n",
    "#print(\"len(sig): \", len(sig))\n",
    "#print(len(fields))\n",
    "\n",
    "print(sig)\n",
    "print(\"\\n\\n\")\n",
    "print(sig[len(sig)-1])\n",
    "print(\"\\n\\n\")\n",
    "print(len(sig[len(sig)-1]))\n",
    "print(\"\\n\\n\")\n",
    "print(fields[0])\n",
    "print(\"\\n\\n\")\n",
    "print(fields[1])\n",
    "print(\"\\n\\n\")\n",
    "print(fields[2])"
   ]
  },
  {
   "cell_type": "code",
   "execution_count": null,
   "metadata": {
    "collapsed": false
   },
   "outputs": [],
   "source": [
    "# Testing rdsamp multi-segment variable layout record - stacksegments\n",
    "import numpy as np\n",
    "from wfdb import readsignal\n",
    "\n",
    "\n",
    "# Return single numpy array\n",
    "sig, fields=readsignal.rdsamp('sampledata/multisegmentV/s00001-2896-10-10-00-31', stacksegments=1, sampto=10000, channels=[1, 2])\n",
    "\n",
    "print(sig)\n",
    "print(sig.shape)\n",
    "print(\"\\n\\n\")\n",
    "print(fields[0])\n",
    "print(\"\\n\\n\")\n",
    "print(fields[1])\n",
    "print(\"\\n\\n\")\n",
    "print(fields[2])"
   ]
  },
  {
   "cell_type": "code",
   "execution_count": null,
   "metadata": {
    "collapsed": false
   },
   "outputs": [],
   "source": [
    "# Testing rdsamp multi-dat signals (from https://physionet.org/physiobank/database/ptbdb/patient001/)\n",
    "import numpy as np\n",
    "from wfdb import readsignal\n",
    "\n",
    "sig, fields=readsignal.rdsamp('sampledata/s0010_re', channels=[14, 0, 5, 10, 11], sampfrom=100, sampto=20000)\n",
    "from wfdb import plotwfdb\n",
    "plotwfdb.plotsigs(sig, fields)\n",
    "print(\"\\n\\n\\n\", sig, \"\\n\\n\\n\")\n",
    "print(fields)\n",
    "print(fields[\"signame\"])"
   ]
  },
  {
   "cell_type": "code",
   "execution_count": null,
   "metadata": {
    "collapsed": false
   },
   "outputs": [],
   "source": [
    "# Testing rdsamp multi-segment record with sampfrom, sampto, and channel selection\n",
    "import numpy as np\n",
    "from wfdb import readsignal\n",
    "\n",
    "# Return list of arrays\n",
    "sig, fields=readsignal.rdsamp('sampledata/multisegmentV/s00001-2896-10-10-00-31', sampfrom=10, sampto=10200, channels=[2,3], stacksegments=0)\n",
    "\n",
    "print(sig)\n",
    "# Return single array\n",
    "sig, fields=readsignal.rdsamp('sampledata/multisegmentV/s00001-2896-10-10-00-31', sampfrom=10, sampto=10200, channels=[1,0,2],stacksegments=1)\n",
    "\n",
    "print(sig)"
   ]
  },
  {
   "cell_type": "code",
   "execution_count": null,
   "metadata": {
    "collapsed": false
   },
   "outputs": [],
   "source": []
  },
  {
   "cell_type": "markdown",
   "metadata": {},
   "source": [
    "<h2>Decide comprehensive tests before adding to travis - signals</h2>\n",
    "Target files created with wfdb software package's <code>rdsamp</code>"
   ]
  },
  {
   "cell_type": "code",
   "execution_count": null,
   "metadata": {
    "collapsed": true
   },
   "outputs": [],
   "source": [
    "import numpy as np\n",
    "from wfdb import readsignal\n",
    "\n",
    "# Test 1 - Format 212/Entire signal/Physical \n",
    "# Target file created with: rdsamp -r sampledata/100 -P | cut -f 2- > target1\n",
    "sig, fields=readsignal.rdsamp('sampledata/100') \n",
    "\n",
    "# Test 2 - Format 212/Selected Duration/Selected Channel/Digital\n",
    "# Target file created with: rdsamp -r sampledata/100 -f 1 -t 30 -s 1 | cut -f 2- > target2\n",
    "sig, fields=readsignal.rdsamp('sampledata/100', sampfrom=360, sampto=10800, channels=[1], physical=0)  \n",
    "\n",
    "# Test 3 - Format 16/Entire signal/Digital\n",
    "# Target file created with: rdsamp -r sampledata/test01_00s | cut -f 2- > target3\n",
    "sig, fields=readsignal.rdsamp('sampledata/test01_00s', physical=0)\n",
    "\n",
    "# Test 4 - Format 16 with byte offset/Selected Duration/Selected Channels/Physical\n",
    "# Target file created with: rdsamp -r sampledata/a103l -f 50 -t 160 -s 2 0 -P | cut -f 2- > target4\n",
    "sig, fields=readsignal.rdsamp('sampledata/a103l', sampfrom=12500, sampto=40000, channels=[2, 0])\n",
    "\n",
    "# Test 5 - Format 16 with byte offset/Selected Duration/Selected Channels/Digital\n",
    "# Target file created with: rdsamp -r sampledata/a103l -f 80 -s 0 1 | cut -f 2- > target5\n",
    "sig, fields=readsignal.rdsamp('sampledata/a103l', sampfrom=20000, physical=0, channels=[0, 1])\n",
    "\n",
    "# Test 6 - Format 80/Selected Duration/Selected Channels/Physical\n",
    "# Target file created with: rdsamp -r sampledata/3000003_0003 -f 1 -t 8 -s 1 -P | cut -f 2- > target6\n",
    "sig, fields=readsignal.rdsamp('sampledata/3000003_0003', sampfrom=125, sampto=1000, channels=[1])\n",
    "\n",
    "# Test 7 - Multi-dat/Entire signal/Digital\n",
    "# Target file created with: rdsamp -r sampledata/s0010_re | cut -f 2- > target7\n",
    "sig, fields=readsignal.rdsamp('sampledata/s0010_re', physical=0)\n",
    "\n",
    "# Test 8 - Multi-dat/Selected Duration/Selected Channels/Physical\n",
    "# Target file created with: rdsamp -r sampledata/s0010_re -f 5 -t 38 -P -s 13 0 4 8 3 | cut -f 2- > target8\n",
    "sig, fields=readsignal.rdsamp('sampledata/s0010_re', sampfrom=5000, sampto=38000, channels=[13, 0, 4, 8, 3])\n",
    "\n",
    "# Test 9 - Format 12 multi-samples/frame and skew/Entire Signal/Digital\n",
    "# Target file created with: rdsamp -r sampledata/03700181 | cut -f 2- > target9\n",
    "sig, fields=readsignal.rdsamp('sampledata/03700181', physical=0)\n",
    "\n",
    "# Test 10 - Format 12 multi-samples/frame and skew/Selected Duration/Selected channel/Physical\n",
    "# Target file created with: rdsamp -r sampledata/03700181 -f 8 -t 16000  | cut -f 2- > target10\n",
    "sig, fields=readsignal.rdsamp('sampledata/03700181', physical=0)"
   ]
  },
  {
   "cell_type": "markdown",
   "metadata": {},
   "source": [
    "<h2>Decide comprehensive tests before adding to travis - annotations</h2>\n",
    "Target files created with wfdb software package's <code>rdann</code>"
   ]
  },
  {
   "cell_type": "code",
   "execution_count": null,
   "metadata": {
    "collapsed": false
   },
   "outputs": [],
   "source": [
    "import numpy as np\n",
    "from wfdb import readannot\n",
    "\n",
    "# Test 1 - \n",
    "# Target file created with: rdann -r 100 -a atr > anntarget1\n",
    "annsamp, anntype, num, subtype, chan, aux, annfs=readannot.rdann('sampledata/100', 'atr')\n",
    "\n",
    "\n",
    "# Test 2\n",
    "# Target file created with: rdann -r chb01_03.edf -a seizures > anntarget2\n",
    "annsamp, anntype, num, subtype, chan, aux, annfs=readannot.rdann('sampledata/chb01_03', 'seizures')\n"
   ]
  },
  {
   "cell_type": "code",
   "execution_count": null,
   "metadata": {
    "collapsed": false
   },
   "outputs": [],
   "source": [
    "from wfdb import readannot\n",
    "annsamp, anntype, num, subtype, chan, aux, annfs=readannot.rdann('sampledata/100', 'fake2', sampfrom=17)\n",
    "print(\"annsamp: \", annsamp)\n",
    "print(\"anntype: \", anntype)\n",
    "print(\"num: \", num)\n",
    "print(\"subtype: \", subtype)\n",
    "print(\"chan: \", chan)\n",
    "print(\"aux: \", aux)\n",
    "print(\"annfs: \", annfs)\n",
    "\n",
    "\n",
    "a=aux[3]\n",
    "print(a)\n",
    "print(len(a))\n",
    "a=aux[5]\n",
    "print(a)\n",
    "print(len(a))"
   ]
  },
  {
   "cell_type": "code",
   "execution_count": null,
   "metadata": {
    "collapsed": false
   },
   "outputs": [],
   "source": [
    "from wfdb import readannot\n",
    "annsamp, anntype, num, subtype, chan, aux, annfs=readannot.rdann('sampledata/chb01_03.edf', 'seizures', sampfrom=766977, sampto=777326)\n",
    "print(\"annsamp: \", annsamp)\n",
    "print(\"anntype: \", anntype)\n",
    "print(\"num: \", num)\n",
    "print(\"subtype: \", subtype)\n",
    "print(\"chan: \", chan)\n",
    "print(\"aux: \", aux)\n",
    "print(\"annfs: \", annfs)"
   ]
  },
  {
   "cell_type": "code",
   "execution_count": null,
   "metadata": {
    "collapsed": false
   },
   "outputs": [],
   "source": [
    "from wfdb import readannot\n",
    "annsamp, anntype, num, subtype, chan, aux, annfs=readannot.rdann('sampledata/100', 'fake3', anndisp=1)\n",
    "print(\"annsamp: \", annsamp)\n",
    "print(\"anntype: \", anntype)\n",
    "print(\"num: \", num)\n",
    "print(\"subtype: \", subtype)\n",
    "print(\"chan: \", chan)\n",
    "print(\"aux: \", aux)\n",
    "print(\"annfs: \", annfs)"
   ]
  },
  {
   "cell_type": "code",
   "execution_count": null,
   "metadata": {
    "collapsed": false
   },
   "outputs": [],
   "source": [
    "# For writing test annotation files based on first 3 annotations of 12726.anI\n",
    "\n",
    "f=open('tmp.fake', 'wb')\n",
    "\n",
    "indata= np.array([0, 236,   1,   0, 200,  84,   0,  88, 255, 251,  21, 252,  73, 110, 105, 116,\n",
    "                  105,  97, 116, 101,  32, 115, 108, 111, 119,  32, 116, 105, 108, 116,  32, 117,\n",
    "                  112,   0,   0, 236,   0,   0,  67,  50,   0,  88,  21, 252,  67, 111, 110,  99,\n",
    "108, 117, 100, 101,  32, 115, 108, 111, 119,  32, 116, 105, 108, 116,  32, 117,\n",
    "112,   0,   0, 236,   0,   0, 114, 183,   0,  88,  23, 252,  73, 110, 105, 116,\n",
    "105,  97, 116, 101,  32, 115, 108, 111, 119,  32, 116, 105, 108, 116,  32, 100,\n",
    "111, 119, 110,   0, 0 ,0 ]).astype('u1')\n",
    "\n",
    "\n",
    "print(indata)\n",
    "\n",
    "indata.tofile(f)\n",
    "\n",
    "\n",
    "f.close()\n"
   ]
  },
  {
   "cell_type": "code",
   "execution_count": null,
   "metadata": {
    "collapsed": true
   },
   "outputs": [],
   "source": [
    "# Write a single sample format 212 wfdb record to read\n",
    "import numpy as np\n",
    "\n",
    "f=open('tmp.dat', 'wb')\n",
    "indata= np.array([100, 0]).astype('u1')\n",
    "indata.tofile(f)\n",
    "f.close()\n",
    "\n",
    "from wfdb import readsignal\n",
    "sig, fields=readsignal.rdsamp('tmp')\n",
    "print(sig)\n"
   ]
  },
  {
   "cell_type": "code",
   "execution_count": null,
   "metadata": {
    "collapsed": false
   },
   "outputs": [],
   "source": [
    "# Write a 1 channel fmt 12 wfdb record and test reading specific samples\n",
    "import numpy as np\n",
    "\n",
    "f=open('single12.dat', 'wb')\n",
    "indata= np.array([20, 0, 30, 40, 0, 50 ]).astype('u1')\n",
    "indata.tofile(f)\n",
    "f.close()\n",
    "\n",
    "\n",
    "from wfdb import readsignal\n",
    "sig, fields=readsignal.rdsamp('single12', physical=0, sampfrom=3)\n",
    "print(sig)"
   ]
  },
  {
   "cell_type": "code",
   "execution_count": null,
   "metadata": {
    "collapsed": false
   },
   "outputs": [],
   "source": [
    "# Write a 1 channel fmt 310 wfdb record and test reading specific samples\n",
    "import numpy as np\n",
    "from wfdb import readsignal\n",
    "\n",
    "f=open('single310.dat', 'wb')\n",
    "indata= np.array([20, 0, 0, 0, 20, 0, 0, 0]).astype('u1')\n",
    "indata.tofile(f)\n",
    "f.close()\n",
    "\n",
    "\n",
    "\n",
    "sig, fields=readsignal.rdsamp('single310', physical=0, sampfrom=5)\n",
    "print(sig)"
   ]
  },
  {
   "cell_type": "code",
   "execution_count": null,
   "metadata": {
    "collapsed": false
   },
   "outputs": [],
   "source": [
    "# Testing format 310 record. Written using rdsamp -r sampledata/100 | cut -f 2- | wrsamp -o test310 -O 310 \n",
    "from wfdb import readsignal\n",
    "sig, fields=readsignal.rdsamp('sampledata/test310', physical=0, sampto=1)\n",
    "print(\"sig final output:\\n\", sig)\n",
    "#print(sig.shape)\n",
    "\n",
    "\n",
    "\n",
    "# WFDB did not write the last sample???? "
   ]
  },
  {
   "cell_type": "code",
   "execution_count": null,
   "metadata": {
    "collapsed": false
   },
   "outputs": [],
   "source": [
    "# Testing format 311 record. Written using rdsamp -r sampledata/100 | cut -f 2- | wrsamp -o test311 -O 311\n",
    "from wfdb import readsignal\n",
    "sig, fields=readsignal.rdsamp('sampledata/test311', physical=0)\n",
    "print(\"sig final output:\\n\", sig)\n",
    "#print(sig.shape)\n",
    "\n",
    "\n",
    "\n",
    "# WFDB did not write the last sample???? "
   ]
  },
  {
   "cell_type": "code",
   "execution_count": null,
   "metadata": {
    "collapsed": true
   },
   "outputs": [],
   "source": [
    "from wfdb import readsignal\n",
    "sig, fields=readsignal.rdsamp('sampledata/s0010_re', sampfrom=5000, sampto=38000, channels=[13, 0, 4, 8, 3])\n",
    "sig=sig[:-4,:]\n",
    "\n",
    "\n",
    "targetsig=np.genfromtext('tests/targetoutputdata/target9')\n",
    "np.array_equal(sig, targetsig)"
   ]
  },
  {
   "cell_type": "code",
   "execution_count": null,
   "metadata": {
    "collapsed": true
   },
   "outputs": [],
   "source": []
  },
  {
   "cell_type": "code",
   "execution_count": null,
   "metadata": {
    "collapsed": false
   },
   "outputs": [],
   "source": [
    "# Trying to fix byte pointer for reading skewed signals. \n",
    "\n",
    "from wfdb import readsignal\n",
    "import numpy as np\n",
    "#sig, fields=readsignal.rdsamp('sampledata/03700181', channels=[0,2], sampfrom=1000, sampto=16000)\n",
    "#sig=np.round(sig, decimals=8)\n",
    "#targetsig=np.genfromtxt('tests/targetoutputdata/target10')\n",
    "\n",
    "sig, fields=readsignal.rdsamp('sampledata/03700181', sampfrom=1000, sampto=16000, physical=0) # fs=125. -f 8 -t 128\n",
    "\n",
    "print(\"\\nsig: \", sig)\n",
    "print('\\n\\n')\n",
    "print(\"End of sig: \", sig[-10:,:])\n",
    "\n",
    "\n",
    "# nbytesread = 15000 frames * 6 samples/frame * 1.5 bytes/sample = 135000\n",
    "\n",
    "# Try to octal dump the right section of the file. After 16000 frames x (6 samples/frame)  = 96000 samples * (1.5 bytes per sample)\n",
    "# = 144000 bytes skip. \n",
    "\n",
    "\n",
    "\n",
    "# od -t u1 03700181.dat -j 144000 -N 30 \n",
    "\n",
    "# Result: \n",
    "# 236 255 236   2 240 236 163  27  61 236 255 236 236  15   2 147\n",
    "#  27  40 236 255 236 236 255 236 130  27  19   2 240 236\n",
    "\n",
    "\n"
   ]
  },
  {
   "cell_type": "code",
   "execution_count": null,
   "metadata": {
    "collapsed": false
   },
   "outputs": [],
   "source": [
    "from wfdb import readsignal\n",
    "import numpy as np\n",
    "sig, fields=readsignal.rdsamp('sampledata/matched/s25047/s25047-2704-05-04-10-44')\n",
    "sig=np.round(sig, decimals=8)\n",
    "targetsig=np.genfromtxt('tests/targetoutputdata/target11')\n",
    "\n",
    "print(sig)\n",
    "print(targetsig)"
   ]
  },
  {
   "cell_type": "code",
   "execution_count": null,
   "metadata": {
    "collapsed": false
   },
   "outputs": [],
   "source": [
    "from wfdb import readsignal\n",
    "sig, fields=readsignal.rdsamp('sampledata/matched/s25047/s25047-2704-05-04-10-44', physical=0)\n",
    "\n",
    "print(sig)"
   ]
  },
  {
   "cell_type": "code",
   "execution_count": null,
   "metadata": {
    "collapsed": false
   },
   "outputs": [],
   "source": [
    "# Layout header gains: 86, 86\n",
    "# Specific record gains: 81, 60\n",
    "\n",
    "# Digital samples: 4, 2 (second last row) \n",
    "\n",
    "\n",
    "# Physical according to layout: 0.0465, 0.02325\n",
    "# Physical according to specific record: 0.0493, 0.0333\n",
    "\n",
    "\n",
    "# Physical according to WFDB software rdsamp: 0.0465   0.02325\n"
   ]
  },
  {
   "cell_type": "code",
   "execution_count": 1,
   "metadata": {
    "collapsed": false
   },
   "outputs": [
    {
     "name": "stdout",
     "output_type": "stream",
     "text": [
      "Local file not found. Attempting to download from PhysioBank...\n",
      "segname:  3234460_layout\n",
      "fn:  ~\n",
      "http://physionet.org/physiobank/database/mimic2wdb/matched/s25047/~\n",
      "segname:  ~\n",
      "segname:  3234460_0001\n",
      "fn:  3234460_0001.dat\n",
      "http://physionet.org/physiobank/database/mimic2wdb/matched/s25047/3234460_0001.dat\n",
      "segname:  3234460_0002\n",
      "fn:  3234460_0002.dat\n",
      "http://physionet.org/physiobank/database/mimic2wdb/matched/s25047/3234460_0002.dat\n",
      "segname:  3234460_0003\n",
      "fn:  3234460_0003.dat\n",
      "http://physionet.org/physiobank/database/mimic2wdb/matched/s25047/3234460_0003.dat\n",
      "segname:  3234460_0004\n",
      "fn:  3234460_0004.dat\n",
      "http://physionet.org/physiobank/database/mimic2wdb/matched/s25047/3234460_0004.dat\n",
      "segname:  3234460_0005\n",
      "fn:  3234460_0005.dat\n",
      "http://physionet.org/physiobank/database/mimic2wdb/matched/s25047/3234460_0005.dat\n",
      "segname:  3234460_0006\n",
      "fn:  3234460_0006.dat\n",
      "http://physionet.org/physiobank/database/mimic2wdb/matched/s25047/3234460_0006.dat\n",
      "segname:  3234460_0007\n",
      "fn:  3234460_0007.dat\n",
      "http://physionet.org/physiobank/database/mimic2wdb/matched/s25047/3234460_0007.dat\n",
      "segname:  3234460_0008\n",
      "fn:  3234460_0008.dat\n",
      "http://physionet.org/physiobank/database/mimic2wdb/matched/s25047/3234460_0008.dat\n",
      "segname:  3234460_0009\n",
      "fn:  3234460_0009.dat\n",
      "http://physionet.org/physiobank/database/mimic2wdb/matched/s25047/3234460_0009.dat\n",
      "segname:  3234460_0010\n",
      "fn:  3234460_0010.dat\n",
      "http://physionet.org/physiobank/database/mimic2wdb/matched/s25047/3234460_0010.dat\n",
      "segname:  3234460_0011\n",
      "fn:  3234460_0011.dat\n",
      "http://physionet.org/physiobank/database/mimic2wdb/matched/s25047/3234460_0011.dat\n",
      "segname:  3234460_0012\n",
      "fn:  3234460_0012.dat\n",
      "http://physionet.org/physiobank/database/mimic2wdb/matched/s25047/3234460_0012.dat\n",
      "segname:  3234460_0013\n",
      "fn:  3234460_0013.dat\n",
      "http://physionet.org/physiobank/database/mimic2wdb/matched/s25047/3234460_0013.dat\n",
      "segname:  3234460_0014\n",
      "fn:  3234460_0014.dat\n",
      "http://physionet.org/physiobank/database/mimic2wdb/matched/s25047/3234460_0014.dat\n",
      "segname:  3234460_0015\n",
      "fn:  3234460_0015.dat\n",
      "http://physionet.org/physiobank/database/mimic2wdb/matched/s25047/3234460_0015.dat\n",
      "segname:  3234460_0016\n",
      "fn:  3234460_0016.dat\n",
      "http://physionet.org/physiobank/database/mimic2wdb/matched/s25047/3234460_0016.dat\n",
      "segname:  3234460_0017\n",
      "fn:  3234460_0017.dat\n",
      "http://physionet.org/physiobank/database/mimic2wdb/matched/s25047/3234460_0017.dat\n",
      "segname:  3234460_0018\n",
      "fn:  3234460_0018.dat\n",
      "http://physionet.org/physiobank/database/mimic2wdb/matched/s25047/3234460_0018.dat\n",
      "recordname coming out of getPBfiles:  /home/cx1111/Testfolder/database/mimic2wdb/matched/s25047/s25047-2704-05-04-10-44\n",
      "dirname:  /home/cx1111/Testfolder/database/mimic2wdb/matched/s25047\n",
      "segrecordname:  3234460_0001\n",
      "recordname coming out of getPBfiles:  /home/cx1111/Testfolder/database/mimic2wdb/matched/s25047/3234460_0001\n",
      "dirname:  /home/cx1111/Testfolder/database/mimic2wdb/matched/s25047\n",
      "segrecordname:  3234460_0002\n",
      "recordname coming out of getPBfiles:  /home/cx1111/Testfolder/database/mimic2wdb/matched/s25047/3234460_0002\n",
      "dirname:  /home/cx1111/Testfolder/database/mimic2wdb/matched/s25047\n",
      "segrecordname:  3234460_0003\n",
      "recordname coming out of getPBfiles:  /home/cx1111/Testfolder/database/mimic2wdb/matched/s25047/3234460_0003\n",
      "dirname:  /home/cx1111/Testfolder/database/mimic2wdb/matched/s25047\n",
      "segrecordname:  3234460_0004\n",
      "recordname coming out of getPBfiles:  /home/cx1111/Testfolder/database/mimic2wdb/matched/s25047/3234460_0004\n",
      "dirname:  /home/cx1111/Testfolder/database/mimic2wdb/matched/s25047\n",
      "segrecordname:  3234460_0005\n",
      "recordname coming out of getPBfiles:  /home/cx1111/Testfolder/database/mimic2wdb/matched/s25047/3234460_0005\n",
      "dirname:  /home/cx1111/Testfolder/database/mimic2wdb/matched/s25047\n",
      "segrecordname:  3234460_0006\n",
      "recordname coming out of getPBfiles:  /home/cx1111/Testfolder/database/mimic2wdb/matched/s25047/3234460_0006\n",
      "dirname:  /home/cx1111/Testfolder/database/mimic2wdb/matched/s25047\n",
      "segrecordname:  3234460_0007\n",
      "recordname coming out of getPBfiles:  /home/cx1111/Testfolder/database/mimic2wdb/matched/s25047/3234460_0007\n",
      "dirname:  /home/cx1111/Testfolder/database/mimic2wdb/matched/s25047\n",
      "segrecordname:  3234460_0008\n",
      "recordname coming out of getPBfiles:  /home/cx1111/Testfolder/database/mimic2wdb/matched/s25047/3234460_0008\n",
      "dirname:  /home/cx1111/Testfolder/database/mimic2wdb/matched/s25047\n",
      "segrecordname:  3234460_0009\n",
      "recordname coming out of getPBfiles:  /home/cx1111/Testfolder/database/mimic2wdb/matched/s25047/3234460_0009\n",
      "dirname:  /home/cx1111/Testfolder/database/mimic2wdb/matched/s25047\n",
      "segrecordname:  3234460_0010\n",
      "recordname coming out of getPBfiles:  /home/cx1111/Testfolder/database/mimic2wdb/matched/s25047/3234460_0010\n",
      "dirname:  /home/cx1111/Testfolder/database/mimic2wdb/matched/s25047\n",
      "segrecordname:  3234460_0011\n",
      "recordname coming out of getPBfiles:  /home/cx1111/Testfolder/database/mimic2wdb/matched/s25047/3234460_0011\n",
      "dirname:  /home/cx1111/Testfolder/database/mimic2wdb/matched/s25047\n",
      "segrecordname:  3234460_0012\n",
      "recordname coming out of getPBfiles:  /home/cx1111/Testfolder/database/mimic2wdb/matched/s25047/3234460_0012\n",
      "dirname:  /home/cx1111/Testfolder/database/mimic2wdb/matched/s25047\n",
      "segrecordname:  3234460_0013\n",
      "recordname coming out of getPBfiles:  /home/cx1111/Testfolder/database/mimic2wdb/matched/s25047/3234460_0013\n",
      "dirname:  /home/cx1111/Testfolder/database/mimic2wdb/matched/s25047\n",
      "segrecordname:  3234460_0014\n",
      "recordname coming out of getPBfiles:  /home/cx1111/Testfolder/database/mimic2wdb/matched/s25047/3234460_0014\n",
      "dirname:  /home/cx1111/Testfolder/database/mimic2wdb/matched/s25047\n",
      "segrecordname:  3234460_0015\n",
      "recordname coming out of getPBfiles:  /home/cx1111/Testfolder/database/mimic2wdb/matched/s25047/3234460_0015\n",
      "dirname:  /home/cx1111/Testfolder/database/mimic2wdb/matched/s25047\n",
      "segrecordname:  3234460_0016\n",
      "recordname coming out of getPBfiles:  /home/cx1111/Testfolder/database/mimic2wdb/matched/s25047/3234460_0016\n",
      "dirname:  /home/cx1111/Testfolder/database/mimic2wdb/matched/s25047\n",
      "segrecordname:  3234460_0017\n",
      "recordname coming out of getPBfiles:  /home/cx1111/Testfolder/database/mimic2wdb/matched/s25047/3234460_0017\n",
      "dirname:  /home/cx1111/Testfolder/database/mimic2wdb/matched/s25047\n",
      "segrecordname:  3234460_0018\n",
      "recordname coming out of getPBfiles:  /home/cx1111/Testfolder/database/mimic2wdb/matched/s25047/3234460_0018\n",
      "[[         nan          nan          nan]\n",
      " [         nan          nan          nan]\n",
      " [         nan          nan          nan]\n",
      " ..., \n",
      " [ -0.02469136   0.         -17.6       ]\n",
      " [  0.04938272   0.03333333 -17.6       ]\n",
      " [  0.02469136   0.         -17.6       ]]\n",
      "[{'fmt': [], 'gain': [], 'basetime': '10:44:18.529', 'nsampseg': [0, 25740, 28637, 4, 636, 512, 4, 1532, 4, 636, 4, 508, 4, 16508, 128, 128, 48644, 322111, 3525, 93975], 'nsamp': 543240, 'basedate': '04/05/2704', 'units': [], 'byteoffset': [], 'filename': ['3234460_layout', '~', '3234460_0001', '3234460_0002', '3234460_0003', '3234460_0004', '3234460_0005', '3234460_0006', '3234460_0007', '3234460_0008', '3234460_0009', '3234460_0010', '3234460_0011', '3234460_0012', '3234460_0013', '3234460_0014', '3234460_0015', '3234460_0016', '3234460_0017', '3234460_0018'], 'sampsperframe': [], 'nsig': 3, 'signame': [], 'nseg': 20, 'baseline': [], 'initvalue': [], 'fs': 125.0, 'skew': [], 'comments': [' <age>: ?? <sex>: ?']}, {'fmt': ['0', '0', '0'], 'gain': [86.0, 86.0, 1.25], 'basetime': '10:44:18.529', 'nsampseg': [], 'nsamp': 0, 'basedate': '', 'units': ['mV', 'mV', 'mmHg'], 'byteoffset': [0, 0, 0], 'filename': ['~', '~', '~'], 'sampsperframe': [1, 1, 1], 'nsig': 3, 'signame': ['II', 'V', 'ABP'], 'nseg': 1, 'baseline': [0, 0, -100], 'initvalue': [-1024, -1024, -256], 'fs': 125.0, 'skew': [0, 0, 0], 'comments': []}, ['Empty Segment', {'fmt': ['80', '80', 'No Channel'], 'gain': [86.0, 67.0, 'No Channel'], 'basetime': '10:47:44.449', 'nsampseg': [], 'nsamp': 28637, 'basedate': '', 'units': ['mV', 'mV', 'No Channel'], 'byteoffset': [0, 0, 'No Channel'], 'filename': ['3234460_0001.dat', '3234460_0001.dat', 'No Channel'], 'sampsperframe': [1, 1, 'No Channel'], 'nsig': 2, 'signame': ['II', 'V', 'No Channel'], 'nseg': 1, 'baseline': [0, 0, 'No Channel'], 'initvalue': [-24, -9, 'No Channel'], 'fs': 125.0, 'skew': [0, 0, 'No Channel'], 'comments': []}, {'fmt': ['80', '80', 'No Channel'], 'gain': [67.0, 67.0, 'No Channel'], 'basetime': '10:51:33.546', 'nsampseg': [], 'nsamp': 4, 'basedate': '', 'units': ['mV', 'mV', 'No Channel'], 'byteoffset': [0, 0, 'No Channel'], 'filename': ['3234460_0002.dat', '3234460_0002.dat', 'No Channel'], 'sampsperframe': [1, 1, 'No Channel'], 'nsig': 2, 'signame': ['II', 'V', 'No Channel'], 'nseg': 1, 'baseline': [0, 0, 'No Channel'], 'initvalue': [-20, -19, 'No Channel'], 'fs': 125.0, 'skew': [0, 0, 'No Channel'], 'comments': []}, {'fmt': ['80', '80', 'No Channel'], 'gain': [67.0, 86.0, 'No Channel'], 'basetime': '10:51:33.578', 'nsampseg': [], 'nsamp': 636, 'basedate': '', 'units': ['mV', 'mV', 'No Channel'], 'byteoffset': [0, 0, 'No Channel'], 'filename': ['3234460_0003.dat', '3234460_0003.dat', 'No Channel'], 'sampsperframe': [1, 1, 'No Channel'], 'nsig': 2, 'signame': ['II', 'V', 'No Channel'], 'nseg': 1, 'baseline': [0, 0, 'No Channel'], 'initvalue': [-9, -11, 'No Channel'], 'fs': 125.0, 'skew': [0, 0, 'No Channel'], 'comments': []}, {'fmt': ['80', '80', 'No Channel'], 'gain': [53.0, 86.0, 'No Channel'], 'basetime': '10:51:38.666', 'nsampseg': [], 'nsamp': 512, 'basedate': '', 'units': ['mV', 'mV', 'No Channel'], 'byteoffset': [0, 0, 'No Channel'], 'filename': ['3234460_0004.dat', '3234460_0004.dat', 'No Channel'], 'sampsperframe': [1, 1, 'No Channel'], 'nsig': 2, 'signame': ['II', 'V', 'No Channel'], 'nseg': 1, 'baseline': [0, 0, 'No Channel'], 'initvalue': [-4, -5, 'No Channel'], 'fs': 125.0, 'skew': [0, 0, 'No Channel'], 'comments': []}, {'fmt': ['80', '80', 'No Channel'], 'gain': [49.0, 86.0, 'No Channel'], 'basetime': '10:51:42.762', 'nsampseg': [], 'nsamp': 4, 'basedate': '', 'units': ['mV', 'mV', 'No Channel'], 'byteoffset': [0, 0, 'No Channel'], 'filename': ['3234460_0005.dat', '3234460_0005.dat', 'No Channel'], 'sampsperframe': [1, 1, 'No Channel'], 'nsig': 2, 'signame': ['II', 'V', 'No Channel'], 'nseg': 1, 'baseline': [0, 0, 'No Channel'], 'initvalue': [7, 0, 'No Channel'], 'fs': 125.0, 'skew': [0, 0, 'No Channel'], 'comments': []}, {'fmt': ['80', '80', 'No Channel'], 'gain': [49.0, 66.0, 'No Channel'], 'basetime': '10:51:42.794', 'nsampseg': [], 'nsamp': 1532, 'basedate': '', 'units': ['mV', 'mV', 'No Channel'], 'byteoffset': [0, 0, 'No Channel'], 'filename': ['3234460_0006.dat', '3234460_0006.dat', 'No Channel'], 'sampsperframe': [1, 1, 'No Channel'], 'nsig': 2, 'signame': ['II', 'V', 'No Channel'], 'nseg': 1, 'baseline': [0, 0, 'No Channel'], 'initvalue': [6, 0, 'No Channel'], 'fs': 125.0, 'skew': [0, 0, 'No Channel'], 'comments': []}, {'fmt': ['80', '80', 'No Channel'], 'gain': [66.0, 66.0, 'No Channel'], 'basetime': '10:51:55.050', 'nsampseg': [], 'nsamp': 4, 'basedate': '', 'units': ['mV', 'mV', 'No Channel'], 'byteoffset': [0, 0, 'No Channel'], 'filename': ['3234460_0007.dat', '3234460_0007.dat', 'No Channel'], 'sampsperframe': [1, 1, 'No Channel'], 'nsig': 2, 'signame': ['II', 'V', 'No Channel'], 'nseg': 1, 'baseline': [0, 0, 'No Channel'], 'initvalue': [4, 0, 'No Channel'], 'fs': 125.0, 'skew': [0, 0, 'No Channel'], 'comments': []}, {'fmt': ['80', '80', 'No Channel'], 'gain': [66.0, 49.0, 'No Channel'], 'basetime': '10:51:55.082', 'nsampseg': [], 'nsamp': 636, 'basedate': '', 'units': ['mV', 'mV', 'No Channel'], 'byteoffset': [0, 0, 'No Channel'], 'filename': ['3234460_0008.dat', '3234460_0008.dat', 'No Channel'], 'sampsperframe': [1, 1, 'No Channel'], 'nsig': 2, 'signame': ['II', 'V', 'No Channel'], 'nseg': 1, 'baseline': [0, 0, 'No Channel'], 'initvalue': [6, -1, 'No Channel'], 'fs': 125.0, 'skew': [0, 0, 'No Channel'], 'comments': []}, {'fmt': ['80', '80', 'No Channel'], 'gain': [22.0, 49.0, 'No Channel'], 'basetime': '10:52:00.170', 'nsampseg': [], 'nsamp': 4, 'basedate': '', 'units': ['mV', 'mV', 'No Channel'], 'byteoffset': [0, 0, 'No Channel'], 'filename': ['3234460_0009.dat', '3234460_0009.dat', 'No Channel'], 'sampsperframe': [1, 1, 'No Channel'], 'nsig': 2, 'signame': ['II', 'V', 'No Channel'], 'nseg': 1, 'baseline': [0, 0, 'No Channel'], 'initvalue': [67, 39, 'No Channel'], 'fs': 125.0, 'skew': [0, 0, 'No Channel'], 'comments': []}, {'fmt': ['80', '80', 'No Channel'], 'gain': [22.0, 40.0, 'No Channel'], 'basetime': '10:52:00.202', 'nsampseg': [], 'nsamp': 508, 'basedate': '', 'units': ['mV', 'mV', 'No Channel'], 'byteoffset': [0, 0, 'No Channel'], 'filename': ['3234460_0010.dat', '3234460_0010.dat', 'No Channel'], 'sampsperframe': [1, 1, 'No Channel'], 'nsig': 2, 'signame': ['II', 'V', 'No Channel'], 'nseg': 1, 'baseline': [0, 0, 'No Channel'], 'initvalue': [62, 36, 'No Channel'], 'fs': 125.0, 'skew': [0, 0, 'No Channel'], 'comments': []}, {'fmt': ['80', '80', 'No Channel'], 'gain': [11.0, 40.0, 'No Channel'], 'basetime': '10:52:04.266', 'nsampseg': [], 'nsamp': 4, 'basedate': '', 'units': ['mV', 'mV', 'No Channel'], 'byteoffset': [0, 0, 'No Channel'], 'filename': ['3234460_0011.dat', '3234460_0011.dat', 'No Channel'], 'sampsperframe': [1, 1, 'No Channel'], 'nsig': 2, 'signame': ['II', 'V', 'No Channel'], 'nseg': 1, 'baseline': [0, 0, 'No Channel'], 'initvalue': [17, 11, 'No Channel'], 'fs': 125.0, 'skew': [0, 0, 'No Channel'], 'comments': []}, {'fmt': ['80', '80', 'No Channel'], 'gain': [11.0, 20.0, 'No Channel'], 'basetime': '10:52:04.298', 'nsampseg': [], 'nsamp': 16508, 'basedate': '', 'units': ['mV', 'mV', 'No Channel'], 'byteoffset': [0, 0, 'No Channel'], 'filename': ['3234460_0012.dat', '3234460_0012.dat', 'No Channel'], 'sampsperframe': [1, 1, 'No Channel'], 'nsig': 2, 'signame': ['II', 'V', 'No Channel'], 'nseg': 1, 'baseline': [0, 0, 'No Channel'], 'initvalue': [20, 12, 'No Channel'], 'fs': 125.0, 'skew': [0, 0, 'No Channel'], 'comments': []}, {'fmt': ['80', '80', 'No Channel'], 'gain': [35.0, 20.0, 'No Channel'], 'basetime': '10:54:16.362', 'nsampseg': [], 'nsamp': 128, 'basedate': '', 'units': ['mV', 'mV', 'No Channel'], 'byteoffset': [0, 0, 'No Channel'], 'filename': ['3234460_0013.dat', '3234460_0013.dat', 'No Channel'], 'sampsperframe': [1, 1, 'No Channel'], 'nsig': 2, 'signame': ['II', 'V', 'No Channel'], 'nseg': 1, 'baseline': [0, 0, 'No Channel'], 'initvalue': [-15, 2, 'No Channel'], 'fs': 125.0, 'skew': [0, 0, 'No Channel'], 'comments': []}, {'fmt': ['80', '80', 'No Channel'], 'gain': [69.0, 20.0, 'No Channel'], 'basetime': '10:54:17.386', 'nsampseg': [], 'nsamp': 128, 'basedate': '', 'units': ['mV', 'mV', 'No Channel'], 'byteoffset': [0, 0, 'No Channel'], 'filename': ['3234460_0014.dat', '3234460_0014.dat', 'No Channel'], 'sampsperframe': [1, 1, 'No Channel'], 'nsig': 2, 'signame': ['II', 'V', 'No Channel'], 'nseg': 1, 'baseline': [0, 0, 'No Channel'], 'initvalue': [-11, 0, 'No Channel'], 'fs': 125.0, 'skew': [0, 0, 'No Channel'], 'comments': []}, {'fmt': ['80', '80', 'No Channel'], 'gain': [81.0, 20.0, 'No Channel'], 'basetime': '10:54:18.410', 'nsampseg': [], 'nsamp': 48644, 'basedate': '', 'units': ['mV', 'mV', 'No Channel'], 'byteoffset': [0, 0, 'No Channel'], 'filename': ['3234460_0015.dat', '3234460_0015.dat', 'No Channel'], 'sampsperframe': [1, 1, 'No Channel'], 'nsig': 2, 'signame': ['II', 'V', 'No Channel'], 'nseg': 1, 'baseline': [0, 0, 'No Channel'], 'initvalue': [-5, 1, 'No Channel'], 'fs': 125.0, 'skew': [0, 0, 'No Channel'], 'comments': []}, {'fmt': ['80', '80', 'No Channel'], 'gain': [81.0, 60.0, 'No Channel'], 'basetime': '11:00:47.562', 'nsampseg': [], 'nsamp': 322111, 'basedate': '', 'units': ['mV', 'mV', 'No Channel'], 'byteoffset': [0, 0, 'No Channel'], 'filename': ['3234460_0016.dat', '3234460_0016.dat', 'No Channel'], 'sampsperframe': [1, 1, 'No Channel'], 'nsig': 2, 'signame': ['II', 'V', 'No Channel'], 'nseg': 1, 'baseline': [0, 0, 'No Channel'], 'initvalue': [29, -9, 'No Channel'], 'fs': 125.0, 'skew': [0, 0, 'No Channel'], 'comments': []}, {'fmt': ['80', '80', '80'], 'gain': [81.0, 60.0, 1.0], 'basetime': '11:43:44.449', 'nsampseg': [], 'nsamp': 3525, 'basedate': '', 'units': ['mV', 'mV', 'mmHg'], 'byteoffset': [0, 0, 0], 'filename': ['3234460_0017.dat', '3234460_0017.dat', '3234460_0017.dat'], 'sampsperframe': [1, 1, 1], 'nsig': 3, 'signame': ['II', 'V', 'ABP'], 'nseg': 1, 'baseline': [0, 0, 0], 'initvalue': [19, -1, -72], 'fs': 125.0, 'skew': [0, 0, 0], 'comments': []}, {'fmt': ['80', '80', '80'], 'gain': [81.0, 60.0, 1.25], 'basetime': '11:44:12.650', 'nsampseg': [], 'nsamp': 93975, 'basedate': '', 'units': ['mV', 'mV', 'mmHg'], 'byteoffset': [0, 0, 0], 'filename': ['3234460_0018.dat', '3234460_0018.dat', '3234460_0018.dat'], 'sampsperframe': [1, 1, 1], 'nsig': 3, 'signame': ['II', 'V', 'ABP'], 'nseg': 1, 'baseline': [0, 0, -100], 'initvalue': [9, -1, -74], 'fs': 125.0, 'skew': [0, 0, 0], 'comments': []}]]\n"
     ]
    }
   ],
   "source": [
    "# Testing the results of getPBfiles, seeing if rdsamp works after files have been downloaded. \n",
    "\n",
    "from wfdb import readsignal\n",
    "\n",
    "sig, fields=readsignal.rdsamp('mimic2wdb/matched/s25047/s25047-2704-05-04-10-44')\n",
    "\n",
    "print(sig)\n",
    "print(fields)"
   ]
  },
  {
   "cell_type": "code",
   "execution_count": null,
   "metadata": {
    "collapsed": true
   },
   "outputs": [],
   "source": []
  }
 ],
 "metadata": {
  "kernelspec": {
   "display_name": "Python 3",
   "language": "python",
   "name": "python3"
  },
  "language_info": {
   "codemirror_mode": {
    "name": "ipython",
    "version": 3
   },
   "file_extension": ".py",
   "mimetype": "text/x-python",
   "name": "python",
   "nbconvert_exporter": "python",
   "pygments_lexer": "ipython3",
   "version": "3.5.1"
  }
 },
 "nbformat": 4,
 "nbformat_minor": 0
}
