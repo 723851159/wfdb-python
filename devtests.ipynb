{
 "cells": [
  {
   "cell_type": "markdown",
   "metadata": {},
   "source": [
    "<h2>This script is for internal developer testing.</h2>"
   ]
  },
  {
   "cell_type": "code",
   "execution_count": null,
   "metadata": {
    "collapsed": true
   },
   "outputs": [],
   "source": [
    "import wfdb"
   ]
  },
  {
   "cell_type": "code",
   "execution_count": null,
   "metadata": {
    "collapsed": false
   },
   "outputs": [],
   "source": [
    "# Testing rdsamp multiple samples per frame (and fmt 12)\n",
    "sig, fields=wfdb.srdsamp('sampledata/03700181')\n",
    "print(sig[:20,:])\n",
    "print(\"\\n\\n\", sig.shape, \"\\n\\n\")\n",
    "print(fields)\n",
    "\n",
    "print(\"\\n\\n\\n\")\n",
    "print(sig[-20:,:])"
   ]
  },
  {
   "cell_type": "code",
   "execution_count": null,
   "metadata": {
    "collapsed": false,
    "scrolled": true
   },
   "outputs": [],
   "source": [
    "# Testing rdsamp format 80\n",
    "sig, fields=wfdb.srdsamp('sampledata/3000003_0003')\n",
    "print(sig)\n",
    "print(fields)"
   ]
  },
  {
   "cell_type": "code",
   "execution_count": null,
   "metadata": {
    "collapsed": false
   },
   "outputs": [],
   "source": [
    "# Testing rdsamp format 16 with byte offset (actually a .mat file too)\n",
    "sig, fields=wfdb.srdsamp('sampledata/a103l') \n",
    "#print(sig)\n",
    "#print(sig.shape)\n",
    "#print(fields)\n",
    "\n",
    "from wfdb import plotwfdb\n",
    "\n",
    "plotwfdb.plotsigs(sig, fields)\n",
    "\n",
    "\n",
    "# With channel selection and sampfrom sampto\n",
    "#sig, fields=readsignal.rdsamp('sampledata/a103l', channels=[2,0], sampfrom=250, sampto=80000) \n",
    "#print('\\n\\n')\n",
    "#print(sig)\n",
    "#print(fields)"
   ]
  },
  {
   "cell_type": "code",
   "execution_count": null,
   "metadata": {
    "collapsed": false,
    "scrolled": false
   },
   "outputs": [],
   "source": [
    "# Testing rdsamp multi-segment variable layout record (from https://physionet.org/physiobank/database/mimic2wdb/matched/s00001/)\n",
    "import numpy as np\n",
    "from wfdb import rdsamp\n",
    "\n",
    "# Return list of arrays\n",
    "sig, fields=rdsamp('sampledata/matched/s00001/s00001-2896-10-10-00-31', sampfrom=3200, sampto=20000, stacksegments=0)\n",
    "#print(\"len(sig): \", len(sig))\n",
    "#print(len(fields))\n",
    "\n",
    "print(sig)\n",
    "print(\"\\n\\n\")\n",
    "print(sig[len(sig)-1])\n",
    "print(\"\\n\\n\")\n",
    "print(len(sig[len(sig)-1]))\n",
    "print(\"\\n\\n\")\n",
    "print(fields[0])\n",
    "print(\"\\n\\n\")\n",
    "print(fields[1])\n",
    "print(\"\\n\\n\")\n",
    "print(fields[2])"
   ]
  },
  {
   "cell_type": "code",
   "execution_count": null,
   "metadata": {
    "collapsed": false
   },
   "outputs": [],
   "source": [
    "# Testing rdsamp multi-segment variable layout record - stacksegments\n",
    "import numpy as np\n",
    "from wfdb import rdsamp\n",
    "\n",
    "\n",
    "# Return single numpy array\n",
    "sig, fields=rdsamp('sampledata/matched/s00001/s00001-2896-10-10-00-31', sampfrom=1, sampto=10000, channels=[1, 2], physical=1)\n",
    "\n",
    "print(sig)\n",
    "print(sig.shape)\n",
    "print(\"\\n\\n\")\n",
    "print(fields[0])\n",
    "print(\"\\n\\n\")\n",
    "print(fields[1])\n",
    "print(\"\\n\\n\")\n",
    "print(fields[2])"
   ]
  },
  {
   "cell_type": "code",
   "execution_count": null,
   "metadata": {
    "collapsed": false
   },
   "outputs": [],
   "source": [
    "x=[1,2,3]\n",
    "y=[x]*3\n",
    "y[1]"
   ]
  },
  {
   "cell_type": "code",
   "execution_count": null,
   "metadata": {
    "collapsed": false
   },
   "outputs": [],
   "source": [
    "# Testing rdsamp multi-dat signals (from https://physionet.org/physiobank/database/ptbdb/patient001/)\n",
    "import numpy as np\n",
    "from wfdb import rdsamp\n",
    "\n",
    "sig, fields=rdsamp('sampledata/s0010_re', channels=[14, 0, 5, 10, 11], sampfrom=100, sampto=20000)\n",
    "from wfdb import plotwfdb\n",
    "plotwfdb.plotsigs(sig, fields)\n",
    "print(\"\\n\\n\\n\", sig, \"\\n\\n\\n\")\n",
    "print(fields)\n",
    "print(fields[\"signame\"])"
   ]
  },
  {
   "cell_type": "code",
   "execution_count": null,
   "metadata": {
    "collapsed": false
   },
   "outputs": [],
   "source": [
    "# Testing rdsamp multi-segment record with sampfrom, sampto, and channel selection\n",
    "import numpy as np\n",
    "from wfdb import rdsamp\n",
    "\n",
    "# Return list of arrays\n",
    "#sig, fields=rdsamp('sampledata/matched/s00001/s00001-2896-10-10-00-31', sampfrom=10, sampto=10250, channels=[2,3], stacksegments=0)\n",
    "# rdsamp -r s00001-2896-10-10-00-31 -s 2 3 -t 82 -P\n",
    "#print(\"\\n\\nOutput of rdsamp:\")\n",
    "#print(\"sig: \", sig)\n",
    "#print(\"fields: \", fields)\n",
    "\n",
    "\n",
    "# Return single array\n",
    "sig, fields=rdsamp('sampledata/matched/s00001/s00001-2896-10-10-00-31', sampfrom=10, sampto=10250, channels=[1,0,2],stacksegments=1)\n",
    "\n",
    "print(sig)\n",
    "print(fields[2])"
   ]
  },
  {
   "cell_type": "markdown",
   "metadata": {},
   "source": [
    "<h2>Decide comprehensive tests before adding to travis - signals</h2>\n",
    "Target files created with wfdb software package's <code>rdsamp</code>"
   ]
  },
  {
   "cell_type": "code",
   "execution_count": null,
   "metadata": {
    "collapsed": false
   },
   "outputs": [],
   "source": [
    "import numpy as np\n",
    "from wfdb import rdsamp\n",
    "\n",
    "# Test 1 - Format 212/Entire signal/Physical \n",
    "# Target file created with: rdsamp -r sampledata/100 -P | cut -f 2- > target1\n",
    "sig, fields=rdsamp('sampledata/100') \n",
    "\n",
    "# Test 2 - Format 212/Selected Duration/Selected Channel/Digital\n",
    "# Target file created with: rdsamp -r sampledata/100 -f 1 -t 30 -s 1 | cut -f 2- > target2\n",
    "sig, fields=rdsamp('sampledata/100', sampfrom=360, sampto=10800, channels=[1], physical=0)  \n",
    "\n",
    "# Test 3 - Format 16/Entire signal/Digital\n",
    "# Target file created with: rdsamp -r sampledata/test01_00s | cut -f 2- > target3\n",
    "sig, fields=rdsamp('sampledata/test01_00s', physical=0)\n",
    "\n",
    "# Test 4 - Format 16 with byte offset/Selected Duration/Selected Channels/Physical\n",
    "# Target file created with: rdsamp -r sampledata/a103l -f 50 -t 160 -s 2 0 -P | cut -f 2- > target4\n",
    "sig, fields=rdsamp('sampledata/a103l', sampfrom=12500, sampto=40000, channels=[2, 0])\n",
    "\n",
    "# Test 5 - Format 16 with byte offset/Selected Duration/Selected Channels/Digital\n",
    "# Target file created with: rdsamp -r sampledata/a103l -f 80 -s 0 1 | cut -f 2- > target5\n",
    "sig, fields=rdsamp('sampledata/a103l', sampfrom=20000, physical=0, channels=[0, 1])\n",
    "\n",
    "# Test 6 - Format 80/Selected Duration/Selected Channels/Physical\n",
    "# Target file created with: rdsamp -r sampledata/3000003_0003 -f 1 -t 8 -s 1 -P | cut -f 2- > target6\n",
    "sig, fields=rdsamp('sampledata/3000003_0003', sampfrom=125, sampto=1000, channels=[1])\n",
    "\n",
    "# Test 7 - Multi-dat/Entire signal/Digital\n",
    "# Target file created with: rdsamp -r sampledata/s0010_re | cut -f 2- > target7\n",
    "sig, fields=rdsamp('sampledata/s0010_re', physical=0)\n",
    "\n",
    "# Test 8 - Multi-dat/Selected Duration/Selected Channels/Physical\n",
    "# Target file created with: rdsamp -r sampledata/s0010_re -f 5 -t 38 -P -s 13 0 4 8 3 | cut -f 2- > target8\n",
    "sig, fields=rdsamp('sampledata/s0010_re', sampfrom=5000, sampto=38000, channels=[13, 0, 4, 8, 3])\n",
    "\n",
    "# Test 9 - Format 12 multi-samples/frame and skew/Entire Signal/Digital\n",
    "# Target file created with: rdsamp -r sampledata/03700181 | cut -f 2- > target9\n",
    "sig, fields=rdsamp('sampledata/03700181', physical=0)\n",
    "\n",
    "# Test 10 - Format 12 multi-samples/frame and skew/Selected Duration/Selected channel/Physical\n",
    "# Target file created with: rdsamp -r sampledata/03700181 -f 8 -t 128 -P | cut -f 2- > target10\n",
    "sig, fields=rdsamp('sampledata/03700181', channels=[0, 2], sampfrom=1000, sampto=16000)\n",
    "\n",
    "print('yay')"
   ]
  },
  {
   "cell_type": "code",
   "execution_count": null,
   "metadata": {
    "collapsed": false
   },
   "outputs": [],
   "source": []
  },
  {
   "cell_type": "markdown",
   "metadata": {},
   "source": [
    "<h2>Decide comprehensive tests before adding to travis - annotations</h2>\n",
    "Target files created with wfdb software package's <code>rdann</code>"
   ]
  },
  {
   "cell_type": "code",
   "execution_count": null,
   "metadata": {
    "collapsed": false
   },
   "outputs": [],
   "source": [
    "import numpy as np\n",
    "from wfdb import rdann\n",
    "\n",
    "# Test 1 - \n",
    "# Target file created with: rdann -r 100 -a atr > anntarget1\n",
    "annsamp, anntype, num, subtype, chan, aux, annfs=rdann('sampledata/100', 'atr')\n",
    "\n",
    "\n",
    "# Test 2\n",
    "# Target file created with: rdann -r chb01_03.edf -a seizures > anntarget2\n",
    "annsamp, anntype, num, subtype, chan, aux, annfs=rdann('sampledata/chb01_03', 'seizures')\n"
   ]
  },
  {
   "cell_type": "code",
   "execution_count": null,
   "metadata": {
    "collapsed": false
   },
   "outputs": [],
   "source": [
    "from wfdb import rdann\n",
    "annsamp, anntype, num, subtype, chan, aux, annfs=rdann('sampledata/100', 'fake2', sampfrom=17)\n",
    "print(\"annsamp: \", annsamp)\n",
    "print(\"anntype: \", anntype)\n",
    "print(\"num: \", num)\n",
    "print(\"subtype: \", subtype)\n",
    "print(\"chan: \", chan)\n",
    "print(\"aux: \", aux)\n",
    "print(\"annfs: \", annfs)\n",
    "\n",
    "\n",
    "a=aux[3]\n",
    "print(a)\n",
    "print(len(a))\n",
    "a=aux[5]\n",
    "print(a)\n",
    "print(len(a))"
   ]
  },
  {
   "cell_type": "code",
   "execution_count": null,
   "metadata": {
    "collapsed": false
   },
   "outputs": [],
   "source": [
    "from wfdb import rdann\n",
    "annsamp, anntype, num, subtype, chan, aux, annfs=rdann('sampledata/chb01_03.edf', 'seizures', sampfrom=766977, sampto=777326)\n",
    "print(\"annsamp: \", annsamp)\n",
    "print(\"anntype: \", anntype)\n",
    "print(\"num: \", num)\n",
    "print(\"subtype: \", subtype)\n",
    "print(\"chan: \", chan)\n",
    "print(\"aux: \", aux)\n",
    "print(\"annfs: \", annfs)"
   ]
  },
  {
   "cell_type": "code",
   "execution_count": null,
   "metadata": {
    "collapsed": false
   },
   "outputs": [],
   "source": [
    "from wfdb import rdann\n",
    "annsamp, anntype, num, subtype, chan, aux, annfs=rdann('sampledata/100', 'fake3', anndisp=1)\n",
    "print(\"annsamp: \", annsamp)\n",
    "print(\"anntype: \", anntype)\n",
    "print(\"num: \", num)\n",
    "print(\"subtype: \", subtype)\n",
    "print(\"chan: \", chan)\n",
    "print(\"aux: \", aux)\n",
    "print(\"annfs: \", annfs)"
   ]
  },
  {
   "cell_type": "code",
   "execution_count": null,
   "metadata": {
    "collapsed": false
   },
   "outputs": [],
   "source": [
    "# For writing test annotation files based on first 3 annotations of 12726.anI\n",
    "\n",
    "f=open('tmp.fake', 'wb')\n",
    "\n",
    "indata= np.array([0, 236,   1,   0, 200,  84,   0,  88, 255, 251,  21, 252,  73, 110, 105, 116,\n",
    "                  105,  97, 116, 101,  32, 115, 108, 111, 119,  32, 116, 105, 108, 116,  32, 117,\n",
    "                  112,   0,   0, 236,   0,   0,  67,  50,   0,  88,  21, 252,  67, 111, 110,  99,\n",
    "108, 117, 100, 101,  32, 115, 108, 111, 119,  32, 116, 105, 108, 116,  32, 117,\n",
    "112,   0,   0, 236,   0,   0, 114, 183,   0,  88,  23, 252,  73, 110, 105, 116,\n",
    "105,  97, 116, 101,  32, 115, 108, 111, 119,  32, 116, 105, 108, 116,  32, 100,\n",
    "111, 119, 110,   0, 0 ,0 ]).astype('u1')\n",
    "\n",
    "\n",
    "print(indata)\n",
    "\n",
    "indata.tofile(f)\n",
    "\n",
    "\n",
    "f.close()\n"
   ]
  },
  {
   "cell_type": "code",
   "execution_count": null,
   "metadata": {
    "collapsed": true
   },
   "outputs": [],
   "source": [
    "# Write a single sample format 212 wfdb record to read\n",
    "import numpy as np\n",
    "\n",
    "f=open('tmp.dat', 'wb')\n",
    "indata= np.array([100, 0]).astype('u1')\n",
    "indata.tofile(f)\n",
    "f.close()\n",
    "\n",
    "from wfdb import rdsamp\n",
    "sig, fields=rdsamp('tmp')\n",
    "print(sig)\n"
   ]
  },
  {
   "cell_type": "code",
   "execution_count": null,
   "metadata": {
    "collapsed": false
   },
   "outputs": [],
   "source": [
    "# Write a 1 channel fmt 12 wfdb record and test reading specific samples\n",
    "import numpy as np\n",
    "\n",
    "f=open('single12.dat', 'wb')\n",
    "indata= np.array([20, 0, 30, 40, 0, 50 ]).astype('u1')\n",
    "indata.tofile(f)\n",
    "f.close()\n",
    "\n",
    "\n",
    "from wfdb import readsignal\n",
    "sig, fields=readsignal.rdsamp('single12', physical=0, sampfrom=3)\n",
    "print(sig)"
   ]
  },
  {
   "cell_type": "code",
   "execution_count": null,
   "metadata": {
    "collapsed": false
   },
   "outputs": [],
   "source": [
    "# Write a 1 channel fmt 310 wfdb record and test reading specific samples\n",
    "import numpy as np\n",
    "from wfdb import readsignal\n",
    "\n",
    "f=open('single310.dat', 'wb')\n",
    "indata= np.array([20, 0, 0, 0, 20, 0, 0, 0]).astype('u1')\n",
    "indata.tofile(f)\n",
    "f.close()\n",
    "\n",
    "\n",
    "\n",
    "sig, fields=readsignal.rdsamp('single310', physical=0, sampfrom=5)\n",
    "print(sig)"
   ]
  },
  {
   "cell_type": "code",
   "execution_count": null,
   "metadata": {
    "collapsed": false
   },
   "outputs": [],
   "source": [
    "# Testing format 310 record. Written using rdsamp -r sampledata/100 | cut -f 2- | wrsamp -o test310 -O 310 \n",
    "from wfdb import rdsamp\n",
    "sig, fields=rdsamp('sampledata/test310', physical=0, sampto=1)\n",
    "print(\"sig final output:\\n\", sig)\n",
    "#print(sig.shape)\n",
    "\n",
    "\n",
    "\n",
    "# WFDB did not write the last sample???? "
   ]
  },
  {
   "cell_type": "code",
   "execution_count": null,
   "metadata": {
    "collapsed": false
   },
   "outputs": [],
   "source": [
    "# Testing format 311 record. Written using rdsamp -r sampledata/100 | cut -f 2- | wrsamp -o test311 -O 311\n",
    "from wfdb import rdsamp\n",
    "sig, fields=rdsamp('sampledata/test311', physical=0)\n",
    "print(\"sig final output:\\n\", sig)\n",
    "#print(sig.shape)\n",
    "\n",
    "\n",
    "\n",
    "# WFDB did not write the last sample???? "
   ]
  },
  {
   "cell_type": "code",
   "execution_count": null,
   "metadata": {
    "collapsed": false
   },
   "outputs": [],
   "source": [
    "from wfdb import rdsamp\n",
    "sig, fields=rdsamp('sampledata/s0010_re', sampfrom=5000, sampto=38000, channels=[13, 0, 4, 8, 3])\n",
    "sig=sig[:-4,:]\n",
    "\n",
    "\n",
    "targetsig=np.genfromtext('tests/targetoutputdata/target9')\n",
    "np.array_equal(sig, targetsig)"
   ]
  },
  {
   "cell_type": "code",
   "execution_count": null,
   "metadata": {
    "collapsed": true
   },
   "outputs": [],
   "source": []
  },
  {
   "cell_type": "code",
   "execution_count": null,
   "metadata": {
    "collapsed": false
   },
   "outputs": [],
   "source": [
    "# Trying to fix byte pointer for reading skewed signals. \n",
    "\n",
    "from wfdb import readsignal\n",
    "import numpy as np\n",
    "#sig, fields=readsignal.rdsamp('sampledata/03700181', channels=[0,2], sampfrom=1000, sampto=16000)\n",
    "#sig=np.round(sig, decimals=8)\n",
    "#targetsig=np.genfromtxt('tests/targetoutputdata/target10')\n",
    "\n",
    "sig, fields=readsignal.rdsamp('sampledata/03700181', sampfrom=1000, sampto=16000, physical=0) # fs=125. -f 8 -t 128\n",
    "\n",
    "print(\"\\nsig: \", sig)\n",
    "print('\\n\\n')\n",
    "print(\"End of sig: \", sig[-10:,:])\n",
    "\n",
    "\n",
    "# nbytesread = 15000 frames * 6 samples/frame * 1.5 bytes/sample = 135000\n",
    "\n",
    "# Try to octal dump the right section of the file. After 16000 frames x (6 samples/frame)  = 96000 samples * (1.5 bytes per sample)\n",
    "# = 144000 bytes skip. \n",
    "\n",
    "\n",
    "\n",
    "# od -t u1 03700181.dat -j 144000 -N 30 \n",
    "\n",
    "# Result: \n",
    "# 236 255 236   2 240 236 163  27  61 236 255 236 236  15   2 147\n",
    "#  27  40 236 255 236 236 255 236 130  27  19   2 240 236\n",
    "\n",
    "\n"
   ]
  },
  {
   "cell_type": "code",
   "execution_count": null,
   "metadata": {
    "collapsed": false
   },
   "outputs": [],
   "source": [
    "from wfdb import readsignal\n",
    "import numpy as np\n",
    "sig, fields=readsignal.rdsamp('sampledata/matched/s25047/s25047-2704-05-04-10-44')\n",
    "sig=np.round(sig, decimals=8)\n",
    "targetsig=np.genfromtxt('tests/targetoutputdata/target11')\n",
    "\n",
    "print(sig)\n",
    "print(targetsig)"
   ]
  },
  {
   "cell_type": "code",
   "execution_count": null,
   "metadata": {
    "collapsed": false
   },
   "outputs": [],
   "source": [
    "from wfdb import readsignal\n",
    "sig, fields=readsignal.rdsamp('sampledata/matched/s25047/s25047-2704-05-04-10-44', physical=0)\n",
    "\n",
    "print(sig)"
   ]
  },
  {
   "cell_type": "code",
   "execution_count": null,
   "metadata": {
    "collapsed": false
   },
   "outputs": [],
   "source": [
    "# Layout header gains: 86, 86\n",
    "# Specific record gains: 81, 60\n",
    "\n",
    "# Digital samples: 4, 2 (second last row) \n",
    "\n",
    "\n",
    "# Physical according to layout: 0.0465, 0.02325\n",
    "# Physical according to specific record: 0.0493, 0.0333\n",
    "\n",
    "\n",
    "# Physical according to WFDB software rdsamp: 0.0465   0.02325\n"
   ]
  },
  {
   "cell_type": "code",
   "execution_count": null,
   "metadata": {
    "collapsed": true
   },
   "outputs": [],
   "source": [
    "# Current logic with omission: \n",
    "\n",
    "# First, split the recordname into 2. Assume base \n",
    "\n",
    "pbsubdir, baserecordname = os.path.split(recordname) # Make assumption that the base is a physiobank \n",
    "\n",
    "\n",
    "downloaddir=cachedir+pbsubdir # This could be wrong, ie: /usr/local/database/testfolder\n",
    "\n",
    "\n",
    "if downloaddir==current directory: # This could therefore be wrongly assumed\n",
    "    \n",
    "    check for all needed files in download directory. \n",
    "    Download anything missing.\n",
    "    \n",
    "    \n",
    "else: # downloaddir != current directory         This could be wrongly assumed. If so, all is fucked. \n",
    "    \n",
    "    check for files in current directory. \n",
    "    if any missing: \n",
    "        getpbrecords(recordname, downloaddir)\n",
    "    \n",
    "    \n",
    "    \n",
    "    "
   ]
  },
  {
   "cell_type": "code",
   "execution_count": null,
   "metadata": {
    "collapsed": true
   },
   "outputs": [],
   "source": [
    "\n",
    "# Maybe this should be multiple functions....\n",
    "\n",
    "\n",
    "\n",
    "\n",
    "\n",
    "# Desired logic:\n",
    "\n",
    "\n",
    "# Need to distinguish between: recordname=testfolder/100 and recordname=mitdb/100 \n",
    "\n",
    "\n",
    "\n",
    "\n",
    "# First, split the recordname into 2:\n",
    "\n",
    "basedir, baserecordname = os.path.split(recordname) # basedir could be a physiobank database or a directory\n",
    "\n",
    "\n",
    "# If basedir is empty, then just return immediately the same recordname because [] means not targeting a physiobank \n",
    "# database. Nothing to download so no point checking. Also path means current path. \n",
    "\n",
    "\n",
    "\n",
    "# Need to hold off calculating what download directory means, or put a flag specifying whether we can guarantee it\n",
    "# as one of the input parameters. \n",
    "\n",
    "\n",
    "\n",
    "# If basedir is not empty, check whether the directory exists (from the current working dir:\n",
    "\n",
    "if os.path.isdir(basedir):# If the directory does exist, go into it and check for all files. If any are missing, then \n",
    "    # they are fucked anyway because they didn't specify a physiobank directory. \n",
    "    # So therefore no point checking for files and just return immediately. \n",
    "    \n",
    "    \n",
    "    \n",
    "    # Wait... so what if they say: mitdb/100 and they happen to have a mitdb directory from where they currently are? \n",
    "    # This would probably be quite common too since they might start python in the dbcachedir. \n",
    "    \n",
    "    # So we have to \n",
    "    \n",
    "    \n",
    "    \n",
    "else: # If the directory does not exist. Then assume it is a physiobank directory. Go call  \n",
    "    \n",
    "    # check the current\n",
    "    \n",
    "    "
   ]
  },
  {
   "cell_type": "code",
   "execution_count": null,
   "metadata": {
    "collapsed": false
   },
   "outputs": [],
   "source": []
  },
  {
   "cell_type": "code",
   "execution_count": null,
   "metadata": {
    "collapsed": false
   },
   "outputs": [],
   "source": [
    "import os\n",
    "import wfdb\n",
    "\n",
    "wfdb.rdsamp.dlrecordfiles('macecgdb/test01_00s', '/home/cx1111/Downloads/wfdbrecords/prcp')"
   ]
  },
  {
   "cell_type": "code",
   "execution_count": null,
   "metadata": {
    "collapsed": false
   },
   "outputs": [],
   "source": [
    "# Make sure it works for 8 scenarios of input arguments and cases:\n",
    "\n",
    "# 1. recordname=mitdb/100 \n",
    "# 2. recordname=testfolder/100\n",
    "\n",
    "# a. filedirectory=dbcachedir\n",
    "# b. filedirectory!=dbcachedir\n",
    "\n",
    "# i. mitdb or testfolder exists\n",
    "# ii. mitdb or testfolder does not exist. \n",
    "\n",
    "        \n",
    "# 1ai\n",
    "# 1aii\n",
    "# 1bi\n",
    "# 1bii\n",
    "# 2ai\n",
    "# 2aii\n",
    "# 2bi\n",
    "# 2bii\n",
    "        \n",
    "        "
   ]
  },
  {
   "cell_type": "code",
   "execution_count": null,
   "metadata": {
    "collapsed": false
   },
   "outputs": [],
   "source": [
    "import wfdb\n",
    "sig, fields=wfdb.rdsamp('mimic2wdb/matched/s00001/s00001-2896-10-10-00-31')\n",
    "\n",
    "print(sig)"
   ]
  },
  {
   "cell_type": "code",
   "execution_count": null,
   "metadata": {
    "collapsed": false
   },
   "outputs": [],
   "source": [
    "import wfdb\n",
    "sig, fields=wfdb.rdsamp('macecgdb/test01_00s', pbdl=1, dldir='/home/cx1111/Downloads/wfdbrecords/macecgdb')\n",
    "\n",
    "print(sig)"
   ]
  },
  {
   "cell_type": "code",
   "execution_count": null,
   "metadata": {
    "collapsed": false
   },
   "outputs": [],
   "source": [
    "import wfdb\n",
    "sig, fields=wfdb.rdsamp('mitdb/101', pbdl=1, dldir='/home/cx1111/Downloads/wfdbrecords/mitdb', keepfiles=1)\n",
    "\n",
    "print(sig)"
   ]
  },
  {
   "cell_type": "code",
   "execution_count": null,
   "metadata": {
    "collapsed": false
   },
   "outputs": [],
   "source": [
    "import wfdb\n",
    "\n",
    "wfdb.rdsamp('macecgdb/test01_00s', pbdl=1)\n"
   ]
  },
  {
   "cell_type": "code",
   "execution_count": null,
   "metadata": {
    "collapsed": false
   },
   "outputs": [],
   "source": [
    "l = ['hi','ack', 'hi','bye','bye','hi','hi']"
   ]
  },
  {
   "cell_type": "code",
   "execution_count": null,
   "metadata": {
    "collapsed": false
   },
   "outputs": [],
   "source": [
    "# Returns the unique elements in a list in the order that they appear. \n",
    "# Also returns the indices of the original list that correspond to each output element. \n",
    "# Used for listing dat files and fmts to write. \n",
    "# Belongs to module\n",
    "def orderedsetlist(fulllist):\n",
    "    uniquelist = []\n",
    "    listindices = []\n",
    "    for i in fulllist:\n",
    "        # Found a new item\n",
    "        if i not in uniquelist:\n",
    "            uniquelist.append(i)\n",
    "            listindices.append([a for a, e in enumerate(fulllist) if e == i])\n",
    "\n",
    "    return uniquelist, listindices\n",
    "\n",
    "# Returns elements in a list without consecutive repeated values. Used to check dat files to write. \n",
    "def orderednoconseclist(fulllist):\n",
    "    noconseclist = [fulllist[0]]\n",
    "    if len(fulllist) == 1:\n",
    "        return noconseclist\n",
    "    for i in fulllist:\n",
    "        if i!= noconseclist[-1]:\n",
    "            noconseclist.append(i)\n",
    "    return noconseclist\n",
    "        "
   ]
  },
  {
   "cell_type": "code",
   "execution_count": null,
   "metadata": {
    "collapsed": false
   },
   "outputs": [],
   "source": [
    "print(orderedsetlist(mylist))\n",
    "print(orderednoconseclist(mylist))"
   ]
  },
  {
   "cell_type": "code",
   "execution_count": null,
   "metadata": {
    "collapsed": false
   },
   "outputs": [],
   "source": [
    "mylist = ['a','a','a','b','b','c','d','d']"
   ]
  },
  {
   "cell_type": "code",
   "execution_count": null,
   "metadata": {
    "collapsed": false
   },
   "outputs": [],
   "source": [
    "targetoutput = [(0,2), (3,4), (5,5), (6,7)]"
   ]
  },
  {
   "cell_type": "code",
   "execution_count": null,
   "metadata": {
    "collapsed": false
   },
   "outputs": [],
   "source": [
    "for count, elem in enumerate(mylist):\n",
    "    print(count, elem)"
   ]
  },
  {
   "cell_type": "code",
   "execution_count": null,
   "metadata": {
    "collapsed": false
   },
   "outputs": [],
   "source": [
    "help(enumerate)"
   ]
  },
  {
   "cell_type": "code",
   "execution_count": null,
   "metadata": {
    "collapsed": false
   },
   "outputs": [],
   "source": [
    "import re\n",
    "\n",
    "a = re.match('\\d+', 'hello')\n",
    "\n",
    "print(a)\n",
    "#a.group()"
   ]
  },
  {
   "cell_type": "code",
   "execution_count": null,
   "metadata": {
    "collapsed": false
   },
   "outputs": [],
   "source": [
    "acceptedstring = re.match('[\\w\\d]+\\.[\\w\\d]+','100adat')\n",
    "acceptedstring"
   ]
  },
  {
   "cell_type": "code",
   "execution_count": null,
   "metadata": {
    "collapsed": false
   },
   "outputs": [],
   "source": [
    "import numpy as np\n",
    "def calc_checksum(signals):\n",
    "    return np.sum(signals, 0) % 65536\n",
    "\n",
    "z = np.array([[1,2,3,4,5], [7,7,7,7,7]])\n",
    "\n",
    "list(calc_checksum(z))\n",
    "\n",
    "list(z[0,:])"
   ]
  },
  {
   "cell_type": "code",
   "execution_count": null,
   "metadata": {
    "collapsed": true
   },
   "outputs": [],
   "source": [
    "class bread():\n",
    "    \n",
    "    def __init__(self):\n",
    "        self.type = 'white'\n",
    "        self.weight = 2\n",
    "        self.volume = bread.mathsfunction(10,10)\n",
    "        \n",
    "    def mathsfunction(a,b):\n",
    "        return a*b\n",
    "    \n"
   ]
  },
  {
   "cell_type": "code",
   "execution_count": null,
   "metadata": {
    "collapsed": false
   },
   "outputs": [],
   "source": [
    "bread.mathsfunction(10,10)"
   ]
  },
  {
   "cell_type": "code",
   "execution_count": null,
   "metadata": {
    "collapsed": false
   },
   "outputs": [],
   "source": [
    "try:\n",
    "    parsedatestring('34/09/1992')\n",
    "except SystemExit:\n",
    "    print('nope')"
   ]
  },
  {
   "cell_type": "code",
   "execution_count": null,
   "metadata": {
    "collapsed": false
   },
   "outputs": [],
   "source": []
  },
  {
   "cell_type": "code",
   "execution_count": null,
   "metadata": {
    "collapsed": false
   },
   "outputs": [],
   "source": [
    "from wfdb import _rdsamp\n",
    "sig, fields = _rdsamp.rdsamp('/home/chen/Projects/wfdb-python/sampledata/100')\n",
    "print(sig)\n",
    "print(fields)"
   ]
  },
  {
   "cell_type": "code",
   "execution_count": null,
   "metadata": {
    "collapsed": false
   },
   "outputs": [],
   "source": [
    "import wfdb\n",
    "\n",
    "record = wfdb.rdsamp('/home/chen/Projects/wfdb-python/sampledata/100', physical = 1)\n",
    "\n",
    "# 1. Initiate the WFDBrecord object with essential information. \n",
    "#record1 = records.WFDBrecord(recordname = 'record1', p_signals = sig, fs = 360, units = ['mV','mV'], signame = ['I','V'])\n",
    "# Alternatively you can also add in the fmt\n",
    "record1 = wfdb.WFDBrecord(recordname = 'record1', p_signals = record.p_signals, fs = 360, fmt = ['16','16'], units = ['mV','mV'], signame = ['I','V'])\n",
    "\n",
    "# 2. Compute optimal fields to store the digital signal, carry out adc, and set the fields.\n",
    "record1.set_d_features(do_adc = 1)\n",
    "# 3. Set default values of any missing field dependencies\n",
    "record1.setdefaults()\n",
    "# 4. Write the record files - header and associated dat\n",
    "record1.wrsamp()"
   ]
  },
  {
   "cell_type": "code",
   "execution_count": null,
   "metadata": {
    "collapsed": false
   },
   "outputs": [],
   "source": [
    "print(record.d_signals)\n",
    "print(record.__dict__)\n",
    "print(record.p_signals)\n",
    "print(record1.p_signals)"
   ]
  },
  {
   "cell_type": "code",
   "execution_count": null,
   "metadata": {
    "collapsed": false
   },
   "outputs": [],
   "source": [
    "import wfdb\n",
    "a = wfdb.rdsamp('/home/chen/Projects/wfdb-python/sampledata/100')"
   ]
  },
  {
   "cell_type": "code",
   "execution_count": null,
   "metadata": {
    "collapsed": false
   },
   "outputs": [],
   "source": [
    "a=np.zeros([4,3])"
   ]
  },
  {
   "cell_type": "code",
   "execution_count": null,
   "metadata": {
    "collapsed": false
   },
   "outputs": [],
   "source": [
    "hasattr(a, 'shape')"
   ]
  },
  {
   "cell_type": "code",
   "execution_count": null,
   "metadata": {
    "collapsed": false
   },
   "outputs": [],
   "source": [
    "seglen = [100,200,300,200]\n",
    "startsamps = [0] + list(np.cumsum(seglen)[0:-1])\n",
    "endsamps = list(np.cumsum(seglen))\n",
    "\n",
    "print(startsamps)\n",
    "print(endsamps)"
   ]
  },
  {
   "cell_type": "code",
   "execution_count": null,
   "metadata": {
    "collapsed": true
   },
   "outputs": [],
   "source": [
    "# Figure out if there are any channels wanted and \n",
    "# the output channels they are to be stored in\n",
    "\n",
    "fields = {}\n",
    "fields['signame'] = ['I','II','IV','V']\n",
    "fields['nsig'] = 4\n",
    "\n",
    "\n",
    "\n",
    "\n",
    "inchannels = []\n",
    "outchannels = []\n",
    "for s in fields['signame']:\n",
    "    if s in seg.signame:\n",
    "        inchannels.append(seg.signame.index(s))\n",
    "        outchannels.append(fields['signame'].index(s))\n",
    "\n",
    "\n",
    "for ch in range(0, fields['nsig']):\n",
    "    if ch not in outchannels:\n",
    "        p_signals[:,ch] = np.nan\n",
    "    else:\n",
    "        p_signals[:,ch] = seg.p_signals[:, inchannels[outchannels.index(ch)]]"
   ]
  },
  {
   "cell_type": "code",
   "execution_count": null,
   "metadata": {
    "collapsed": false
   },
   "outputs": [],
   "source": [
    "import importlib\n",
    "import wfdb\n",
    "importlib.reload(wfdb)\n",
    "#a = wfdb.rdsamp('/home/chen/Projects/wfdb-python/sampledata/matched/s00001/s00001-2896-10-10-00-31')\n",
    "a = wfdb.rdsamp('/home/cx1111/Projects/wfdb-python/sampledata/matched/s00001/s00001-2896-10-10-00-31')\n"
   ]
  },
  {
   "cell_type": "code",
   "execution_count": null,
   "metadata": {
    "collapsed": false
   },
   "outputs": [],
   "source": [
    "a.__dict__"
   ]
  },
  {
   "cell_type": "code",
   "execution_count": null,
   "metadata": {
    "collapsed": false
   },
   "outputs": [],
   "source": [
    "import numpy as np\n",
    "def givex():\n",
    "    x = np.array([[1,2,3],[1,2,3],[1,2,3]])\n",
    "    return x\n",
    "\n",
    "givex()[:,[1,1,0,1]]\n"
   ]
  },
  {
   "cell_type": "code",
   "execution_count": null,
   "metadata": {
    "collapsed": false
   },
   "outputs": [],
   "source": [
    "import numpy as np\n",
    "        \n",
    "np.cumsum([1,2,3,4,5])"
   ]
  },
  {
   "cell_type": "code",
   "execution_count": null,
   "metadata": {
    "collapsed": false
   },
   "outputs": [],
   "source": [
    "a = np.diff([1,2,3,4,59,99,33])\n",
    "\n",
    "a.dtype == 'int64'\n",
    "\n",
    "a.ndim"
   ]
  },
  {
   "cell_type": "code",
   "execution_count": null,
   "metadata": {
    "collapsed": false
   },
   "outputs": [],
   "source": [
    "min([1,2,3])\n"
   ]
  },
  {
   "cell_type": "code",
   "execution_count": null,
   "metadata": {
    "collapsed": false
   },
   "outputs": [],
   "source": [
    "b = np.array(['a','b','c"
   ]
  },
  {
   "cell_type": "code",
   "execution_count": null,
   "metadata": {
    "collapsed": false
   },
   "outputs": [],
   "source": [
    "# Mask of 6 msb out of 16: 2**10 + 2**11 + ...\n",
    "\n",
    "typemask = 2**10 + 2**11 + 2**12 + 2**13 + 2**14 + 2**15\n",
    "\n",
    "(1317 & typemask) >> 10\n",
    "(8995 & typemask) >> 10\n"
   ]
  },
  {
   "cell_type": "code",
   "execution_count": null,
   "metadata": {
    "collapsed": false
   },
   "outputs": [],
   "source": [
    "import wfdb\n",
    "import numpy as np\n",
    "a = wfdb.rdann('/home/chen/Projects/wfdb-python/sampledata/100', 'atr', sampfrom =647672, sampto = 649734 )\n",
    "a.anntype[0] = '#'\n",
    "a.__dict__\n"
   ]
  },
  {
   "cell_type": "code",
   "execution_count": null,
   "metadata": {
    "collapsed": false
   },
   "outputs": [],
   "source": [
    "a.type2aux()\n",
    "a.__dict__\n",
    "\n",
    "\n",
    "a.wrann()"
   ]
  },
  {
   "cell_type": "code",
   "execution_count": null,
   "metadata": {
    "collapsed": true
   },
   "outputs": [],
   "source": [
    "\n"
   ]
  },
  {
   "cell_type": "code",
   "execution_count": null,
   "metadata": {
    "collapsed": false
   },
   "outputs": [],
   "source": [
    "import numpy as np\n",
    "import timeit\n",
    "\n",
    "def fillarray(N):\n",
    "    x = np.empty(N)\n",
    "    for i in range(0, N):\n",
    "        x[i] = i\n",
    "    \n",
    "def makelist(N):\n",
    "    x = []\n",
    "    for i in range(0, N):\n",
    "        x.append(i)\n",
    "        \n",
    "def makelistadd(N):\n",
    "    x = []\n",
    "    for i in range(0, N):\n",
    "        x = x+ [i]\n",
    "        \n",
    "print(timeit.timeit('fillarray(N)', setup=\"from __main__ import fillarray; N= 100000\", number = 100))\n",
    "print(timeit.timeit('makelist(N)', setup=\"from __main__ import makelist; N= 100000\",number = 100))\n",
    "#print(timeit.timeit('makelistadd(N)', setup=\"from __main__ import makelistadd; N= 100000\",number = 100))"
   ]
  },
  {
   "cell_type": "code",
   "execution_count": null,
   "metadata": {
    "collapsed": false
   },
   "outputs": [],
   "source": [
    "import wfdb\n",
    "ann = wfdb.rdann('/home/chen/Downloads/chb01_03.edf','seizures')"
   ]
  },
  {
   "cell_type": "code",
   "execution_count": null,
   "metadata": {
    "collapsed": false
   },
   "outputs": [],
   "source": [
    "ann.__dict__"
   ]
  },
  {
   "cell_type": "code",
   "execution_count": null,
   "metadata": {
    "collapsed": false
   },
   "outputs": [],
   "source": [
    "# Testing wrann\n",
    "import wfdb\n",
    "from IPython.display import display\n",
    "\n",
    "annsamp = [20, 40, 60, 80, 100, 800, 1200 , 3000, 3001, 8000, 100000]\n",
    "#annsamp = [20, 40, 60, 80, 100, 800, 1200]\n",
    "#annsamp = [20, 60, 2**31] # 2**31+100 is too large\n",
    "\n",
    "nsamp = len(annsamp)\n",
    "\n",
    "anntype = ['N', 'N', 'N', '3', 'N', '2', 'N', '1', 'N', 'N', 'g']\n",
    "sub = [1,0,0,0,5,3,2,5,0,0,0]\n",
    "chan = [2,2,3,2,9,2,2,2,2,2,2]\n",
    "num = [1,2,3,4,5,3,2,5,11,22,22]\n",
    "aux = [None, None, \"good\", \"good\", \"good\", \"good\", \"good\", \"good\", None, None, None]\n",
    "fs = 100\n",
    "fs = None\n",
    "\n",
    "a = wfdb.Annotation(recordname = 'firstann', annotator = 'atr', \n",
    "                    annsamp = annsamp, anntype = anntype, aux = aux, \n",
    "                    subtype = sub, chan = chan, num = num, fs = fs)\n",
    "a.type2aux()\n",
    "display(a.__dict__)\n",
    "a.wrann()\n",
    "\n",
    "b = wfdb.rdann('firstann', 'atr')\n",
    "b.__dict__\n",
    "\n",
    "\n",
    "# print([sd & 255, sd & 768, (sd & 768) >> 8])"
   ]
  },
  {
   "cell_type": "code",
   "execution_count": null,
   "metadata": {
    "collapsed": false
   },
   "outputs": [],
   "source": [
    "type(None) == 'NoneType'"
   ]
  },
  {
   "cell_type": "code",
   "execution_count": null,
   "metadata": {
    "collapsed": false
   },
   "outputs": [],
   "source": [
    "2**31"
   ]
  },
  {
   "cell_type": "code",
   "execution_count": null,
   "metadata": {
    "collapsed": false
   },
   "outputs": [],
   "source": [
    "import numpy as np\n",
    "inttypes = [int, np.int64, np.int32]\n",
    "\n",
    "print(inttypes)\n",
    "display(inttypes)"
   ]
  },
  {
   "cell_type": "code",
   "execution_count": null,
   "metadata": {
    "collapsed": true
   },
   "outputs": [],
   "source": []
  }
 ],
 "metadata": {
  "kernelspec": {
   "display_name": "Python 3",
   "language": "python",
   "name": "python3"
  },
  "language_info": {
   "codemirror_mode": {
    "name": "ipython",
    "version": 3
   },
   "file_extension": ".py",
   "mimetype": "text/x-python",
   "name": "python",
   "nbconvert_exporter": "python",
   "pygments_lexer": "ipython3",
   "version": "3.5.2"
  }
 },
 "nbformat": 4,
 "nbformat_minor": 0
}
