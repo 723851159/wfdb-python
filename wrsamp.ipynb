{
 "cells": [
  {
   "cell_type": "code",
   "execution_count": null,
   "metadata": {
    "collapsed": true
   },
   "outputs": [],
   "source": [
    "# The preliminary notebook for testing/developing wrsamp. Will delete before merging. "
   ]
  },
  {
   "cell_type": "markdown",
   "metadata": {},
   "source": [
    "wrsamp calls wrheader with sig. wrheader calls setfields, and checkfields. \n",
    "\n",
    "\n",
    "setfields() - fills in fields of a wfdbrecord object. Fields that it can fill in include essential fields, and dependencies.\n",
    "It will NOT overwrite any user defined fields, aka fields != None. "
   ]
  },
  {
   "cell_type": "code",
   "execution_count": 12,
   "metadata": {
    "collapsed": true
   },
   "outputs": [],
   "source": [
    "class WFDBrecord():\n",
    "    \n",
    "    # Constructor\n",
    "    def __init__(self, signals=None, recordname=None, nsig=None, \n",
    "                 fs=None, counterfreq=None, basecounter=None, \n",
    "                 siglen=None, basetime=None, basedate=None, \n",
    "                 filename=None, fmt=None, sampsperframe=None, \n",
    "                 skew=None, byteoffset=None, adcgain=None, \n",
    "                 baseline=None, units=None, adcres=None, \n",
    "                 adczero=None, initvalue=None, checksum=None, \n",
    "                 blocksize=None, signame=None, comments=None):\n",
    "        \n",
    "        # Note the lack of 'nseg' field. Single segment records cannot have this field. Even nseg = 1 makes \n",
    "        # the header a multi-segment header. \n",
    "        \n",
    "        self.signals = signals\n",
    "        \n",
    "        self.recordname=recordname\n",
    "        self.nsig=nsig\n",
    "        self.fs=fs\n",
    "        self.counterfreq=counterfreq\n",
    "        self.basecounter=basecounter\n",
    "        self.siglen=siglen\n",
    "        self.basetime=basetime\n",
    "        self.basedate=basedate\n",
    "        \n",
    "        self.filename=filename\n",
    "        self.fmt=fmt\n",
    "        self.sampsperframe=sampsperframe\n",
    "        self.skew=skew\n",
    "        self.byteoffset=byteoffset\n",
    "        self.adcgain=adcgain\n",
    "        self.baseline=baseline\n",
    "        self.units=units\n",
    "        self.adcres=adcres\n",
    "        self.adczero=adczero\n",
    "        self.initvalue=initvalue\n",
    "        self.checksum=checksum\n",
    "        self.blocksize=blocksize\n",
    "        self.signame=signame\n",
    "        \n",
    "        self.comments=comments"
   ]
  },
  {
   "cell_type": "code",
   "execution_count": 35,
   "metadata": {
    "collapsed": false
   },
   "outputs": [],
   "source": [
    "import numpy as np\n",
    "# The specifications of a WFDB field\n",
    "# 0. type\n",
    "# 1. delimiter\n",
    "# 2. dependency\n",
    "# 3. required to write? (nseg starts as F but will be set by wrmultiheader and wrmultiseg to True.)\n",
    "# 4. default fill function available? 0-2. \n",
    "class WFDBfieldspecs():\n",
    "    \n",
    "    def __init__(self, speclist):\n",
    "    \n",
    "        # Data types the field can take\n",
    "        self.allowedtypes = speclist[0]\n",
    "        \n",
    "        # The text delimiter that preceeds the field\n",
    "        self.delimiter = speclist[1]\n",
    "        \n",
    "        # The required/dependent field which must also be present\n",
    "        self.dependency = speclist[2]\n",
    "        \n",
    "        # Whether the field is mandatory for writing a header (WFDB requirements + extra rules enforced by this library).\n",
    "        # Being required for writing is not the same as the user having to specify via wrsamp/wrhea. These functions can set defaults.\n",
    "        self.write_req = speclist[3]\n",
    "        \n",
    "        # Whether there is a default value for this field that can be inferred or calculated, and also whether ther setfield function will actually set the field. \n",
    "        # 0 = no, 1 = yes but only if signals is present, 2 = yes without needing signals (although it may still use it).  \n",
    "        # Watch out for: adcgain, baseline. Set them to 1 but have a check statement in the function. Should be 0 if isdigital.\n",
    "        # sampsperframe, skew, and byteoffset do have defaults but the setfields will not return anything because we do not want to write anything. So value = 0. Conversely when reading, these fields will be left as None if not present. \n",
    "        # This field is used to see if we can call the 'setfield' function on that field.\n",
    "        self.has_write_default = speclist[4]\n",
    "         \n",
    "\n",
    "# The signal field\n",
    "signalspecs = OrderedDict([('signal', WFDBfieldspecs([[np.ndarray], '', None, False, 2]))])\n",
    "\n",
    "# The segment field\n",
    "segmentspecs = OrderedDict([('segment', WFDBfieldspecs([[list], '', None, True, 2]))])\n",
    "\n",
    "# Record specification fields            \n",
    "recfieldspecs = OrderedDict([('recordname', WFDBfieldspecs([[str], '', None, True, 0])),\n",
    "                         ('nseg', WFDBfieldspecs([[int], '/', 'recordname', True, 0])), # Essential for multi but illegal for single.\n",
    "                         ('nsig', WFDBfieldspecs([[int], ' ', 'recordname', True, 1])),\n",
    "                         ('fs', WFDBfieldspecs([[int, float], ' ', 'nsig', True, 0])),\n",
    "                         ('counterfreq', WFDBfieldspecs([[int, float], '/', 'fs', False, 0])),\n",
    "                         ('basecounter', WFDBfieldspecs([[int, float], '(', 'counterfreq', False, 0])),\n",
    "                         ('siglen', WFDBfieldspecs([[int], ' ', 'fs', True, 1])),\n",
    "                         ('basetime', WFDBfieldspecs([[str], ' ', 'siglen', False, 2])),\n",
    "                         ('basedate', WFDBfieldspecs([[str], ' ', 'basetime', False, 0]))])\n",
    "# Signal specification fields \n",
    "sigfieldspecs = OrderedDict([('filename', WFDBfieldspecs([[str], '', None, True, 2])),\n",
    "                         ('fmt', WFDBfieldspecs([[int, str], ' ', 'filename', True, 2])),\n",
    "                         ('sampsperframe', WFDBfieldspecs([[int], 'x', 'fmt', False, 0])),\n",
    "                         ('skew', WFDBfieldspecs([[int], ':', 'fmt', False, 0])),\n",
    "                         ('byteoffset', WFDBfieldspecs([[int], '+', 'fmt', False, 0])),\n",
    "                         ('adcgain', WFDBfieldspecs([[int], ' ', 'fmt', True, 1])),\n",
    "                         ('baseline', WFDBfieldspecs([[int], '(', 'adcgain', True, 1])),\n",
    "                         ('units', WFDBfieldspecs([[str], '/', 'adcgain', True, 2])),\n",
    "                         ('adcres', WFDBfieldspecs([[int], ' ', 'adcgain', False, 2])),\n",
    "                         ('adczero', WFDBfieldspecs([[int], ' ', 'adcres', False, 2])),\n",
    "                         ('initvalue', WFDBfieldspecs([[int], ' ', 'adczero', False, 1])),\n",
    "                         ('checksum', WFDBfieldspecs([[int], ' ', 'initvalue', False, 1])),\n",
    "                         ('blocksize', WFDBfieldspecs([[int], ' ', 'checksum', False, 2])),\n",
    "                         ('signame', WFDBfieldspecs([[str], ' ', 'blocksize', False, 1]))])\n",
    "    \n",
    "# Segment specification fields\n",
    "segfieldspecs = OrderedDict([('segname', WFDBfieldspecs([[str], '', None, True, 0])),\n",
    "                         ('seglen', WFDBfieldspecs([[int], ' ', 'segname', True, 0]))])\n",
    "# Comment field\n",
    "comfieldspecs = OrderedDict([('comments', WFDBfieldspecs([[int], '', None, False, False]))])\n",
    "\n",
    "\n",
    "singlefieldspeclist = [signalspecs.copy(), recfieldspecs.copy(), sigfieldspecs.copy(), comfieldspecs.copy()]\n",
    "del(singlefieldspeclist[1]['nseg'])\n",
    "multifieldspeclist = [segmentspecs.copy(), recfieldspecs.copy(), segfieldspecs.copy(), comfieldspecs.copy()]"
   ]
  },
  {
   "cell_type": "code",
   "execution_count": 52,
   "metadata": {
    "collapsed": false
   },
   "outputs": [
    {
     "name": "stdout",
     "output_type": "stream",
     "text": [
      "basedate\n",
      "basetime\n",
      "siglen\n",
      "basecounter\n",
      "counterfreq\n",
      "fs\n",
      "nsig\n",
      "recordname\n"
     ]
    }
   ],
   "source": [
    "fieldspeclist = singlefieldspeclist\n",
    "for f in OrderedDict(reversed(list(fieldspeclist[1].items()))):\n",
    "    print(f)"
   ]
  },
  {
   "cell_type": "code",
   "execution_count": 56,
   "metadata": {
    "collapsed": false
   },
   "outputs": [
    {
     "name": "stdout",
     "output_type": "stream",
     "text": [
      "True\n"
     ]
    },
    {
     "data": {
      "text/plain": [
       "False"
      ]
     },
     "execution_count": 56,
     "metadata": {},
     "output_type": "execute_result"
    }
   ],
   "source": [
    "a=[1,2,3]\n",
    "b=a\n",
    "print(a is b)\n",
    "b=[2,3,4]\n",
    "a is b"
   ]
  },
  {
   "cell_type": "code",
   "execution_count": 49,
   "metadata": {
    "collapsed": false
   },
   "outputs": [
    {
     "data": {
      "text/plain": [
       "False"
      ]
     },
     "execution_count": 49,
     "metadata": {},
     "output_type": "execute_result"
    }
   ],
   "source": [
    "a=[1,2,3]\n",
    "b=a.copy()\n",
    "b is a"
   ]
  },
  {
   "cell_type": "code",
   "execution_count": null,
   "metadata": {
    "collapsed": true
   },
   "outputs": [],
   "source": [
    "\n",
    "\n"
   ]
  },
  {
   "cell_type": "code",
   "execution_count": 30,
   "metadata": {
    "collapsed": false
   },
   "outputs": [],
   "source": [
    "rev_rfields=OrderedDict(reversed(list(WFDBfieldlist[0].items())))"
   ]
  },
  {
   "cell_type": "code",
   "execution_count": 32,
   "metadata": {
    "collapsed": false
   },
   "outputs": [
    {
     "data": {
      "text/plain": [
       "False"
      ]
     },
     "execution_count": 32,
     "metadata": {},
     "output_type": "execute_result"
    }
   ],
   "source": [
    "rev_rfields['basedate'].write_req"
   ]
  },
  {
   "cell_type": "code",
   "execution_count": 51,
   "metadata": {
    "collapsed": false
   },
   "outputs": [
    {
     "ename": "TypeError",
     "evalue": "unorderable types: NoneType() > int()",
     "output_type": "error",
     "traceback": [
      "\u001b[0;31m---------------------------------------------------------------------------\u001b[0m",
      "\u001b[0;31mTypeError\u001b[0m                                 Traceback (most recent call last)",
      "\u001b[0;32m<ipython-input-51-17b295edf450>\u001b[0m in \u001b[0;36m<module>\u001b[0;34m()\u001b[0m\n\u001b[1;32m      1\u001b[0m \u001b[0ma\u001b[0m\u001b[0;34m=\u001b[0m\u001b[0;32mNone\u001b[0m\u001b[0;34m\u001b[0m\u001b[0m\n\u001b[0;32m----> 2\u001b[0;31m \u001b[0;32mif\u001b[0m \u001b[0ma\u001b[0m\u001b[0;34m>\u001b[0m\u001b[0;36m5\u001b[0m \u001b[0;32mand\u001b[0m \u001b[0ma\u001b[0m\u001b[0;34m:\u001b[0m\u001b[0;34m\u001b[0m\u001b[0m\n\u001b[0m\u001b[1;32m      3\u001b[0m     \u001b[0mprint\u001b[0m\u001b[0;34m(\u001b[0m\u001b[0;34m'hi'\u001b[0m\u001b[0;34m)\u001b[0m\u001b[0;34m\u001b[0m\u001b[0m\n",
      "\u001b[0;31mTypeError\u001b[0m: unorderable types: NoneType() > int()"
     ]
    }
   ],
   "source": [
    "a=None\n",
    "if a and a>5:\n",
    "    print('hi')"
   ]
  },
  {
   "cell_type": "code",
   "execution_count": 1,
   "metadata": {
    "collapsed": false
   },
   "outputs": [],
   "source": [
    "from testmodule import bread"
   ]
  },
  {
   "cell_type": "code",
   "execution_count": 4,
   "metadata": {
    "collapsed": false
   },
   "outputs": [
    {
     "data": {
      "text/plain": [
       "300"
      ]
     },
     "execution_count": 4,
     "metadata": {},
     "output_type": "execute_result"
    }
   ],
   "source": [
    "panini=bread()\n",
    "panini.getcals(3)"
   ]
  },
  {
   "cell_type": "code",
   "execution_count": 3,
   "metadata": {
    "collapsed": false
   },
   "outputs": [
    {
     "data": {
      "text/plain": [
       "['__class__',\n",
       " '__delattr__',\n",
       " '__dict__',\n",
       " '__dir__',\n",
       " '__doc__',\n",
       " '__eq__',\n",
       " '__format__',\n",
       " '__ge__',\n",
       " '__getattribute__',\n",
       " '__gt__',\n",
       " '__hash__',\n",
       " '__init__',\n",
       " '__le__',\n",
       " '__lt__',\n",
       " '__module__',\n",
       " '__ne__',\n",
       " '__new__',\n",
       " '__reduce__',\n",
       " '__reduce_ex__',\n",
       " '__repr__',\n",
       " '__setattr__',\n",
       " '__sizeof__',\n",
       " '__str__',\n",
       " '__subclasshook__',\n",
       " '__weakref__',\n",
       " 'carbs',\n",
       " 'getcals']"
      ]
     },
     "execution_count": 3,
     "metadata": {},
     "output_type": "execute_result"
    }
   ],
   "source": [
    "dir(panini)"
   ]
  },
  {
   "cell_type": "code",
   "execution_count": 6,
   "metadata": {
    "collapsed": false
   },
   "outputs": [],
   "source": [
    "from collections import OrderedDict\n",
    "\n",
    "a=OrderedDict([('name','jack'),('age',50)])\n",
    "\n"
   ]
  },
  {
   "cell_type": "code",
   "execution_count": 7,
   "metadata": {
    "collapsed": false
   },
   "outputs": [
    {
     "data": {
      "text/plain": [
       "OrderedDict([('name', 'jack'), ('age', 50)])"
      ]
     },
     "execution_count": 7,
     "metadata": {},
     "output_type": "execute_result"
    }
   ],
   "source": [
    "a"
   ]
  },
  {
   "cell_type": "code",
   "execution_count": 11,
   "metadata": {
    "collapsed": false
   },
   "outputs": [
    {
     "data": {
      "text/plain": [
       "OrderedDict([('age', 50)])"
      ]
     },
     "execution_count": 11,
     "metadata": {},
     "output_type": "execute_result"
    }
   ],
   "source": [
    "del(a['name'])\n",
    "a"
   ]
  },
  {
   "cell_type": "code",
   "execution_count": 57,
   "metadata": {
    "collapsed": false
   },
   "outputs": [
    {
     "data": {
      "text/plain": [
       "[1, 2, 3]"
      ]
     },
     "execution_count": 57,
     "metadata": {},
     "output_type": "execute_result"
    }
   ],
   "source": [
    "a=np.array([1,2,3])\n",
    "b=list(a)\n",
    "b"
   ]
  },
  {
   "cell_type": "code",
   "execution_count": 12,
   "metadata": {
    "collapsed": false
   },
   "outputs": [],
   "source": [
    "class dumbclass():\n",
    "    \n",
    "    def something(self, x):\n",
    "        return x*2"
   ]
  },
  {
   "cell_type": "code",
   "execution_count": 13,
   "metadata": {
    "collapsed": false
   },
   "outputs": [],
   "source": [
    "a=dumbclass()\n",
    "b=a.something(5)"
   ]
  },
  {
   "cell_type": "code",
   "execution_count": 14,
   "metadata": {
    "collapsed": false
   },
   "outputs": [
    {
     "data": {
      "text/plain": [
       "10"
      ]
     },
     "execution_count": 14,
     "metadata": {},
     "output_type": "execute_result"
    }
   ],
   "source": [
    "b"
   ]
  },
  {
   "cell_type": "code",
   "execution_count": 15,
   "metadata": {
    "collapsed": false
   },
   "outputs": [
    {
     "data": {
      "text/plain": [
       "['__class__',\n",
       " '__delattr__',\n",
       " '__dict__',\n",
       " '__dir__',\n",
       " '__doc__',\n",
       " '__eq__',\n",
       " '__format__',\n",
       " '__ge__',\n",
       " '__getattribute__',\n",
       " '__gt__',\n",
       " '__hash__',\n",
       " '__init__',\n",
       " '__le__',\n",
       " '__lt__',\n",
       " '__module__',\n",
       " '__ne__',\n",
       " '__new__',\n",
       " '__reduce__',\n",
       " '__reduce_ex__',\n",
       " '__repr__',\n",
       " '__setattr__',\n",
       " '__sizeof__',\n",
       " '__str__',\n",
       " '__subclasshook__',\n",
       " '__weakref__',\n",
       " 'something']"
      ]
     },
     "execution_count": 15,
     "metadata": {},
     "output_type": "execute_result"
    }
   ],
   "source": [
    "dir(a)"
   ]
  },
  {
   "cell_type": "code",
   "execution_count": 1,
   "metadata": {
    "collapsed": true
   },
   "outputs": [],
   "source": [
    "import wfdb"
   ]
  },
  {
   "cell_type": "code",
   "execution_count": null,
   "metadata": {
    "collapsed": true
   },
   "outputs": [],
   "source": []
  }
 ],
 "metadata": {
  "kernelspec": {
   "display_name": "Python 3",
   "language": "python",
   "name": "python3"
  },
  "language_info": {
   "codemirror_mode": {
    "name": "ipython",
    "version": 3
   },
   "file_extension": ".py",
   "mimetype": "text/x-python",
   "name": "python",
   "nbconvert_exporter": "python",
   "pygments_lexer": "ipython3",
   "version": "3.5.2"
  }
 },
 "nbformat": 4,
 "nbformat_minor": 0
}
