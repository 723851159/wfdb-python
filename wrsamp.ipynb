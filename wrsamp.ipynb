{
 "cells": [
  {
   "cell_type": "code",
   "execution_count": null,
   "metadata": {
    "collapsed": true
   },
   "outputs": [],
   "source": [
    "# The preliminary notebook for testing/developing wrsamp. Will delete before merging. "
   ]
  },
  {
   "cell_type": "code",
   "execution_count": 30,
   "metadata": {
    "collapsed": false
   },
   "outputs": [
    {
     "name": "stdout",
     "output_type": "stream",
     "text": [
      "height\n",
      "weight\n",
      "age\n"
     ]
    }
   ],
   "source": [
    "from collections import OrderedDict\n",
    "fields = OrderedDict([('height', 170), ('weight', 70), ('age', 20)])\n",
    "\n",
    "for f in fields:\n",
    "    print(f)"
   ]
  },
  {
   "cell_type": "code",
   "execution_count": null,
   "metadata": {
    "collapsed": false
   },
   "outputs": [],
   "source": []
  },
  {
   "cell_type": "code",
   "execution_count": 35,
   "metadata": {
    "collapsed": false
   },
   "outputs": [
    {
     "name": "stdout",
     "output_type": "stream",
     "text": [
      "age\n",
      "height\n",
      "weight\n"
     ]
    }
   ],
   "source": [
    "from collections import OrderedDict\n",
    "fields = OrderedDict({'height': 170, 'weight': 70, 'age': 20})\n",
    "\n",
    "for f in fields:\n",
    "    print(f)"
   ]
  },
  {
   "cell_type": "code",
   "execution_count": 37,
   "metadata": {
    "collapsed": false
   },
   "outputs": [
    {
     "name": "stdout",
     "output_type": "stream",
     "text": [
      "signame\n",
      "checksum\n",
      "blocksize\n",
      "checksum\n",
      "checksum\n",
      "initvalue\n",
      "initvalue\n",
      "adczero\n",
      "adczero\n",
      "adcres\n",
      "adcres\n",
      "adcgain\n",
      "units\n",
      "adcgain\n",
      "baseline\n",
      "adcgain\n",
      "adcgain\n",
      "fmt\n",
      "byteoffset\n",
      "fmt\n",
      "skew\n",
      "fmt\n",
      "sampsperframe\n",
      "fmt\n"
     ]
    }
   ],
   "source": [
    "dependencies = OrderedDict([('signame', 'checksum'),\n",
    "                                ('blocksize', 'checksum'),\n",
    "                                ('checksum', 'initvalue'),\n",
    "                                ('initvalue', 'adczero'),\n",
    "                                ('adczero', 'adcres'),\n",
    "                                ('adcres', 'adcgain'),\n",
    "                                ('units', 'adcgain'),\n",
    "                                ('baseline', 'adcgain'),\n",
    "                                ('adcgain', 'fmt'),\n",
    "                                ('byteoffset', 'fmt'),\n",
    "                                ('skew', 'fmt'),\n",
    "                                ('sampsperframe', 'fmt')\n",
    "                               ])\n",
    "\n",
    "for d in dependencies:\n",
    "    print(d)\n",
    "    print(dependencies[d])"
   ]
  },
  {
   "cell_type": "code",
   "execution_count": 7,
   "metadata": {
    "collapsed": false
   },
   "outputs": [
    {
     "name": "stdout",
     "output_type": "stream",
     "text": [
      "weight\n",
      "height\n",
      "age\n"
     ]
    }
   ],
   "source": [
    "fields = {'height': 170, 'weight': 70, 'age': 20}\n",
    "\n",
    "for i in reversed(list(fields)):\n",
    "    print(i)"
   ]
  },
  {
   "cell_type": "code",
   "execution_count": 17,
   "metadata": {
    "collapsed": false
   },
   "outputs": [
    {
     "ename": "SyntaxError",
     "evalue": "invalid syntax (<ipython-input-17-8c8a4646591e>, line 1)",
     "output_type": "error",
     "traceback": [
      "\u001b[1;36m  File \u001b[1;32m\"<ipython-input-17-8c8a4646591e>\"\u001b[1;36m, line \u001b[1;32m1\u001b[0m\n\u001b[1;33m    lambda\u001b[0m\n\u001b[1;37m          ^\u001b[0m\n\u001b[1;31mSyntaxError\u001b[0m\u001b[1;31m:\u001b[0m invalid syntax\n"
     ]
    }
   ],
   "source": []
  },
  {
   "cell_type": "code",
   "execution_count": 48,
   "metadata": {
    "collapsed": false
   },
   "outputs": [],
   "source": [
    "import numpy as np\n",
    "a=np.zeros([10,3])\n",
    "m, n = np.shape(a)\n"
   ]
  },
  {
   "cell_type": "code",
   "execution_count": 4,
   "metadata": {
    "collapsed": false
   },
   "outputs": [
    {
     "data": {
      "text/plain": [
       "{'age': [], 'height': [], 'weight': []}"
      ]
     },
     "execution_count": 4,
     "metadata": {},
     "output_type": "execute_result"
    }
   ],
   "source": [
    "WFDBfields = ['height', 'weight', 'age']\n",
    "\n",
    "final = dict.fromkeys(WFDBfields, [])\n",
    "final"
   ]
  },
  {
   "cell_type": "code",
   "execution_count": 18,
   "metadata": {
    "collapsed": false
   },
   "outputs": [
    {
     "name": "stdout",
     "output_type": "stream",
     "text": [
      "Help on built-in function fromkeys:\n",
      "\n",
      "fromkeys(iterable, value=None, /) method of builtins.type instance\n",
      "    Returns a new dict with keys from iterable and values equal to value.\n",
      "\n"
     ]
    }
   ],
   "source": [
    "help(dict.fromkeys)"
   ]
  },
  {
   "cell_type": "code",
   "execution_count": 20,
   "metadata": {
    "collapsed": false
   },
   "outputs": [
    {
     "name": "stdout",
     "output_type": "stream",
     "text": [
      "age\n",
      "weight\n",
      "height\n"
     ]
    }
   ],
   "source": [
    "for i in final:\n",
    "    print(i)"
   ]
  },
  {
   "cell_type": "code",
   "execution_count": 5,
   "metadata": {
    "collapsed": false
   },
   "outputs": [
    {
     "name": "stdout",
     "output_type": "stream",
     "text": [
      "age\n",
      "weight\n",
      "height\n"
     ]
    }
   ],
   "source": [
    "for i in reversed(WFDBfields):\n",
    "    print(i)"
   ]
  },
  {
   "cell_type": "code",
   "execution_count": 57,
   "metadata": {
    "collapsed": false
   },
   "outputs": [],
   "source": [
    "a=[{'recname': 'wave1'},{'siglen': 500},{'fs': 125}]"
   ]
  },
  {
   "cell_type": "code",
   "execution_count": 62,
   "metadata": {
    "collapsed": false
   },
   "outputs": [
    {
     "data": {
      "text/plain": [
       "[dict_keys(['recname']), dict_keys(['siglen']), dict_keys(['fs'])]"
      ]
     },
     "execution_count": 62,
     "metadata": {},
     "output_type": "execute_result"
    }
   ],
   "source": [
    "b=[i.keys() for i in a]\n",
    "b"
   ]
  },
  {
   "cell_type": "code",
   "execution_count": 1,
   "metadata": {
    "collapsed": false
   },
   "outputs": [],
   "source": [
    "# A field of the WFDB header file\n",
    "from collections import OrderedDict\n",
    "\n",
    "class WFDBfield():\n",
    "    \n",
    "    def __init__(self, speclist):\n",
    "        # Name\n",
    "        self.name = speclist[0] \n",
    "        \n",
    "        # Data types the field can take\n",
    "        self.allowedtypes = speclist[1]\n",
    "        \n",
    "        # The text delimiter that preceeds the field\n",
    "        self.delimiter = speclist[2]\n",
    "        \n",
    "        # The required/dependent field which must also be present\n",
    "        self.field_req = speclist[3]\n",
    "\n",
    "        # Whether the field is mandatory specified by the WFDB guidelines\n",
    "        self.is_req = speclist[4]\n",
    "        \n",
    "        # Whether the field is mandatory for writing (extra rules enforced by this library).\n",
    "        # Being required for writing is not the same as the user having to specify. There are defaults. \n",
    "        self.write_req = speclist[5]"
   ]
  },
  {
   "cell_type": "code",
   "execution_count": 67,
   "metadata": {
    "collapsed": false
   },
   "outputs": [],
   "source": [
    "# 1. Record specification fields\n",
    "recfields = OrderedDict([('recordname', WFDBfield(['recordname', [str], '', None, True, True, None])),\n",
    "                         ('nseg', WFDBfield(['nseg', [int], '/', 'recordname', False, False, None])),\n",
    "                         ('nsig', WFDBfield(['nsig', [int], ' ', 'recordname', True, True, None])),\n",
    "                         ('fs', WFDBfield(['fs', [int, float], ' ', 'nsig', False, True, None])),\n",
    "                         ('counterfreq', WFDBfield(['counterfreq', [int, float], '/', 'fs', False, False, None])),\n",
    "                         ('basecounter', WFDBfield(['basecounter', [int, float], '(', 'counterfreq', False, False, None])),\n",
    "                         ('siglen', WFDBfield(['siglen', [int], ' ', 'fs', False, True, None])),\n",
    "                         ('basetime', WFDBfield(['basetime', [str], ' ', 'siglen', False, False, None])),\n",
    "                         ('basedate', WFDBfield(['basedate', [str], ' ', 'basetime', False, False, None]))])\n",
    "    \n",
    "# 2. Signal specification fields\n",
    "sigfields = OrderedDict([('filename', WFDBfield(['filename', [str], '', None, True, True, None])),\n",
    "                         ('fmt', WFDBfield(['fmt', [int, str], ' ', 'filename', True, True, None])),\n",
    "                         ('sampsperframe', WFDBfield(['sampsperframe', [int], 'x', 'fmt', False, False])),\n",
    "                         ('skew', WFDBfield(['skew', [int], ':', 'fmt', False, False])),\n",
    "                         ('byteoffset', WFDBfield(['byteoffset', [int], '+', 'fmt', False, False])),\n",
    "                         ('adcgain', WFDBfield(['adcgain', [int], ' ', 'fmt', False, False])),\n",
    "                         ('baseline', WFDBfield(['baseline', [int], '(', 'adcgain', False, False])),\n",
    "                         ('units', WFDBfield(['units', [str], '/', 'adcgain', False, False])),\n",
    "                         ('adcres', WFDBfield(['adcres', [int], ' ', 'adcgain', False, False])),\n",
    "                         ('adczero', WFDBfield(['adczero', [int], ' ', 'adcres', False, False])),\n",
    "                         ('initvalue', WFDBfield(['initvalue', [int], ' ', 'adczero', False, False])),\n",
    "                         ('checksum', WFDBfield(['checksum', [int], ' ', 'initvalue', False, False])),\n",
    "                         ('blocksize', WFDBfield(['blocksize', [int], ' ', 'checksum', False, False])),\n",
    "                         ('signame', WFDBfield(['signame', [str], ' ', 'blocksize', False, False]))])\n",
    "    \n",
    "# 3. Segment specification fields\n",
    "segfields = OrderedDict([('segname', WFDBfield(['segname', [str], '', None, True, True])),\n",
    "                         ('seglen', WFDBfield(['seglen', [int], ' ', 'segname', True, True]))])\n",
    "    \n",
    "# 4. Comment fields\n",
    "comfields = OrderedDict([('comments', WFDBfield(['comments', [int], '', None, False, False]))])\n"
   ]
  },
  {
   "cell_type": "code",
   "execution_count": 69,
   "metadata": {
    "collapsed": false
   },
   "outputs": [
    {
     "data": {
      "text/plain": [
       "[OrderedDict([('recordname', <__main__.WFDBfield at 0x7fcc74397cf8>),\n",
       "              ('nseg', <__main__.WFDBfield at 0x7fcc74397d30>),\n",
       "              ('nsig', <__main__.WFDBfield at 0x7fcc74397d68>),\n",
       "              ('fs', <__main__.WFDBfield at 0x7fcc74397da0>),\n",
       "              ('counterfreq', <__main__.WFDBfield at 0x7fcc74397dd8>),\n",
       "              ('basecounter', <__main__.WFDBfield at 0x7fcc74397e10>),\n",
       "              ('siglen', <__main__.WFDBfield at 0x7fcc74397e48>),\n",
       "              ('basetime', <__main__.WFDBfield at 0x7fcc74397e80>),\n",
       "              ('basedate', <__main__.WFDBfield at 0x7fcc74397eb8>)]),\n",
       " OrderedDict([('filename', <__main__.WFDBfield at 0x7fcc74397cc0>),\n",
       "              ('fmt', <__main__.WFDBfield at 0x7fcc74397c88>),\n",
       "              ('sampsperframe', <__main__.WFDBfield at 0x7fcc74397f28>),\n",
       "              ('skew', <__main__.WFDBfield at 0x7fcc74397f60>),\n",
       "              ('byteoffset', <__main__.WFDBfield at 0x7fcc74397f98>),\n",
       "              ('adcgain', <__main__.WFDBfield at 0x7fcc74397fd0>),\n",
       "              ('baseline', <__main__.WFDBfield at 0x7fcc7438f048>),\n",
       "              ('units', <__main__.WFDBfield at 0x7fcc7438f080>),\n",
       "              ('adcres', <__main__.WFDBfield at 0x7fcc7438f0b8>),\n",
       "              ('adczero', <__main__.WFDBfield at 0x7fcc7438f0f0>),\n",
       "              ('initvalue', <__main__.WFDBfield at 0x7fcc7438f128>),\n",
       "              ('checksum', <__main__.WFDBfield at 0x7fcc7438f160>),\n",
       "              ('blocksize', <__main__.WFDBfield at 0x7fcc7438f198>),\n",
       "              ('signame', <__main__.WFDBfield at 0x7fcc7438f1d0>)]),\n",
       " OrderedDict([('segname', <__main__.WFDBfield at 0x7fcc74397ef0>),\n",
       "              ('seglen', <__main__.WFDBfield at 0x7fcc7438f240>)]),\n",
       " OrderedDict([('comments', <__main__.WFDBfield at 0x7fcc7438f208>)])]"
      ]
     },
     "execution_count": 69,
     "metadata": {},
     "output_type": "execute_result"
    }
   ],
   "source": [
    "WFDBfields=[recfields, sigfields, segfields, comfields]\n",
    "\n",
    "[f for f in WFDBfields]"
   ]
  },
  {
   "cell_type": "code",
   "execution_count": 3,
   "metadata": {
    "collapsed": false
   },
   "outputs": [],
   "source": [
    "f2=WFDBfields[1]"
   ]
  },
  {
   "cell_type": "code",
   "execution_count": 7,
   "metadata": {
    "collapsed": false
   },
   "outputs": [],
   "source": [
    "f3=f1.copy()\n",
    "f3.update(f2)"
   ]
  },
  {
   "cell_type": "code",
   "execution_count": 71,
   "metadata": {
    "collapsed": false
   },
   "outputs": [
    {
     "ename": "SystemExit",
     "evalue": "Missing input fields['nseg'] for writing multi-segment header.\nFor writing regular single segment headers, use the 'wrheader' function.",
     "output_type": "error",
     "traceback": [
      "An exception has occurred, use %tb to see the full traceback.\n",
      "\u001b[1;31mSystemExit\u001b[0m\u001b[1;31m:\u001b[0m Missing input fields['nseg'] for writing multi-segment header.\nFor writing regular single segment headers, use the 'wrheader' function.\n"
     ]
    },
    {
     "name": "stderr",
     "output_type": "stream",
     "text": [
      "To exit: use 'exit', 'quit', or Ctrl-D.\n"
     ]
    }
   ],
   "source": [
    "import sys\n",
    "sys.exit(\"Missing input fields['nseg'] for writing multi-segment header.\\nFor writing regular single segment headers, use the 'wrheader' function.\")"
   ]
  },
  {
   "cell_type": "code",
   "execution_count": 35,
   "metadata": {
    "collapsed": false
   },
   "outputs": [],
   "source": [
    "# 1. Record specification fields\n",
    "recfields = OrderedDict([('recordname', WFDBfield(['recordname', [str], '', None, True, True, None])),\n",
    "                         ('nseg', WFDBfield(['nseg', [int], '/', 'recordname', False, False, None])),\n",
    "                         ('nsig', WFDBfield(['nsig', [int], ' ', 'recordname', True, True, None])),\n",
    "                         ('fs', WFDBfield(['fs', [int, float], ' ', 'nsig', False, True, None])),\n",
    "                         ('counterfreq', WFDBfield(['counterfreq', [int, float], '/', 'fs', False, False, None])),\n",
    "                         ('basecounter', WFDBfield(['basecounter', [int, float], '(', 'counterfreq', False, False, None])),\n",
    "                         ('siglen', WFDBfield(['siglen', [int], ' ', 'fs', False, True, None])),\n",
    "                         ('basetime', WFDBfield(['basetime', [str], ' ', 'siglen', False, False, None])),\n",
    "                         ('basedate', WFDBfield(['basedate', [str], ' ', 'basetime', False, False, None]))])\n",
    "    \n",
    "# 2. Signal specification fields\n",
    "sigfields = OrderedDict([('filename', WFDBfield(['filename', [str], '', None, True, True, None])),\n",
    "                         ('fmt', WFDBfield(['fmt', [int, str], ' ', 'filename', True, True, None])),\n",
    "                         ('sampsperframe', WFDBfield(['sampsperframe', [int], 'x', 'fmt', False, False])),\n",
    "                         ('skew', WFDBfield(['skew', [int], ':', 'fmt', False, False])),\n",
    "                         ('byteoffset', WFDBfield(['byteoffset', [int], '+', 'fmt', False, False])),\n",
    "                         ('adcgain', WFDBfield(['adcgain', [int], ' ', 'fmt', False, False])),\n",
    "                         ('baseline', WFDBfield(['baseline', [int], '(', 'adcgain', False, False])),\n",
    "                         ('units', WFDBfield(['units', [str], '/', 'adcgain', False, False])),\n",
    "                         ('adcres', WFDBfield(['adcres', [int], ' ', 'adcgain', False, False])),\n",
    "                         ('adczero', WFDBfield(['adczero', [int], ' ', 'adcres', False, False])),\n",
    "                         ('initvalue', WFDBfield(['initvalue', [int], ' ', 'adczero', False, False])),\n",
    "                         ('checksum', WFDBfield(['checksum', [int], ' ', 'initvalue', False, False])),\n",
    "                         ('blocksize', WFDBfield(['blocksize', [int], ' ', 'checksum', False, False])),\n",
    "                         ('signame', WFDBfield(['signame', [str], ' ', 'blocksize', False, False]))])\n",
    "    \n",
    "# 3. Segment specification fields\n",
    "segfields = OrderedDict([('segname', WFDBfield(['segname', [str], '', None, True, True])),\n",
    "                         ('seglen', WFDBfield(['seglen', [int], ' ', 'segname', True, True]))])\n",
    "    \n",
    "# 4. Comment fields\n",
    "comfields = OrderedDict([('comments', WFDBfield(['comments', [int], '', None, False, False]))])"
   ]
  },
  {
   "cell_type": "code",
   "execution_count": 57,
   "metadata": {
    "collapsed": false
   },
   "outputs": [],
   "source": [
    "reqfields=OrderedDict()\n",
    "for k, v in sigfields.items():\n",
    "    if v.write_req:\n",
    "        reqfields.update(OrderedDict([(k,v)]))\n"
   ]
  },
  {
   "cell_type": "code",
   "execution_count": 58,
   "metadata": {
    "collapsed": false
   },
   "outputs": [
    {
     "data": {
      "text/plain": [
       "OrderedDict([('filename', <__main__.WFDBfield at 0x7fcc743852b0>),\n",
       "             ('fmt', <__main__.WFDBfield at 0x7fcc743852e8>)])"
      ]
     },
     "execution_count": 58,
     "metadata": {},
     "output_type": "execute_result"
    }
   ],
   "source": [
    "reqfields"
   ]
  },
  {
   "cell_type": "code",
   "execution_count": null,
   "metadata": {
    "collapsed": true
   },
   "outputs": [],
   "source": [
    "d={1:4, 2:5}"
   ]
  },
  {
   "cell_type": "code",
   "execution_count": 87,
   "metadata": {
    "collapsed": false
   },
   "outputs": [],
   "source": []
  },
  {
   "cell_type": "code",
   "execution_count": 88,
   "metadata": {
    "collapsed": false
   },
   "outputs": [
    {
     "name": "stdout",
     "output_type": "stream",
     "text": [
      "{1: 'a', 2: 'zzzz', 3: 'HP', 'NOTNUM': '99'}\n",
      "99\n"
     ]
    }
   ],
   "source": [
    "x = [1, 2, 3, 'NOTNUM']\n",
    "y = ['a', 'zzzz', 'HP', '99']\n",
    "\n",
    "d={}\n",
    "\n",
    "for i in range(0,len(x)):\n",
    "    d[x[i]]=y[i]\n",
    "    \n",
    "print(d)\n",
    "print(d['NOTNUM'])\n",
    "\n"
   ]
  },
  {
   "cell_type": "code",
   "execution_count": 61,
   "metadata": {
    "collapsed": false
   },
   "outputs": [
    {
     "data": {
      "text/plain": [
       "{'city': 'London', 'population': 15}"
      ]
     },
     "execution_count": 61,
     "metadata": {},
     "output_type": "execute_result"
    }
   ],
   "source": [
    "d1={'city': 'London', 'population': 15}\n",
    "\n",
    "\n",
    "d1"
   ]
  },
  {
   "cell_type": "code",
   "execution_count": 102,
   "metadata": {
    "collapsed": false
   },
   "outputs": [
    {
     "name": "stdout",
     "output_type": "stream",
     "text": [
      "{'c': 'PPP', 'b': 2, 'a': 1, 9: 3}\n",
      "3\n"
     ]
    }
   ],
   "source": [
    "keys = ['a', 'b', 9,  'c']\n",
    "values = [1, 2, 3, 'PPP']\n",
    "d = dict(zip(keys, values))\n",
    "\n",
    "print(d)\n",
    "print(d[9])"
   ]
  },
  {
   "cell_type": "code",
   "execution_count": 115,
   "metadata": {
    "collapsed": false
   },
   "outputs": [
    {
     "name": "stdout",
     "output_type": "stream",
     "text": [
      "[1, 2, 5]\n"
     ]
    }
   ],
   "source": [
    "# tuple\n",
    "\n",
    "\n",
    "a=[1,2,3]\n",
    "a[2]=5\n",
    "print(a)"
   ]
  },
  {
   "cell_type": "code",
   "execution_count": 100,
   "metadata": {
    "collapsed": false
   },
   "outputs": [
    {
     "name": "stdout",
     "output_type": "stream",
     "text": [
      "(1, 2, 3)\n"
     ]
    }
   ],
   "source": [
    "a=(1,2,3)\n",
    "print(a)"
   ]
  },
  {
   "cell_type": "code",
   "execution_count": 104,
   "metadata": {
    "collapsed": false
   },
   "outputs": [
    {
     "data": {
      "text/plain": [
       "(('a', 1), ('b', 2), (9, 3), ('c', 'PPP'))"
      ]
     },
     "execution_count": 104,
     "metadata": {},
     "output_type": "execute_result"
    }
   ],
   "source": [
    "d=tuple(zip(keys,values))\n",
    "d"
   ]
  },
  {
   "cell_type": "code",
   "execution_count": 105,
   "metadata": {
    "collapsed": true
   },
   "outputs": [],
   "source": [
    "def donothing():\n",
    "    \n",
    "    x=5\n",
    "    return"
   ]
  },
  {
   "cell_type": "code",
   "execution_count": 112,
   "metadata": {
    "collapsed": false
   },
   "outputs": [],
   "source": [
    "import numpy as np\n",
    "x=np.double(5)"
   ]
  },
  {
   "cell_type": "code",
   "execution_count": 113,
   "metadata": {
    "collapsed": false
   },
   "outputs": [
    {
     "data": {
      "text/plain": [
       "5.0"
      ]
     },
     "execution_count": 113,
     "metadata": {},
     "output_type": "execute_result"
    }
   ],
   "source": [
    "x"
   ]
  },
  {
   "cell_type": "code",
   "execution_count": 114,
   "metadata": {
    "collapsed": false
   },
   "outputs": [
    {
     "data": {
      "text/plain": [
       "5.0"
      ]
     },
     "execution_count": 114,
     "metadata": {},
     "output_type": "execute_result"
    }
   ],
   "source": [
    "y=float(5)\n",
    "y"
   ]
  },
  {
   "cell_type": "code",
   "execution_count": null,
   "metadata": {
    "collapsed": true
   },
   "outputs": [],
   "source": []
  }
 ],
 "metadata": {
  "kernelspec": {
   "display_name": "Python [Root]",
   "language": "python",
   "name": "Python [Root]"
  },
  "language_info": {
   "codemirror_mode": {
    "name": "ipython",
    "version": 3
   },
   "file_extension": ".py",
   "mimetype": "text/x-python",
   "name": "python",
   "nbconvert_exporter": "python",
   "pygments_lexer": "ipython3",
   "version": "3.5.2"
  }
 },
 "nbformat": 4,
 "nbformat_minor": 0
}
