{
 "cells": [
  {
   "cell_type": "code",
   "execution_count": null,
   "metadata": {
    "collapsed": true
   },
   "outputs": [],
   "source": [
    "# The preliminary notebook for testing/developing wrsamp. Will delete before merging. "
   ]
  },
  {
   "cell_type": "markdown",
   "metadata": {},
   "source": [
    "## Function structure\n",
    "\n",
    "### wrsamp(sig, fields)\n",
    "\n",
    "\n",
    "\n",
    "- wrsamp will fill in default values for: nsig, siglen, basetime, fmt, if digital: (gain, baseline, units), . When a default value is filled in, print a warning message which states whether it was filled in because it was missing or because a requirement. \n",
    "\n",
    "\n",
    "Seems very difficult to define a 'isrequired' field in a class. Very convoluted. \n",
    "\n",
    "\n",
    "\n",
    "- Call wrheader(). At this point, the checksum, initvalue, res, nsig, siglen, fmt  have to already be calculated/present. \n",
    "  \n",
    "  \n",
    "- wrheader WILL check for validity of fields, and for the presence of (valid) requirements. We will not let it write invalid headers. It will NOT fill in default values, neither the calculated nor the non calculated ones. Summary: wrheader makes NO assumptions. \n",
    "\n",
    "\n",
    "\n",
    "\n",
    "\n",
    "recfields = OrderedDict([('recordname', WFDBfield(['recordname', [str], '', None, True, True, None])),\n",
    "                         ('nseg', WFDBfield(['nseg', [int], '/', 'recordname', False, False, None])),\n",
    "                         ('nsig', WFDBfield(['nsig', [int], ' ', 'recordname', True, True, None])),\n",
    "                         ('fs', WFDBfield(['fs', [int, float], ' ', 'nsig', False, True, None])),\n",
    "                         ('counterfreq', WFDBfield(['counterfreq', [int, float], '/', 'fs', False, False, None])),\n",
    "                         ('basecounter', WFDBfield(['basecounter', [int, float], '(', 'counterfreq', False, False, None])),\n",
    "                         ('siglen', WFDBfield(['siglen', [int], ' ', 'fs', False, True, None])),\n",
    "                         ('basetime', WFDBfield(['basetime', [str], ' ', 'siglen', False, False, None])),\n",
    "                         ('basedate', WFDBfield(['basedate', [str], ' ', 'basetime', False, False, None]))])\n",
    "\n",
    "sigfields = OrderedDict([('filename', WFDBfield(['filename', [str], '', None, True, True, None])),\n",
    "                         ('fmt', WFDBfield(['fmt', [int, str], ' ', 'filename', True, True, None])),\n",
    "                         ('sampsperframe', WFDBfield(['sampsperframe', [int], 'x', 'fmt', False, False])),\n",
    "                         ('skew', WFDBfield(['skew', [int], ':', 'fmt', False, False])),\n",
    "                         ('byteoffset', WFDBfield(['byteoffset', [int], '+', 'fmt', False, False])),\n",
    "                         ('adcgain', WFDBfield(['adcgain', [int], ' ', 'fmt', False, False])),\n",
    "                         ('baseline', WFDBfield(['baseline', [int], '(', 'adcgain', False, False])),\n",
    "                         ('units', WFDBfield(['units', [str], '/', 'adcgain', False, False])),\n",
    "                         ('adcres', WFDBfield(['adcres', [int], ' ', 'adcgain', False, False])),\n",
    "                         ('adczero', WFDBfield(['adczero', [int], ' ', 'adcres', False, False])),\n",
    "                         ('initvalue', WFDBfield(['initvalue', [int], ' ', 'adczero', False, False])),\n",
    "                         ('checksum', WFDBfield(['checksum', [int], ' ', 'initvalue', False, False])),\n",
    "                         ('blocksize', WFDBfield(['blocksize', [int], ' ', 'checksum', False, False])),\n",
    "                         ('signame', WFDBfield(['signame', [str], ' ', 'blocksize', False, False]))])\n",
    "    \n",
    "\n",
    "segfields = OrderedDict([('segname', WFDBfield(['segname', [str], '', None, True, True])),\n",
    "                         ('seglen', WFDBfield(['seglen', [int], ' ', 'segname', True, True]))])\n",
    "\n",
    "comfields = OrderedDict([('comments', WFDBfield(['comments', [int], '', None, False, False]))])\n",
    "\n"
   ]
  },
  {
   "cell_type": "code",
   "execution_count": null,
   "metadata": {
    "collapsed": false
   },
   "outputs": [],
   "source": [
    "from collections import OrderedDict\n",
    "fields = OrderedDict([('height', 170), ('weight', 70), ('age', 20)])\n",
    "\n",
    "for f in fields:\n",
    "    print(f)"
   ]
  },
  {
   "cell_type": "code",
   "execution_count": 8,
   "metadata": {
    "collapsed": false
   },
   "outputs": [],
   "source": [
    "from collections import OrderedDict\n",
    "\n",
    "# The frisking will not be done here, but rather in wrsamp and wrheader. \n",
    "# Single segment wfdb record.\n",
    "class WFDBrecord():\n",
    "    \n",
    "    def __init__(self, recordname=None, nseg=1, nsig=None, \n",
    "                 fs=None, counterfreq=None, basecounter=None, \n",
    "                 siglen=None, basetime=None, basedate=None, \n",
    "                 filename=None, fmt=None, sampsperframe=None, \n",
    "                 skew=None, byteoffset=None, adcgain=None, \n",
    "                 baseline=None, units=None, adcres=None, \n",
    "                 adczero=None, initvalue=None, checksum=None, \n",
    "                 blocksize=None, signame=None, comments=None):\n",
    "        \n",
    "        if nseg>1:\n",
    "            sys.exit(\"The WFDBrecord class is for single segment \"\n",
    "                     \"records. Use the 'WFDBmultirecord' class for \"\n",
    "                     \"multi-segment records.\")\n",
    "        \n",
    "        self.recordname=recordname\n",
    "        self.nseg=nseg\n",
    "        self.nsig=nsig\n",
    "        self.fs=fs\n",
    "        self.counterfreq=counterfreq\n",
    "        self.basecounter=basecounter\n",
    "        self.siglen=siglen\n",
    "        self.basetime=basetime\n",
    "        self.basedate=basedate\n",
    "        \n",
    "        self.filename=filename\n",
    "        self.fmt=fmt\n",
    "        self.sampsperframe=sampsperframe\n",
    "        self.skew=skew\n",
    "        self.byteoffset=byteoffset\n",
    "        self.adcgain=adcgain\n",
    "        self.baseline=baseline\n",
    "        self.units=units\n",
    "        self.adcres=adcres\n",
    "        self.adczero=adczero\n",
    "        self.initvalue=initvalue\n",
    "        self.checksum=checksum\n",
    "        self.blocksize=blocksize\n",
    "        self.signame=signame\n",
    "        \n",
    "        self.comments=comments\n",
    "        \n",
    "# Multi segment WFDB record. Stores a list of individual WFDBrecord objects in the 'segment' field.\n",
    "class WFDBmultirecord():\n",
    "     def __init__(self, recordname=None, nseg=None, nsig=None, \n",
    "                  fs=None, counterfreq=None, basecounter=None,\n",
    "                  siglen=None, basetime=None, basedate=None,\n",
    "                  seglen=None, segname=None, segment=None, \n",
    "                  comments=None):\n",
    "        \n",
    "        if nseg<2:\n",
    "            sys.exit(\"The WFDBmultirecord class is for multi-segment \"\n",
    "                     \"records. Use the 'WFDBrecord' class for \"\n",
    "                     \"single segment records.\")\n",
    "    \n",
    "        self.recordname=recordname\n",
    "        self.nseg=nseg\n",
    "        self.fs=fs\n",
    "        self.counterfreq=counterfreq\n",
    "        self.basecounter=basecounter\n",
    "        self.siglen=siglen\n",
    "        self.basetime=basetime\n",
    "        self.basedate=basedate\n",
    "        \n",
    "        self.seglen=seglen\n",
    "        self.segname=segname\n",
    "        self.segment=sement\n",
    "        \n",
    "        self.comments=comments\n",
    "        \n",
    "# item:\n",
    "# 0. type\n",
    "# 1. delimiter\n",
    "# 2. dependency\n",
    "# 3. required to write? (nseg starts as F but will be set by wrmultiheader and wrmultiseg to True.)\n",
    "# 4. default fill function\n",
    "# A field of the WFDB header file\n",
    "class WFDBfield():\n",
    "    \n",
    "    def __init__(self, speclist):\n",
    "    \n",
    "        # Data types the field can take\n",
    "        self.allowedtypes = speclist[0]\n",
    "        \n",
    "        # The text delimiter that preceeds the field\n",
    "        self.delimiter = speclist[1]\n",
    "        \n",
    "        # The required/dependent field which must also be present\n",
    "        self.dependency = speclist[2]\n",
    "        \n",
    "        # Whether the field is mandatory for writing (WFDB requirements + extra rules enforced by this library).\n",
    "        # Being required for writing is not the same as the user having to specify via wrsamp. wrsamp sets defaults (wrheader does not).  \n",
    "        self.write_req = speclist[3]\n",
    "        \n",
    "        # The default function to call to obtain the default. Only called via wrsamp, not wrhea.\n",
    "        # If 'None', it means there is nothing to call, not that 'None' is is the default value of the field. \n",
    "        \n",
    "        # Or perhaps there should only be one function to call with if statements. Kind of inappropriate to \n",
    "        # define a bunch of lambda functions with various input requirements. Just redefine the values once for \n",
    "        # setdefault. In this case, this field will just be true or false whether there is a potential default \n",
    "        # from wrsamp (there is none for wrhea)\n",
    "        # Watch out for: adcgain, baseline, units. Set them to true but have a check statement in the function. \n",
    "        self.has_write_default = speclist[4]\n",
    "        \n",
    "        \n",
    "recfields = OrderedDict([('recordname', WFDBfield([[str], '', None, True, False])),\n",
    "                         ('nseg', WFDBfield([[int], '/', 'recordname', False, False])),\n",
    "                         ('nsig', WFDBfield([[int], ' ', 'recordname', True, True])),\n",
    "                         ('fs', WFDBfield([[int, float], ' ', 'nsig', True, False])),\n",
    "                         ('counterfreq', WFDBfield([[int, float], '/', 'fs', False, False])),\n",
    "                         ('basecounter', WFDBfield([[int, float], '(', 'counterfreq', False, False])),\n",
    "                         ('siglen', WFDBfield([[int], ' ', 'fs', True, True])),\n",
    "                         ('basetime', WFDBfield([[str], ' ', 'siglen', False, True])),\n",
    "                         ('basedate', WFDBfield([[str], ' ', 'basetime', False, False]))])\n",
    "\n",
    "sigfields = OrderedDict([('filename', WFDBfield([[str], '', None, True, True])),\n",
    "                         ('fmt', WFDBfield([[int, str], ' ', 'filename', True, True])),\n",
    "                         ('sampsperframe', WFDBfield([[int], 'x', 'fmt', False, False])),\n",
    "                         ('skew', WFDBfield([[int], ':', 'fmt', False, False])),\n",
    "                         ('byteoffset', WFDBfield([[int], '+', 'fmt', False, False])),\n",
    "                         ('adcgain', WFDBfield([[int], ' ', 'fmt', False, True])),\n",
    "                         ('baseline', WFDBfield([[int], '(', 'adcgain', False, True])),\n",
    "                         ('units', WFDBfield([[str], '/', 'adcgain', False, True])),\n",
    "                         ('adcres', WFDBfield([[int], ' ', 'adcgain', False, True])),\n",
    "                         ('adczero', WFDBfield([[int], ' ', 'adcres', False, True])),\n",
    "                         ('initvalue', WFDBfield([[int], ' ', 'adczero', False, True])),\n",
    "                         ('checksum', WFDBfield([[int], ' ', 'initvalue', False, True])),\n",
    "                         ('blocksize', WFDBfield([[int], ' ', 'checksum', False, True])),\n",
    "                         ('signame', WFDBfield([[str], ' ', 'blocksize', False, True]))])\n",
    "    \n",
    "\n",
    "segfields = OrderedDict([('segname', WFDBfield([[str], '', None, True, False])),\n",
    "                         ('seglen', WFDBfield([[int], ' ', 'segname', True, False]))])\n",
    "\n",
    "comfields = OrderedDict([('comments', WFDBfield([[int], '', None, False, False]))])\n",
    "\n",
    "\n",
    "        \n",
    "        \n",
    "        \n",
    "        \n",
    "        \n",
    "        "
   ]
  },
  {
   "cell_type": "code",
   "execution_count": null,
   "metadata": {
    "collapsed": false
   },
   "outputs": [],
   "source": [
    "\n",
    "                 \n",
    "                 \n",
    "                 \n",
    "                 "
   ]
  },
  {
   "cell_type": "code",
   "execution_count": 10,
   "metadata": {
    "collapsed": false
   },
   "outputs": [
    {
     "name": "stderr",
     "output_type": "stream",
     "text": [
      "/home/chen/Software/pythonenvs/python3.5/lib/python3.5/site-packages/ipykernel/__main__.py:2: UserWarning: logfile argument deprecated\n",
      "  from ipykernel import kernelapp as app\n"
     ]
    }
   ],
   "source": [
    "import warnings\n",
    "warnings.warn('logfile argument deprecated', DeprecationWarning)"
   ]
  },
  {
   "cell_type": "code",
   "execution_count": null,
   "metadata": {
    "collapsed": false
   },
   "outputs": [],
   "source": []
  },
  {
   "cell_type": "code",
   "execution_count": null,
   "metadata": {
    "collapsed": false
   },
   "outputs": [],
   "source": [
    "bitlevels=np.power(2, np.array(range(1, 33)))\n",
    "\n",
    "nlevels=13000\n",
    "\n",
    "bitlevels<nlevels\n",
    "print(bitlevels)\n",
    "np.argmax(bitlevels>13000)"
   ]
  },
  {
   "cell_type": "code",
   "execution_count": null,
   "metadata": {
    "collapsed": false
   },
   "outputs": [],
   "source": [
    "WFDBfields = ['height', 'weight', 'age']\n",
    "\n",
    "final = dict.fromkeys(WFDBfields, [])\n",
    "final"
   ]
  },
  {
   "cell_type": "code",
   "execution_count": null,
   "metadata": {
    "collapsed": false
   },
   "outputs": [],
   "source": [
    "help(dict.fromkeys)"
   ]
  },
  {
   "cell_type": "code",
   "execution_count": null,
   "metadata": {
    "collapsed": false
   },
   "outputs": [],
   "source": [
    "for i in reversed(WFDBfields):\n",
    "    print(i)"
   ]
  },
  {
   "cell_type": "code",
   "execution_count": null,
   "metadata": {
    "collapsed": false
   },
   "outputs": [],
   "source": [
    "a=[{'recname': 'wave1'},{'siglen': 500},{'fs': 125}]"
   ]
  },
  {
   "cell_type": "code",
   "execution_count": null,
   "metadata": {
    "collapsed": false
   },
   "outputs": [],
   "source": [
    "# A field of the WFDB header file\n",
    "from collections import OrderedDict\n",
    "\n",
    "class WFDBfield():\n",
    "    \n",
    "    def __init__(self, speclist):\n",
    "        # Name\n",
    "        self.name = speclist[0] \n",
    "        \n",
    "        # Data types the field can take\n",
    "        self.allowedtypes = speclist[1]\n",
    "        \n",
    "        # The text delimiter that preceeds the field\n",
    "        self.delimiter = speclist[2]\n",
    "        \n",
    "        # The required/dependent field which must also be present\n",
    "        self.dependency = speclist[3]\n",
    "\n",
    "        # Whether the field is mandatory specified by the WFDB guidelines\n",
    "        self.is_req = speclist[4]\n",
    "        \n",
    "        # Whether the field is mandatory for writing (extra rules enforced by this library).\n",
    "        # Being required for writing is not the same as the user having to specify. There are defaults. \n",
    "        self.write_req = speclist[5]"
   ]
  },
  {
   "cell_type": "code",
   "execution_count": null,
   "metadata": {
    "collapsed": false
   },
   "outputs": [],
   "source": [
    "# 1. Record specification fields\n",
    "recfields = OrderedDict([('recordname', WFDBfield(['recordname', [str], '', None, True, True, None])),\n",
    "                         ('nseg', WFDBfield(['nseg', [int], '/', 'recordname', False, False, None])),\n",
    "                         ('nsig', WFDBfield(['nsig', [int], ' ', 'recordname', True, True, None])),\n",
    "                         ('fs', WFDBfield(['fs', [int, float], ' ', 'nsig', False, True, None])),\n",
    "                         ('counterfreq', WFDBfield(['counterfreq', [int, float], '/', 'fs', False, False, None])),\n",
    "                         ('basecounter', WFDBfield(['basecounter', [int, float], '(', 'counterfreq', False, False, None])),\n",
    "                         ('siglen', WFDBfield(['siglen', [int], ' ', 'fs', False, True, None])),\n",
    "                         ('basetime', WFDBfield(['basetime', [str], ' ', 'siglen', False, False, None])),\n",
    "                         ('basedate', WFDBfield(['basedate', [str], ' ', 'basetime', False, False, None]))])\n",
    "    \n",
    "# 2. Signal specification fields\n",
    "sigfields = OrderedDict([('filename', WFDBfield(['filename', [str], '', None, True, True, None])),\n",
    "                         ('fmt', WFDBfield(['fmt', [int, str], ' ', 'filename', True, True, None])),\n",
    "                         ('sampsperframe', WFDBfield(['sampsperframe', [int], 'x', 'fmt', False, False])),\n",
    "                         ('skew', WFDBfield(['skew', [int], ':', 'fmt', False, False])),\n",
    "                         ('byteoffset', WFDBfield(['byteoffset', [int], '+', 'fmt', False, False])),\n",
    "                         ('adcgain', WFDBfield(['adcgain', [int], ' ', 'fmt', False, False])),\n",
    "                         ('baseline', WFDBfield(['baseline', [int], '(', 'adcgain', False, False])),\n",
    "                         ('units', WFDBfield(['units', [str], '/', 'adcgain', False, False])),\n",
    "                         ('adcres', WFDBfield(['adcres', [int], ' ', 'adcgain', False, False])),\n",
    "                         ('adczero', WFDBfield(['adczero', [int], ' ', 'adcres', False, False])),\n",
    "                         ('initvalue', WFDBfield(['initvalue', [int], ' ', 'adczero', False, False])),\n",
    "                         ('checksum', WFDBfield(['checksum', [int], ' ', 'initvalue', False, False])),\n",
    "                         ('blocksize', WFDBfield(['blocksize', [int], ' ', 'checksum', False, False])),\n",
    "                         ('signame', WFDBfield(['signame', [str], ' ', 'blocksize', False, False]))])\n",
    "    \n",
    "# 3. Segment specification fields\n",
    "segfields = OrderedDict([('segname', WFDBfield(['segname', [str], '', None, True, True])),\n",
    "                         ('seglen', WFDBfield(['seglen', [int], ' ', 'segname', True, True]))])\n",
    "    \n",
    "# 4. Comment fields\n",
    "comfields = OrderedDict([('comments', WFDBfield(['comments', [int], '', None, False, False]))])\n"
   ]
  },
  {
   "cell_type": "code",
   "execution_count": null,
   "metadata": {
    "collapsed": false
   },
   "outputs": [],
   "source": [
    "WFDBfields=[recfields, sigfields, segfields, comfields]\n",
    "\n",
    "[f for f in WFDBfields]"
   ]
  },
  {
   "cell_type": "code",
   "execution_count": null,
   "metadata": {
    "collapsed": false
   },
   "outputs": [],
   "source": [
    "f2=WFDBfields[1]"
   ]
  },
  {
   "cell_type": "code",
   "execution_count": null,
   "metadata": {
    "collapsed": false
   },
   "outputs": [],
   "source": [
    "f3=f1.copy()\n",
    "f3.update(f2)"
   ]
  },
  {
   "cell_type": "code",
   "execution_count": null,
   "metadata": {
    "collapsed": false
   },
   "outputs": [],
   "source": [
    "import sys\n",
    "sys.exit(\"Missing input fields['nseg'] for writing multi-segment header.\\nFor writing regular single segment headers, use the 'wrheader' function.\")"
   ]
  },
  {
   "cell_type": "code",
   "execution_count": null,
   "metadata": {
    "collapsed": false
   },
   "outputs": [],
   "source": [
    "# 1. Record specification fields\n",
    "recfields = OrderedDict([('recordname', WFDBfield(['recordname', [str], '', None, True, True, None])),\n",
    "                         ('nseg', WFDBfield(['nseg', [int], '/', 'recordname', False, False, None])),\n",
    "                         ('nsig', WFDBfield(['nsig', [int], ' ', 'recordname', True, True, None])),\n",
    "                         ('fs', WFDBfield(['fs', [int, float], ' ', 'nsig', False, True, None])),\n",
    "                         ('counterfreq', WFDBfield(['counterfreq', [int, float], '/', 'fs', False, False, None])),\n",
    "                         ('basecounter', WFDBfield(['basecounter', [int, float], '(', 'counterfreq', False, False, None])),\n",
    "                         ('siglen', WFDBfield(['siglen', [int], ' ', 'fs', False, True, None])),\n",
    "                         ('basetime', WFDBfield(['basetime', [str], ' ', 'siglen', False, False, None])),\n",
    "                         ('basedate', WFDBfield(['basedate', [str], ' ', 'basetime', False, False, None]))])\n",
    "    \n",
    "# 2. Signal specification fields\n",
    "sigfields = OrderedDict([('filename', WFDBfield(['filename', [str], '', None, True, True, None])),\n",
    "                         ('fmt', WFDBfield(['fmt', [int, str], ' ', 'filename', True, True, None])),\n",
    "                         ('sampsperframe', WFDBfield(['sampsperframe', [int], 'x', 'fmt', False, False])),\n",
    "                         ('skew', WFDBfield(['skew', [int], ':', 'fmt', False, False])),\n",
    "                         ('byteoffset', WFDBfield(['byteoffset', [int], '+', 'fmt', False, False])),\n",
    "                         ('adcgain', WFDBfield(['adcgain', [int], ' ', 'fmt', False, False])),\n",
    "                         ('baseline', WFDBfield(['baseline', [int], '(', 'adcgain', False, False])),\n",
    "                         ('units', WFDBfield(['units', [str], '/', 'adcgain', False, False])),\n",
    "                         ('adcres', WFDBfield(['adcres', [int], ' ', 'adcgain', False, False])),\n",
    "                         ('adczero', WFDBfield(['adczero', [int], ' ', 'adcres', False, False])),\n",
    "                         ('initvalue', WFDBfield(['initvalue', [int], ' ', 'adczero', False, False])),\n",
    "                         ('checksum', WFDBfield(['checksum', [int], ' ', 'initvalue', False, False])),\n",
    "                         ('blocksize', WFDBfield(['blocksize', [int], ' ', 'checksum', False, False])),\n",
    "                         ('signame', WFDBfield(['signame', [str], ' ', 'blocksize', False, False]))])\n",
    "    \n",
    "# 3. Segment specification fields\n",
    "segfields = OrderedDict([('segname', WFDBfield(['segname', [str], '', None, True, True])),\n",
    "                         ('seglen', WFDBfield(['seglen', [int], ' ', 'segname', True, True]))])\n",
    "    \n",
    "# 4. Comment fields\n",
    "comfields = OrderedDict([('comments', WFDBfield(['comments', [int], '', None, False, False]))])"
   ]
  },
  {
   "cell_type": "code",
   "execution_count": null,
   "metadata": {
    "collapsed": false
   },
   "outputs": [],
   "source": [
    "reqfields=OrderedDict()\n",
    "for k, v in sigfields.items():\n",
    "    if v.write_req:\n",
    "        reqfields.update(OrderedDict([(k,v)]))\n"
   ]
  },
  {
   "cell_type": "code",
   "execution_count": null,
   "metadata": {
    "collapsed": false
   },
   "outputs": [],
   "source": [
    "reqfields"
   ]
  },
  {
   "cell_type": "code",
   "execution_count": 19,
   "metadata": {
    "collapsed": false
   },
   "outputs": [
    {
     "name": "stdout",
     "output_type": "stream",
     "text": [
      "150\n",
      "80\n"
     ]
    },
    {
     "data": {
      "text/plain": [
       "True"
      ]
     },
     "execution_count": 19,
     "metadata": {},
     "output_type": "execute_result"
    }
   ],
   "source": [
    "class man():\n",
    "    def __init__(self):\n",
    "        self.age=50\n",
    "        self.height=150\n",
    "        self.weight=80\n",
    "    \n",
    "    \n",
    "kevin = man()\n",
    "    \n",
    "importantfields = ['height', 'weight']\n",
    "\n",
    "for i in importantfields:\n",
    "    print(getattr(kevin, i)) \n",
    "\n",
    "hasattr(kevin, 'height')"
   ]
  },
  {
   "cell_type": "code",
   "execution_count": 26,
   "metadata": {
    "collapsed": false
   },
   "outputs": [],
   "source": [
    "recfields = OrderedDict([('recordname', WFDBfield([[str], '', None, True, False])),\n",
    "                         ('nseg', WFDBfield([[int], '/', 'recordname', False, False])), \n",
    "                         ('nsig', WFDBfield([[int], ' ', 'recordname', True, True])),\n",
    "                         ('fs', WFDBfield([[int, float], ' ', 'nsig', True, False])),\n",
    "                         ('counterfreq', WFDBfield([[int, float], '/', 'fs', False, False])),\n",
    "                         ('basecounter', WFDBfield([[int, float], '(', 'counterfreq', False, False])),\n",
    "                         ('siglen', WFDBfield([[int], ' ', 'fs', True, True])),\n",
    "                         ('basetime', WFDBfield([[str], ' ', 'siglen', False, True])),\n",
    "                         ('basedate', WFDBfield([[str], ' ', 'basetime', False, False]))])\n",
    "\n",
    "sigfields = OrderedDict([('filename', WFDBfield([[str], '', None, True, True])),\n",
    "                         ('fmt', WFDBfield([[int, str], ' ', 'filename', True, True])),\n",
    "                         ('sampsperframe', WFDBfield([[int], 'x', 'fmt', False, False])),\n",
    "                         ('skew', WFDBfield([[int], ':', 'fmt', False, False])),\n",
    "                         ('byteoffset', WFDBfield([[int], '+', 'fmt', False, False])),\n",
    "                         ('adcgain', WFDBfield([[int], ' ', 'fmt', False, True])),\n",
    "                         ('baseline', WFDBfield([[int], '(', 'adcgain', False, True])),\n",
    "                         ('units', WFDBfield([[str], '/', 'adcgain', False, True])),\n",
    "                         ('adcres', WFDBfield([[int], ' ', 'adcgain', False, True])),\n",
    "                         ('adczero', WFDBfield([[int], ' ', 'adcres', False, True])),\n",
    "                         ('initvalue', WFDBfield([[int], ' ', 'adczero', False, True])),\n",
    "                         ('checksum', WFDBfield([[int], ' ', 'initvalue', False, True])),\n",
    "                         ('blocksize', WFDBfield([[int], ' ', 'checksum', False, True])),\n",
    "                         ('signame', WFDBfield([[str], ' ', 'blocksize', False, True]))])\n",
    "    \n",
    "\n",
    "segfields = OrderedDict([('segname', WFDBfield([[str], '', None, True, False])),\n",
    "                         ('seglen', WFDBfield([[int], ' ', 'segname', True, False]))])\n",
    "\n",
    "comfields = OrderedDict([('comments', WFDBfield([[int], '', None, False, False]))])\n",
    "\n",
    "\n",
    "WFDBfieldlist = [recfields.copy(), segfields.copy(), comfields.copy()]\n",
    "\n",
    "def _mergeODlist(ODlist):\n",
    "    mergedOD=ODlist[0].copy()\n",
    "    for od in ODlist[1:]:\n",
    "        mergedOD.update(od)\n",
    "    return mergedOD\n",
    "\n",
    "WFDBfields=_mergeODlist(WFDBfieldlist)"
   ]
  },
  {
   "cell_type": "code",
   "execution_count": 30,
   "metadata": {
    "collapsed": false
   },
   "outputs": [],
   "source": [
    "rev_rfields=OrderedDict(reversed(list(WFDBfieldlist[0].items())))"
   ]
  },
  {
   "cell_type": "code",
   "execution_count": 32,
   "metadata": {
    "collapsed": false
   },
   "outputs": [
    {
     "data": {
      "text/plain": [
       "False"
      ]
     },
     "execution_count": 32,
     "metadata": {},
     "output_type": "execute_result"
    }
   ],
   "source": [
    "rev_rfields['basedate'].write_req"
   ]
  },
  {
   "cell_type": "code",
   "execution_count": null,
   "metadata": {
    "collapsed": true
   },
   "outputs": [],
   "source": []
  }
 ],
 "metadata": {
  "kernelspec": {
   "display_name": "Python 3",
   "language": "python",
   "name": "python3"
  },
  "language_info": {
   "codemirror_mode": {
    "name": "ipython",
    "version": 3
   },
   "file_extension": ".py",
   "mimetype": "text/x-python",
   "name": "python",
   "nbconvert_exporter": "python",
   "pygments_lexer": "ipython3",
   "version": "3.5.2"
  }
 },
 "nbformat": 4,
 "nbformat_minor": 0
}
