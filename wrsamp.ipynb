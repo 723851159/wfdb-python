{
 "cells": [
  {
   "cell_type": "code",
   "execution_count": null,
   "metadata": {
    "collapsed": true
   },
   "outputs": [],
   "source": [
    "# The preliminary notebook for testing/developing wrsamp. Will delete before merging. "
   ]
  },
  {
   "cell_type": "markdown",
   "metadata": {},
   "source": [
    "wrsamp calls wrheader with sig. wrheader calls setfields, and checkfields. \n",
    "\n",
    "\n",
    "setfields() - fills in fields of a wfdbrecord object. Fields that it can fill in include essential fields, and dependencies.\n",
    "\n",
    "It will NOT overwrite any user defined fields, aka fields != None. \n",
    "\n",
    "\n",
    "\n",
    "\n",
    "\n",
    "Fields that depend on other fields:\n",
    "    - \n",
    "\n",
    "Perhaps easiest solution is to specify a default order of filling in fields. Need to separate by record and signal? Nope, just put the record ones before the signal ones!!!!"
   ]
  },
  {
   "cell_type": "code",
   "execution_count": 12,
   "metadata": {
    "collapsed": true
   },
   "outputs": [],
   "source": [
    "class WFDBrecord():\n",
    "    \n",
    "    # Constructor\n",
    "    def __init__(self, signals=None, recordname=None, nsig=None, \n",
    "                 fs=None, counterfreq=None, basecounter=None, \n",
    "                 siglen=None, basetime=None, basedate=None, \n",
    "                 filename=None, fmt=None, sampsperframe=None, \n",
    "                 skew=None, byteoffset=None, adcgain=None, \n",
    "                 baseline=None, units=None, adcres=None, \n",
    "                 adczero=None, initvalue=None, checksum=None, \n",
    "                 blocksize=None, signame=None, comments=None):\n",
    "        \n",
    "        # Note the lack of 'nseg' field. Single segment records cannot have this field. Even nseg = 1 makes \n",
    "        # the header a multi-segment header. \n",
    "        \n",
    "        self.signals = signals\n",
    "        \n",
    "        self.recordname=recordname\n",
    "        self.nsig=nsig\n",
    "        self.fs=fs\n",
    "        self.counterfreq=counterfreq\n",
    "        self.basecounter=basecounter\n",
    "        self.siglen=siglen\n",
    "        self.basetime=basetime\n",
    "        self.basedate=basedate\n",
    "        \n",
    "        self.filename=filename\n",
    "        self.fmt=fmt\n",
    "        self.sampsperframe=sampsperframe\n",
    "        self.skew=skew\n",
    "        self.byteoffset=byteoffset\n",
    "        self.adcgain=adcgain\n",
    "        self.baseline=baseline\n",
    "        self.units=units\n",
    "        self.adcres=adcres\n",
    "        self.adczero=adczero\n",
    "        self.initvalue=initvalue\n",
    "        self.checksum=checksum\n",
    "        self.blocksize=blocksize\n",
    "        self.signame=signame\n",
    "        \n",
    "        self.comments=comments"
   ]
  },
  {
   "cell_type": "code",
   "execution_count": 35,
   "metadata": {
    "collapsed": false
   },
   "outputs": [],
   "source": [
    "import numpy as np\n",
    "# The specifications of a WFDB field\n",
    "# 0. type\n",
    "# 1. delimiter\n",
    "# 2. dependency\n",
    "# 3. required to write? (nseg starts as F but will be set by wrmultiheader and wrmultiseg to True.)\n",
    "# 4. default fill function available? 0-2. \n",
    "class WFDBfieldspecs():\n",
    "    \n",
    "    def __init__(self, speclist):\n",
    "    \n",
    "        # Data types the field can take\n",
    "        self.allowedtypes = speclist[0]\n",
    "        \n",
    "        # The text delimiter that preceeds the field\n",
    "        self.delimiter = speclist[1]\n",
    "        \n",
    "        # The required/dependent field which must also be present\n",
    "        self.dependency = speclist[2]\n",
    "        \n",
    "        # Whether the field is mandatory for writing a header (WFDB requirements + extra rules enforced by this library).\n",
    "        # Being required for writing is not the same as the user having to specify via wrsamp/wrhea. These functions can set defaults.\n",
    "        self.write_req = speclist[3]\n",
    "        \n",
    "        # Whether there is a default value for this field that can be inferred or calculated, and also whether ther setfield function will actually set the field. \n",
    "        # 0 = no, 1 = yes but only if signals is present, 2 = yes without needing signals (although it may still use it).  \n",
    "        # Watch out for: adcgain, baseline. Set them to 1 but have a check statement in the function. Should be 0 if isdigital.\n",
    "        # sampsperframe, skew, and byteoffset do have defaults but the setfields will not return anything because we do not want to write anything. So value = 0. Conversely when reading, these fields will be left as None if not present. \n",
    "        # This field is used to see if we can call the 'setfield' function on that field.\n",
    "        self.has_write_default = speclist[4]\n",
    "         \n",
    "\n",
    "# The signal field\n",
    "signalspecs = OrderedDict([('signal', WFDBfieldspecs([[np.ndarray], '', None, False, 2]))])\n",
    "\n",
    "# The segment field\n",
    "segmentspecs = OrderedDict([('segment', WFDBfieldspecs([[list], '', None, True, 2]))])\n",
    "\n",
    "# Record specification fields            \n",
    "recfieldspecs = OrderedDict([('recordname', WFDBfieldspecs([[str], '', None, True, 0])),\n",
    "                         ('nseg', WFDBfieldspecs([[int], '/', 'recordname', True, 0])), # Essential for multi but illegal for single.\n",
    "                         ('nsig', WFDBfieldspecs([[int], ' ', 'recordname', True, 1])),\n",
    "                         ('fs', WFDBfieldspecs([[int, float], ' ', 'nsig', True, 0])),\n",
    "                         ('counterfreq', WFDBfieldspecs([[int, float], '/', 'fs', False, 0])),\n",
    "                         ('basecounter', WFDBfieldspecs([[int, float], '(', 'counterfreq', False, 0])),\n",
    "                         ('siglen', WFDBfieldspecs([[int], ' ', 'fs', True, 1])),\n",
    "                         ('basetime', WFDBfieldspecs([[str], ' ', 'siglen', False, 2])),\n",
    "                         ('basedate', WFDBfieldspecs([[str], ' ', 'basetime', False, 0]))])\n",
    "# Signal specification fields \n",
    "sigfieldspecs = OrderedDict([('filename', WFDBfieldspecs([[str], '', None, True, 2])),\n",
    "                         ('fmt', WFDBfieldspecs([[int, str], ' ', 'filename', True, 2])),\n",
    "                         ('sampsperframe', WFDBfieldspecs([[int], 'x', 'fmt', False, 0])),\n",
    "                         ('skew', WFDBfieldspecs([[int], ':', 'fmt', False, 0])),\n",
    "                         ('byteoffset', WFDBfieldspecs([[int], '+', 'fmt', False, 0])),\n",
    "                         ('adcgain', WFDBfieldspecs([[int], ' ', 'fmt', True, 1])),\n",
    "                         ('baseline', WFDBfieldspecs([[int], '(', 'adcgain', True, 1])),\n",
    "                         ('units', WFDBfieldspecs([[str], '/', 'adcgain', True, 2])),\n",
    "                         ('adcres', WFDBfieldspecs([[int], ' ', 'adcgain', False, 2])),\n",
    "                         ('adczero', WFDBfieldspecs([[int], ' ', 'adcres', False, 2])),\n",
    "                         ('initvalue', WFDBfieldspecs([[int], ' ', 'adczero', False, 1])),\n",
    "                         ('checksum', WFDBfieldspecs([[int], ' ', 'initvalue', False, 1])),\n",
    "                         ('blocksize', WFDBfieldspecs([[int], ' ', 'checksum', False, 2])),\n",
    "                         ('signame', WFDBfieldspecs([[str], ' ', 'blocksize', False, 1]))])\n",
    "    \n",
    "# Segment specification fields\n",
    "segfieldspecs = OrderedDict([('segname', WFDBfieldspecs([[str], '', None, True, 0])),\n",
    "                         ('seglen', WFDBfieldspecs([[int], ' ', 'segname', True, 0]))])\n",
    "# Comment field\n",
    "comfieldspecs = OrderedDict([('comments', WFDBfieldspecs([[int], '', None, False, False]))])\n",
    "\n",
    "\n",
    "singlefieldspeclist = [signalspecs.copy(), recfieldspecs.copy(), sigfieldspecs.copy(), comfieldspecs.copy()]\n",
    "del(singlefieldspeclist[1]['nseg'])\n",
    "multifieldspeclist = [segmentspecs.copy(), recfieldspecs.copy(), segfieldspecs.copy(), comfieldspecs.copy()]"
   ]
  },
  {
   "cell_type": "code",
   "execution_count": 52,
   "metadata": {
    "collapsed": false
   },
   "outputs": [
    {
     "name": "stdout",
     "output_type": "stream",
     "text": [
      "basedate\n",
      "basetime\n",
      "siglen\n",
      "basecounter\n",
      "counterfreq\n",
      "fs\n",
      "nsig\n",
      "recordname\n"
     ]
    }
   ],
   "source": [
    "fieldspeclist = singlefieldspeclist\n",
    "for f in OrderedDict(reversed(list(fieldspeclist[1].items()))):\n",
    "    print(f)"
   ]
  },
  {
   "cell_type": "code",
   "execution_count": 56,
   "metadata": {
    "collapsed": false
   },
   "outputs": [
    {
     "name": "stdout",
     "output_type": "stream",
     "text": [
      "True\n"
     ]
    },
    {
     "data": {
      "text/plain": [
       "False"
      ]
     },
     "execution_count": 56,
     "metadata": {},
     "output_type": "execute_result"
    }
   ],
   "source": [
    "a=[1,2,3]\n",
    "b=a\n",
    "print(a is b)\n",
    "b=[2,3,4]\n",
    "a is b"
   ]
  },
  {
   "cell_type": "code",
   "execution_count": 49,
   "metadata": {
    "collapsed": false
   },
   "outputs": [
    {
     "data": {
      "text/plain": [
       "False"
      ]
     },
     "execution_count": 49,
     "metadata": {},
     "output_type": "execute_result"
    }
   ],
   "source": [
    "a=[1,2,3]\n",
    "b=a.copy()\n",
    "b is a"
   ]
  },
  {
   "cell_type": "code",
   "execution_count": null,
   "metadata": {
    "collapsed": true
   },
   "outputs": [],
   "source": [
    "\n",
    "\n"
   ]
  },
  {
   "cell_type": "code",
   "execution_count": 30,
   "metadata": {
    "collapsed": false
   },
   "outputs": [],
   "source": [
    "rev_rfields=OrderedDict(reversed(list(WFDBfieldlist[0].items())))"
   ]
  },
  {
   "cell_type": "code",
   "execution_count": 32,
   "metadata": {
    "collapsed": false
   },
   "outputs": [
    {
     "data": {
      "text/plain": [
       "False"
      ]
     },
     "execution_count": 32,
     "metadata": {},
     "output_type": "execute_result"
    }
   ],
   "source": [
    "rev_rfields['basedate'].write_req"
   ]
  },
  {
   "cell_type": "code",
   "execution_count": 51,
   "metadata": {
    "collapsed": false
   },
   "outputs": [
    {
     "ename": "TypeError",
     "evalue": "unorderable types: NoneType() > int()",
     "output_type": "error",
     "traceback": [
      "\u001b[0;31m---------------------------------------------------------------------------\u001b[0m",
      "\u001b[0;31mTypeError\u001b[0m                                 Traceback (most recent call last)",
      "\u001b[0;32m<ipython-input-51-17b295edf450>\u001b[0m in \u001b[0;36m<module>\u001b[0;34m()\u001b[0m\n\u001b[1;32m      1\u001b[0m \u001b[0ma\u001b[0m\u001b[0;34m=\u001b[0m\u001b[0;32mNone\u001b[0m\u001b[0;34m\u001b[0m\u001b[0m\n\u001b[0;32m----> 2\u001b[0;31m \u001b[0;32mif\u001b[0m \u001b[0ma\u001b[0m\u001b[0;34m>\u001b[0m\u001b[0;36m5\u001b[0m \u001b[0;32mand\u001b[0m \u001b[0ma\u001b[0m\u001b[0;34m:\u001b[0m\u001b[0;34m\u001b[0m\u001b[0m\n\u001b[0m\u001b[1;32m      3\u001b[0m     \u001b[0mprint\u001b[0m\u001b[0;34m(\u001b[0m\u001b[0;34m'hi'\u001b[0m\u001b[0;34m)\u001b[0m\u001b[0;34m\u001b[0m\u001b[0m\n",
      "\u001b[0;31mTypeError\u001b[0m: unorderable types: NoneType() > int()"
     ]
    }
   ],
   "source": [
    "a=None\n",
    "if a and a>5:\n",
    "    print('hi')"
   ]
  },
  {
   "cell_type": "code",
   "execution_count": 1,
   "metadata": {
    "collapsed": false
   },
   "outputs": [],
   "source": [
    "from testmodule import bread"
   ]
  },
  {
   "cell_type": "code",
   "execution_count": 4,
   "metadata": {
    "collapsed": false
   },
   "outputs": [
    {
     "data": {
      "text/plain": [
       "300"
      ]
     },
     "execution_count": 4,
     "metadata": {},
     "output_type": "execute_result"
    }
   ],
   "source": [
    "panini=bread()\n",
    "panini.getcals(3)"
   ]
  },
  {
   "cell_type": "code",
   "execution_count": 6,
   "metadata": {
    "collapsed": false
   },
   "outputs": [],
   "source": [
    "x='hello'\n",
    "if not x:\n",
    "    print('hi')"
   ]
  },
  {
   "cell_type": "code",
   "execution_count": 2,
   "metadata": {
    "collapsed": false
   },
   "outputs": [
    {
     "ename": "IndentationError",
     "evalue": "expected an indented block (<ipython-input-2-39f8aa9a3ede>, line 50)",
     "output_type": "error",
     "traceback": [
      "\u001b[0;36m  File \u001b[0;32m\"<ipython-input-2-39f8aa9a3ede>\"\u001b[0;36m, line \u001b[0;32m50\u001b[0m\n\u001b[0;31m    elif field==b:\u001b[0m\n\u001b[0m       ^\u001b[0m\n\u001b[0;31mIndentationError\u001b[0m\u001b[0;31m:\u001b[0m expected an indented block\n"
     ]
    }
   ],
   "source": [
    "# pseudocode.\n",
    "# setfield and checkfield should NOT be visible to the user. Fuck them, don't want them shitting it up.\n",
    "# It makes the code 100x harder to write. \n",
    "# We don't even need to remove foreign fields it seems. Who gives a shit? We don't even use them anyway. \n",
    "\n",
    "def wrsamp(record):\n",
    "    \n",
    "    record.checkfields([signals, physical])\n",
    "    record.wrheader()\n",
    "    \n",
    "\n",
    "def wrheader(record):\n",
    "    \n",
    "    writefields = record.getwritefields() # Get all the fields needed to write the record\n",
    "    \n",
    "    record.checkfields(writefields, setmissing = 1, fieldcheckorder = ()) # \n",
    "    \n",
    "    record.wrheaderfile()\n",
    "    \n",
    "    \n",
    "# Check each field in the list of fields. If setmissing is true, try to set the field if it == None. \n",
    "# The checking order is specified by fieldcheckorder. Hopefully via the checking order, there will be no \n",
    "# Fieldcheckorder starts from record line and moves onto signal/segment line. \n",
    "def checkfields(self, fieldstocheck, setmissing, fieldcheckorder = []):\n",
    "        \n",
    "    # Check fields in order because the validity of some may be dependent on others. \n",
    "    # In addition, the setvalue of some may depend on \n",
    "    for f in fieldcheckorder:\n",
    "        if f in fieldstocheck:\n",
    "            checkfield(self, f, setmissing)\n",
    "                \n",
    "                \n",
    "# Check whether a field is valid. If the 'setfield' option is 1, the function will try to set a default if possible. \n",
    "# Checkfield calls setfield when setmissing == 1, and setfield may call checkfield (on another field) with setmissing = 0.\n",
    "def checkfield(self, field, setmissing=0):\n",
    "    \n",
    "    errormsg = None\n",
    "    \n",
    "    # Try to set the value of the missing field if specified. \n",
    "    # Note, this may do nothing. \n",
    "    if setvalue and self.field==None:\n",
    "        setfield(self, field)\n",
    "        \n",
    "    # If the field is still missing, trigger an error\n",
    "    if self.field == None:\n",
    "        sys.exit(\"Missing field required: \"+field)\n",
    "    \n",
    "    if field==a:\n",
    "            \n",
    "    elif field==b:\n",
    "           \n",
    "        checkfield(e)\n",
    "        \n",
    "            \n",
    "    elif field==b:    \n",
    "    elif field==b:\n",
    "    \n",
    "    return errormsg\n",
    "# The reason why this checkfield method returns an error message rather than directly triggering an error is because\n",
    "# checkfield is called by checkfields on fields we need to have, but it is also called by setfield to check other\n",
    "# fields needed to set default values. So in the first case, we will exit using the error message. In the second case\n",
    "# we will ignore the error message and continue without being able to set the field. \n",
    "\n",
    "\n",
    "    \n",
    "# Set the field if possible. Otherwise do nothing and return (no error message).\n",
    "# This method WILL overwrite fields already set. Key is to not call it on fields already set to avoid this. \n",
    "# Although for gain and baseline when physical == 1, it will overwrite anyway. \n",
    "# Not all fields have defaults, and some fields' defaults may rely on other fields being present and valid. \n",
    "def setfield(self, field):\n",
    "    \n",
    "    if field == 'nsig':\n",
    "        if not checkfield(self, 'signals', 0):\n",
    "            self.nsig = np.shape(self.signals)[1]\n",
    "    elif field == 'siglen':\n",
    "        if not checkfield(self, 'signals', 0):\n",
    "            self.nsig = np.shape(self.signals)[1]\n",
    "    elif field == 'basetime':\n",
    "        self.basetime = '00:00:00'\n",
    "        \n",
    "        \n",
    "    # By the time these fields are called to be set, nsig should be set already. \n",
    "    # This method will only suggest single dat records. \n",
    "    elif field == 'filename':\n",
    "        self.filename = self.nsig*[self.recordname+'.dat']\n",
    "    \n",
    "    \n",
    "    # fmt, adcgain, and baseline go together. \n",
    "    elif field == 'fmt':\n",
    "        # This method will \n",
    "    \n",
    "    elif field == 'adcgain':\n",
    "        \n",
    "        # Cannot infer a gain or baseline if the signal is already digital.\n",
    "        if self.physical == 1:\n",
    "            # Calculate and set the gain and baseline.  \n",
    "            if not checkfield(self, 'signals', 0):\n",
    "                [gain, baseline] = \n",
    "            \n",
    "    elif field == 'baseline':\n",
    "        if self.physical == 1:\n",
    "            # Calculate and set the gain and baseline.  \n",
    "            if not checkfield(self, 'signals', 0):\n",
    "                [gain, baseline] = \n",
    "\n",
    "    elif field == 'adcres':\n",
    "        if not checkfield(self, 'fmt', 0):\n",
    "            if self.fmt in ['8', '80']:\n",
    "                self.adcres = self.nsig*[8]\n",
    "            elif self.fmt == '212':\n",
    "                self.adcres = self.nsig*[12]\n",
    "            elif self.fmt == '16':\n",
    "                self.adcres = self.nsig*[16]\n",
    "            elif self.fmt = '24':\n",
    "                self.adcres = self.nsig*[24]\n",
    "            elif self.fmt = '32':\n",
    "                self.adcres = self.nsig*[32]\n",
    "    elif field == 'adczero':\n",
    "        if not checkfield(self, 'nsig', 0):\n",
    "            self.adczero = self.nsig*[0]\n",
    "    elif field == 'initvalue':   \n",
    "        if not checkfield(self, 'signals', 0):\n",
    "            self.initvalue = self.signals[0,:]\n",
    "    elif field == 'checksum':\n",
    "        if not checkfield(self, 'signals', 0):\n",
    "            self.initvalue = self.computechecksum()\n",
    "    elif field == 'blocksize':\n",
    "        self.blocksize = 0\n",
    "    \n",
    "    # To do for multirecord (or maybe it's better not in this function): elif field == 'seglen':\n",
    "        \n",
    "\n",
    "# Record specification fields            \n",
    "recfieldspecs = OrderedDict([('recordname', WFDBfield([[str], '', None, True, 0])),\n",
    "                         ('nseg', WFDBfield([[int], '/', 'recordname', True, 0])), # Essential for multi but not present in single.\n",
    "                         ('nsig', WFDBfield([[int], ' ', 'recordname', True, 1])),\n",
    "                         ('fs', WFDBfield([[int, float], ' ', 'nsig', True, 0])),\n",
    "                         ('counterfreq', WFDBfield([[int, float], '/', 'fs', False, 0])),\n",
    "                         ('basecounter', WFDBfield([[int, float], '(', 'counterfreq', False, 0])),\n",
    "                         ('siglen', WFDBfield([[int], ' ', 'fs', True, 1])),\n",
    "                         ('basetime', WFDBfield([[str], ' ', 'siglen', False, 2])),\n",
    "                         ('basedate', WFDBfield([[str], ' ', 'basetime', False, 0]))])\n",
    "# Signal specification fields \n",
    "sigfieldspecs = OrderedDict([('filename', WFDBfield([[str], '', None, True, 2])),\n",
    "                         ('fmt', WFDBfield([[int, str], ' ', 'filename', True, 2])),\n",
    "                         ('sampsperframe', WFDBfield([[int], 'x', 'fmt', False, 0])),\n",
    "                         ('skew', WFDBfield([[int], ':', 'fmt', False, 0])),\n",
    "                         ('byteoffset', WFDBfield([[int], '+', 'fmt', False, 0])),\n",
    "                         ('adcgain', WFDBfield([[int], ' ', 'fmt', True, 1])),\n",
    "                         ('baseline', WFDBfield([[int], '(', 'adcgain', True, 1])),\n",
    "                         ('units', WFDBfield([[str], '/', 'adcgain', True, 2])),\n",
    "                         ('adcres', WFDBfield([[int], ' ', 'adcgain', False, 2])),\n",
    "                         ('adczero', WFDBfield([[int], ' ', 'adcres', False, 2])),\n",
    "                         ('initvalue', WFDBfield([[int], ' ', 'adczero', False, 1])),\n",
    "                         ('checksum', WFDBfield([[int], ' ', 'initvalue', False, 1])),\n",
    "                         ('blocksize', WFDBfield([[int], ' ', 'checksum', False, 2])),\n",
    "                         ('signame', WFDBfield([[str], ' ', 'blocksize', False, 1]))])\n",
    "    \n",
    "# Segment specification fields\n",
    "segfieldspecs = OrderedDict([('segname', WFDBfield([[str], '', None, True, 0])),\n",
    "                         ('seglen', WFDBfield([[int], ' ', 'segname', True, 0]))])\n",
    "\n",
    "\n",
    "\n"
   ]
  }
 ],
 "metadata": {
  "kernelspec": {
   "display_name": "Python 3",
   "language": "python",
   "name": "python3"
  },
  "language_info": {
   "codemirror_mode": {
    "name": "ipython",
    "version": 3
   },
   "file_extension": ".py",
   "mimetype": "text/x-python",
   "name": "python",
   "nbconvert_exporter": "python",
   "pygments_lexer": "ipython3",
   "version": "3.5.2"
  }
 },
 "nbformat": 4,
 "nbformat_minor": 0
}
