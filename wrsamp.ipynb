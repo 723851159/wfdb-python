{
 "cells": [
  {
   "cell_type": "code",
   "execution_count": 2,
   "metadata": {
    "collapsed": false
   },
   "outputs": [],
   "source": [
    "# 1. For reading:\n",
    "\n",
    "# a WFDBrecord object with signals == None.  \n",
    "\n",
    "item1 = rdheader('headername') # Function belongs to the module\n",
    "\n",
    "# a WFDBrecord object with signals != None unless it is a 0 channel file. \n",
    "item1 = rdsamp('recordname') # Function belongs to the module. \n",
    "\n",
    "# Module function\n",
    "def rdsamp(recordname):\n",
    "    item1 = rdheader(recordname)\n",
    "    item1.signals = rddats(item1.filenames)\n",
    "    return item1\n",
    "\n",
    "\n",
    "# Module function\n",
    "def rdheader(recordname):\n",
    "    f=open()\n",
    "    return WFDBrecord\n",
    "\n",
    "# Module function\n",
    "def rddats(filenames):\n",
    "    signals = np.fromfile(r)\n",
    "    return signals\n",
    "\n"
   ]
  },
  {
   "cell_type": "code",
   "execution_count": null,
   "metadata": {
    "collapsed": true
   },
   "outputs": [],
   "source": []
  },
  {
   "cell_type": "markdown",
   "metadata": {},
   "source": []
  },
  {
   "cell_type": "code",
   "execution_count": 1,
   "metadata": {
    "collapsed": false
   },
   "outputs": [
    {
     "ename": "SyntaxError",
     "evalue": "invalid syntax (<ipython-input-1-cdf254654092>, line 44)",
     "output_type": "error",
     "traceback": [
      "\u001b[0;36m  File \u001b[0;32m\"<ipython-input-1-cdf254654092>\"\u001b[0;36m, line \u001b[0;32m44\u001b[0m\n\u001b[0;31m    err = checkfield(self, 'nsig', setmissing = 0):\u001b[0m\n\u001b[0m                                                  ^\u001b[0m\n\u001b[0;31mSyntaxError\u001b[0m\u001b[0;31m:\u001b[0m invalid syntax\n"
     ]
    }
   ],
   "source": [
    "\n",
    "    \n",
    "# Write all the dat files for a record. \n",
    "# Method belongs to the WFDBrecord class. NOT a function of the module. Does check the signal.  \n",
    "def wrdats(self): # Don't need record names. The object fields specify. \n",
    "    \n",
    "    # Perform extra check of the signal itself in terms of its values for writing. \n",
    "    # Get the final digital values to write to the file. \n",
    "    digitalwritesigs = self.checkwritesignals()\n",
    "    \n",
    "    # Get a list of the dat files to be written and their formats\n",
    "    datfiles, datchannels = orderedsetlist(self.filename)\n",
    "    formats = orderedsetlist(self.fmt)[0]\n",
    "    \n",
    "    for i in range(0, len(datfiles)):\n",
    "        # To do: Consider multi samples per frame writing. \n",
    "        wrdatfile(datfiles[i], formats[i], self.signals[:,datchannels[i][0]:(datchannels[i][-1]+1)])\n",
    "    \n",
    "\n",
    "    \n",
    "\n",
    "\n",
    "\n",
    "\n",
    "    \n",
    "        \n",
    "\n",
    "  \n",
    "    \n",
    "\n",
    "\n",
    "    \n",
    "# Retrieve a copy of the wfdb signals field, either digital or physical. \n",
    "# Returned array will NOT be a reference to the same object.\n",
    "# Method of WFDBrecord\n",
    "def getsignalscopy(self, physical = 1)\n",
    "    \n",
    "    if not self.signals:\n",
    "        sys.exit('WFDBrecord has no signals')\n",
    "    \n",
    "    # Return the physical signals\n",
    "    if physical:\n",
    "        if self.p_signals != None:\n",
    "            return self.psignals.copy()\n",
    "        # Have to do dac\n",
    "        elif self.d_dignals != None:\n",
    "            return dac(self.d_signals)\n",
    "        else:\n",
    "            sys.exit('The WFDBrecord object contains neither p_signals nor d_signals')\n",
    "    # Return the digital signals\n",
    "    else:\n",
    "        if self.d_signals != None:\n",
    "            return self.dsignals.copy()\n",
    "        # Have to do adc\n",
    "        elif self.a_signals != None:\n",
    "            return adc(self.a_signals)\n",
    "        else:\n",
    "            sys.exit('The WFDBrecord object contains neither p_signals nor d_signals')\n",
    "\n",
    "\n",
    "# Merge the ordered dictionaries in a list into one ordered dictionary. \n",
    "def _mergeODlist(ODlist):\n",
    "    mergedOD=ODlist[0].copy()\n",
    "    for od in ODlist[1:]:\n",
    "        mergedOD.update(od)\n",
    "    return mergedOD\n",
    "                  \n",
    "\n",
    "            "
   ]
  },
  {
   "cell_type": "code",
   "execution_count": 17,
   "metadata": {
    "collapsed": true
   },
   "outputs": [],
   "source": [
    "def orderedsetlist(fulllist):\n",
    "    uniquelist = []\n",
    "    original_inds = {}\n",
    "\n",
    "    for i in range(0, len(fulllist)):\n",
    "        item = fulllist[i]\n",
    "        # new item\n",
    "        if item not in uniquelist:\n",
    "            uniquelist.append(item)\n",
    "            original_inds[item] = [i]\n",
    "        # previously seen item\n",
    "        else:\n",
    "            original_inds[item].append(i)\n",
    "    return uniquelist, original_inds\n",
    "\n",
    "\n",
    "\n"
   ]
  },
  {
   "cell_type": "code",
   "execution_count": 52,
   "metadata": {
    "collapsed": false
   },
   "outputs": [],
   "source": [
    "import numpy as np\n",
    "fname = ['100.dat','100.dat','100.xyz','100.abc']\n",
    "fmt = ['212','212','16','16']\n",
    "sig = np.zeros([50,4])\n",
    "sig[:,0] = 9\n",
    "sig[:,1] = 10\n",
    "sig[:,2:4] = 11\n",
    "\n",
    "filenames, datchannels = orderedsetlist(fname)\n"
   ]
  },
  {
   "cell_type": "code",
   "execution_count": 53,
   "metadata": {
    "collapsed": false
   },
   "outputs": [
    {
     "name": "stdout",
     "output_type": "stream",
     "text": [
      "['100.dat', '100.xyz', '100.abc']\n",
      "{'100.xyz': [2], '100.abc': [3], '100.dat': [0, 1]}\n",
      "['212', '212', '16', '16']\n",
      "[[  9.  10.  11.  11.]\n",
      " [  9.  10.  11.  11.]\n",
      " [  9.  10.  11.  11.]\n",
      " [  9.  10.  11.  11.]\n",
      " [  9.  10.  11.  11.]\n",
      " [  9.  10.  11.  11.]\n",
      " [  9.  10.  11.  11.]\n",
      " [  9.  10.  11.  11.]\n",
      " [  9.  10.  11.  11.]\n",
      " [  9.  10.  11.  11.]\n",
      " [  9.  10.  11.  11.]\n",
      " [  9.  10.  11.  11.]\n",
      " [  9.  10.  11.  11.]\n",
      " [  9.  10.  11.  11.]\n",
      " [  9.  10.  11.  11.]\n",
      " [  9.  10.  11.  11.]\n",
      " [  9.  10.  11.  11.]\n",
      " [  9.  10.  11.  11.]\n",
      " [  9.  10.  11.  11.]\n",
      " [  9.  10.  11.  11.]\n",
      " [  9.  10.  11.  11.]\n",
      " [  9.  10.  11.  11.]\n",
      " [  9.  10.  11.  11.]\n",
      " [  9.  10.  11.  11.]\n",
      " [  9.  10.  11.  11.]\n",
      " [  9.  10.  11.  11.]\n",
      " [  9.  10.  11.  11.]\n",
      " [  9.  10.  11.  11.]\n",
      " [  9.  10.  11.  11.]\n",
      " [  9.  10.  11.  11.]\n",
      " [  9.  10.  11.  11.]\n",
      " [  9.  10.  11.  11.]\n",
      " [  9.  10.  11.  11.]\n",
      " [  9.  10.  11.  11.]\n",
      " [  9.  10.  11.  11.]\n",
      " [  9.  10.  11.  11.]\n",
      " [  9.  10.  11.  11.]\n",
      " [  9.  10.  11.  11.]\n",
      " [  9.  10.  11.  11.]\n",
      " [  9.  10.  11.  11.]\n",
      " [  9.  10.  11.  11.]\n",
      " [  9.  10.  11.  11.]\n",
      " [  9.  10.  11.  11.]\n",
      " [  9.  10.  11.  11.]\n",
      " [  9.  10.  11.  11.]\n",
      " [  9.  10.  11.  11.]\n",
      " [  9.  10.  11.  11.]\n",
      " [  9.  10.  11.  11.]\n",
      " [  9.  10.  11.  11.]\n",
      " [  9.  10.  11.  11.]]\n"
     ]
    }
   ],
   "source": [
    "print(filenames)\n",
    "print(datchannels)\n",
    "print(fmt)\n",
    "print(sig)\n",
    "\n"
   ]
  },
  {
   "cell_type": "code",
   "execution_count": 54,
   "metadata": {
    "collapsed": false
   },
   "outputs": [
    {
     "name": "stdout",
     "output_type": "stream",
     "text": [
      "100.dat\n",
      "212\n",
      "[[  9.  10.]\n",
      " [  9.  10.]\n",
      " [  9.  10.]\n",
      " [  9.  10.]\n",
      " [  9.  10.]\n",
      " [  9.  10.]\n",
      " [  9.  10.]\n",
      " [  9.  10.]\n",
      " [  9.  10.]\n",
      " [  9.  10.]\n",
      " [  9.  10.]\n",
      " [  9.  10.]\n",
      " [  9.  10.]\n",
      " [  9.  10.]\n",
      " [  9.  10.]\n",
      " [  9.  10.]\n",
      " [  9.  10.]\n",
      " [  9.  10.]\n",
      " [  9.  10.]\n",
      " [  9.  10.]\n",
      " [  9.  10.]\n",
      " [  9.  10.]\n",
      " [  9.  10.]\n",
      " [  9.  10.]\n",
      " [  9.  10.]\n",
      " [  9.  10.]\n",
      " [  9.  10.]\n",
      " [  9.  10.]\n",
      " [  9.  10.]\n",
      " [  9.  10.]\n",
      " [  9.  10.]\n",
      " [  9.  10.]\n",
      " [  9.  10.]\n",
      " [  9.  10.]\n",
      " [  9.  10.]\n",
      " [  9.  10.]\n",
      " [  9.  10.]\n",
      " [  9.  10.]\n",
      " [  9.  10.]\n",
      " [  9.  10.]\n",
      " [  9.  10.]\n",
      " [  9.  10.]\n",
      " [  9.  10.]\n",
      " [  9.  10.]\n",
      " [  9.  10.]\n",
      " [  9.  10.]\n",
      " [  9.  10.]\n",
      " [  9.  10.]\n",
      " [  9.  10.]\n",
      " [  9.  10.]]\n",
      "100.xyz\n",
      "16\n",
      "[[ 11.]\n",
      " [ 11.]\n",
      " [ 11.]\n",
      " [ 11.]\n",
      " [ 11.]\n",
      " [ 11.]\n",
      " [ 11.]\n",
      " [ 11.]\n",
      " [ 11.]\n",
      " [ 11.]\n",
      " [ 11.]\n",
      " [ 11.]\n",
      " [ 11.]\n",
      " [ 11.]\n",
      " [ 11.]\n",
      " [ 11.]\n",
      " [ 11.]\n",
      " [ 11.]\n",
      " [ 11.]\n",
      " [ 11.]\n",
      " [ 11.]\n",
      " [ 11.]\n",
      " [ 11.]\n",
      " [ 11.]\n",
      " [ 11.]\n",
      " [ 11.]\n",
      " [ 11.]\n",
      " [ 11.]\n",
      " [ 11.]\n",
      " [ 11.]\n",
      " [ 11.]\n",
      " [ 11.]\n",
      " [ 11.]\n",
      " [ 11.]\n",
      " [ 11.]\n",
      " [ 11.]\n",
      " [ 11.]\n",
      " [ 11.]\n",
      " [ 11.]\n",
      " [ 11.]\n",
      " [ 11.]\n",
      " [ 11.]\n",
      " [ 11.]\n",
      " [ 11.]\n",
      " [ 11.]\n",
      " [ 11.]\n",
      " [ 11.]\n",
      " [ 11.]\n",
      " [ 11.]\n",
      " [ 11.]]\n",
      "100.abc\n",
      "16\n",
      "[[ 11.]\n",
      " [ 11.]\n",
      " [ 11.]\n",
      " [ 11.]\n",
      " [ 11.]\n",
      " [ 11.]\n",
      " [ 11.]\n",
      " [ 11.]\n",
      " [ 11.]\n",
      " [ 11.]\n",
      " [ 11.]\n",
      " [ 11.]\n",
      " [ 11.]\n",
      " [ 11.]\n",
      " [ 11.]\n",
      " [ 11.]\n",
      " [ 11.]\n",
      " [ 11.]\n",
      " [ 11.]\n",
      " [ 11.]\n",
      " [ 11.]\n",
      " [ 11.]\n",
      " [ 11.]\n",
      " [ 11.]\n",
      " [ 11.]\n",
      " [ 11.]\n",
      " [ 11.]\n",
      " [ 11.]\n",
      " [ 11.]\n",
      " [ 11.]\n",
      " [ 11.]\n",
      " [ 11.]\n",
      " [ 11.]\n",
      " [ 11.]\n",
      " [ 11.]\n",
      " [ 11.]\n",
      " [ 11.]\n",
      " [ 11.]\n",
      " [ 11.]\n",
      " [ 11.]\n",
      " [ 11.]\n",
      " [ 11.]\n",
      " [ 11.]\n",
      " [ 11.]\n",
      " [ 11.]\n",
      " [ 11.]\n",
      " [ 11.]\n",
      " [ 11.]\n",
      " [ 11.]\n",
      " [ 11.]]\n"
     ]
    }
   ],
   "source": [
    "for i in range(0, len(filenames)):\n",
    "    print(filenames[i]) \n",
    "    print(fmt[min(datchannels[filenames[i]])])\n",
    "    print(sig[:, min(datchannels[filenames[i]]):max(datchannels[filenames[i]])+1])"
   ]
  },
  {
   "cell_type": "code",
   "execution_count": 35,
   "metadata": {
    "collapsed": false
   },
   "outputs": [
    {
     "data": {
      "text/plain": [
       "['212', '212']"
      ]
     },
     "execution_count": 35,
     "metadata": {},
     "output_type": "execute_result"
    }
   ],
   "source": [
    "datchannels[]"
   ]
  },
  {
   "cell_type": "code",
   "execution_count": 92,
   "metadata": {
    "collapsed": false
   },
   "outputs": [
    {
     "name": "stdout",
     "output_type": "stream",
     "text": [
      "[[    1    20    30]\n",
      " [   40    50    60]\n",
      " [  700   800   900]\n",
      " [10000 20000 30000]]\n"
     ]
    }
   ],
   "source": [
    "signals = np.array([[1,20,30],[40,50,60], [700,800,900], [10000,20000,30000]])\n",
    "print(signals)"
   ]
  },
  {
   "cell_type": "code",
   "execution_count": 89,
   "metadata": {
    "collapsed": false
   },
   "outputs": [
    {
     "data": {
      "text/plain": [
       "array([[255,  20,  30],\n",
       "       [ 40,  50,  60],\n",
       "       [188,  32, 132],\n",
       "       [ 16,  32,  48]])"
      ]
     },
     "execution_count": 89,
     "metadata": {},
     "output_type": "execute_result"
    }
   ],
   "source": [
    "\n",
    "signals & [255]*signals.shape[1]"
   ]
  },
  {
   "cell_type": "code",
   "execution_count": 79,
   "metadata": {
    "collapsed": false
   },
   "outputs": [],
   "source": [
    "def twos_comp(val, bits):\n",
    "    \"\"\"compute the 2's compliment of int value val\"\"\"\n",
    "    if (val & (1 << (bits - 1))) != 0: # if sign bit is set e.g., 8bit: 128-255\n",
    "        val = val - (1 << bits)        # compute negative value\n",
    "    return val                         # return positive value as is"
   ]
  },
  {
   "cell_type": "code",
   "execution_count": 147,
   "metadata": {
    "collapsed": false
   },
   "outputs": [
    {
     "data": {
      "text/plain": [
       "65536"
      ]
     },
     "execution_count": 147,
     "metadata": {},
     "output_type": "execute_result"
    }
   ],
   "source": [
    "x= 128\n",
    "twos_comp(x, 8)\n",
    "2**16"
   ]
  },
  {
   "cell_type": "code",
   "execution_count": 145,
   "metadata": {
    "collapsed": false
   },
   "outputs": [
    {
     "data": {
      "text/plain": [
       "32768"
      ]
     },
     "execution_count": 145,
     "metadata": {},
     "output_type": "execute_result"
    }
   ],
   "source": [
    "1 << 15"
   ]
  },
  {
   "cell_type": "code",
   "execution_count": 148,
   "metadata": {
    "collapsed": false
   },
   "outputs": [
    {
     "name": "stdout",
     "output_type": "stream",
     "text": [
      "[[    1    20]\n",
      " [10000 20000]\n",
      " [65535 65516]\n",
      " [55536 45536]]\n",
      "[[  1  20]\n",
      " [ 16  32]\n",
      " [255 236]\n",
      " [240 224]]\n",
      "[[  0   0]\n",
      " [ 39  78]\n",
      " [255 255]\n",
      " [216 177]]\n"
     ]
    }
   ],
   "source": [
    "# eg. Write fmt 16 file\n",
    "\n",
    "# signals = np.array([[1,20],[40,50], [700,800]]) # In this case we already have 2's complement form as the same\n",
    "\n",
    "signals = np.array([[1,20],[10000, 20000], [-1,-20], [-10000, -20000]])\n",
    "\n",
    "\n",
    "# convert to two's complement \n",
    "signals[signals<0] = signals[signals<0] + 65536\n",
    "print(signals)\n",
    "\n",
    "nsig = signals.shape[1]\n",
    "\n",
    "\n",
    "\n",
    "# Split into byte 1 and 2\n",
    "b1 = signals & [255]*nsig\n",
    "b2 = ( signals & [65280]*nsig ) >> 8\n",
    "\n",
    "print(b1)\n",
    "print(b2)\n",
    "\n",
    "# What we want for the final array: [1, 0, 20, 0, 40, 0, 50, 0, 188, 2, 32, 3]\n",
    "\n",
    "\n",
    "\n",
    "# Interweave the samples so that they are byte 1, then 2, etc. \n",
    "b1 = b1.reshape((-1, 1))\n",
    "b2 = b2.reshape((-1, 1))\n",
    "bwrite = np.concatenate((b1, b2), axis=1)\n",
    "bwrite = bwrite.reshape((1,-1))[0]\n"
   ]
  },
  {
   "cell_type": "code",
   "execution_count": 149,
   "metadata": {
    "collapsed": false
   },
   "outputs": [
    {
     "name": "stdout",
     "output_type": "stream",
     "text": [
      "[[  1]\n",
      " [ 20]\n",
      " [ 16]\n",
      " [ 32]\n",
      " [255]\n",
      " [236]\n",
      " [240]\n",
      " [224]]\n",
      "[[  0]\n",
      " [  0]\n",
      " [ 39]\n",
      " [ 78]\n",
      " [255]\n",
      " [255]\n",
      " [216]\n",
      " [177]]\n",
      "[  1   0  20   0  16  39  32  78 255 255 236 255 240 216 224 177]\n",
      "int64\n"
     ]
    }
   ],
   "source": [
    "print(b1)\n",
    "print(b2)\n",
    "print(bwrite)\n"
   ]
  },
  {
   "cell_type": "code",
   "execution_count": 150,
   "metadata": {
    "collapsed": false
   },
   "outputs": [
    {
     "name": "stdout",
     "output_type": "stream",
     "text": [
      "[  1   0   0   0   0   0   0   0   0   0   0   0   0   0   0   0  20   0\n",
      "   0   0   0   0   0   0   0   0   0   0   0   0   0   0  16   0   0   0\n",
      "   0   0   0   0  39   0   0   0   0   0   0   0  32   0   0   0   0   0\n",
      "   0   0  78   0   0   0   0   0   0   0 255   0   0   0   0   0   0   0\n",
      " 255   0   0   0   0   0   0   0 236   0   0   0   0   0   0   0 255   0\n",
      "   0   0   0   0   0   0 240   0   0   0   0   0   0   0 216   0   0   0\n",
      "   0   0   0   0 224   0   0   0   0   0   0   0 177   0   0   0   0   0\n",
      "   0   0]\n",
      "[  1   0  20   0  16  39  32  78 255 255 236 255 240 216 224 177]\n"
     ]
    }
   ],
   "source": [
    "bwrite.dtype = 'uint8'\n",
    "\n",
    "print(bwrite)\n",
    "bwritefinal = bwrite[0:-1:8]\n",
    "print(bwritefinal)"
   ]
  },
  {
   "cell_type": "code",
   "execution_count": 151,
   "metadata": {
    "collapsed": false
   },
   "outputs": [
    {
     "name": "stdout",
     "output_type": "stream",
     "text": [
      "done writing file\n"
     ]
    }
   ],
   "source": [
    "\n",
    "f = open('test.dat', 'wb')\n",
    "bwritefinal.tofile(f)\n",
    "f.close()\n",
    "print('done writing file')"
   ]
  },
  {
   "cell_type": "code",
   "execution_count": 153,
   "metadata": {
    "collapsed": false
   },
   "outputs": [],
   "source": [
    "# Write the header\n",
    "#lines = ['test 2 250 3', 'test.dat 16 100(0)/mv', 'test.dat 16 100(0)/mv']\n",
    "lines = ['test 2 250 3', 'test.dat 16 100(0)/mv', 'test.dat 16 100(0)/mv', 'test.dat 16 100(0)/mv', 'test.dat 16 100(0)/mv']\n",
    "linestofile('test.hea', lines)\n",
    "\n",
    "\n",
    "\n"
   ]
  },
  {
   "cell_type": "code",
   "execution_count": 138,
   "metadata": {
    "collapsed": true
   },
   "outputs": [],
   "source": [
    "# Write each line in a list of strings to a text file\n",
    "def linestofile(filename, lines):\n",
    "    f = open(filename,'w')\n",
    "    for l in lines:\n",
    "        f.write(\"%s\\n\" % l)\n",
    "    f.close()  "
   ]
  },
  {
   "cell_type": "code",
   "execution_count": null,
   "metadata": {
    "collapsed": true
   },
   "outputs": [],
   "source": []
  }
 ],
 "metadata": {
  "kernelspec": {
   "display_name": "Python 3",
   "language": "python",
   "name": "python3"
  },
  "language_info": {
   "codemirror_mode": {
    "name": "ipython",
    "version": 3
   },
   "file_extension": ".py",
   "mimetype": "text/x-python",
   "name": "python",
   "nbconvert_exporter": "python",
   "pygments_lexer": "ipython3",
   "version": "3.5.2"
  }
 },
 "nbformat": 4,
 "nbformat_minor": 0
}
