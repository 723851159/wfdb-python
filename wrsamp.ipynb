{
 "cells": [
  {
   "cell_type": "code",
   "execution_count": null,
   "metadata": {
    "collapsed": true
   },
   "outputs": [],
   "source": [
    "# The preliminary notebook for testing/developing wrsamp. Will delete before merging. "
   ]
  },
  {
   "cell_type": "code",
   "execution_count": 30,
   "metadata": {
    "collapsed": false
   },
   "outputs": [
    {
     "name": "stdout",
     "output_type": "stream",
     "text": [
      "height\n",
      "weight\n",
      "age\n"
     ]
    }
   ],
   "source": [
    "from collections import OrderedDict\n",
    "fields = OrderedDict([('height', 170), ('weight', 70), ('age', 20)])\n",
    "\n",
    "for f in fields:\n",
    "    print(f)"
   ]
  },
  {
   "cell_type": "code",
   "execution_count": null,
   "metadata": {
    "collapsed": false
   },
   "outputs": [],
   "source": []
  },
  {
   "cell_type": "code",
   "execution_count": 35,
   "metadata": {
    "collapsed": false
   },
   "outputs": [
    {
     "name": "stdout",
     "output_type": "stream",
     "text": [
      "age\n",
      "height\n",
      "weight\n"
     ]
    }
   ],
   "source": [
    "from collections import OrderedDict\n",
    "fields = OrderedDict({'height': 170, 'weight': 70, 'age': 20})\n",
    "\n",
    "for f in fields:\n",
    "    print(f)"
   ]
  },
  {
   "cell_type": "code",
   "execution_count": 37,
   "metadata": {
    "collapsed": false
   },
   "outputs": [
    {
     "name": "stdout",
     "output_type": "stream",
     "text": [
      "signame\n",
      "checksum\n",
      "blocksize\n",
      "checksum\n",
      "checksum\n",
      "initvalue\n",
      "initvalue\n",
      "adczero\n",
      "adczero\n",
      "adcres\n",
      "adcres\n",
      "adcgain\n",
      "units\n",
      "adcgain\n",
      "baseline\n",
      "adcgain\n",
      "adcgain\n",
      "fmt\n",
      "byteoffset\n",
      "fmt\n",
      "skew\n",
      "fmt\n",
      "sampsperframe\n",
      "fmt\n"
     ]
    }
   ],
   "source": [
    "dependencies = OrderedDict([('signame', 'checksum'),\n",
    "                                ('blocksize', 'checksum'),\n",
    "                                ('checksum', 'initvalue'),\n",
    "                                ('initvalue', 'adczero'),\n",
    "                                ('adczero', 'adcres'),\n",
    "                                ('adcres', 'adcgain'),\n",
    "                                ('units', 'adcgain'),\n",
    "                                ('baseline', 'adcgain'),\n",
    "                                ('adcgain', 'fmt'),\n",
    "                                ('byteoffset', 'fmt'),\n",
    "                                ('skew', 'fmt'),\n",
    "                                ('sampsperframe', 'fmt')\n",
    "                               ])\n",
    "\n",
    "for d in dependencies:\n",
    "    print(d)\n",
    "    print(dependencies[d])"
   ]
  },
  {
   "cell_type": "code",
   "execution_count": 7,
   "metadata": {
    "collapsed": false
   },
   "outputs": [
    {
     "name": "stdout",
     "output_type": "stream",
     "text": [
      "weight\n",
      "height\n",
      "age\n"
     ]
    }
   ],
   "source": [
    "fields = {'height': 170, 'weight': 70, 'age': 20}\n",
    "\n",
    "for i in reversed(list(fields)):\n",
    "    print(i)"
   ]
  },
  {
   "cell_type": "code",
   "execution_count": 17,
   "metadata": {
    "collapsed": false
   },
   "outputs": [
    {
     "ename": "SyntaxError",
     "evalue": "invalid syntax (<ipython-input-17-8c8a4646591e>, line 1)",
     "output_type": "error",
     "traceback": [
      "\u001b[1;36m  File \u001b[1;32m\"<ipython-input-17-8c8a4646591e>\"\u001b[1;36m, line \u001b[1;32m1\u001b[0m\n\u001b[1;33m    lambda\u001b[0m\n\u001b[1;37m          ^\u001b[0m\n\u001b[1;31mSyntaxError\u001b[0m\u001b[1;31m:\u001b[0m invalid syntax\n"
     ]
    }
   ],
   "source": []
  },
  {
   "cell_type": "code",
   "execution_count": 48,
   "metadata": {
    "collapsed": false
   },
   "outputs": [],
   "source": [
    "import numpy as np\n",
    "a=np.zeros([10,3])\n",
    "m, n = np.shape(a)\n"
   ]
  },
  {
   "cell_type": "code",
   "execution_count": 4,
   "metadata": {
    "collapsed": false
   },
   "outputs": [
    {
     "data": {
      "text/plain": [
       "{'age': [], 'height': [], 'weight': []}"
      ]
     },
     "execution_count": 4,
     "metadata": {},
     "output_type": "execute_result"
    }
   ],
   "source": [
    "WFDBfields = ['height', 'weight', 'age']\n",
    "\n",
    "final = dict.fromkeys(WFDBfields, [])\n",
    "final"
   ]
  },
  {
   "cell_type": "code",
   "execution_count": 18,
   "metadata": {
    "collapsed": false
   },
   "outputs": [
    {
     "name": "stdout",
     "output_type": "stream",
     "text": [
      "Help on built-in function fromkeys:\n",
      "\n",
      "fromkeys(iterable, value=None, /) method of builtins.type instance\n",
      "    Returns a new dict with keys from iterable and values equal to value.\n",
      "\n"
     ]
    }
   ],
   "source": [
    "help(dict.fromkeys)"
   ]
  },
  {
   "cell_type": "code",
   "execution_count": 20,
   "metadata": {
    "collapsed": false
   },
   "outputs": [
    {
     "name": "stdout",
     "output_type": "stream",
     "text": [
      "age\n",
      "weight\n",
      "height\n"
     ]
    }
   ],
   "source": [
    "for i in final:\n",
    "    print(i)"
   ]
  },
  {
   "cell_type": "code",
   "execution_count": 5,
   "metadata": {
    "collapsed": false
   },
   "outputs": [
    {
     "name": "stdout",
     "output_type": "stream",
     "text": [
      "age\n",
      "weight\n",
      "height\n"
     ]
    }
   ],
   "source": [
    "for i in reversed(WFDBfields):\n",
    "    print(i)"
   ]
  },
  {
   "cell_type": "code",
   "execution_count": 57,
   "metadata": {
    "collapsed": false
   },
   "outputs": [],
   "source": [
    "a=[{'recname': 'wave1'},{'siglen': 500},{'fs': 125}]"
   ]
  },
  {
   "cell_type": "code",
   "execution_count": 62,
   "metadata": {
    "collapsed": false
   },
   "outputs": [
    {
     "data": {
      "text/plain": [
       "[dict_keys(['recname']), dict_keys(['siglen']), dict_keys(['fs'])]"
      ]
     },
     "execution_count": 62,
     "metadata": {},
     "output_type": "execute_result"
    }
   ],
   "source": [
    "b=[i.keys() for i in a]\n",
    "b"
   ]
  },
  {
   "cell_type": "code",
   "execution_count": 3,
   "metadata": {
    "collapsed": false
   },
   "outputs": [],
   "source": [
    "# A field of the WFDB header file\n",
    "from collections import OrderedDict\n",
    "\n",
    "class WFDBfield():\n",
    "    \n",
    "    def __init__(self, speclist):\n",
    "        # Name\n",
    "        self.name = speclist[0] \n",
    "        \n",
    "        # Data types the field can take\n",
    "        self.allowedtypes = speclist[1]\n",
    "        \n",
    "        # The text delimiter that preceeds the field\n",
    "        self.delimiter = speclist[2]\n",
    "        \n",
    "        # The required/dependent field which must also be present\n",
    "        self.field_req = speclist[3]\n",
    "\n",
    "        # Whether the field is mandatory specified by the WFDB guidelines\n",
    "        self.is_req = speclist[4]\n",
    "        \n",
    "        # Whether the field is mandatory for writing (extra rules enforced by this library).\n",
    "        # Being required for writing is not the same as the user having to specify. There are defaults. \n",
    "        self.write_req = speclist[5]"
   ]
  },
  {
   "cell_type": "code",
   "execution_count": 18,
   "metadata": {
    "collapsed": false
   },
   "outputs": [],
   "source": [
    "WFDBfields = [\n",
    "    \n",
    "    # record specification fields\n",
    "    OrderedDict([('recordname', WFDBfield(['recordname', [str], '', None, True, True])),\n",
    "                 ('nseg', WFDBfield(['nseg', [int], '/', 'recordname', False, False])),\n",
    "                 ('nsig', WFDBfield(['nsig', [int], ' ', 'recordname', True, True])),\n",
    "                 ('fs', WFDBfield(['fs', [int, float], ' ', 'nsig', False, True])),\n",
    "                 ('counterfreq', WFDBfield(['counterfreq', [int, float], '/', 'fs', False, False])),\n",
    "                 ('basecounter', WFDBfield(['basecounter', [int, float], '(', 'counterfreq', False, False])),\n",
    "                 ('siglen', WFDBfield(['siglen', [int], ' ', 'fs', False, True])),\n",
    "                 ('basetime', WFDBfield(['basetime', [str], ' ', 'siglen', False, False])),\n",
    "                 ('basedate', WFDBfield(['basedate', [str], ' ', 'basetime', False, False]))]),\n",
    "    \n",
    "    # signal specification fields\n",
    "    OrderedDict([('filename', WFDBfield(['filename', [str], '', None, True, True])),\n",
    "                 ('fmt', WFDBfield(['fmt', [int, str], ' ', 'filename', True, True])),\n",
    "                 ('sampsperframe', WFDBfield(['sampsperframe', [int], 'x', 'fmt', False, False])),\n",
    "                 ('skew', WFDBfield(['skew', [int], ':', 'fmt', False, False])),\n",
    "                 ('byteoffset', WFDBfield(['byteoffset', [int], '+', 'fmt', False, False])),\n",
    "                 ('adcgain', WFDBfield(['adcgain', [int], ' ', 'fmt', False, False])),\n",
    "                 ('baseline', WFDBfield(['baseline', [int], '(', 'adcgain', False, False])),\n",
    "                 ('units', WFDBfield(['units', [str], '/', 'adcgain', False, False])),\n",
    "                 ('adcres', WFDBfield(['adcres', [int], ' ', 'adcgain', False, False])),\n",
    "                 ('adczero', WFDBfield(['adczero', [int], ' ', 'adcres', False, False])),\n",
    "                 ('initvalue', WFDBfield(['initvalue', [int], ' ', 'adczero', False, False])),\n",
    "                 ('checksum', WFDBfield(['checksum', [int], ' ', 'initvalue', False, False])),\n",
    "                 ('blocksize', WFDBfield(['blocksize', [int], ' ', 'checksum', False, False])),\n",
    "                 ('signame', WFDBfield(['signame', [str], ' ', 'blocksize', False, False]))]),\n",
    "    \n",
    "    # segment specification fields\n",
    "    OrderedDict([('segname', WFDBfield(['segname', [str], '', None, True, True])),\n",
    "                 ('seglen', WFDBfield(['seglen', [int], ' ', 'segname', True, True]))]),\n",
    "    \n",
    "    # comment fields\n",
    "    OrderedDict([('comments', WFDBfield(['comments', [int], '', None, False, False]))])\n",
    "]"
   ]
  },
  {
   "cell_type": "code",
   "execution_count": 5,
   "metadata": {
    "collapsed": false
   },
   "outputs": [],
   "source": [
    "f1=WFDBfields[0]"
   ]
  },
  {
   "cell_type": "code",
   "execution_count": 11,
   "metadata": {
    "collapsed": false
   },
   "outputs": [],
   "source": [
    "f2=OrderedDict(reversed(list(f1.items())))"
   ]
  },
  {
   "cell_type": "code",
   "execution_count": 12,
   "metadata": {
    "collapsed": false
   },
   "outputs": [
    {
     "data": {
      "text/plain": [
       "OrderedDict([('basedate', <__main__.WFDBfield at 0x7fc2ee639400>),\n",
       "             ('basetime', <__main__.WFDBfield at 0x7fc2ee6393c8>),\n",
       "             ('siglen', <__main__.WFDBfield at 0x7fc2ee639390>),\n",
       "             ('basecounter', <__main__.WFDBfield at 0x7fc2ee639358>),\n",
       "             ('counterfreq', <__main__.WFDBfield at 0x7fc2ee639320>),\n",
       "             ('fs', <__main__.WFDBfield at 0x7fc2ee6392e8>),\n",
       "             ('nsig', <__main__.WFDBfield at 0x7fc2ee6392b0>),\n",
       "             ('nseg', <__main__.WFDBfield at 0x7fc2ee639278>),\n",
       "             ('recordname', <__main__.WFDBfield at 0x7fc2ee639240>)])"
      ]
     },
     "execution_count": 12,
     "metadata": {},
     "output_type": "execute_result"
    }
   ],
   "source": [
    "f2"
   ]
  },
  {
   "cell_type": "code",
   "execution_count": 23,
   "metadata": {
    "collapsed": false
   },
   "outputs": [
    {
     "data": {
      "text/plain": [
       "['__class__',\n",
       " '__contains__',\n",
       " '__delattr__',\n",
       " '__delitem__',\n",
       " '__dict__',\n",
       " '__dir__',\n",
       " '__doc__',\n",
       " '__eq__',\n",
       " '__format__',\n",
       " '__ge__',\n",
       " '__getattribute__',\n",
       " '__getitem__',\n",
       " '__gt__',\n",
       " '__hash__',\n",
       " '__init__',\n",
       " '__iter__',\n",
       " '__le__',\n",
       " '__len__',\n",
       " '__lt__',\n",
       " '__ne__',\n",
       " '__new__',\n",
       " '__reduce__',\n",
       " '__reduce_ex__',\n",
       " '__repr__',\n",
       " '__reversed__',\n",
       " '__setattr__',\n",
       " '__setitem__',\n",
       " '__sizeof__',\n",
       " '__str__',\n",
       " '__subclasshook__',\n",
       " 'clear',\n",
       " 'copy',\n",
       " 'fromkeys',\n",
       " 'get',\n",
       " 'items',\n",
       " 'keys',\n",
       " 'move_to_end',\n",
       " 'pop',\n",
       " 'popitem',\n",
       " 'setdefault',\n",
       " 'update',\n",
       " 'values']"
      ]
     },
     "execution_count": 23,
     "metadata": {},
     "output_type": "execute_result"
    }
   ],
   "source": [
    "dir(WFDBfields[0])"
   ]
  },
  {
   "cell_type": "code",
   "execution_count": 28,
   "metadata": {
    "collapsed": false
   },
   "outputs": [
    {
     "name": "stdout",
     "output_type": "stream",
     "text": [
      "Help on built-in function setdefault:\n",
      "\n",
      "setdefault(...) method of collections.OrderedDict instance\n",
      "    od.setdefault(k[,d]) -> od.get(k,d), also set od[k]=d if k not in od\n",
      "\n"
     ]
    }
   ],
   "source": [
    "help(WFDBfields[0].setdefault)"
   ]
  },
  {
   "cell_type": "code",
   "execution_count": 76,
   "metadata": {
    "collapsed": false
   },
   "outputs": [
    {
     "data": {
      "text/plain": [
       "{'name': 'Jack', 'strength': 10}"
      ]
     },
     "execution_count": 76,
     "metadata": {},
     "output_type": "execute_result"
    }
   ],
   "source": [
    "bd={'name':'Jack'}\n",
    "bd['strength']=10\n",
    "bd"
   ]
  },
  {
   "cell_type": "code",
   "execution_count": 79,
   "metadata": {
    "collapsed": false
   },
   "outputs": [
    {
     "name": "stdout",
     "output_type": "stream",
     "text": [
      "ya\n"
     ]
    }
   ],
   "source": [
    "if 'strength' in bd:\n",
    "    print('ya')"
   ]
  },
  {
   "cell_type": "code",
   "execution_count": null,
   "metadata": {
    "collapsed": true
   },
   "outputs": [],
   "source": []
  }
 ],
 "metadata": {
  "kernelspec": {
   "display_name": "Python [Root]",
   "language": "python",
   "name": "Python [Root]"
  },
  "language_info": {
   "codemirror_mode": {
    "name": "ipython",
    "version": 3
   },
   "file_extension": ".py",
   "mimetype": "text/x-python",
   "name": "python",
   "nbconvert_exporter": "python",
   "pygments_lexer": "ipython3",
   "version": "3.5.2"
  }
 },
 "nbformat": 4,
 "nbformat_minor": 0
}
