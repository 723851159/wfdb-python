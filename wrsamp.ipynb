{
 "cells": [
  {
   "cell_type": "code",
   "execution_count": null,
   "metadata": {
    "collapsed": true
   },
   "outputs": [],
   "source": [
    "# The preliminary notebook for testing/developing wrsamp. Will delete before merging. "
   ]
  },
  {
   "cell_type": "code",
   "execution_count": 30,
   "metadata": {
    "collapsed": false
   },
   "outputs": [
    {
     "name": "stdout",
     "output_type": "stream",
     "text": [
      "height\n",
      "weight\n",
      "age\n"
     ]
    }
   ],
   "source": [
    "from collections import OrderedDict\n",
    "fields = OrderedDict([('height', 170), ('weight', 70), ('age', 20)])\n",
    "\n",
    "for f in fields:\n",
    "    print(f)"
   ]
  },
  {
   "cell_type": "code",
   "execution_count": 35,
   "metadata": {
    "collapsed": false
   },
   "outputs": [
    {
     "name": "stdout",
     "output_type": "stream",
     "text": [
      "age\n",
      "height\n",
      "weight\n"
     ]
    }
   ],
   "source": [
    "from collections import OrderedDict\n",
    "fields = OrderedDict({'height': 170, 'weight': 70, 'age': 20})\n",
    "\n",
    "for f in fields:\n",
    "    print(f)"
   ]
  },
  {
   "cell_type": "code",
   "execution_count": 37,
   "metadata": {
    "collapsed": false
   },
   "outputs": [
    {
     "name": "stdout",
     "output_type": "stream",
     "text": [
      "signame\n",
      "checksum\n",
      "blocksize\n",
      "checksum\n",
      "checksum\n",
      "initvalue\n",
      "initvalue\n",
      "adczero\n",
      "adczero\n",
      "adcres\n",
      "adcres\n",
      "adcgain\n",
      "units\n",
      "adcgain\n",
      "baseline\n",
      "adcgain\n",
      "adcgain\n",
      "fmt\n",
      "byteoffset\n",
      "fmt\n",
      "skew\n",
      "fmt\n",
      "sampsperframe\n",
      "fmt\n"
     ]
    }
   ],
   "source": [
    "dependencies = OrderedDict([('signame', 'checksum'),\n",
    "                                ('blocksize', 'checksum'),\n",
    "                                ('checksum', 'initvalue'),\n",
    "                                ('initvalue', 'adczero'),\n",
    "                                ('adczero', 'adcres'),\n",
    "                                ('adcres', 'adcgain'),\n",
    "                                ('units', 'adcgain'),\n",
    "                                ('baseline', 'adcgain'),\n",
    "                                ('adcgain', 'fmt'),\n",
    "                                ('byteoffset', 'fmt'),\n",
    "                                ('skew', 'fmt'),\n",
    "                                ('sampsperframe', 'fmt')\n",
    "                               ])\n",
    "\n",
    "for d in dependencies:\n",
    "    print(d)\n",
    "    print(dependencies[d])"
   ]
  },
  {
   "cell_type": "code",
   "execution_count": 7,
   "metadata": {
    "collapsed": false
   },
   "outputs": [
    {
     "name": "stdout",
     "output_type": "stream",
     "text": [
      "weight\n",
      "height\n",
      "age\n"
     ]
    }
   ],
   "source": [
    "fields = {'height': 170, 'weight': 70, 'age': 20}\n",
    "\n",
    "for i in reversed(list(fields)):\n",
    "    print(i)"
   ]
  },
  {
   "cell_type": "code",
   "execution_count": 17,
   "metadata": {
    "collapsed": false
   },
   "outputs": [
    {
     "ename": "SyntaxError",
     "evalue": "invalid syntax (<ipython-input-17-8c8a4646591e>, line 1)",
     "output_type": "error",
     "traceback": [
      "\u001b[1;36m  File \u001b[1;32m\"<ipython-input-17-8c8a4646591e>\"\u001b[1;36m, line \u001b[1;32m1\u001b[0m\n\u001b[1;33m    lambda\u001b[0m\n\u001b[1;37m          ^\u001b[0m\n\u001b[1;31mSyntaxError\u001b[0m\u001b[1;31m:\u001b[0m invalid syntax\n"
     ]
    }
   ],
   "source": []
  },
  {
   "cell_type": "code",
   "execution_count": 48,
   "metadata": {
    "collapsed": false
   },
   "outputs": [],
   "source": [
    "import numpy as np\n",
    "a=np.zeros([10,3])\n",
    "m, n = np.shape(a)\n"
   ]
  },
  {
   "cell_type": "code",
   "execution_count": 4,
   "metadata": {
    "collapsed": false
   },
   "outputs": [
    {
     "data": {
      "text/plain": [
       "{'age': [], 'height': [], 'weight': []}"
      ]
     },
     "execution_count": 4,
     "metadata": {},
     "output_type": "execute_result"
    }
   ],
   "source": [
    "WFDBfields = ['height', 'weight', 'age']\n",
    "\n",
    "final = dict.fromkeys(WFDBfields, [])\n",
    "final"
   ]
  },
  {
   "cell_type": "code",
   "execution_count": 18,
   "metadata": {
    "collapsed": false
   },
   "outputs": [
    {
     "name": "stdout",
     "output_type": "stream",
     "text": [
      "Help on built-in function fromkeys:\n",
      "\n",
      "fromkeys(iterable, value=None, /) method of builtins.type instance\n",
      "    Returns a new dict with keys from iterable and values equal to value.\n",
      "\n"
     ]
    }
   ],
   "source": [
    "help(dict.fromkeys)"
   ]
  },
  {
   "cell_type": "code",
   "execution_count": 20,
   "metadata": {
    "collapsed": false
   },
   "outputs": [
    {
     "name": "stdout",
     "output_type": "stream",
     "text": [
      "age\n",
      "weight\n",
      "height\n"
     ]
    }
   ],
   "source": [
    "for i in final:\n",
    "    print(i)"
   ]
  },
  {
   "cell_type": "code",
   "execution_count": 49,
   "metadata": {
    "collapsed": false
   },
   "outputs": [
    {
     "name": "stdout",
     "output_type": "stream",
     "text": [
      "he\n"
     ]
    }
   ],
   "source": [
    "if np.shape(a) == (10, 3):\n",
    "    print('he')"
   ]
  },
  {
   "cell_type": "code",
   "execution_count": 5,
   "metadata": {
    "collapsed": false
   },
   "outputs": [
    {
     "name": "stdout",
     "output_type": "stream",
     "text": [
      "age\n",
      "weight\n",
      "height\n"
     ]
    }
   ],
   "source": [
    "for i in reversed(WFDBfields):\n",
    "    print(i)"
   ]
  },
  {
   "cell_type": "code",
   "execution_count": null,
   "metadata": {
    "collapsed": true
   },
   "outputs": [],
   "source": []
  }
 ],
 "metadata": {
  "kernelspec": {
   "display_name": "Python [Root]",
   "language": "python",
   "name": "Python [Root]"
  },
  "language_info": {
   "codemirror_mode": {
    "name": "ipython",
    "version": 3
   },
   "file_extension": ".py",
   "mimetype": "text/x-python",
   "name": "python",
   "nbconvert_exporter": "python",
   "pygments_lexer": "ipython3",
   "version": "3.5.2"
  }
 },
 "nbformat": 4,
 "nbformat_minor": 0
}
