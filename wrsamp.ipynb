{
 "cells": [
  {
   "cell_type": "code",
   "execution_count": null,
   "metadata": {
    "collapsed": true
   },
   "outputs": [],
   "source": [
    "# The preliminary notebook for testing/developing wrsamp. Will delete before merging. "
   ]
  },
  {
   "cell_type": "markdown",
   "metadata": {},
   "source": [
    "## Function structure\n",
    "\n",
    "### wrsamp(sig, fields)\n",
    "\n",
    "\n",
    "\n",
    "- wrsamp will fill in default values for: nsig, siglen, basetime, fmt, if digital: (gain, baseline, units), . When a default value is filled in, print a warning message which states whether it was filled in because it was missing or because a requirement. \n",
    "\n",
    "\n",
    "Seems very difficult to define a 'isrequired' field in a class. Very convoluted. \n",
    "\n",
    "\n",
    "\n",
    "- Call wrheader(). At this point, the checksum, initvalue, res, nsig, siglen, fmt  have to already be calculated/present. \n",
    "  \n",
    "  \n",
    "- wrheader WILL check for validity of fields, and for the presence of (valid) requirements. We will not let it write invalid headers. It will NOT fill in default values, neither the calculated nor the non calculated ones. Summary: wrheader makes NO assumptions. \n",
    "\n",
    "\n",
    "\n",
    "\n",
    "\n",
    "recfields = OrderedDict([('recordname', WFDBfield(['recordname', [str], '', None, True, True, None])),\n",
    "                         ('nseg', WFDBfield(['nseg', [int], '/', 'recordname', False, False, None])),\n",
    "                         ('nsig', WFDBfield(['nsig', [int], ' ', 'recordname', True, True, None])),\n",
    "                         ('fs', WFDBfield(['fs', [int, float], ' ', 'nsig', False, True, None])),\n",
    "                         ('counterfreq', WFDBfield(['counterfreq', [int, float], '/', 'fs', False, False, None])),\n",
    "                         ('basecounter', WFDBfield(['basecounter', [int, float], '(', 'counterfreq', False, False, None])),\n",
    "                         ('siglen', WFDBfield(['siglen', [int], ' ', 'fs', False, True, None])),\n",
    "                         ('basetime', WFDBfield(['basetime', [str], ' ', 'siglen', False, False, None])),\n",
    "                         ('basedate', WFDBfield(['basedate', [str], ' ', 'basetime', False, False, None]))])\n",
    "\n",
    "sigfields = OrderedDict([('filename', WFDBfield(['filename', [str], '', None, True, True, None])),\n",
    "                         ('fmt', WFDBfield(['fmt', [int, str], ' ', 'filename', True, True, None])),\n",
    "                         ('sampsperframe', WFDBfield(['sampsperframe', [int], 'x', 'fmt', False, False])),\n",
    "                         ('skew', WFDBfield(['skew', [int], ':', 'fmt', False, False])),\n",
    "                         ('byteoffset', WFDBfield(['byteoffset', [int], '+', 'fmt', False, False])),\n",
    "                         ('adcgain', WFDBfield(['adcgain', [int], ' ', 'fmt', False, False])),\n",
    "                         ('baseline', WFDBfield(['baseline', [int], '(', 'adcgain', False, False])),\n",
    "                         ('units', WFDBfield(['units', [str], '/', 'adcgain', False, False])),\n",
    "                         ('adcres', WFDBfield(['adcres', [int], ' ', 'adcgain', False, False])),\n",
    "                         ('adczero', WFDBfield(['adczero', [int], ' ', 'adcres', False, False])),\n",
    "                         ('initvalue', WFDBfield(['initvalue', [int], ' ', 'adczero', False, False])),\n",
    "                         ('checksum', WFDBfield(['checksum', [int], ' ', 'initvalue', False, False])),\n",
    "                         ('blocksize', WFDBfield(['blocksize', [int], ' ', 'checksum', False, False])),\n",
    "                         ('signame', WFDBfield(['signame', [str], ' ', 'blocksize', False, False]))])\n",
    "    \n",
    "\n",
    "segfields = OrderedDict([('segname', WFDBfield(['segname', [str], '', None, True, True])),\n",
    "                         ('seglen', WFDBfield(['seglen', [int], ' ', 'segname', True, True]))])\n",
    "\n",
    "comfields = OrderedDict([('comments', WFDBfield(['comments', [int], '', None, False, False]))])\n",
    "\n"
   ]
  },
  {
   "cell_type": "code",
   "execution_count": 30,
   "metadata": {
    "collapsed": false
   },
   "outputs": [
    {
     "name": "stdout",
     "output_type": "stream",
     "text": [
      "height\n",
      "weight\n",
      "age\n"
     ]
    }
   ],
   "source": [
    "from collections import OrderedDict\n",
    "fields = OrderedDict([('height', 170), ('weight', 70), ('age', 20)])\n",
    "\n",
    "for f in fields:\n",
    "    print(f)"
   ]
  },
  {
   "cell_type": "code",
   "execution_count": 24,
   "metadata": {
    "collapsed": false
   },
   "outputs": [
    {
     "data": {
      "text/plain": [
       "99"
      ]
     },
     "execution_count": 24,
     "metadata": {},
     "output_type": "execute_result"
    }
   ],
   "source": [
    "import numpy as np\n",
    "\n",
    "x=np.array([[1,3],[99,20],[8,8]])\n",
    "y=x[:,0]\n",
    "y.sort()\n",
    "abs(np.diff(y))\n",
    "max(y)"
   ]
  },
  {
   "cell_type": "code",
   "execution_count": 35,
   "metadata": {
    "collapsed": false
   },
   "outputs": [
    {
     "name": "stdout",
     "output_type": "stream",
     "text": [
      "age\n",
      "height\n",
      "weight\n"
     ]
    }
   ],
   "source": [
    "from collections import OrderedDict\n",
    "fields = OrderedDict({'height': 170, 'weight': 70, 'age': 20})\n",
    "\n",
    "for f in fields:\n",
    "    print(f)"
   ]
  },
  {
   "cell_type": "code",
   "execution_count": 7,
   "metadata": {
    "collapsed": false
   },
   "outputs": [
    {
     "name": "stdout",
     "output_type": "stream",
     "text": [
      "weight\n",
      "height\n",
      "age\n"
     ]
    }
   ],
   "source": [
    "fields = {'height': 170, 'weight': 70, 'age': 20}\n",
    "\n",
    "for i in reversed(list(fields)):\n",
    "    print(i)"
   ]
  },
  {
   "cell_type": "code",
   "execution_count": 38,
   "metadata": {
    "collapsed": false
   },
   "outputs": [
    {
     "name": "stdout",
     "output_type": "stream",
     "text": [
      "[         2          4          8         16         32         64\n",
      "        128        256        512       1024       2048       4096\n",
      "       8192      16384      32768      65536     131072     262144\n",
      "     524288    1048576    2097152    4194304    8388608   16777216\n",
      "   33554432   67108864  134217728  268435456  536870912 1073741824\n",
      " 2147483648 4294967296]\n"
     ]
    },
    {
     "data": {
      "text/plain": [
       "13"
      ]
     },
     "execution_count": 38,
     "metadata": {},
     "output_type": "execute_result"
    }
   ],
   "source": [
    "bitlevels=np.power(2, np.array(range(1, 33)))\n",
    "\n",
    "nlevels=13000\n",
    "\n",
    "bitlevels<nlevels\n",
    "print(bitlevels)\n",
    "np.argmax(bitlevels>13000)"
   ]
  },
  {
   "cell_type": "code",
   "execution_count": 4,
   "metadata": {
    "collapsed": false
   },
   "outputs": [
    {
     "data": {
      "text/plain": [
       "{'age': [], 'height': [], 'weight': []}"
      ]
     },
     "execution_count": 4,
     "metadata": {},
     "output_type": "execute_result"
    }
   ],
   "source": [
    "WFDBfields = ['height', 'weight', 'age']\n",
    "\n",
    "final = dict.fromkeys(WFDBfields, [])\n",
    "final"
   ]
  },
  {
   "cell_type": "code",
   "execution_count": 18,
   "metadata": {
    "collapsed": false
   },
   "outputs": [
    {
     "name": "stdout",
     "output_type": "stream",
     "text": [
      "Help on built-in function fromkeys:\n",
      "\n",
      "fromkeys(iterable, value=None, /) method of builtins.type instance\n",
      "    Returns a new dict with keys from iterable and values equal to value.\n",
      "\n"
     ]
    }
   ],
   "source": [
    "help(dict.fromkeys)"
   ]
  },
  {
   "cell_type": "code",
   "execution_count": 5,
   "metadata": {
    "collapsed": false
   },
   "outputs": [
    {
     "name": "stdout",
     "output_type": "stream",
     "text": [
      "age\n",
      "weight\n",
      "height\n"
     ]
    }
   ],
   "source": [
    "for i in reversed(WFDBfields):\n",
    "    print(i)"
   ]
  },
  {
   "cell_type": "code",
   "execution_count": 57,
   "metadata": {
    "collapsed": false
   },
   "outputs": [],
   "source": [
    "a=[{'recname': 'wave1'},{'siglen': 500},{'fs': 125}]"
   ]
  },
  {
   "cell_type": "code",
   "execution_count": 1,
   "metadata": {
    "collapsed": false
   },
   "outputs": [],
   "source": [
    "# A field of the WFDB header file\n",
    "from collections import OrderedDict\n",
    "\n",
    "class WFDBfield():\n",
    "    \n",
    "    def __init__(self, speclist):\n",
    "        # Name\n",
    "        self.name = speclist[0] \n",
    "        \n",
    "        # Data types the field can take\n",
    "        self.allowedtypes = speclist[1]\n",
    "        \n",
    "        # The text delimiter that preceeds the field\n",
    "        self.delimiter = speclist[2]\n",
    "        \n",
    "        # The required/dependent field which must also be present\n",
    "        self.field_req = speclist[3]\n",
    "\n",
    "        # Whether the field is mandatory specified by the WFDB guidelines\n",
    "        self.is_req = speclist[4]\n",
    "        \n",
    "        # Whether the field is mandatory for writing (extra rules enforced by this library).\n",
    "        # Being required for writing is not the same as the user having to specify. There are defaults. \n",
    "        self.write_req = speclist[5]"
   ]
  },
  {
   "cell_type": "code",
   "execution_count": 67,
   "metadata": {
    "collapsed": false
   },
   "outputs": [],
   "source": [
    "# 1. Record specification fields\n",
    "recfields = OrderedDict([('recordname', WFDBfield(['recordname', [str], '', None, True, True, None])),\n",
    "                         ('nseg', WFDBfield(['nseg', [int], '/', 'recordname', False, False, None])),\n",
    "                         ('nsig', WFDBfield(['nsig', [int], ' ', 'recordname', True, True, None])),\n",
    "                         ('fs', WFDBfield(['fs', [int, float], ' ', 'nsig', False, True, None])),\n",
    "                         ('counterfreq', WFDBfield(['counterfreq', [int, float], '/', 'fs', False, False, None])),\n",
    "                         ('basecounter', WFDBfield(['basecounter', [int, float], '(', 'counterfreq', False, False, None])),\n",
    "                         ('siglen', WFDBfield(['siglen', [int], ' ', 'fs', False, True, None])),\n",
    "                         ('basetime', WFDBfield(['basetime', [str], ' ', 'siglen', False, False, None])),\n",
    "                         ('basedate', WFDBfield(['basedate', [str], ' ', 'basetime', False, False, None]))])\n",
    "    \n",
    "# 2. Signal specification fields\n",
    "sigfields = OrderedDict([('filename', WFDBfield(['filename', [str], '', None, True, True, None])),\n",
    "                         ('fmt', WFDBfield(['fmt', [int, str], ' ', 'filename', True, True, None])),\n",
    "                         ('sampsperframe', WFDBfield(['sampsperframe', [int], 'x', 'fmt', False, False])),\n",
    "                         ('skew', WFDBfield(['skew', [int], ':', 'fmt', False, False])),\n",
    "                         ('byteoffset', WFDBfield(['byteoffset', [int], '+', 'fmt', False, False])),\n",
    "                         ('adcgain', WFDBfield(['adcgain', [int], ' ', 'fmt', False, False])),\n",
    "                         ('baseline', WFDBfield(['baseline', [int], '(', 'adcgain', False, False])),\n",
    "                         ('units', WFDBfield(['units', [str], '/', 'adcgain', False, False])),\n",
    "                         ('adcres', WFDBfield(['adcres', [int], ' ', 'adcgain', False, False])),\n",
    "                         ('adczero', WFDBfield(['adczero', [int], ' ', 'adcres', False, False])),\n",
    "                         ('initvalue', WFDBfield(['initvalue', [int], ' ', 'adczero', False, False])),\n",
    "                         ('checksum', WFDBfield(['checksum', [int], ' ', 'initvalue', False, False])),\n",
    "                         ('blocksize', WFDBfield(['blocksize', [int], ' ', 'checksum', False, False])),\n",
    "                         ('signame', WFDBfield(['signame', [str], ' ', 'blocksize', False, False]))])\n",
    "    \n",
    "# 3. Segment specification fields\n",
    "segfields = OrderedDict([('segname', WFDBfield(['segname', [str], '', None, True, True])),\n",
    "                         ('seglen', WFDBfield(['seglen', [int], ' ', 'segname', True, True]))])\n",
    "    \n",
    "# 4. Comment fields\n",
    "comfields = OrderedDict([('comments', WFDBfield(['comments', [int], '', None, False, False]))])\n"
   ]
  },
  {
   "cell_type": "code",
   "execution_count": 69,
   "metadata": {
    "collapsed": false
   },
   "outputs": [
    {
     "data": {
      "text/plain": [
       "[OrderedDict([('recordname', <__main__.WFDBfield at 0x7fcc74397cf8>),\n",
       "              ('nseg', <__main__.WFDBfield at 0x7fcc74397d30>),\n",
       "              ('nsig', <__main__.WFDBfield at 0x7fcc74397d68>),\n",
       "              ('fs', <__main__.WFDBfield at 0x7fcc74397da0>),\n",
       "              ('counterfreq', <__main__.WFDBfield at 0x7fcc74397dd8>),\n",
       "              ('basecounter', <__main__.WFDBfield at 0x7fcc74397e10>),\n",
       "              ('siglen', <__main__.WFDBfield at 0x7fcc74397e48>),\n",
       "              ('basetime', <__main__.WFDBfield at 0x7fcc74397e80>),\n",
       "              ('basedate', <__main__.WFDBfield at 0x7fcc74397eb8>)]),\n",
       " OrderedDict([('filename', <__main__.WFDBfield at 0x7fcc74397cc0>),\n",
       "              ('fmt', <__main__.WFDBfield at 0x7fcc74397c88>),\n",
       "              ('sampsperframe', <__main__.WFDBfield at 0x7fcc74397f28>),\n",
       "              ('skew', <__main__.WFDBfield at 0x7fcc74397f60>),\n",
       "              ('byteoffset', <__main__.WFDBfield at 0x7fcc74397f98>),\n",
       "              ('adcgain', <__main__.WFDBfield at 0x7fcc74397fd0>),\n",
       "              ('baseline', <__main__.WFDBfield at 0x7fcc7438f048>),\n",
       "              ('units', <__main__.WFDBfield at 0x7fcc7438f080>),\n",
       "              ('adcres', <__main__.WFDBfield at 0x7fcc7438f0b8>),\n",
       "              ('adczero', <__main__.WFDBfield at 0x7fcc7438f0f0>),\n",
       "              ('initvalue', <__main__.WFDBfield at 0x7fcc7438f128>),\n",
       "              ('checksum', <__main__.WFDBfield at 0x7fcc7438f160>),\n",
       "              ('blocksize', <__main__.WFDBfield at 0x7fcc7438f198>),\n",
       "              ('signame', <__main__.WFDBfield at 0x7fcc7438f1d0>)]),\n",
       " OrderedDict([('segname', <__main__.WFDBfield at 0x7fcc74397ef0>),\n",
       "              ('seglen', <__main__.WFDBfield at 0x7fcc7438f240>)]),\n",
       " OrderedDict([('comments', <__main__.WFDBfield at 0x7fcc7438f208>)])]"
      ]
     },
     "execution_count": 69,
     "metadata": {},
     "output_type": "execute_result"
    }
   ],
   "source": [
    "WFDBfields=[recfields, sigfields, segfields, comfields]\n",
    "\n",
    "[f for f in WFDBfields]"
   ]
  },
  {
   "cell_type": "code",
   "execution_count": 3,
   "metadata": {
    "collapsed": false
   },
   "outputs": [],
   "source": [
    "f2=WFDBfields[1]"
   ]
  },
  {
   "cell_type": "code",
   "execution_count": 7,
   "metadata": {
    "collapsed": false
   },
   "outputs": [],
   "source": [
    "f3=f1.copy()\n",
    "f3.update(f2)"
   ]
  },
  {
   "cell_type": "code",
   "execution_count": 71,
   "metadata": {
    "collapsed": false
   },
   "outputs": [
    {
     "ename": "SystemExit",
     "evalue": "Missing input fields['nseg'] for writing multi-segment header.\nFor writing regular single segment headers, use the 'wrheader' function.",
     "output_type": "error",
     "traceback": [
      "An exception has occurred, use %tb to see the full traceback.\n",
      "\u001b[1;31mSystemExit\u001b[0m\u001b[1;31m:\u001b[0m Missing input fields['nseg'] for writing multi-segment header.\nFor writing regular single segment headers, use the 'wrheader' function.\n"
     ]
    },
    {
     "name": "stderr",
     "output_type": "stream",
     "text": [
      "To exit: use 'exit', 'quit', or Ctrl-D.\n"
     ]
    }
   ],
   "source": [
    "import sys\n",
    "sys.exit(\"Missing input fields['nseg'] for writing multi-segment header.\\nFor writing regular single segment headers, use the 'wrheader' function.\")"
   ]
  },
  {
   "cell_type": "code",
   "execution_count": 35,
   "metadata": {
    "collapsed": false
   },
   "outputs": [],
   "source": [
    "# 1. Record specification fields\n",
    "recfields = OrderedDict([('recordname', WFDBfield(['recordname', [str], '', None, True, True, None])),\n",
    "                         ('nseg', WFDBfield(['nseg', [int], '/', 'recordname', False, False, None])),\n",
    "                         ('nsig', WFDBfield(['nsig', [int], ' ', 'recordname', True, True, None])),\n",
    "                         ('fs', WFDBfield(['fs', [int, float], ' ', 'nsig', False, True, None])),\n",
    "                         ('counterfreq', WFDBfield(['counterfreq', [int, float], '/', 'fs', False, False, None])),\n",
    "                         ('basecounter', WFDBfield(['basecounter', [int, float], '(', 'counterfreq', False, False, None])),\n",
    "                         ('siglen', WFDBfield(['siglen', [int], ' ', 'fs', False, True, None])),\n",
    "                         ('basetime', WFDBfield(['basetime', [str], ' ', 'siglen', False, False, None])),\n",
    "                         ('basedate', WFDBfield(['basedate', [str], ' ', 'basetime', False, False, None]))])\n",
    "    \n",
    "# 2. Signal specification fields\n",
    "sigfields = OrderedDict([('filename', WFDBfield(['filename', [str], '', None, True, True, None])),\n",
    "                         ('fmt', WFDBfield(['fmt', [int, str], ' ', 'filename', True, True, None])),\n",
    "                         ('sampsperframe', WFDBfield(['sampsperframe', [int], 'x', 'fmt', False, False])),\n",
    "                         ('skew', WFDBfield(['skew', [int], ':', 'fmt', False, False])),\n",
    "                         ('byteoffset', WFDBfield(['byteoffset', [int], '+', 'fmt', False, False])),\n",
    "                         ('adcgain', WFDBfield(['adcgain', [int], ' ', 'fmt', False, False])),\n",
    "                         ('baseline', WFDBfield(['baseline', [int], '(', 'adcgain', False, False])),\n",
    "                         ('units', WFDBfield(['units', [str], '/', 'adcgain', False, False])),\n",
    "                         ('adcres', WFDBfield(['adcres', [int], ' ', 'adcgain', False, False])),\n",
    "                         ('adczero', WFDBfield(['adczero', [int], ' ', 'adcres', False, False])),\n",
    "                         ('initvalue', WFDBfield(['initvalue', [int], ' ', 'adczero', False, False])),\n",
    "                         ('checksum', WFDBfield(['checksum', [int], ' ', 'initvalue', False, False])),\n",
    "                         ('blocksize', WFDBfield(['blocksize', [int], ' ', 'checksum', False, False])),\n",
    "                         ('signame', WFDBfield(['signame', [str], ' ', 'blocksize', False, False]))])\n",
    "    \n",
    "# 3. Segment specification fields\n",
    "segfields = OrderedDict([('segname', WFDBfield(['segname', [str], '', None, True, True])),\n",
    "                         ('seglen', WFDBfield(['seglen', [int], ' ', 'segname', True, True]))])\n",
    "    \n",
    "# 4. Comment fields\n",
    "comfields = OrderedDict([('comments', WFDBfield(['comments', [int], '', None, False, False]))])"
   ]
  },
  {
   "cell_type": "code",
   "execution_count": 57,
   "metadata": {
    "collapsed": false
   },
   "outputs": [],
   "source": [
    "reqfields=OrderedDict()\n",
    "for k, v in sigfields.items():\n",
    "    if v.write_req:\n",
    "        reqfields.update(OrderedDict([(k,v)]))\n"
   ]
  },
  {
   "cell_type": "code",
   "execution_count": 58,
   "metadata": {
    "collapsed": false
   },
   "outputs": [
    {
     "data": {
      "text/plain": [
       "OrderedDict([('filename', <__main__.WFDBfield at 0x7fcc743852b0>),\n",
       "             ('fmt', <__main__.WFDBfield at 0x7fcc743852e8>)])"
      ]
     },
     "execution_count": 58,
     "metadata": {},
     "output_type": "execute_result"
    }
   ],
   "source": [
    "reqfields"
   ]
  },
  {
   "cell_type": "code",
   "execution_count": null,
   "metadata": {
    "collapsed": true
   },
   "outputs": [],
   "source": [
    "d={1:4, 2:5}"
   ]
  },
  {
   "cell_type": "code",
   "execution_count": 87,
   "metadata": {
    "collapsed": false
   },
   "outputs": [],
   "source": []
  },
  {
   "cell_type": "code",
   "execution_count": 88,
   "metadata": {
    "collapsed": false
   },
   "outputs": [
    {
     "name": "stdout",
     "output_type": "stream",
     "text": [
      "{1: 'a', 2: 'zzzz', 3: 'HP', 'NOTNUM': '99'}\n",
      "99\n"
     ]
    }
   ],
   "source": [
    "x = [1, 2, 3, 'NOTNUM']\n",
    "y = ['a', 'zzzz', 'HP', '99']\n",
    "\n",
    "d={}\n",
    "\n",
    "for i in range(0,len(x)):\n",
    "    d[x[i]]=y[i]\n",
    "    \n",
    "print(d)\n",
    "print(d['NOTNUM'])\n",
    "\n"
   ]
  },
  {
   "cell_type": "code",
   "execution_count": 61,
   "metadata": {
    "collapsed": false
   },
   "outputs": [
    {
     "data": {
      "text/plain": [
       "{'city': 'London', 'population': 15}"
      ]
     },
     "execution_count": 61,
     "metadata": {},
     "output_type": "execute_result"
    }
   ],
   "source": [
    "d1={'city': 'London', 'population': 15}\n",
    "\n",
    "\n",
    "d1"
   ]
  },
  {
   "cell_type": "code",
   "execution_count": 102,
   "metadata": {
    "collapsed": false
   },
   "outputs": [
    {
     "name": "stdout",
     "output_type": "stream",
     "text": [
      "{'c': 'PPP', 'b': 2, 'a': 1, 9: 3}\n",
      "3\n"
     ]
    }
   ],
   "source": [
    "keys = ['a', 'b', 9,  'c']\n",
    "values = [1, 2, 3, 'PPP']\n",
    "d = dict(zip(keys, values))\n",
    "\n",
    "print(d)\n",
    "print(d[9])"
   ]
  },
  {
   "cell_type": "code",
   "execution_count": 1,
   "metadata": {
    "collapsed": false
   },
   "outputs": [
    {
     "ename": "NameError",
     "evalue": "name 'qq' is not defined",
     "output_type": "error",
     "traceback": [
      "\u001b[0;31m---------------------------------------------------------------------------\u001b[0m",
      "\u001b[0;31mNameError\u001b[0m                                 Traceback (most recent call last)",
      "\u001b[0;32m<ipython-input-1-380af30cfb03>\u001b[0m in \u001b[0;36m<module>\u001b[0;34m()\u001b[0m\n\u001b[0;32m----> 1\u001b[0;31m \u001b[0mqq\u001b[0m\u001b[0;34m.\u001b[0m\u001b[0mappend\u001b[0m\u001b[0;34m(\u001b[0m\u001b[0;36m50\u001b[0m\u001b[0;34m)\u001b[0m\u001b[0;34m\u001b[0m\u001b[0m\n\u001b[0m\u001b[1;32m      2\u001b[0m \u001b[0mqq\u001b[0m\u001b[0;34m\u001b[0m\u001b[0m\n",
      "\u001b[0;31mNameError\u001b[0m: name 'qq' is not defined"
     ]
    }
   ],
   "source": [
    "qq.append(50)\n",
    "qq"
   ]
  },
  {
   "cell_type": "code",
   "execution_count": null,
   "metadata": {
    "collapsed": true
   },
   "outputs": [],
   "source": []
  }
 ],
 "metadata": {
  "kernelspec": {
   "display_name": "Python 3",
   "language": "python",
   "name": "python3"
  },
  "language_info": {
   "codemirror_mode": {
    "name": "ipython",
    "version": 3
   },
   "file_extension": ".py",
   "mimetype": "text/x-python",
   "name": "python",
   "nbconvert_exporter": "python",
   "pygments_lexer": "ipython3",
   "version": "3.5.2"
  }
 },
 "nbformat": 4,
 "nbformat_minor": 0
}
