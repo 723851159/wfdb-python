{
 "cells": [
  {
   "cell_type": "code",
   "execution_count": null,
   "metadata": {
    "collapsed": true
   },
   "outputs": [],
   "source": [
    "# The preliminary notebook for testing/developing wrsamp. Will delete before merging. "
   ]
  },
  {
   "cell_type": "code",
   "execution_count": 30,
   "metadata": {
    "collapsed": false
   },
   "outputs": [
    {
     "name": "stdout",
     "output_type": "stream",
     "text": [
      "height\n",
      "weight\n",
      "age\n"
     ]
    }
   ],
   "source": [
    "from collections import OrderedDict\n",
    "fields = OrderedDict([('height', 170), ('weight', 70), ('age', 20)])\n",
    "\n",
    "for f in fields:\n",
    "    print(f)"
   ]
  },
  {
   "cell_type": "code",
   "execution_count": null,
   "metadata": {
    "collapsed": false
   },
   "outputs": [],
   "source": []
  },
  {
   "cell_type": "code",
   "execution_count": 35,
   "metadata": {
    "collapsed": false
   },
   "outputs": [
    {
     "name": "stdout",
     "output_type": "stream",
     "text": [
      "age\n",
      "height\n",
      "weight\n"
     ]
    }
   ],
   "source": [
    "from collections import OrderedDict\n",
    "fields = OrderedDict({'height': 170, 'weight': 70, 'age': 20})\n",
    "\n",
    "for f in fields:\n",
    "    print(f)"
   ]
  },
  {
   "cell_type": "code",
   "execution_count": 37,
   "metadata": {
    "collapsed": false
   },
   "outputs": [
    {
     "name": "stdout",
     "output_type": "stream",
     "text": [
      "signame\n",
      "checksum\n",
      "blocksize\n",
      "checksum\n",
      "checksum\n",
      "initvalue\n",
      "initvalue\n",
      "adczero\n",
      "adczero\n",
      "adcres\n",
      "adcres\n",
      "adcgain\n",
      "units\n",
      "adcgain\n",
      "baseline\n",
      "adcgain\n",
      "adcgain\n",
      "fmt\n",
      "byteoffset\n",
      "fmt\n",
      "skew\n",
      "fmt\n",
      "sampsperframe\n",
      "fmt\n"
     ]
    }
   ],
   "source": [
    "dependencies = OrderedDict([('signame', 'checksum'),\n",
    "                                ('blocksize', 'checksum'),\n",
    "                                ('checksum', 'initvalue'),\n",
    "                                ('initvalue', 'adczero'),\n",
    "                                ('adczero', 'adcres'),\n",
    "                                ('adcres', 'adcgain'),\n",
    "                                ('units', 'adcgain'),\n",
    "                                ('baseline', 'adcgain'),\n",
    "                                ('adcgain', 'fmt'),\n",
    "                                ('byteoffset', 'fmt'),\n",
    "                                ('skew', 'fmt'),\n",
    "                                ('sampsperframe', 'fmt')\n",
    "                               ])\n",
    "\n",
    "for d in dependencies:\n",
    "    print(d)\n",
    "    print(dependencies[d])"
   ]
  },
  {
   "cell_type": "code",
   "execution_count": 7,
   "metadata": {
    "collapsed": false
   },
   "outputs": [
    {
     "name": "stdout",
     "output_type": "stream",
     "text": [
      "weight\n",
      "height\n",
      "age\n"
     ]
    }
   ],
   "source": [
    "fields = {'height': 170, 'weight': 70, 'age': 20}\n",
    "\n",
    "for i in reversed(list(fields)):\n",
    "    print(i)"
   ]
  },
  {
   "cell_type": "code",
   "execution_count": 17,
   "metadata": {
    "collapsed": false
   },
   "outputs": [
    {
     "ename": "SyntaxError",
     "evalue": "invalid syntax (<ipython-input-17-8c8a4646591e>, line 1)",
     "output_type": "error",
     "traceback": [
      "\u001b[1;36m  File \u001b[1;32m\"<ipython-input-17-8c8a4646591e>\"\u001b[1;36m, line \u001b[1;32m1\u001b[0m\n\u001b[1;33m    lambda\u001b[0m\n\u001b[1;37m          ^\u001b[0m\n\u001b[1;31mSyntaxError\u001b[0m\u001b[1;31m:\u001b[0m invalid syntax\n"
     ]
    }
   ],
   "source": []
  },
  {
   "cell_type": "code",
   "execution_count": 48,
   "metadata": {
    "collapsed": false
   },
   "outputs": [],
   "source": [
    "import numpy as np\n",
    "a=np.zeros([10,3])\n",
    "m, n = np.shape(a)\n"
   ]
  },
  {
   "cell_type": "code",
   "execution_count": 4,
   "metadata": {
    "collapsed": false
   },
   "outputs": [
    {
     "data": {
      "text/plain": [
       "{'age': [], 'height': [], 'weight': []}"
      ]
     },
     "execution_count": 4,
     "metadata": {},
     "output_type": "execute_result"
    }
   ],
   "source": [
    "WFDBfields = ['height', 'weight', 'age']\n",
    "\n",
    "final = dict.fromkeys(WFDBfields, [])\n",
    "final"
   ]
  },
  {
   "cell_type": "code",
   "execution_count": 18,
   "metadata": {
    "collapsed": false
   },
   "outputs": [
    {
     "name": "stdout",
     "output_type": "stream",
     "text": [
      "Help on built-in function fromkeys:\n",
      "\n",
      "fromkeys(iterable, value=None, /) method of builtins.type instance\n",
      "    Returns a new dict with keys from iterable and values equal to value.\n",
      "\n"
     ]
    }
   ],
   "source": [
    "help(dict.fromkeys)"
   ]
  },
  {
   "cell_type": "code",
   "execution_count": 20,
   "metadata": {
    "collapsed": false
   },
   "outputs": [
    {
     "name": "stdout",
     "output_type": "stream",
     "text": [
      "age\n",
      "weight\n",
      "height\n"
     ]
    }
   ],
   "source": [
    "for i in final:\n",
    "    print(i)"
   ]
  },
  {
   "cell_type": "code",
   "execution_count": 49,
   "metadata": {
    "collapsed": false
   },
   "outputs": [
    {
     "name": "stdout",
     "output_type": "stream",
     "text": [
      "he\n"
     ]
    }
   ],
   "source": [
    "if np.shape(a) == (10, 3):\n",
    "    print('he')"
   ]
  },
  {
   "cell_type": "code",
   "execution_count": 5,
   "metadata": {
    "collapsed": false
   },
   "outputs": [
    {
     "name": "stdout",
     "output_type": "stream",
     "text": [
      "age\n",
      "weight\n",
      "height\n"
     ]
    }
   ],
   "source": [
    "for i in reversed(WFDBfields):\n",
    "    print(i)"
   ]
  },
  {
   "cell_type": "code",
   "execution_count": 43,
   "metadata": {
    "collapsed": false
   },
   "outputs": [
    {
     "name": "stdout",
     "output_type": "stream",
     "text": [
      "ya\n"
     ]
    }
   ],
   "source": [
    "if type('hi') == str:\n",
    "    print('ya')"
   ]
  },
  {
   "cell_type": "code",
   "execution_count": 54,
   "metadata": {
    "collapsed": false
   },
   "outputs": [
    {
     "data": {
      "text/plain": [
       "[False, True, False]"
      ]
     },
     "execution_count": 54,
     "metadata": {},
     "output_type": "execute_result"
    }
   ],
   "source": [
    "import numbers\n",
    "\n",
    "[isinstance(i, str) for i in [1,'hello',3]]"
   ]
  },
  {
   "cell_type": "code",
   "execution_count": 57,
   "metadata": {
    "collapsed": false
   },
   "outputs": [],
   "source": [
    "a=[{'recname': 'wave1'},{'siglen': 500},{'fs': 125}]"
   ]
  },
  {
   "cell_type": "code",
   "execution_count": 62,
   "metadata": {
    "collapsed": false
   },
   "outputs": [
    {
     "data": {
      "text/plain": [
       "[dict_keys(['recname']), dict_keys(['siglen']), dict_keys(['fs'])]"
      ]
     },
     "execution_count": 62,
     "metadata": {},
     "output_type": "execute_result"
    }
   ],
   "source": [
    "b=[i.keys() for i in a]\n",
    "b"
   ]
  },
  {
   "cell_type": "code",
   "execution_count": 66,
   "metadata": {
    "collapsed": false
   },
   "outputs": [],
   "source": [
    "class athlete():\n",
    "    \n",
    "    def __init__(self, inlist):\n",
    "        self.name=inlist[0]\n",
    "        self.height = inlist[1]\n",
    "        self.salary = inlist[2]\n",
    "        \n",
    "a=athlete(['Lebron', 199, '10m'])\n",
    "b=athlete(['Brady', 190, '11m'])\n",
    "c=athlete(['Gretzky', 188, '9m'])"
   ]
  },
  {
   "cell_type": "code",
   "execution_count": 73,
   "metadata": {
    "collapsed": false
   },
   "outputs": [],
   "source": [
    "# A field of the WFDB header file\n",
    "class WFDBfield():\n",
    "    \n",
    "    def __init__(self, speclist):\n",
    "        # Name\n",
    "        self.name = speclist[0] \n",
    "        \n",
    "        # Data types the field can take\n",
    "        self.allowedtypes = speclist[1]\n",
    "        \n",
    "        # The text delimiter that preceeds the field\n",
    "        self.delimiter = speclist[2]\n",
    "        \n",
    "        # The required/dependent field which must also be present\n",
    "        self.field_req = speclist[3]\n",
    "\n",
    "        # Whether the field is mandatory specified by the WFDB guidelines\n",
    "        self.is_req = speclist[4]\n",
    "        \n",
    "        # Whether the field is mandatory for writing (extra rules enforced by this library).\n",
    "        # Being required for writing is not the same as the user having to specify. There are defaults. \n",
    "        self.write_req = speclist[5]"
   ]
  },
  {
   "cell_type": "code",
   "execution_count": 85,
   "metadata": {
    "collapsed": false
   },
   "outputs": [],
   "source": [
    "WFDBfields = [\n",
    "    \n",
    "    # record specification fields\n",
    "    OrderedDict([('recordname', WFDBfield(['recordname', [str], '', None, True, True])),\n",
    "                 ('nseg', WFDBfield(['nseg', [int], '/', 'recordname', False, False])),\n",
    "                 ('nsig', WFDBfield(['nsig', [int], ' ', 'recordname', True, True])),\n",
    "                 ('fs', WFDBfield(['fs', [int, float], ' ', 'nsig', False, True])),\n",
    "                 ('counterfreq', WFDBfield(['counterfreq', [int, float], '/', 'fs', False, False])),\n",
    "                 ('basecounter', WFDBfield(['basecounter', [int, float], '(', 'counterfreq', False, False])),\n",
    "                 ('siglen', WFDBfield(['siglen', [int], ' ', 'fs', False, True])),\n",
    "                 ('basetime', WFDBfield(['basetime', [str], ' ', 'siglen', False, False])),\n",
    "                 ('basedate', WFDBfield(['basedate', [str], ' ', 'basetime', False, False]))]),\n",
    "    \n",
    "    # signal specification fields\n",
    "    OrderedDict([('filename', WFDBfield(['filename', [str], '', None, True, True])),\n",
    "                 ('fmt', WFDBfield(['fmt', [int, str], ' ', 'filename', True, True])),\n",
    "                 ('sampsperframe', WFDBfield(['sampsperframe', [int], 'x', 'fmt', False, False])),\n",
    "                 ('skew', WFDBfield(['skew', [int], ':', 'fmt', False, False])),\n",
    "                 ('byteoffset', WFDBfield(['byteoffset', [int], '+', 'fmt', False, False])),\n",
    "                 ('adcgain', WFDBfield(['adcgain', [int], ' ', 'fmt', False, False])),\n",
    "                 ('baseline', WFDBfield(['baseline', [int], '(', 'adcgain', False, False])),\n",
    "                 ('units', WFDBfield(['units', [str], '/', 'adcgain', False, False])),\n",
    "                 ('adcres', WFDBfield(['adcres', [int], ' ', 'adcgain', False, False])),\n",
    "                 ('adczero', WFDBfield(['adczero', [int], ' ', 'adcres', False, False])),\n",
    "                 ('initvalue', WFDBfield(['initvalue', [int], ' ', 'adczero', False, False])),\n",
    "                 ('checksum', WFDBfield(['checksum', [int], ' ', 'initvalue', False, False])),\n",
    "                 ('blocksize', WFDBfield(['blocksize', [int], ' ', 'checksum', False, False])),\n",
    "                 ('signame', WFDBfield(['signame', [str], ' ', 'blocksize', False, False]))]),\n",
    "    \n",
    "    # segment specification fields\n",
    "    OrderedDict([('segname', WFDBfield(['segname', [str], '', None, True, True])),\n",
    "                 ('seglen', WFDBfield(['seglen', [int], ' ', 'segname', True, True]))]),\n",
    "    \n",
    "    # comment fields\n",
    "    OrderedDict([('comments', WFDBfield(['comments', [int], '', None, False, False]))])\n",
    "]"
   ]
  },
  {
   "cell_type": "code",
   "execution_count": 86,
   "metadata": {
    "collapsed": false
   },
   "outputs": [],
   "source": [
    "f1=WFDBfields[0]"
   ]
  },
  {
   "cell_type": "code",
   "execution_count": 101,
   "metadata": {
    "collapsed": false
   },
   "outputs": [
    {
     "ename": "TypeError",
     "evalue": "'odict_values' object is not subscriptable",
     "output_type": "error",
     "traceback": [
      "\u001b[1;31m---------------------------------------------------------------------------\u001b[0m",
      "\u001b[1;31mTypeError\u001b[0m                                 Traceback (most recent call last)",
      "\u001b[1;32m<ipython-input-101-0501c15ad867>\u001b[0m in \u001b[0;36m<module>\u001b[1;34m()\u001b[0m\n\u001b[1;32m----> 1\u001b[1;33m \u001b[0mf1\u001b[0m\u001b[1;33m.\u001b[0m\u001b[0mvalues\u001b[0m\u001b[1;33m(\u001b[0m\u001b[1;33m)\u001b[0m\u001b[1;33m[\u001b[0m\u001b[1;34m'filename'\u001b[0m\u001b[1;33m]\u001b[0m\u001b[1;33m\u001b[0m\u001b[0m\n\u001b[0m",
      "\u001b[1;31mTypeError\u001b[0m: 'odict_values' object is not subscriptable"
     ]
    }
   ],
   "source": [
    "f1.values()['filename']"
   ]
  },
  {
   "cell_type": "code",
   "execution_count": 88,
   "metadata": {
    "collapsed": false
   },
   "outputs": [],
   "source": [
    "a=[f for f in f1]"
   ]
  },
  {
   "cell_type": "code",
   "execution_count": 89,
   "metadata": {
    "collapsed": false
   },
   "outputs": [
    {
     "data": {
      "text/plain": [
       "['recordname',\n",
       " 'nseg',\n",
       " 'nsig',\n",
       " 'fs',\n",
       " 'counterfreq',\n",
       " 'basecounter',\n",
       " 'siglen',\n",
       " 'basetime',\n",
       " 'basedate']"
      ]
     },
     "execution_count": 89,
     "metadata": {},
     "output_type": "execute_result"
    }
   ],
   "source": [
    "a"
   ]
  },
  {
   "cell_type": "code",
   "execution_count": null,
   "metadata": {
    "collapsed": true
   },
   "outputs": [],
   "source": []
  }
 ],
 "metadata": {
  "kernelspec": {
   "display_name": "Python [Root]",
   "language": "python",
   "name": "Python [Root]"
  },
  "language_info": {
   "codemirror_mode": {
    "name": "ipython",
    "version": 3
   },
   "file_extension": ".py",
   "mimetype": "text/x-python",
   "name": "python",
   "nbconvert_exporter": "python",
   "pygments_lexer": "ipython3",
   "version": "3.5.2"
  }
 },
 "nbformat": 4,
 "nbformat_minor": 0
}
