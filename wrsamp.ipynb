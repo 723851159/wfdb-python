{
 "cells": [
  {
   "cell_type": "code",
   "execution_count": null,
   "metadata": {
    "collapsed": false
   },
   "outputs": [],
   "source": [
    "# 1. For reading:\n",
    "\n",
    "# a WFDBrecord object with signals == None.  \n",
    "\n",
    "item1 = rdheader('headername') # Function belongs to the module\n",
    "\n",
    "# a WFDBrecord object with signals != None unless it is a 0 channel file. \n",
    "item1 = rdsamp('recordname') # Function belongs to the module. \n",
    "\n",
    "# Module function\n",
    "def rdsamp(recordname):\n",
    "    item1 = rdheader(recordname)\n",
    "    item1.signals = rddats(item1.filenames)\n",
    "    return item1\n",
    "\n",
    "\n",
    "# Module function\n",
    "def rdheader(recordname):\n",
    "    f=open()\n",
    "    return WFDBrecord\n",
    "\n",
    "# Module function\n",
    "def rddats(filenames):\n",
    "    signals = np.fromfile(r)\n",
    "    return signals\n",
    "\n"
   ]
  },
  {
   "cell_type": "code",
   "execution_count": null,
   "metadata": {
    "collapsed": true
   },
   "outputs": [],
   "source": []
  },
  {
   "cell_type": "markdown",
   "metadata": {},
   "source": []
  },
  {
   "cell_type": "code",
   "execution_count": null,
   "metadata": {
    "collapsed": false
   },
   "outputs": [],
   "source": [
    "\n",
    "    \n",
    "# Write all the dat files for a record. \n",
    "# Method belongs to the WFDBrecord class. NOT a function of the module. Does check the signal.  \n",
    "def wrdats(self): # Don't need record names. The object fields specify. \n",
    "    \n",
    "    # Perform extra check of the signal itself in terms of its values for writing. \n",
    "    # Get the final digital values to write to the file. \n",
    "    digitalwritesigs = self.checkwritesignals()\n",
    "    \n",
    "    # Get a list of the dat files to be written and their formats\n",
    "    datfiles, datchannels = orderedsetlist(self.filename)\n",
    "    formats = orderedsetlist(self.fmt)[0]\n",
    "    \n",
    "    for i in range(0, len(datfiles)):\n",
    "        # To do: Consider multi samples per frame writing. \n",
    "        wrdatfile(datfiles[i], formats[i], self.signals[:,datchannels[i][0]:(datchannels[i][-1]+1)])\n",
    "    \n",
    "\n",
    "    \n",
    "\n",
    "\n",
    "\n",
    "\n",
    "    \n",
    "        \n",
    "\n",
    "  \n",
    "    \n",
    "\n",
    "\n",
    "    \n",
    "# Retrieve a copy of the wfdb signals field, either digital or physical. \n",
    "# Returned array will NOT be a reference to the same object.\n",
    "# Method of WFDBrecord\n",
    "def getsignalscopy(self, physical = 1)\n",
    "    \n",
    "    if not self.signals:\n",
    "        sys.exit('WFDBrecord has no signals')\n",
    "    \n",
    "    # Return the physical signals\n",
    "    if physical:\n",
    "        if self.p_signals != None:\n",
    "            return self.psignals.copy()\n",
    "        # Have to do dac\n",
    "        elif self.d_dignals != None:\n",
    "            return dac(self.d_signals)\n",
    "        else:\n",
    "            sys.exit('The WFDBrecord object contains neither p_signals nor d_signals')\n",
    "    # Return the digital signals\n",
    "    else:\n",
    "        if self.d_signals != None:\n",
    "            return self.dsignals.copy()\n",
    "        # Have to do adc\n",
    "        elif self.a_signals != None:\n",
    "            return adc(self.a_signals)\n",
    "        else:\n",
    "            sys.exit('The WFDBrecord object contains neither p_signals nor d_signals')\n",
    "\n",
    "\n",
    "# Merge the ordered dictionaries in a list into one ordered dictionary. \n",
    "def _mergeODlist(ODlist):\n",
    "    mergedOD=ODlist[0].copy()\n",
    "    for od in ODlist[1:]:\n",
    "        mergedOD.update(od)\n",
    "    return mergedOD\n",
    "                  \n",
    "\n",
    "            "
   ]
  },
  {
   "cell_type": "code",
   "execution_count": null,
   "metadata": {
    "collapsed": true
   },
   "outputs": [],
   "source": [
    "def orderedsetlist(fulllist):\n",
    "    uniquelist = []\n",
    "    original_inds = {}\n",
    "\n",
    "    for i in range(0, len(fulllist)):\n",
    "        item = fulllist[i]\n",
    "        # new item\n",
    "        if item not in uniquelist:\n",
    "            uniquelist.append(item)\n",
    "            original_inds[item] = [i]\n",
    "        # previously seen item\n",
    "        else:\n",
    "            original_inds[item].append(i)\n",
    "    return uniquelist, original_inds\n",
    "\n",
    "\n",
    "\n"
   ]
  },
  {
   "cell_type": "code",
   "execution_count": null,
   "metadata": {
    "collapsed": false
   },
   "outputs": [],
   "source": [
    "import numpy as np\n",
    "fname = ['100.dat','100.dat','100.xyz','100.abc']\n",
    "fmt = ['212','212','16','16']\n",
    "sig = np.zeros([50,4])\n",
    "sig[:,0] = 9\n",
    "sig[:,1] = 10\n",
    "sig[:,2:4] = 11\n",
    "\n",
    "filenames, datchannels = orderedsetlist(fname)\n"
   ]
  },
  {
   "cell_type": "code",
   "execution_count": null,
   "metadata": {
    "collapsed": false
   },
   "outputs": [],
   "source": [
    "print(filenames)\n",
    "print(datchannels)\n",
    "print(fmt)\n",
    "print(sig)\n",
    "\n"
   ]
  },
  {
   "cell_type": "code",
   "execution_count": null,
   "metadata": {
    "collapsed": false
   },
   "outputs": [],
   "source": [
    "for i in range(0, len(filenames)):\n",
    "    print(filenames[i]) \n",
    "    print(fmt[min(datchannels[filenames[i]])])\n",
    "    print(sig[:, min(datchannels[filenames[i]]):max(datchannels[filenames[i]])+1])"
   ]
  },
  {
   "cell_type": "code",
   "execution_count": null,
   "metadata": {
    "collapsed": false
   },
   "outputs": [],
   "source": [
    "datchannels[]"
   ]
  },
  {
   "cell_type": "code",
   "execution_count": null,
   "metadata": {
    "collapsed": true
   },
   "outputs": [],
   "source": [
    "\n",
    "# Write a dat file.\n",
    "def wrdatfile(filename, fmt, d_signals):\n",
    "    f=open(filename,'wb')\n",
    "    \n",
    "    # All bytes are written one at a time\n",
    "    # to avoid endianness issues.\n",
    "\n",
    "    nsig = d_signals.shape[1]\n",
    "\n",
    "    if fmt == '80':\n",
    "        # convert to 8 bit offset binary form\n",
    "        d_signals = d_signals + 128\n",
    "        # Convert to unsigned 8 bit dtype to write\n",
    "        bwrite = d_signals.astype('uint8')\n",
    "    \n",
    "    elif fmt == '16':\n",
    "        # convert to 16 bit two's complement \n",
    "        d_signals[d_signals<0] = d_signals[d_signals<0] + 65536\n",
    "        # Split samples into separate bytes using binary masks\n",
    "        b1 = signals & [255]*nsig\n",
    "        b2 = ( signals & [65280]*nsig ) >> 8\n",
    "        # Interweave the bytes so that the same samples' bytes are consecutive \n",
    "        b1 = b1.reshape((-1, 1))\n",
    "        b2 = b2.reshape((-1, 1))\n",
    "        bwrite = np.concatenate((b1, b2), axis=1)\n",
    "        bwrite = bwrite.reshape((1,-1))[0]\n",
    "        # Convert to unsigned 8 bit dtype to write\n",
    "        bwrite = bwrite.astype('uint8')\n",
    "\n",
    "    elif fmt == '24':\n",
    "        # convert to 24 bit two's complement \n",
    "        d_signals[d_signals<0] = d_signals[d_signals<0] + 16777216\n",
    "        # Split samples into separate bytes using binary masks\n",
    "        b1 = signals & [255]*nsig\n",
    "        b2 = ( signals & [65280]*nsig ) >> 8\n",
    "        b3 = ( signals & [16711680]*nsig ) >> 16\n",
    "        # Interweave the bytes so that the same samples' bytes are consecutive \n",
    "        b1 = b1.reshape((-1, 1))\n",
    "        b2 = b2.reshape((-1, 1))\n",
    "        b3 = b3.reshape((-1, 1))\n",
    "        bwrite = np.concatenate((b1, b2, b3), axis=1)\n",
    "        bwrite = bwrite.reshape((1,-1))[0]\n",
    "        # Convert to unsigned 8 bit dtype to write\n",
    "        bwrite = bwrite.astype('uint8')\n",
    "    \n",
    "    elif fmt == '32':\n",
    "        # convert to 32 bit two's complement \n",
    "        d_signals[d_signals<0] = d_signals[d_signals<0] + 4294967296\n",
    "        # Split samples into separate bytes using binary masks\n",
    "        b1 = signals & [255]*nsig\n",
    "        b2 = ( signals & [65280]*nsig ) >> 8\n",
    "        b3 = ( signals & [16711680]*nsig ) >> 16\n",
    "        b4 = ( signals & [4278190080]*nsig ) >> 24\n",
    "        # Interweave the bytes so that the same samples' bytes are consecutive \n",
    "        b1 = b1.reshape((-1, 1))\n",
    "        b2 = b2.reshape((-1, 1))\n",
    "        b3 = b3.reshape((-1, 1))\n",
    "        b4 = b4.reshape((-1, 1))\n",
    "        bwrite = np.concatenate((b1, b2, b3, b4), axis=1)\n",
    "        bwrite = bwrite.reshape((1,-1))[0]\n",
    "        # Convert to unsigned 8 bit dtype to write\n",
    "        bwrite = bwrite.astype('uint8')\n",
    "    else:\n",
    "        sys.exit('This library currently only supports the following formats: 80, 16, 24, 32')\n",
    "    # Write the file\n",
    "    bwrite.tofile(f)\n",
    "\n",
    "    f.close()"
   ]
  },
  {
   "cell_type": "code",
   "execution_count": null,
   "metadata": {
    "collapsed": false
   },
   "outputs": [],
   "source": [
    "# fmt 8\n",
    "signals8 = np.array([[1,20],[66, 127], [-1,-20], [-127, -128]])\n",
    "wrdatfile('test80.dat', '80', signals8)\n",
    "lines = ['test80 2 250 3', 'test80.dat 80 100(0)/mv', 'test80.dat 80 100(0)/mv', 'test80.dat 80 100(0)/mv', 'test80.dat 80 100(0)/mv']\n",
    "linestofile('test80.hea', lines)\n",
    "\n",
    "signals = np.array([[1,20],[10000, 20000], [-1,-20], [-10000, -20000]])\n",
    "# fmt 16\n",
    "wrdatfile('test16.dat', '16', signals)\n",
    "lines = ['test16 2 250 3', 'test16.dat 16 100(0)/mv', 'test16.dat 16 100(0)/mv', 'test16.dat 16 100(0)/mv', 'test16.dat 16 100(0)/mv']\n",
    "linestofile('test16.hea', lines)\n",
    "\n",
    "\n",
    "# fmt 24\n",
    "wrdatfile('test24.dat', '24', signals)\n",
    "lines = ['test24 2 250 3', 'test24.dat 24 100(0)/mv', 'test24.dat 24 100(0)/mv', 'test24.dat 24 100(0)/mv', 'test24.dat 24 100(0)/mv']\n",
    "linestofile('test24.hea', lines)\n",
    "\n",
    "# fmt 32\n",
    "wrdatfile('test32.dat', '32', signals)\n",
    "lines = ['test32 2 250 3', 'test32.dat 32 100(0)/mv', 'test32.dat 32 100(0)/mv', 'test32.dat 32 100(0)/mv', 'test32.dat 32 100(0)/mv']\n",
    "linestofile('test32.hea', lines)"
   ]
  },
  {
   "cell_type": "code",
   "execution_count": null,
   "metadata": {
    "collapsed": false
   },
   "outputs": [],
   "source": [
    "print(signals)"
   ]
  },
  {
   "cell_type": "code",
   "execution_count": null,
   "metadata": {
    "collapsed": true
   },
   "outputs": [],
   "source": []
  }
 ],
 "metadata": {
  "kernelspec": {
   "display_name": "Python 3",
   "language": "python",
   "name": "python3"
  },
  "language_info": {
   "codemirror_mode": {
    "name": "ipython",
    "version": 3
   },
   "file_extension": ".py",
   "mimetype": "text/x-python",
   "name": "python",
   "nbconvert_exporter": "python",
   "pygments_lexer": "ipython3",
   "version": "3.5.2"
  }
 },
 "nbformat": 4,
 "nbformat_minor": 0
}
